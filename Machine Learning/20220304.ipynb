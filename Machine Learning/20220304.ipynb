{
 "cells": [
  {
   "cell_type": "code",
   "execution_count": 6,
   "id": "64183d6d",
   "metadata": {},
   "outputs": [],
   "source": [
    "import pandas as pd"
   ]
  },
  {
   "cell_type": "code",
   "execution_count": 7,
   "id": "1812cff3",
   "metadata": {},
   "outputs": [
    {
     "data": {
      "text/html": [
       "<div>\n",
       "<style scoped>\n",
       "    .dataframe tbody tr th:only-of-type {\n",
       "        vertical-align: middle;\n",
       "    }\n",
       "\n",
       "    .dataframe tbody tr th {\n",
       "        vertical-align: top;\n",
       "    }\n",
       "\n",
       "    .dataframe thead th {\n",
       "        text-align: right;\n",
       "    }\n",
       "</style>\n",
       "<table border=\"1\" class=\"dataframe\">\n",
       "  <thead>\n",
       "    <tr style=\"text-align: right;\">\n",
       "      <th></th>\n",
       "      <th>Species</th>\n",
       "      <th>Weight</th>\n",
       "      <th>Length</th>\n",
       "      <th>Diagonal</th>\n",
       "      <th>Height</th>\n",
       "      <th>Width</th>\n",
       "    </tr>\n",
       "  </thead>\n",
       "  <tbody>\n",
       "    <tr>\n",
       "      <th>0</th>\n",
       "      <td>A</td>\n",
       "      <td>242.0</td>\n",
       "      <td>25.4</td>\n",
       "      <td>30.0</td>\n",
       "      <td>11.5200</td>\n",
       "      <td>4.0200</td>\n",
       "    </tr>\n",
       "    <tr>\n",
       "      <th>1</th>\n",
       "      <td>A</td>\n",
       "      <td>290.0</td>\n",
       "      <td>26.3</td>\n",
       "      <td>31.2</td>\n",
       "      <td>12.4800</td>\n",
       "      <td>4.3056</td>\n",
       "    </tr>\n",
       "    <tr>\n",
       "      <th>2</th>\n",
       "      <td>A</td>\n",
       "      <td>340.0</td>\n",
       "      <td>26.5</td>\n",
       "      <td>31.1</td>\n",
       "      <td>12.3778</td>\n",
       "      <td>4.6961</td>\n",
       "    </tr>\n",
       "    <tr>\n",
       "      <th>3</th>\n",
       "      <td>A</td>\n",
       "      <td>363.0</td>\n",
       "      <td>29.0</td>\n",
       "      <td>33.5</td>\n",
       "      <td>12.7300</td>\n",
       "      <td>4.4555</td>\n",
       "    </tr>\n",
       "    <tr>\n",
       "      <th>4</th>\n",
       "      <td>A</td>\n",
       "      <td>430.0</td>\n",
       "      <td>29.0</td>\n",
       "      <td>34.0</td>\n",
       "      <td>12.4440</td>\n",
       "      <td>5.1340</td>\n",
       "    </tr>\n",
       "  </tbody>\n",
       "</table>\n",
       "</div>"
      ],
      "text/plain": [
       "  Species  Weight  Length  Diagonal   Height   Width\n",
       "0       A   242.0    25.4      30.0  11.5200  4.0200\n",
       "1       A   290.0    26.3      31.2  12.4800  4.3056\n",
       "2       A   340.0    26.5      31.1  12.3778  4.6961\n",
       "3       A   363.0    29.0      33.5  12.7300  4.4555\n",
       "4       A   430.0    29.0      34.0  12.4440  5.1340"
      ]
     },
     "execution_count": 7,
     "metadata": {},
     "output_type": "execute_result"
    }
   ],
   "source": [
    "product = pd.read_csv(\"https://raw.githubusercontent.com/bigdataleeky/python/main/20220304/data.csv\")\n",
    "product.head()"
   ]
  },
  {
   "cell_type": "markdown",
   "id": "10fd75b0",
   "metadata": {},
   "source": [
    "## 사이킷런 계열의 데이터 타입은 np.array"
   ]
  },
  {
   "cell_type": "code",
   "execution_count": 8,
   "id": "29fc7734",
   "metadata": {},
   "outputs": [
    {
     "data": {
      "text/plain": [
       "pandas.core.series.Series"
      ]
     },
     "execution_count": 8,
     "metadata": {},
     "output_type": "execute_result"
    }
   ],
   "source": [
    "type(product['Species'])"
   ]
  },
  {
   "cell_type": "code",
   "execution_count": 9,
   "id": "63f477db",
   "metadata": {},
   "outputs": [],
   "source": [
    "product_y = product['Species'].to_numpy()"
   ]
  },
  {
   "cell_type": "code",
   "execution_count": 10,
   "id": "d927644f",
   "metadata": {},
   "outputs": [],
   "source": [
    "# 특정 행(렬)만 가져오기 --> 슬라이스 혹은 iloc 이용\n",
    "product_x = product.iloc[:,1:].to_numpy() # 넘파이 배열로 변환\n",
    "\n",
    "# '+02' : 콤마를 뒤로 두개 보낸 것 (242 = 2.42)"
   ]
  },
  {
   "cell_type": "code",
   "execution_count": 11,
   "id": "908331ae",
   "metadata": {},
   "outputs": [
    {
     "data": {
      "text/plain": [
       "array([[242.    ,  25.4   ,  30.    ,  11.52  ,   4.02  ],\n",
       "       [290.    ,  26.3   ,  31.2   ,  12.48  ,   4.3056],\n",
       "       [340.    ,  26.5   ,  31.1   ,  12.3778,   4.6961],\n",
       "       [363.    ,  29.    ,  33.5   ,  12.73  ,   4.4555],\n",
       "       [430.    ,  29.    ,  34.    ,  12.444 ,   5.134 ]])"
      ]
     },
     "execution_count": 11,
     "metadata": {},
     "output_type": "execute_result"
    }
   ],
   "source": [
    "product_x[:5]"
   ]
  },
  {
   "cell_type": "markdown",
   "id": "a2050e24",
   "metadata": {},
   "source": [
    "## k-최근접 이웃의 다중 분류"
   ]
  },
  {
   "cell_type": "code",
   "execution_count": 12,
   "id": "333406d4",
   "metadata": {},
   "outputs": [
    {
     "data": {
      "text/plain": [
       "((119, 5), (40, 5), (119,), (40,))"
      ]
     },
     "execution_count": 12,
     "metadata": {},
     "output_type": "execute_result"
    }
   ],
   "source": [
    "from sklearn.model_selection import train_test_split\n",
    "train_x, test_x, train_y, test_y = train_test_split(product_x, product_y, random_state=42) # x : 학습용 / y : 검증용\n",
    "\n",
    "train_x.shape, test_x.shape, train_y.shape, test_y.shape # 항상 차수를 확인해 주어야 함 (column 개수)"
   ]
  },
  {
   "cell_type": "markdown",
   "id": "6824cf76",
   "metadata": {},
   "source": [
    "### 다중분류는 서로 다른 그룹에 대한 분류 작업...(표준화 작업)"
   ]
  },
  {
   "cell_type": "code",
   "execution_count": 13,
   "id": "a59d4cc6",
   "metadata": {},
   "outputs": [],
   "source": [
    "from sklearn.preprocessing import StandardScaler\n",
    "ss = StandardScaler()\n",
    "ss.fit(train_x)\n",
    "train_scaled = ss.transform(train_x)\n",
    "test_scaled = ss.transform(test_x)"
   ]
  },
  {
   "cell_type": "code",
   "execution_count": 14,
   "id": "ea70ed6b",
   "metadata": {},
   "outputs": [],
   "source": [
    "from sklearn.neighbors import KNeighborsClassifier"
   ]
  },
  {
   "cell_type": "code",
   "execution_count": 15,
   "id": "0a7e6316",
   "metadata": {},
   "outputs": [
    {
     "data": {
      "text/plain": [
       "(0.8823529411764706, 0.85)"
      ]
     },
     "execution_count": 15,
     "metadata": {},
     "output_type": "execute_result"
    }
   ],
   "source": [
    "kn = KNeighborsClassifier(n_neighbors=3)\n",
    "kn.fit(train_scaled, train_y)\n",
    "kn.score(train_scaled, train_y), kn.score(test_scaled, test_y) # 학습된 데이터 / 검증용 데이터(학습하지 않은 데이터와 정답(test_y))"
   ]
  },
  {
   "cell_type": "code",
   "execution_count": 16,
   "id": "aca440ee",
   "metadata": {},
   "outputs": [
    {
     "data": {
      "text/plain": [
       "array(['A', 'B', 'C', 'D', 'E', 'F', 'G'], dtype=object)"
      ]
     },
     "execution_count": 16,
     "metadata": {},
     "output_type": "execute_result"
    }
   ],
   "source": [
    "kn.classes_ # 분류 형태"
   ]
  },
  {
   "cell_type": "code",
   "execution_count": 17,
   "id": "04ec40b9",
   "metadata": {},
   "outputs": [
    {
     "data": {
      "text/plain": [
       "(array(['E', 'G', 'F', 'E', 'E'], dtype=object),\n",
       " array(['E', 'G', 'F', 'C', 'E'], dtype=object))"
      ]
     },
     "execution_count": 17,
     "metadata": {},
     "output_type": "execute_result"
    }
   ],
   "source": [
    "predict = kn.predict(test_scaled)\n",
    "predict[:5], test_y[:5] # 예측값과 정답의 적중률 확인\n",
    "# 적중률이 평균 이상이라는 것을 알 수 있음"
   ]
  },
  {
   "cell_type": "code",
   "execution_count": 18,
   "id": "ecace742",
   "metadata": {},
   "outputs": [
    {
     "data": {
      "text/plain": [
       "array([[0.        , 0.        , 0.        , 0.        , 1.        ,\n",
       "        0.        , 0.        ],\n",
       "       [0.        , 0.        , 0.        , 0.        , 0.        ,\n",
       "        0.        , 1.        ],\n",
       "       [0.        , 0.        , 0.        , 0.        , 0.        ,\n",
       "        1.        , 0.        ],\n",
       "       [0.        , 0.33333333, 0.        , 0.        , 0.66666667,\n",
       "        0.        , 0.        ],\n",
       "       [0.        , 0.33333333, 0.        , 0.        , 0.66666667,\n",
       "        0.        , 0.        ]])"
      ]
     },
     "execution_count": 18,
     "metadata": {},
     "output_type": "execute_result"
    }
   ],
   "source": [
    "# scikit-learn 분류기에서 불확실성을 추정할 수 있는 함수가 두 개 --> decision_function & predict_proba\n",
    "# predict_proba 함수는 각 샘플에 대해 어느 클래스에 속할 확률을 0에서 1 사이의 값으로 돌려줌\n",
    "# predict 함수는 새로운 속성들을 넣었을 때 그 클래스에 속하는지 속하지 않는지를 나타내는 1 또는 0으로 구성된 벡터를 반환해줌\n",
    "\n",
    "proba = kn.predict_proba(test_scaled[:5])\n",
    "proba # 4번째 인덱스에서 E가 될 확률이 가장 높으므로 분류 모델로서 E가 적합"
   ]
  },
  {
   "cell_type": "markdown",
   "id": "843dada4",
   "metadata": {},
   "source": [
    "# Logistic Regression (로지스틱 회귀)"
   ]
  },
  {
   "cell_type": "markdown",
   "id": "c3711056",
   "metadata": {},
   "source": [
    "### 로지스틱 회귀 --> 예측 X, 분류 O\n",
    "### 확률을 0~1 사이의 값으로 예측\n",
    "### 더 높은 값으로 분류\n",
    "### 이진분류에 적합...(0,1로 분류)\n",
    "### 남자 여자 / 합격, 불합격 / 양품, 불량 / 맞다, 틀리다 / 사망, 생존 등등..."
   ]
  },
  {
   "cell_type": "code",
   "execution_count": 19,
   "id": "1a5ab06b",
   "metadata": {},
   "outputs": [],
   "source": [
    "import numpy as np\n",
    "import matplotlib.pyplot as plt"
   ]
  },
  {
   "cell_type": "code",
   "execution_count": 20,
   "id": "c85c105f",
   "metadata": {},
   "outputs": [
    {
     "data": {
      "image/png": "[encoded data removed]",
      "text/plain": [
       "<Figure size 432x288 with 1 Axes>"
      ]
     },
     "metadata": {
      "needs_background": "light"
     },
     "output_type": "display_data"
    }
   ],
   "source": [
    "z = np.arange(-5,5,0.1)\n",
    "phi = 1 / (1 + np.exp(-z))\n",
    "\n",
    "plt.plot(z, phi)\n",
    "plt.show()\n",
    "# 전형적인 로지스틱 회귀 형태"
   ]
  },
  {
   "cell_type": "code",
   "execution_count": 21,
   "id": "8708bab3",
   "metadata": {},
   "outputs": [
    {
     "data": {
      "text/plain": [
       "(array(['A', 'B', 'C', 'D', 'E', 'F', 'G'], dtype=object),\n",
       " array([35, 20,  6, 11, 56, 17, 14], dtype=int64))"
      ]
     },
     "execution_count": 21,
     "metadata": {},
     "output_type": "execute_result"
    }
   ],
   "source": [
    "np.unique(product_y, return_counts=True) # numpy 형태로 결과값 보기\n",
    "# np.bincount(product_y) --> 타입 불일치 (bin은 숫자를 세주지만 product_y는 문자형태로 되어 있음)"
   ]
  },
  {
   "cell_type": "code",
   "execution_count": 22,
   "id": "a2c084a3",
   "metadata": {},
   "outputs": [
    {
     "data": {
      "text/plain": [
       "E    56\n",
       "A    35\n",
       "B    20\n",
       "F    17\n",
       "G    14\n",
       "D    11\n",
       "C     6\n",
       "dtype: int64"
      ]
     },
     "execution_count": 22,
     "metadata": {},
     "output_type": "execute_result"
    }
   ],
   "source": [
    "pd.value_counts(product_y) # DataFrame 형태로 결과값 보기"
   ]
  },
  {
   "cell_type": "code",
   "execution_count": 23,
   "id": "07379d60",
   "metadata": {},
   "outputs": [
    {
     "data": {
      "text/plain": [
       "array(['B'], dtype='<U1')"
      ]
     },
     "execution_count": 23,
     "metadata": {},
     "output_type": "execute_result"
    }
   ],
   "source": [
    "# 이진분류 수행하기\n",
    "# product type : E or A 데이터만 추출\n",
    "a = np.array(['A','B','C','D','E'])\n",
    "a == 'B' # array([False,  True, False, False, False])\n",
    "a[a == 'B'] # array(['B'], dtype='<U1') --> True에 해당하는 것만 출력된 것"
   ]
  },
  {
   "cell_type": "code",
   "execution_count": 24,
   "id": "6aa1273d",
   "metadata": {},
   "outputs": [
    {
     "data": {
      "text/plain": [
       "((119,), (119, 5))"
      ]
     },
     "execution_count": 24,
     "metadata": {},
     "output_type": "execute_result"
    }
   ],
   "source": [
    "train_y.shape, train_x.shape"
   ]
  },
  {
   "cell_type": "code",
   "execution_count": 25,
   "id": "049decea",
   "metadata": {},
   "outputs": [
    {
     "data": {
      "text/plain": [
       "((68, 5), (68,))"
      ]
     },
     "execution_count": 25,
     "metadata": {},
     "output_type": "execute_result"
    }
   ],
   "source": [
    "E_A_idx = (train_y =='E') | (train_y == 'A')\n",
    "train_E_A_x = train_x[E_A_idx] # x와 y와 데이터 차수가 동일하고 데이터 순서 역시 바꾼 적이 없기 때문에\n",
    "                               # y에 적용된 값이 x에도 적용이 가능\n",
    "train_E_A_y = train_y[E_A_idx]\n",
    "train_E_A_x.shape, train_E_A_y.shape\n",
    "# 분류한 데이터, E 또는 Y인 데이터는 68개인 것을 알 수 있음"
   ]
  },
  {
   "cell_type": "code",
   "execution_count": 26,
   "id": "dd1cb6ab",
   "metadata": {},
   "outputs": [],
   "source": [
    "# 아예 데이터프레임인 상태에서 분류해도 됨\n",
    "# 다만 현재 작업은 sklearn으로 데이터를 추출했으나, 순서를 뒤바꾼 적이 없기 때문에 이 또한 가능한 것임"
   ]
  },
  {
   "cell_type": "code",
   "execution_count": 27,
   "id": "afa9bee7",
   "metadata": {},
   "outputs": [],
   "source": [
    "from sklearn.linear_model import LogisticRegression"
   ]
  },
  {
   "cell_type": "code",
   "execution_count": 28,
   "id": "f740c0a9",
   "metadata": {},
   "outputs": [
    {
     "data": {
      "text/plain": [
       "LogisticRegression(max_iter=1000)"
      ]
     },
     "execution_count": 28,
     "metadata": {},
     "output_type": "execute_result"
    }
   ],
   "source": [
    "lr = LogisticRegression(max_iter=1000)\n",
    "lr.fit(train_E_A_x, train_E_A_y)"
   ]
  },
  {
   "cell_type": "code",
   "execution_count": 29,
   "id": "31495c02",
   "metadata": {},
   "outputs": [
    {
     "data": {
      "text/plain": [
       "array(['A', 'E', 'E', 'A', 'E'], dtype=object)"
      ]
     },
     "execution_count": 29,
     "metadata": {},
     "output_type": "execute_result"
    }
   ],
   "source": [
    "lr.predict(train_E_A_x[:5]) # 분류모델"
   ]
  },
  {
   "cell_type": "code",
   "execution_count": 30,
   "id": "9cc59c88",
   "metadata": {},
   "outputs": [
    {
     "data": {
      "text/plain": [
       "array([[0.99567277, 0.00432723],\n",
       "       [0.00262134, 0.99737866],\n",
       "       [0.00346347, 0.99653653],\n",
       "       [0.9946915 , 0.0053085 ],\n",
       "       [0.00771321, 0.99228679]])"
      ]
     },
     "execution_count": 30,
     "metadata": {},
     "output_type": "execute_result"
    }
   ],
   "source": [
    "lr.predict_proba(train_E_A_x[:5]) # 이진분류에 적합 (0~1 사이의 값 내에서 예측)"
   ]
  },
  {
   "cell_type": "code",
   "execution_count": 31,
   "id": "d2a2252e",
   "metadata": {},
   "outputs": [
    {
     "data": {
      "text/plain": [
       "array(['A', 'E'], dtype=object)"
      ]
     },
     "execution_count": 31,
     "metadata": {},
     "output_type": "execute_result"
    }
   ],
   "source": [
    "lr.classes_ # A와 E로 분류된 후의 확률임을 보여줌"
   ]
  },
  {
   "cell_type": "code",
   "execution_count": 32,
   "id": "0fc07881",
   "metadata": {},
   "outputs": [
    {
     "name": "stdout",
     "output_type": "stream",
     "text": [
      "[[ 0.01150067  0.50721392 -0.5434279  -1.47650461  0.14690539]]\n",
      "[13.85533138]\n"
     ]
    }
   ],
   "source": [
    "print(lr.coef_) # 가중치\n",
    "print(lr.intercept_) # 절편, bias\n",
    "# 두 제품에 대해 판단을 하기 위해 적용한 함수는 5차원 형식"
   ]
  },
  {
   "cell_type": "markdown",
   "id": "475a6ace",
   "metadata": {},
   "source": [
    "### 실제로 선형 회귀와 linear는 잘 안 쓰고, K-최근접이나 로지스틱 회귀를 주로 사용함\n",
    "### 특히 이진분류를 할 때에는 로지스틱 회귀 사용 권장 ! --> 가장 효율적\n",
    "### ***그러나 다중 분류도 수행"
   ]
  },
  {
   "cell_type": "code",
   "execution_count": 33,
   "id": "8a187f2e",
   "metadata": {},
   "outputs": [
    {
     "data": {
      "text/plain": [
       "LogisticRegression(max_iter=10000)"
      ]
     },
     "execution_count": 33,
     "metadata": {},
     "output_type": "execute_result"
    }
   ],
   "source": [
    "lr = LogisticRegression(max_iter=10000) # 10000번 반복 수행\n",
    "lr.fit(train_scaled, train_y)"
   ]
  },
  {
   "cell_type": "code",
   "execution_count": 34,
   "id": "585a1782",
   "metadata": {},
   "outputs": [
    {
     "data": {
      "text/plain": [
       "(array(['A', 'F', 'G', 'E', 'D', 'E', 'E', 'A', 'E', 'E', 'E', 'A', 'E',\n",
       "        'D', 'E', 'A', 'G', 'E', 'E', 'A', 'F', 'A', 'F', 'E', 'D', 'A',\n",
       "        'E', 'F', 'A', 'E', 'D', 'E', 'E', 'A', 'B', 'E', 'A', 'A', 'E',\n",
       "        'E', 'E', 'F', 'E', 'G', 'F', 'E', 'E', 'D', 'G', 'A', 'E', 'G',\n",
       "        'E', 'D', 'G', 'E', 'E', 'E', 'A', 'E', 'E', 'E', 'E', 'E', 'E',\n",
       "        'A', 'E', 'A', 'E', 'A', 'E', 'E', 'E', 'E', 'F', 'F', 'E', 'A',\n",
       "        'E', 'A', 'E', 'F', 'A', 'A', 'E', 'G', 'F', 'A', 'F', 'D', 'E',\n",
       "        'E', 'E', 'G', 'E', 'E', 'E', 'A', 'E', 'G', 'F', 'E', 'G', 'A',\n",
       "        'E', 'F', 'E', 'E', 'E', 'E', 'E', 'E', 'G', 'A', 'A', 'E', 'A',\n",
       "        'E', 'E'], dtype=object),\n",
       " array(['E', 'G', 'F', 'E', 'E', 'A', 'G', 'E', 'E', 'F', 'A', 'E', 'A',\n",
       "        'D', 'A', 'A', 'E', 'E', 'E', 'A', 'G', 'A', 'A', 'A', 'A', 'E',\n",
       "        'E', 'E', 'G', 'G', 'F', 'E', 'E', 'F', 'A', 'E', 'E', 'E', 'D',\n",
       "        'E'], dtype=object))"
      ]
     },
     "execution_count": 34,
     "metadata": {},
     "output_type": "execute_result"
    }
   ],
   "source": [
    "lr.predict(train_scaled), lr.predict(test_scaled)"
   ]
  },
  {
   "cell_type": "code",
   "execution_count": 35,
   "id": "268e9d87",
   "metadata": {},
   "outputs": [],
   "source": [
    "# 회귀 -  확률(%)\n",
    "# 다중분류 시 분류에 다른 확률을 알고 싶을 때 --> .proba"
   ]
  },
  {
   "cell_type": "code",
   "execution_count": 36,
   "id": "98a7fbf3",
   "metadata": {},
   "outputs": [
    {
     "data": {
      "text/plain": [
       "(0.8067226890756303, 0.85)"
      ]
     },
     "execution_count": 36,
     "metadata": {},
     "output_type": "execute_result"
    }
   ],
   "source": [
    "lr.score(train_scaled, train_y), lr.score(test_scaled, test_y)"
   ]
  },
  {
   "cell_type": "code",
   "execution_count": 37,
   "id": "cf9defcc",
   "metadata": {},
   "outputs": [
    {
     "data": {
      "text/plain": [
       "array(['A', 'B', 'C', 'D', 'E', 'F', 'G'], dtype=object)"
      ]
     },
     "execution_count": 37,
     "metadata": {},
     "output_type": "execute_result"
    }
   ],
   "source": [
    "lr.classes_"
   ]
  },
  {
   "cell_type": "code",
   "execution_count": 38,
   "id": "f95a7c8b",
   "metadata": {},
   "outputs": [
    {
     "data": {
      "text/plain": [
       "(7, 5)"
      ]
     },
     "execution_count": 38,
     "metadata": {},
     "output_type": "execute_result"
    }
   ],
   "source": [
    "lr.coef_.shape"
   ]
  },
  {
   "cell_type": "code",
   "execution_count": 40,
   "id": "a516a1a4",
   "metadata": {},
   "outputs": [
    {
     "data": {
      "text/plain": [
       "(array([[-0.1, -0.1,  0.6,  2.8, -0.3],\n",
       "        [-0.8, -0.5,  0.4, -0.4,  0.6],\n",
       "        [ 0.3,  0. ,  0.1,  0.2,  1.1],\n",
       "        [-0.3, -0.8, -0.8,  1.9, -0.9],\n",
       "        [ 1.3,  0.3, -1.3, -1.7,  1.6],\n",
       "        [ 0. ,  1.7,  1.8, -1.3, -0.6],\n",
       "        [-0.4, -0.6, -0.7, -1.5, -1.5]]),\n",
       " array([ 0.38862776,  1.15910169, -0.10802126, -0.11439729,  2.40795555,\n",
       "         0.04859162, -3.78185807]))"
      ]
     },
     "execution_count": 40,
     "metadata": {},
     "output_type": "execute_result"
    }
   ],
   "source": [
    "np.round(lr.coef_, 1), lr.intercept_"
   ]
  },
  {
   "cell_type": "code",
   "execution_count": 43,
   "id": "e2471156",
   "metadata": {},
   "outputs": [
    {
     "data": {
      "text/plain": [
       "array([[ 5.61774957,  0.2227917 ,  1.61504147,  1.09554014,  1.20392085,\n",
       "        -0.49091354, -9.26413018]])"
      ]
     },
     "execution_count": 43,
     "metadata": {},
     "output_type": "execute_result"
    }
   ],
   "source": [
    "lr.decision_function(train_scaled[:1])"
   ]
  },
  {
   "cell_type": "code",
   "execution_count": null,
   "id": "5029d65c",
   "metadata": {},
   "outputs": [],
   "source": []
  }
 ],
 "metadata": {
  "kernelspec": {
   "display_name": "Python 3 (ipykernel)",
   "language": "python",
   "name": "python3"
  },
  "language_info": {
   "codemirror_mode": {
    "name": "ipython",
    "version": 3
   },
   "file_extension": ".py",
   "mimetype": "text/x-python",
   "name": "python",
   "nbconvert_exporter": "python",
   "pygments_lexer": "ipython3",
   "version": "3.9.7"
  }
 },
 "nbformat": 4,
 "nbformat_minor": 5
}
