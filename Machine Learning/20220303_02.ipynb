{
 "cells": [
  {
   "cell_type": "code",
   "execution_count": 3,
   "id": "4bff3830",
   "metadata": {},
   "outputs": [],
   "source": [
    "import pandas as pd"
   ]
  },
  {
   "cell_type": "code",
   "execution_count": 4,
   "id": "c4b22a3c",
   "metadata": {},
   "outputs": [],
   "source": [
    "df = pd.read_csv('https://raw.githubusercontent.com/bigdataleeky/python/main/20220303/full.csv')"
   ]
  },
  {
   "cell_type": "code",
   "execution_count": 5,
   "id": "9740a6aa",
   "metadata": {},
   "outputs": [
    {
     "data": {
      "text/html": [
       "<div>\n",
       "<style scoped>\n",
       "    .dataframe tbody tr th:only-of-type {\n",
       "        vertical-align: middle;\n",
       "    }\n",
       "\n",
       "    .dataframe tbody tr th {\n",
       "        vertical-align: top;\n",
       "    }\n",
       "\n",
       "    .dataframe thead th {\n",
       "        text-align: right;\n",
       "    }\n",
       "</style>\n",
       "<table border=\"1\" class=\"dataframe\">\n",
       "  <thead>\n",
       "    <tr style=\"text-align: right;\">\n",
       "      <th></th>\n",
       "      <th>length</th>\n",
       "      <th>height</th>\n",
       "      <th>width</th>\n",
       "    </tr>\n",
       "  </thead>\n",
       "  <tbody>\n",
       "    <tr>\n",
       "      <th>0</th>\n",
       "      <td>8.4</td>\n",
       "      <td>2.11</td>\n",
       "      <td>1.41</td>\n",
       "    </tr>\n",
       "    <tr>\n",
       "      <th>1</th>\n",
       "      <td>13.7</td>\n",
       "      <td>3.53</td>\n",
       "      <td>2.00</td>\n",
       "    </tr>\n",
       "    <tr>\n",
       "      <th>2</th>\n",
       "      <td>15.0</td>\n",
       "      <td>3.82</td>\n",
       "      <td>2.43</td>\n",
       "    </tr>\n",
       "    <tr>\n",
       "      <th>3</th>\n",
       "      <td>16.2</td>\n",
       "      <td>4.59</td>\n",
       "      <td>2.63</td>\n",
       "    </tr>\n",
       "    <tr>\n",
       "      <th>4</th>\n",
       "      <td>17.4</td>\n",
       "      <td>4.59</td>\n",
       "      <td>2.94</td>\n",
       "    </tr>\n",
       "  </tbody>\n",
       "</table>\n",
       "</div>"
      ],
      "text/plain": [
       "   length   height   width\n",
       "0     8.4     2.11    1.41\n",
       "1    13.7     3.53    2.00\n",
       "2    15.0     3.82    2.43\n",
       "3    16.2     4.59    2.63\n",
       "4    17.4     4.59    2.94"
      ]
     },
     "execution_count": 5,
     "metadata": {},
     "output_type": "execute_result"
    }
   ],
   "source": [
    "df.head()"
   ]
  },
  {
   "cell_type": "code",
   "execution_count": 6,
   "id": "d434ad87",
   "metadata": {},
   "outputs": [
    {
     "data": {
      "text/plain": [
       "array([[ 8.4 ,  2.11,  1.41],\n",
       "       [13.7 ,  3.53,  2.  ],\n",
       "       [15.  ,  3.82,  2.43],\n",
       "       [16.2 ,  4.59,  2.63],\n",
       "       [17.4 ,  4.59,  2.94],\n",
       "       [18.  ,  5.22,  3.32],\n",
       "       [18.7 ,  5.2 ,  3.12],\n",
       "       [19.  ,  5.64,  3.05],\n",
       "       [19.6 ,  5.14,  3.04],\n",
       "       [20.  ,  5.08,  2.77]])"
      ]
     },
     "execution_count": 6,
     "metadata": {},
     "output_type": "execute_result"
    }
   ],
   "source": [
    "df_full = df.to_numpy()\n",
    "df_full[:10]"
   ]
  },
  {
   "cell_type": "code",
   "execution_count": 7,
   "id": "96e70b59",
   "metadata": {},
   "outputs": [],
   "source": [
    "import numpy as np\n",
    "weight = np.array(\n",
    "    [5.9, 32.0, 40.0, 51.5, 70.0, 100.0, 78.0, 80.0, 85.0, 85.0, \n",
    "     110.0, 115.0, 125.0, 130.0, 120.0, 120.0, 130.0, 135.0, 110.0, \n",
    "     130.0, 150.0, 145.0, 150.0, 170.0, 225.0, 145.0, 188.0, 180.0, \n",
    "     197.0, 218.0, 300.0, 260.0, 265.0, 250.0, 250.0, 300.0, 320.0, \n",
    "     514.0, 556.0, 840.0, 685.0, 700.0, 700.0, 690.0, 900.0, 650.0, \n",
    "     820.0, 850.0, 900.0, 1015.0, 820.0, 1100.0, 1000.0, 1100.0, \n",
    "     1000.0, 1000.0]\n",
    "     )"
   ]
  },
  {
   "cell_type": "code",
   "execution_count": 8,
   "id": "ebdf81e4",
   "metadata": {},
   "outputs": [
    {
     "data": {
      "text/plain": [
       "(56, 3)"
      ]
     },
     "execution_count": 8,
     "metadata": {},
     "output_type": "execute_result"
    }
   ],
   "source": [
    "df_full.shape # 넘파이 형태\n",
    "# 데이터를 분류하는 코드가 넘파이 배열을 받아들여야 하기 때문"
   ]
  },
  {
   "cell_type": "code",
   "execution_count": 9,
   "id": "b075e1a9",
   "metadata": {},
   "outputs": [
    {
     "data": {
      "text/plain": [
       "56"
      ]
     },
     "execution_count": 9,
     "metadata": {},
     "output_type": "execute_result"
    }
   ],
   "source": [
    "len(weight)"
   ]
  },
  {
   "cell_type": "markdown",
   "id": "4f7ffa11",
   "metadata": {},
   "source": [
    "## 다항 특성 만들어주기 전\n",
    "### 데이터 분류"
   ]
  },
  {
   "cell_type": "code",
   "execution_count": 10,
   "id": "b6360aba",
   "metadata": {},
   "outputs": [],
   "source": [
    "from sklearn.model_selection import train_test_split\n",
    "train, test, train_target, test_target = train_test_split(df_full, weight, random_state=42) # x값 y값"
   ]
  },
  {
   "cell_type": "markdown",
   "id": "bad242f5",
   "metadata": {},
   "source": [
    "### 다항 특성 만들기 - 다항식 (곡선 형태로 다항식을 만들어 예측하려는 것)"
   ]
  },
  {
   "cell_type": "code",
   "execution_count": 11,
   "id": "14954aad",
   "metadata": {},
   "outputs": [],
   "source": [
    "# 곡선으로 이루어진 다항식을 수동으로 만들어 준 것이 이전 파일에서의 예제임"
   ]
  },
  {
   "cell_type": "code",
   "execution_count": 12,
   "id": "1d5eee4e",
   "metadata": {},
   "outputs": [],
   "source": [
    "from sklearn.preprocessing import PolynomialFeatures"
   ]
  },
  {
   "cell_type": "code",
   "execution_count": 13,
   "id": "77792b40",
   "metadata": {},
   "outputs": [],
   "source": [
    "# 사이킷런은 항상 비슷한 패턴으로 쓰임\n",
    "# 훈련을 할 때도 fit을 쓰지만, 다항 특징을 적용할 때에도 fit을 사용"
   ]
  },
  {
   "cell_type": "code",
   "execution_count": 14,
   "id": "58ec700d",
   "metadata": {},
   "outputs": [
    {
     "data": {
      "text/plain": [
       "array([[2., 3., 4., 6., 9.]])"
      ]
     },
     "execution_count": 14,
     "metadata": {},
     "output_type": "execute_result"
    }
   ],
   "source": [
    "poly = PolynomialFeatures(include_bias=False) # 절편(bias) 포함 X\n",
    "# (bias는 수학에서 보조형태로 끼워넣는 경우가 많아 쓸모없을 가능성이 높음)\n",
    "\n",
    "poly.fit([[2,3]])\n",
    "poly.transform([[2,3]]) # transform : (머신러닝은 아니지만) preprocessing 결과를 알려줌 (*predict는 머신러닝으로, 예측값)\n",
    "\n",
    "# column : 6 생성\n",
    "# 1 : 절편(bias), 2, 3   # 2 ** 2   # 2 * 3    # 3 : 3 ** 2  <-- 이런식으로 생성된 것\n",
    "# 즉 1, 2, 3 각각 배열하고, 서로의 곱셈과, 각각의 제곱값으로 배열 형성"
   ]
  },
  {
   "cell_type": "code",
   "execution_count": 15,
   "id": "8a265f92",
   "metadata": {},
   "outputs": [
    {
     "data": {
      "text/plain": [
       "(42, 9)"
      ]
     },
     "execution_count": 15,
     "metadata": {},
     "output_type": "execute_result"
    }
   ],
   "source": [
    "# 사이킷런의 변환기\n",
    "poly = PolynomialFeatures(include_bias=False)\n",
    "poly.fit(train) # train값에 poly값 적용시켜주기\n",
    "train_poly = poly.transform(train)\n",
    "train_poly.shape"
   ]
  },
  {
   "cell_type": "code",
   "execution_count": 16,
   "id": "7d1b67c4",
   "metadata": {},
   "outputs": [
    {
     "data": {
      "text/plain": [
       "array([[ 19.6   ,   5.14  ,   3.04  , 384.16  , 100.744 ,  59.584 ,\n",
       "         26.4196,  15.6256,   9.2416]])"
      ]
     },
     "execution_count": 16,
     "metadata": {},
     "output_type": "execute_result"
    }
   ],
   "source": [
    "train_poly[:1] # 그냥 쉽게 얘기해서 데이터 값이 뻥튀기 된 것\n",
    "# Why? --> 특성이 조금 더 가시적으로 확연히 눈에 띄도록 표현될 수 있도록 만들어 주기 위함"
   ]
  },
  {
   "cell_type": "code",
   "execution_count": 17,
   "id": "e8a2e6af",
   "metadata": {},
   "outputs": [
    {
     "data": {
      "text/plain": [
       "array(['x0', 'x1', 'x2', 'x0^2', 'x0 x1', 'x0 x2', 'x1^2', 'x1 x2',\n",
       "       'x2^2'], dtype=object)"
      ]
     },
     "execution_count": 17,
     "metadata": {},
     "output_type": "execute_result"
    }
   ],
   "source": [
    "poly.get_feature_names_out() # 어떻게 만들어졌는지 보여줌 (참고용)"
   ]
  },
  {
   "cell_type": "code",
   "execution_count": 18,
   "id": "b846bc23",
   "metadata": {},
   "outputs": [
    {
     "data": {
      "text/plain": [
       "(14, 9)"
      ]
     },
     "execution_count": 18,
     "metadata": {},
     "output_type": "execute_result"
    }
   ],
   "source": [
    "test_poly = poly.transform(test)\n",
    "test_poly.shape"
   ]
  },
  {
   "cell_type": "code",
   "execution_count": 19,
   "id": "01abdb44",
   "metadata": {},
   "outputs": [],
   "source": [
    "# 분석해야 하는 데이터의 차수가 적을 때 조금 더 많은 것을 반영하기 위해 차수를 늘려주는 과정임"
   ]
  },
  {
   "cell_type": "markdown",
   "id": "f0337dc9",
   "metadata": {},
   "source": [
    "### 선형 회귀 모델에서 x의 값을 다중으로 넣으면 --> 다중 회귀 모델\n",
    "##### 기존의 선형 회귀 모델에 독립변수가 더해졌을 때 다중 회귀 모델로 변환되는 것이므로 각각 따로 존재하는 것이 아니라 언제나 출발점은 선형 회귀 모델인 것"
   ]
  },
  {
   "cell_type": "code",
   "execution_count": 20,
   "id": "e4c5e217",
   "metadata": {},
   "outputs": [
    {
     "data": {
      "text/plain": [
       "(0.9714559911594223, 0.9903183436982125)"
      ]
     },
     "execution_count": 20,
     "metadata": {},
     "output_type": "execute_result"
    }
   ],
   "source": [
    "from sklearn.linear_model import LinearRegression\n",
    "lr = LinearRegression()\n",
    "lr.fit(train_poly, train_target)\n",
    "lr.score(test_poly, test_target), lr.score(train_poly, train_target)\n",
    "# 방정식을 구하는데 필요한 데이터의 양이 많을수록 잘 반영된 것을 알 수 있음"
   ]
  },
  {
   "cell_type": "markdown",
   "id": "7bde8229",
   "metadata": {},
   "source": [
    "### 특성을 더 만들어보기"
   ]
  },
  {
   "cell_type": "code",
   "execution_count": 21,
   "id": "4d2d3e7f",
   "metadata": {},
   "outputs": [
    {
     "data": {
      "text/plain": [
       "((42, 55), (14, 55))"
      ]
     },
     "execution_count": 21,
     "metadata": {},
     "output_type": "execute_result"
    }
   ],
   "source": [
    "# degree : int 혹은 tuple 형태로 줄 수 있음\n",
    "\n",
    "# 사이킷런의 변환기\n",
    "poly = PolynomialFeatures(degree=5, include_bias=False)\n",
    "poly.fit(train) # train값에 poly값 적용시켜주기\n",
    "train_poly = poly.transform(train)\n",
    "test_poly = poly.transform(test)\n",
    "train_poly.shape, test_poly.shape\n",
    "# 55개까지 증가"
   ]
  },
  {
   "cell_type": "code",
   "execution_count": 22,
   "id": "44d3ba7f",
   "metadata": {},
   "outputs": [
    {
     "data": {
      "text/plain": [
       "(-144.40508211356158, 0.9999999999957028)"
      ]
     },
     "execution_count": 22,
     "metadata": {},
     "output_type": "execute_result"
    }
   ],
   "source": [
    "lr = LinearRegression()\n",
    "lr.fit(train_poly, train_target)\n",
    "lr.score(test_poly, test_target), lr.score(train_poly, train_target)\n",
    "# 학습용 데이터는 거의 100%이지만 학습하지 않은 검증용 데이터는 마이너스값이 나옴 --> 너무 많은 데이터로 인한 과적합 발생"
   ]
  },
  {
   "cell_type": "markdown",
   "id": "48974a6f",
   "metadata": {},
   "source": [
    "### 학습용 데이터는 잘 반영(너무 잘 반영됨) --> 과적합...그래서 학습하지 않은 데이터는 오히려 못 맞추는 경향이 생기게  됨\n",
    "#### 수동으로 일일이 값을 하나씩 늘려가며 최적의 값을 찾을 필요 X, 이러한 기능을 수행하는 library가 있음 ==> '규제'\n",
    "#### 즉 과적합을 해결하기 위해 규제를 하고 규제 전에 표준화가 선행되어야 함"
   ]
  },
  {
   "cell_type": "code",
   "execution_count": 23,
   "id": "85919462",
   "metadata": {},
   "outputs": [],
   "source": [
    "# 표준화 : (값 - mean 평균) / std 표준편차 -1 ~ 1\n",
    "# 표준화 역시 미리 데이터를 표현하는 것이기 때문에 사이킷런의 하위 명령어임 (그러나 preprocessing은 머신러닝은 아님)\n",
    "# 머신러닝이 아닌 것은 fit 한 후 transform 을 하는 패턴\n",
    "from sklearn.preprocessing import StandardScaler"
   ]
  },
  {
   "cell_type": "code",
   "execution_count": 24,
   "id": "b2c818fd",
   "metadata": {},
   "outputs": [
    {
     "name": "stdout",
     "output_type": "stream",
     "text": [
      "[[-1.01339619 -1.01007487 -1.01952321 -0.9549757  -0.9496784  -0.95745849\n",
      "  -0.93942079 -0.94342509 -0.94100107 -0.88757122 -0.88399964 -0.89100599\n",
      "  -0.87785292 -0.88311456 -0.88430909 -0.8691891  -0.87259422 -0.87147928\n",
      "  -0.86603533 -0.82233944 -0.82171953 -0.8280588  -0.81928269 -0.82512549\n",
      "  -0.8278857  -0.81486775 -0.82006923 -0.82177279 -0.82010716 -0.80835934\n",
      "  -0.81274154 -0.81321125 -0.8098514  -0.80275974 -0.7637909  -0.76597773\n",
      "  -0.77150714 -0.76668667 -0.77246614 -0.77577893 -0.76571689 -0.77162398\n",
      "  -0.77472752 -0.77517751 -0.76290623 -0.76877311 -0.77148634 -0.77113383\n",
      "  -0.767785   -0.75814062 -0.76376113 -0.76586966 -0.76449499 -0.75967179\n",
      "  -0.75143746]] [[-2.29657672 -2.0645632  -1.95288184 -1.55255604 -1.46585499 -1.45227925\n",
      "  -1.38306012 -1.36853915 -1.3414385  -1.16487216 -1.12766176 -1.12993021\n",
      "  -1.09096504 -1.0919529  -1.08681842 -1.05473034 -1.05422049 -1.04733556\n",
      "  -1.03445922 -0.95097661 -0.93581382 -0.94095847 -0.92003743 -0.92481854\n",
      "  -0.9257405  -0.90344054 -0.9076728  -0.90768173 -0.90365223 -0.88585964\n",
      "  -0.88933355 -0.8882214  -0.88265495 -0.87279092 -0.82345261 -0.81922614\n",
      "  -0.82441462 -0.81401521 -0.81951597 -0.82223805 -0.80760074 -0.81327179\n",
      "  -0.81584326 -0.81548696 -0.79980303 -0.80545985 -0.80768359 -0.80657966\n",
      "  -0.80223729 -0.79049072 -0.7959136  -0.79756241 -0.7954801  -0.78971903\n",
      "  -0.78033726]]\n"
     ]
    },
    {
     "data": {
      "text/plain": [
       "((42, 55), (14, 55))"
      ]
     },
     "execution_count": 24,
     "metadata": {},
     "output_type": "execute_result"
    }
   ],
   "source": [
    "ss = StandardScaler()\n",
    "ss.fit(train_poly) # 해당 데이터를 적용하여 어떻게 내부 데이터가 생성되었는지 확인하기\n",
    "train_scaled = ss.transform(train_poly)\n",
    "test_scaled = ss.transform(test_poly)\n",
    "print(train_scaled[:1], test_scaled[:1]) # print를 안 써 주면 마지막 값만 출력되기 때문에 씌워준 것\n",
    "train_scaled.shape, test_scaled.shape # 차수가 맞는지 확인"
   ]
  },
  {
   "cell_type": "markdown",
   "id": "3195dcac",
   "metadata": {},
   "source": [
    "### 리니어 모델은 대부분 회귀와 관련된 것으로 머신러닝의 하나임\n",
    "### 릿지 회귀 & 라쏘 회귀 (규제 알고리즘으로, 늘 표준화된 데이터를 가짐)\n",
    "\n",
    "# 릿지 회귀"
   ]
  },
  {
   "cell_type": "code",
   "execution_count": 25,
   "id": "fa1087f1",
   "metadata": {},
   "outputs": [],
   "source": [
    "from sklearn.linear_model import Ridge"
   ]
  },
  {
   "cell_type": "code",
   "execution_count": 26,
   "id": "d2173862",
   "metadata": {},
   "outputs": [
    {
     "data": {
      "text/plain": [
       "(0.9896101671037343, 0.9790693977615381)"
      ]
     },
     "execution_count": 26,
     "metadata": {},
     "output_type": "execute_result"
    }
   ],
   "source": [
    "ridge = Ridge()\n",
    "ridge.fit(train_scaled, train_target)\n",
    "ridge.score(train_scaled, train_target), ridge.score(test_scaled, test_target) # 학습한 데이터와 학습하지 않은 데이터\n",
    "# 학습한 데이터는 규제를 가하여 적중률이 약간은 떨어짐\n",
    "# 다형 회귀에서 평가가 잘 나왔다면 굳이 특성을 증가시켜 규제를 하는 ridge까지는 이용하지 않아도 됨\n",
    "\n",
    "# 머신러닝은 주로 데이터를 가볍게 분석하고 예측할 때 주로 이용"
   ]
  },
  {
   "cell_type": "markdown",
   "id": "4aaff3b4",
   "metadata": {},
   "source": [
    "### 규제를 통해 과적합된 학습을 조정하는 역할\n",
    "### alpha 라는 parameter을 조정해서 성능 좋은 모델 찾기\n",
    "## < Hyper Parameter Tuning >"
   ]
  },
  {
   "cell_type": "code",
   "execution_count": 27,
   "id": "28b842d5",
   "metadata": {},
   "outputs": [],
   "source": [
    "import matplotlib.pyplot as plt\n",
    "train_score = []\n",
    "test_score = []"
   ]
  },
  {
   "cell_type": "code",
   "execution_count": 28,
   "id": "42e05158",
   "metadata": {},
   "outputs": [],
   "source": [
    "alpha_list = [0.001, 0.01, 0.1, 1, 10, 100]"
   ]
  },
  {
   "cell_type": "code",
   "execution_count": 29,
   "id": "38dda3a5",
   "metadata": {},
   "outputs": [],
   "source": [
    "for alpha in alpha_list:\n",
    "    ridge = Ridge(alpha = alpha)\n",
    "    ridge.fit(train_scaled, train_target) # 스케일된 데이터 훈련하기\n",
    "    train_score.append(ridge.score(train_scaled, train_target))\n",
    "    test_score.append(ridge.score(test_scaled, test_target))"
   ]
  },
  {
   "cell_type": "code",
   "execution_count": 30,
   "id": "03d800ff",
   "metadata": {},
   "outputs": [
    {
     "data": {
      "text/plain": [
       "<function matplotlib.pyplot.show(close=None, block=None)>"
      ]
     },
     "execution_count": 30,
     "metadata": {},
     "output_type": "execute_result"
    },
    {
     "data": {
      "image/png": "[encoded data removed]",
      "text/plain": [
       "<Figure size 432x288 with 1 Axes>"
      ]
     },
     "metadata": {
      "needs_background": "light"
     },
     "output_type": "display_data"
    }
   ],
   "source": [
    "plt.plot(alpha_list, train_score)\n",
    "plt.plot(alpha_list, test_score)\n",
    "plt.xlabel('alpha')\n",
    "plt.ylabel('R^2')\n",
    "plt.show"
   ]
  },
  {
   "cell_type": "code",
   "execution_count": 31,
   "id": "10fcb6cc",
   "metadata": {},
   "outputs": [
    {
     "data": {
      "text/plain": [
       "([0.001, 0.01, 0.1, 1, 10, 100], array([-3., -2., -1.,  0.,  1.,  2.]))"
      ]
     },
     "execution_count": 31,
     "metadata": {},
     "output_type": "execute_result"
    }
   ],
   "source": [
    "alpha_list, np.log10(alpha_list)"
   ]
  },
  {
   "cell_type": "code",
   "execution_count": 32,
   "id": "d16665f4",
   "metadata": {},
   "outputs": [
    {
     "data": {
      "image/png": "[encoded data removed]",
      "text/plain": [
       "<Figure size 432x288 with 1 Axes>"
      ]
     },
     "metadata": {
      "needs_background": "light"
     },
     "output_type": "display_data"
    }
   ],
   "source": [
    "# x축의 범위를 더 좁게 주기\n",
    "plt.plot(np.log10(alpha_list), train_score)\n",
    "plt.plot(np.log10(alpha_list), test_score)\n",
    "plt.xlabel('alpha')\n",
    "plt.ylabel('R^2')\n",
    "plt.show()\n",
    "# x축은 로그를 썼기 때문에 실제 값이 아닌, 위치값임"
   ]
  },
  {
   "cell_type": "code",
   "execution_count": 33,
   "id": "c28b9c8b",
   "metadata": {},
   "outputs": [
    {
     "data": {
      "text/plain": [
       "(0.9903815817570366, 0.982797646538695)"
      ]
     },
     "execution_count": 33,
     "metadata": {},
     "output_type": "execute_result"
    }
   ],
   "source": [
    "ridge = Ridge(alpha=0.1) # 학습데이터는 조금 낮아도 학습에 참여하지 않은 데이터의 예측값이 가장 높은 결정계수를 적어줌\n",
    "ridge.fit(train_scaled, train_target)\n",
    "ridge.score(train_scaled, train_target), ridge.score(test_scaled, test_target)\n",
    "\n",
    "# 특성을 어느 정도까지 늘려주어 '퓨처 엔지니어'를 해 주면\n",
    "# 릿지는 데이터를 표준화시킨 상태에서 데이터를 분류한 후 규제를 가한다. (alpha : 규제의 강도를 정해주는 변수)"
   ]
  },
  {
   "cell_type": "markdown",
   "id": "f36e0c1c",
   "metadata": {},
   "source": [
    "# 라쏘 회귀"
   ]
  },
  {
   "cell_type": "code",
   "execution_count": 34,
   "id": "276c4ab4",
   "metadata": {},
   "outputs": [],
   "source": [
    "from sklearn.linear_model import Lasso"
   ]
  },
  {
   "cell_type": "code",
   "execution_count": 35,
   "id": "f9e456e1",
   "metadata": {},
   "outputs": [
    {
     "data": {
      "text/plain": [
       "(0.989789897208096, 0.9800593698421884)"
      ]
     },
     "execution_count": 35,
     "metadata": {},
     "output_type": "execute_result"
    }
   ],
   "source": [
    "lasso = Lasso()\n",
    "# 훈련\n",
    "# train 데이터에 대한 결정계수(평가지수) R^2  <-- score 이용\n",
    "lasso.fit(train_scaled, train_target)\n",
    "# 결정계수 평가 (95 이상이면 최적 조건, 실제로 85% 이상만 나와도 적합한 머신러닝임이 인정됨)\n",
    "lasso.score(train_scaled, train_target), lasso.score(test_scaled, test_target)"
   ]
  },
  {
   "cell_type": "markdown",
   "id": "b65b1fbf",
   "metadata": {},
   "source": [
    "# 하이퍼 파라미터 튜닝"
   ]
  },
  {
   "cell_type": "code",
   "execution_count": 36,
   "id": "5e0aadb8",
   "metadata": {},
   "outputs": [],
   "source": [
    "# 평가된 결정계수를 저장할 값 다시 초기화\n",
    "train_score = []\n",
    "test_score = []"
   ]
  },
  {
   "cell_type": "code",
   "execution_count": 37,
   "id": "1b2858a0",
   "metadata": {},
   "outputs": [],
   "source": [
    "alpha_list = [0.1, 1.0, 10, 100]"
   ]
  },
  {
   "cell_type": "code",
   "execution_count": 38,
   "id": "f2aad498",
   "metadata": {},
   "outputs": [],
   "source": [
    "for alpha in alpha_list:\n",
    "    lasso = Lasso(alpha = alpha, max_iter=10000) # for문의 각각의 요소 저장\n",
    "    # lasso에서 규제를 가할 때는 최대 강도를 지정해 주어야 함 (반복학습을 통한 최적화를 하기 때문에 성능이 더욱 좋아야 함)\n",
    "    lasso.fit(train_scaled, train_target) # 저장된 데이터 훈련시키기\n",
    "    train_score.append(lasso.score(train_scaled, train_target))\n",
    "    test_score.append(lasso.score(test_scaled, test_target))\n",
    "\n",
    "# 오류가 날 때에는 규제를 조정해 주면 됨"
   ]
  },
  {
   "cell_type": "code",
   "execution_count": 39,
   "id": "017fd800",
   "metadata": {},
   "outputs": [
    {
     "data": {
      "image/png": "[encoded data removed]",
      "text/plain": [
       "<Figure size 432x288 with 1 Axes>"
      ]
     },
     "metadata": {
      "needs_background": "light"
     },
     "output_type": "display_data"
    }
   ],
   "source": [
    "# 시각화\n",
    "plt.plot(np.log10(alpha_list), train_score)\n",
    "plt.plot(np.log10(alpha_list), test_score)\n",
    "plt.xlabel('alpha')\n",
    "plt.ylabel('R^2')\n",
    "plt.show()"
   ]
  },
  {
   "cell_type": "code",
   "execution_count": 40,
   "id": "164929dc",
   "metadata": {},
   "outputs": [
    {
     "data": {
      "text/plain": [
       "([0.9902080238600283,\n",
       "  0.9898116789062786,\n",
       "  0.9887624603020236,\n",
       "  0.9078618674946646],\n",
       " array([-1.,  0.,  1.,  2.]))"
      ]
     },
     "execution_count": 40,
     "metadata": {},
     "output_type": "execute_result"
    }
   ],
   "source": [
    "train_score, np.log10(alpha_list)\n",
    "# 범위 때문에 -1 과 0 사이값(0.5)가 함께 출력된 것이고, 실제로는 -1.,  0.,  1.,  2. 값만 출력된 것이 맞음"
   ]
  },
  {
   "cell_type": "code",
   "execution_count": 41,
   "id": "c03dfa74",
   "metadata": {},
   "outputs": [],
   "source": [
    "# alpha = 10"
   ]
  },
  {
   "cell_type": "code",
   "execution_count": 45,
   "id": "66c012fd",
   "metadata": {},
   "outputs": [
    {
     "data": {
      "text/plain": [
       "'1.0.2'"
      ]
     },
     "execution_count": 45,
     "metadata": {},
     "output_type": "execute_result"
    }
   ],
   "source": [
    "# !pip install scikit-learn --user --upgrade <-- poly.get_features_names_out()이 버전 업그레이드 이후 실행됨\n",
    "import sklearn\n",
    "sklearn.__version__\n",
    "# 1.0.2 *최신버전*"
   ]
  },
  {
   "cell_type": "code",
   "execution_count": 46,
   "id": "aea3643e",
   "metadata": {},
   "outputs": [
    {
     "ename": "ParserError",
     "evalue": "Error tokenizing data. C error: Expected 1 fields in line 26, saw 376\n",
     "output_type": "error",
     "traceback": [
      "\u001b[1;31m---------------------------------------------------------------------------\u001b[0m",
      "\u001b[1;31mParserError\u001b[0m                               Traceback (most recent call last)",
      "\u001b[1;32m~\\AppData\\Local\\Temp/ipykernel_10976/2680394124.py\u001b[0m in \u001b[0;36m<module>\u001b[1;34m\u001b[0m\n\u001b[1;32m----> 1\u001b[1;33m \u001b[0mproduct\u001b[0m \u001b[1;33m=\u001b[0m \u001b[0mpd\u001b[0m\u001b[1;33m.\u001b[0m\u001b[0mread_csv\u001b[0m\u001b[1;33m(\u001b[0m\u001b[1;34m'https://github.com/bigdataleeky/python/blob/main/20220304/data.csv'\u001b[0m\u001b[1;33m)\u001b[0m\u001b[1;33m\u001b[0m\u001b[1;33m\u001b[0m\u001b[0m\n\u001b[0m\u001b[0;32m      2\u001b[0m \u001b[0mproduct\u001b[0m\u001b[1;33m.\u001b[0m\u001b[0mhead\u001b[0m\u001b[1;33m(\u001b[0m\u001b[1;33m)\u001b[0m\u001b[1;33m\u001b[0m\u001b[1;33m\u001b[0m\u001b[0m\n",
      "\u001b[1;32mC:\\Anaconda3\\lib\\site-packages\\pandas\\util\\_decorators.py\u001b[0m in \u001b[0;36mwrapper\u001b[1;34m(*args, **kwargs)\u001b[0m\n\u001b[0;32m    309\u001b[0m                     \u001b[0mstacklevel\u001b[0m\u001b[1;33m=\u001b[0m\u001b[0mstacklevel\u001b[0m\u001b[1;33m,\u001b[0m\u001b[1;33m\u001b[0m\u001b[1;33m\u001b[0m\u001b[0m\n\u001b[0;32m    310\u001b[0m                 )\n\u001b[1;32m--> 311\u001b[1;33m             \u001b[1;32mreturn\u001b[0m \u001b[0mfunc\u001b[0m\u001b[1;33m(\u001b[0m\u001b[1;33m*\u001b[0m\u001b[0margs\u001b[0m\u001b[1;33m,\u001b[0m \u001b[1;33m**\u001b[0m\u001b[0mkwargs\u001b[0m\u001b[1;33m)\u001b[0m\u001b[1;33m\u001b[0m\u001b[1;33m\u001b[0m\u001b[0m\n\u001b[0m\u001b[0;32m    312\u001b[0m \u001b[1;33m\u001b[0m\u001b[0m\n\u001b[0;32m    313\u001b[0m         \u001b[1;32mreturn\u001b[0m \u001b[0mwrapper\u001b[0m\u001b[1;33m\u001b[0m\u001b[1;33m\u001b[0m\u001b[0m\n",
      "\u001b[1;32mC:\\Anaconda3\\lib\\site-packages\\pandas\\io\\parsers\\readers.py\u001b[0m in \u001b[0;36mread_csv\u001b[1;34m(filepath_or_buffer, sep, delimiter, header, names, index_col, usecols, squeeze, prefix, mangle_dupe_cols, dtype, engine, converters, true_values, false_values, skipinitialspace, skiprows, skipfooter, nrows, na_values, keep_default_na, na_filter, verbose, skip_blank_lines, parse_dates, infer_datetime_format, keep_date_col, date_parser, dayfirst, cache_dates, iterator, chunksize, compression, thousands, decimal, lineterminator, quotechar, quoting, doublequote, escapechar, comment, encoding, encoding_errors, dialect, error_bad_lines, warn_bad_lines, on_bad_lines, delim_whitespace, low_memory, memory_map, float_precision, storage_options)\u001b[0m\n\u001b[0;32m    584\u001b[0m     \u001b[0mkwds\u001b[0m\u001b[1;33m.\u001b[0m\u001b[0mupdate\u001b[0m\u001b[1;33m(\u001b[0m\u001b[0mkwds_defaults\u001b[0m\u001b[1;33m)\u001b[0m\u001b[1;33m\u001b[0m\u001b[1;33m\u001b[0m\u001b[0m\n\u001b[0;32m    585\u001b[0m \u001b[1;33m\u001b[0m\u001b[0m\n\u001b[1;32m--> 586\u001b[1;33m     \u001b[1;32mreturn\u001b[0m \u001b[0m_read\u001b[0m\u001b[1;33m(\u001b[0m\u001b[0mfilepath_or_buffer\u001b[0m\u001b[1;33m,\u001b[0m \u001b[0mkwds\u001b[0m\u001b[1;33m)\u001b[0m\u001b[1;33m\u001b[0m\u001b[1;33m\u001b[0m\u001b[0m\n\u001b[0m\u001b[0;32m    587\u001b[0m \u001b[1;33m\u001b[0m\u001b[0m\n\u001b[0;32m    588\u001b[0m \u001b[1;33m\u001b[0m\u001b[0m\n",
      "\u001b[1;32mC:\\Anaconda3\\lib\\site-packages\\pandas\\io\\parsers\\readers.py\u001b[0m in \u001b[0;36m_read\u001b[1;34m(filepath_or_buffer, kwds)\u001b[0m\n\u001b[0;32m    486\u001b[0m \u001b[1;33m\u001b[0m\u001b[0m\n\u001b[0;32m    487\u001b[0m     \u001b[1;32mwith\u001b[0m \u001b[0mparser\u001b[0m\u001b[1;33m:\u001b[0m\u001b[1;33m\u001b[0m\u001b[1;33m\u001b[0m\u001b[0m\n\u001b[1;32m--> 488\u001b[1;33m         \u001b[1;32mreturn\u001b[0m \u001b[0mparser\u001b[0m\u001b[1;33m.\u001b[0m\u001b[0mread\u001b[0m\u001b[1;33m(\u001b[0m\u001b[0mnrows\u001b[0m\u001b[1;33m)\u001b[0m\u001b[1;33m\u001b[0m\u001b[1;33m\u001b[0m\u001b[0m\n\u001b[0m\u001b[0;32m    489\u001b[0m \u001b[1;33m\u001b[0m\u001b[0m\n\u001b[0;32m    490\u001b[0m \u001b[1;33m\u001b[0m\u001b[0m\n",
      "\u001b[1;32mC:\\Anaconda3\\lib\\site-packages\\pandas\\io\\parsers\\readers.py\u001b[0m in \u001b[0;36mread\u001b[1;34m(self, nrows)\u001b[0m\n\u001b[0;32m   1045\u001b[0m     \u001b[1;32mdef\u001b[0m \u001b[0mread\u001b[0m\u001b[1;33m(\u001b[0m\u001b[0mself\u001b[0m\u001b[1;33m,\u001b[0m \u001b[0mnrows\u001b[0m\u001b[1;33m=\u001b[0m\u001b[1;32mNone\u001b[0m\u001b[1;33m)\u001b[0m\u001b[1;33m:\u001b[0m\u001b[1;33m\u001b[0m\u001b[1;33m\u001b[0m\u001b[0m\n\u001b[0;32m   1046\u001b[0m         \u001b[0mnrows\u001b[0m \u001b[1;33m=\u001b[0m \u001b[0mvalidate_integer\u001b[0m\u001b[1;33m(\u001b[0m\u001b[1;34m\"nrows\"\u001b[0m\u001b[1;33m,\u001b[0m \u001b[0mnrows\u001b[0m\u001b[1;33m)\u001b[0m\u001b[1;33m\u001b[0m\u001b[1;33m\u001b[0m\u001b[0m\n\u001b[1;32m-> 1047\u001b[1;33m         \u001b[0mindex\u001b[0m\u001b[1;33m,\u001b[0m \u001b[0mcolumns\u001b[0m\u001b[1;33m,\u001b[0m \u001b[0mcol_dict\u001b[0m \u001b[1;33m=\u001b[0m \u001b[0mself\u001b[0m\u001b[1;33m.\u001b[0m\u001b[0m_engine\u001b[0m\u001b[1;33m.\u001b[0m\u001b[0mread\u001b[0m\u001b[1;33m(\u001b[0m\u001b[0mnrows\u001b[0m\u001b[1;33m)\u001b[0m\u001b[1;33m\u001b[0m\u001b[1;33m\u001b[0m\u001b[0m\n\u001b[0m\u001b[0;32m   1048\u001b[0m \u001b[1;33m\u001b[0m\u001b[0m\n\u001b[0;32m   1049\u001b[0m         \u001b[1;32mif\u001b[0m \u001b[0mindex\u001b[0m \u001b[1;32mis\u001b[0m \u001b[1;32mNone\u001b[0m\u001b[1;33m:\u001b[0m\u001b[1;33m\u001b[0m\u001b[1;33m\u001b[0m\u001b[0m\n",
      "\u001b[1;32mC:\\Anaconda3\\lib\\site-packages\\pandas\\io\\parsers\\c_parser_wrapper.py\u001b[0m in \u001b[0;36mread\u001b[1;34m(self, nrows)\u001b[0m\n\u001b[0;32m    221\u001b[0m         \u001b[1;32mtry\u001b[0m\u001b[1;33m:\u001b[0m\u001b[1;33m\u001b[0m\u001b[1;33m\u001b[0m\u001b[0m\n\u001b[0;32m    222\u001b[0m             \u001b[1;32mif\u001b[0m \u001b[0mself\u001b[0m\u001b[1;33m.\u001b[0m\u001b[0mlow_memory\u001b[0m\u001b[1;33m:\u001b[0m\u001b[1;33m\u001b[0m\u001b[1;33m\u001b[0m\u001b[0m\n\u001b[1;32m--> 223\u001b[1;33m                 \u001b[0mchunks\u001b[0m \u001b[1;33m=\u001b[0m \u001b[0mself\u001b[0m\u001b[1;33m.\u001b[0m\u001b[0m_reader\u001b[0m\u001b[1;33m.\u001b[0m\u001b[0mread_low_memory\u001b[0m\u001b[1;33m(\u001b[0m\u001b[0mnrows\u001b[0m\u001b[1;33m)\u001b[0m\u001b[1;33m\u001b[0m\u001b[1;33m\u001b[0m\u001b[0m\n\u001b[0m\u001b[0;32m    224\u001b[0m                 \u001b[1;31m# destructive to chunks\u001b[0m\u001b[1;33m\u001b[0m\u001b[1;33m\u001b[0m\u001b[0m\n\u001b[0;32m    225\u001b[0m                 \u001b[0mdata\u001b[0m \u001b[1;33m=\u001b[0m \u001b[0m_concatenate_chunks\u001b[0m\u001b[1;33m(\u001b[0m\u001b[0mchunks\u001b[0m\u001b[1;33m)\u001b[0m\u001b[1;33m\u001b[0m\u001b[1;33m\u001b[0m\u001b[0m\n",
      "\u001b[1;32mC:\\Anaconda3\\lib\\site-packages\\pandas\\_libs\\parsers.pyx\u001b[0m in \u001b[0;36mpandas._libs.parsers.TextReader.read_low_memory\u001b[1;34m()\u001b[0m\n",
      "\u001b[1;32mC:\\Anaconda3\\lib\\site-packages\\pandas\\_libs\\parsers.pyx\u001b[0m in \u001b[0;36mpandas._libs.parsers.TextReader._read_rows\u001b[1;34m()\u001b[0m\n",
      "\u001b[1;32mC:\\Anaconda3\\lib\\site-packages\\pandas\\_libs\\parsers.pyx\u001b[0m in \u001b[0;36mpandas._libs.parsers.TextReader._tokenize_rows\u001b[1;34m()\u001b[0m\n",
      "\u001b[1;32mC:\\Anaconda3\\lib\\site-packages\\pandas\\_libs\\parsers.pyx\u001b[0m in \u001b[0;36mpandas._libs.parsers.raise_parser_error\u001b[1;34m()\u001b[0m\n",
      "\u001b[1;31mParserError\u001b[0m: Error tokenizing data. C error: Expected 1 fields in line 26, saw 376\n"
     ]
    }
   ],
   "source": []
  },
  {
   "cell_type": "code",
   "execution_count": null,
   "id": "db2b6b1f",
   "metadata": {},
   "outputs": [],
   "source": []
  }
 ],
 "metadata": {
  "kernelspec": {
   "display_name": "Python 3 (ipykernel)",
   "language": "python",
   "name": "python3"
  },
  "language_info": {
   "codemirror_mode": {
    "name": "ipython",
    "version": 3
   },
   "file_extension": ".py",
   "mimetype": "text/x-python",
   "name": "python",
   "nbconvert_exporter": "python",
   "pygments_lexer": "ipython3",
   "version": "3.9.7"
  }
 },
 "nbformat": 4,
 "nbformat_minor": 5
}
