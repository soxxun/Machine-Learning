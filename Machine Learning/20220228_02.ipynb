{
 "cells": [
  {
   "cell_type": "code",
   "execution_count": 1,
   "id": "6e8834b6",
   "metadata": {},
   "outputs": [],
   "source": [
    "# 머신러닝 : 지도/비지도 학습\n",
    "\n",
    "# k 최근접 이웃 알고리즘\n",
    "# - 지도 학습\n",
    "# - 길이, 무게 : 입력 데이터\n",
    "# - 정답 : target\n",
    "# - 훈련 데이터 : 입력 데이터 + target 데이터\n",
    "\n",
    "# 올바른 학습\n",
    "# - 훈련 데이터, 테스트 데이터 분리 (이전 파이썬 자료(20220228)에서는 이것이 선행되지 않음)"
   ]
  },
  {
   "cell_type": "code",
   "execution_count": 3,
   "id": "387fc292",
   "metadata": {},
   "outputs": [],
   "source": [
    "import random as rd\n",
    "\n",
    "A_len = []\n",
    "A_wei = []\n",
    "for i in range(35):\n",
    "    A_len.append(rd.uniform(20,45)) # 실수 범위 지정\n",
    "    A_wei.append(rd.uniform(200,950))\n",
    "\n",
    "# 정렬하기 (디폴드값 : 오름차순)\n",
    "A_len.sort()\n",
    "A_len.sort()\n",
    "\n",
    "# ====================================================\n",
    "\n",
    "B_len = []\n",
    "B_wei = []\n",
    "for i in range(14):\n",
    "    B_len.append(rd.uniform(9,15)) # 실수 범위 지정\n",
    "    B_wei.append(rd.uniform(6,20))\n",
    "\n",
    "# 정렬하기 (디폴드값 : 오름차순)\n",
    "B_len.sort()\n",
    "B_len.sort()\n",
    "\n",
    "length = A_len + B_len\n",
    "weight = A_wei + B_wei"
   ]
  },
  {
   "cell_type": "code",
   "execution_count": 5,
   "id": "b0ad92c4",
   "metadata": {},
   "outputs": [
    {
     "data": {
      "text/plain": [
       "[[20.220364282232875, 241.59228945650074],\n",
       " [20.30220801585383, 580.2358352172421],\n",
       " [21.449477668692218, 484.4596847795001],\n",
       " [22.70022825742012, 290.6599422728797],\n",
       " [22.934006098658674, 887.7776797506958],\n",
       " [23.858498144681157, 799.5098332463366],\n",
       " [24.14762475864375, 432.3997264948217],\n",
       " [26.10147888353108, 515.9095312775414],\n",
       " [26.2274446220017, 350.7923627059968],\n",
       " [27.076735390806, 635.8837580268337]]"
      ]
     },
     "execution_count": 5,
     "metadata": {},
     "output_type": "execute_result"
    }
   ],
   "source": [
    "# 데이터 프레임 형태 생성\n",
    "data = [[w, l] for w, l in zip(length, weight)]\n",
    "data[:10]"
   ]
  },
  {
   "cell_type": "code",
   "execution_count": 6,
   "id": "0df41571",
   "metadata": {},
   "outputs": [],
   "source": [
    "# 타깃 데이터 생성\n",
    "target = [1] * 35 + [0] * 14"
   ]
  },
  {
   "cell_type": "code",
   "execution_count": 10,
   "id": "eb96a478",
   "metadata": {},
   "outputs": [
    {
     "name": "stdout",
     "output_type": "stream",
     "text": [
      "49\n",
      "49\n"
     ]
    }
   ],
   "source": [
    "# 동일한지 확인\n",
    "print(len(data))\n",
    "print(len(target))"
   ]
  },
  {
   "cell_type": "code",
   "execution_count": 32,
   "id": "6b34f293",
   "metadata": {},
   "outputs": [
    {
     "name": "stdout",
     "output_type": "stream",
     "text": [
      "39\n"
     ]
    }
   ],
   "source": [
    "# 8:2로 데이터를 학습용과 테스트용으로 분리하기\n",
    "idx = int(len(data) * 0.8)\n",
    "print(idx) #개수 확인\n",
    "\n",
    "train = data[:35] # 8 (0부터 38) # 0부터 시작하기 때문에 38까지 총 39개인 것\n",
    "test = data[35:] # 2 (39부터 ~)\n",
    "\n",
    "# 정답\n",
    "train_target = target[:35]\n",
    "test_target = target[35:]\n",
    "\n",
    "# 35개를 기준으로 하게 되면 0% !!!\n",
    "# - 전체 39개 중에서 훈련데이터와 타깃데이터로 분류하여 사용해야 하는데,\n",
    "# - 섞지 않고 기존 데이터 35개 만큼, 나머지 35개부터 순차적으로 실행하게 되면\n",
    "# - 결과적으로 A 데이터만 학습하게 되므로, B는 학습하지 않은 상태로 실행됨\n",
    "# - A 데이터만 맞추는 꼴"
   ]
  },
  {
   "cell_type": "code",
   "execution_count": 33,
   "id": "0430a850",
   "metadata": {},
   "outputs": [
    {
     "data": {
      "text/plain": [
       "(35, 35)"
      ]
     },
     "execution_count": 33,
     "metadata": {},
     "output_type": "execute_result"
    }
   ],
   "source": [
    "len(train), len(train_target)"
   ]
  },
  {
   "cell_type": "code",
   "execution_count": 34,
   "id": "5ae80225",
   "metadata": {},
   "outputs": [
    {
     "data": {
      "text/plain": [
       "(14, 14)"
      ]
     },
     "execution_count": 34,
     "metadata": {},
     "output_type": "execute_result"
    }
   ],
   "source": [
    "len(test), len(test_target)"
   ]
  },
  {
   "cell_type": "code",
   "execution_count": 35,
   "id": "904be2da",
   "metadata": {},
   "outputs": [],
   "source": [
    "from sklearn.neighbors import KNeighborsClassifier "
   ]
  },
  {
   "cell_type": "code",
   "execution_count": 36,
   "id": "6c035a0f",
   "metadata": {},
   "outputs": [
    {
     "data": {
      "text/plain": [
       "0.0"
      ]
     },
     "execution_count": 36,
     "metadata": {},
     "output_type": "execute_result"
    }
   ],
   "source": [
    "kn = KNeighborsClassifier()\n",
    "kn.fit(train, train_target)\n",
    "kn.score(test, test_target)"
   ]
  },
  {
   "cell_type": "code",
   "execution_count": 53,
   "id": "59a3b6a5",
   "metadata": {},
   "outputs": [],
   "source": [
    "# 넘파이를 이용하여 데이터 생성 (좀 더 효율적)\n",
    "import numpy as np\n",
    "input_arr = np.array(data) # 전체 데이터를 넘파이 배열로 바꿔준 변수\n",
    "target_arr = np.array(target) # 전체 타깃 데이터를 넘파이 배열로 바꿔준 변수\n",
    "\n",
    "# np.column_stack((length, weight))\n",
    "# data[:6]"
   ]
  },
  {
   "cell_type": "code",
   "execution_count": 57,
   "id": "65acad02",
   "metadata": {},
   "outputs": [
    {
     "data": {
      "text/plain": [
       "(49, 2)"
      ]
     },
     "execution_count": 57,
     "metadata": {},
     "output_type": "execute_result"
    }
   ],
   "source": [
    "input_arr.shape"
   ]
  },
  {
   "cell_type": "code",
   "execution_count": 58,
   "id": "83796dca",
   "metadata": {},
   "outputs": [
    {
     "data": {
      "text/plain": [
       "(49,)"
      ]
     },
     "execution_count": 58,
     "metadata": {},
     "output_type": "execute_result"
    }
   ],
   "source": [
    "target_arr.shape"
   ]
  },
  {
   "cell_type": "code",
   "execution_count": 55,
   "id": "a61898d8",
   "metadata": {},
   "outputs": [],
   "source": [
    "# target = np.concatenate( (np.ones(35), np.zeros(14)) ) # 35개 만큼의 배열 생성\n",
    "#          # concatenate는 튜플 형태로 코드를 작성해야 함\n",
    "# target[:6]"
   ]
  },
  {
   "cell_type": "code",
   "execution_count": 67,
   "id": "dadae0e2",
   "metadata": {},
   "outputs": [],
   "source": [
    "np.random.seed(42) # seed : 유사난수 생성기 (언급이 없으면 실행 시 마다 값이 달라짐)\n",
    "                   #        첫 번째 출력값(랜덤값)을 고정시켜주는 역할로, 아무값이나 임의로 넣어주면 됨\n",
    "                   #        따로 적어주면 seed가 실행 안됨\n",
    "idx = np.arange(49)\n",
    "np.random.shuffle(idx) # 넘파이 형태의 리스트 값을 랜덤으로 섞기"
   ]
  },
  {
   "cell_type": "code",
   "execution_count": 68,
   "id": "6251ceec",
   "metadata": {},
   "outputs": [
    {
     "data": {
      "text/plain": [
       "array([13, 45, 47, 44, 17, 27, 26, 25, 31, 19, 12,  4, 34,  8,  3,  6, 40,\n",
       "       41, 46, 15,  9, 16, 24, 33, 30,  0, 43, 32,  5, 29, 11, 36,  1, 21,\n",
       "        2, 37, 35, 23, 39, 10, 22, 18, 48, 20,  7, 42, 14, 28, 38])"
      ]
     },
     "execution_count": 68,
     "metadata": {},
     "output_type": "execute_result"
    }
   ],
   "source": [
    "idx"
   ]
  },
  {
   "cell_type": "code",
   "execution_count": 70,
   "id": "621fa189",
   "metadata": {},
   "outputs": [
    {
     "data": {
      "text/plain": [
       "numpy.ndarray"
      ]
     },
     "execution_count": 70,
     "metadata": {},
     "output_type": "execute_result"
    }
   ],
   "source": [
    "type(input_arr)"
   ]
  },
  {
   "cell_type": "code",
   "execution_count": 81,
   "id": "781577ae",
   "metadata": {},
   "outputs": [
    {
     "data": {
      "text/plain": [
       "array([[ 20.22036428, 241.59228946],\n",
       "       [ 20.30220802, 580.23583522],\n",
       "       [ 21.44947767, 484.45968478],\n",
       "       [ 22.70022826, 290.65994227],\n",
       "       [ 22.9340061 , 887.77767975],\n",
       "       [ 23.85849814, 799.50983325],\n",
       "       [ 24.14762476, 432.39972649],\n",
       "       [ 26.10147888, 515.90953128],\n",
       "       [ 26.22744462, 350.79236271],\n",
       "       [ 27.07673539, 635.88375803],\n",
       "       [ 28.20543791, 816.01166788],\n",
       "       [ 28.4326487 , 695.1007701 ],\n",
       "       [ 29.14410258, 413.28103184],\n",
       "       [ 29.64271   , 544.5964261 ],\n",
       "       [ 29.72397505, 260.92469172],\n",
       "       [ 31.31967966, 458.09676375],\n",
       "       [ 31.33813057, 443.85993515],\n",
       "       [ 31.53526866, 221.43765185],\n",
       "       [ 32.03446358, 550.79019772],\n",
       "       [ 32.70729615, 300.73736964],\n",
       "       [ 34.10031785, 758.23578948],\n",
       "       [ 35.18850296, 320.26211375],\n",
       "       [ 35.73398719, 204.6562196 ],\n",
       "       [ 36.21807759, 590.90255786],\n",
       "       [ 36.35080789, 750.29049641],\n",
       "       [ 36.51590235, 243.82746753],\n",
       "       [ 36.91170878, 444.29907664],\n",
       "       [ 37.98558306, 867.19270649],\n",
       "       [ 38.33132801, 796.13597507],\n",
       "       [ 39.37216104, 414.0690757 ],\n",
       "       [ 40.2853062 , 938.88643837],\n",
       "       [ 40.87772568, 555.96098896],\n",
       "       [ 41.49227199, 907.98518573],\n",
       "       [ 43.03429108, 918.18504559],\n",
       "       [ 43.87081342, 556.42486616],\n",
       "       [  9.05473958,  14.41285903],\n",
       "       [  9.28542868,  13.51840944],\n",
       "       [ 10.06720081,  16.59055104],\n",
       "       [ 10.31680146,  13.92103804],\n",
       "       [ 10.69257656,  18.08652511],\n",
       "       [ 10.88227462,  12.13261337],\n",
       "       [ 11.27124181,  14.43893999],\n",
       "       [ 11.42036379,  19.25871162],\n",
       "       [ 11.5406718 ,  18.80346639],\n",
       "       [ 12.49983326,  17.02708598],\n",
       "       [ 12.98312429,   6.46250846],\n",
       "       [ 13.20817931,   7.91571083],\n",
       "       [ 13.62059932,   9.59828881],\n",
       "       [ 14.68380579,  19.85610348]])"
      ]
     },
     "execution_count": 81,
     "metadata": {},
     "output_type": "execute_result"
    }
   ],
   "source": [
    "input_arr"
   ]
  },
  {
   "cell_type": "code",
   "execution_count": 72,
   "id": "94613b81",
   "metadata": {},
   "outputs": [
    {
     "data": {
      "text/plain": [
       "array([37, 35, 23, 39, 10, 22, 18, 48, 20,  7, 42, 14, 28, 38])"
      ]
     },
     "execution_count": 72,
     "metadata": {},
     "output_type": "execute_result"
    }
   ],
   "source": [
    "idx[:35]\n",
    "idx[35:]"
   ]
  },
  {
   "cell_type": "code",
   "execution_count": 100,
   "id": "1f5ab758",
   "metadata": {},
   "outputs": [],
   "source": [
    "train = input_arr[idx[:35]]\n",
    "train_target = target_arr[idx[:35]]"
   ]
  },
  {
   "cell_type": "code",
   "execution_count": 101,
   "id": "8f246f6a",
   "metadata": {},
   "outputs": [
    {
     "data": {
      "text/plain": [
       "((35, 2), (35,))"
      ]
     },
     "execution_count": 101,
     "metadata": {},
     "output_type": "execute_result"
    }
   ],
   "source": [
    "train.shape, train_target.shape"
   ]
  },
  {
   "cell_type": "code",
   "execution_count": 102,
   "id": "741329ee",
   "metadata": {},
   "outputs": [],
   "source": [
    "test = input_arr[idx[35:]]\n",
    "test_target = target_arr[idx[35:]]"
   ]
  },
  {
   "cell_type": "code",
   "execution_count": 103,
   "id": "1b94cb80",
   "metadata": {},
   "outputs": [
    {
     "data": {
      "text/plain": [
       "((14, 2), (14,))"
      ]
     },
     "execution_count": 103,
     "metadata": {},
     "output_type": "execute_result"
    }
   ],
   "source": [
    "test.shape, test_target.shape"
   ]
  },
  {
   "cell_type": "code",
   "execution_count": 106,
   "id": "34917323",
   "metadata": {},
   "outputs": [
    {
     "data": {
      "image/png": "[encoded data removed]",
      "text/plain": [
       "<Figure size 432x288 with 1 Axes>"
      ]
     },
     "metadata": {
      "needs_background": "light"
     },
     "output_type": "display_data"
    }
   ],
   "source": [
    "import matplotlib.pyplot as plt\n",
    "plt.scatter(train[:,0], train[:,1]) # 모든 raw의 길이\n",
    "plt.scatter(test[:,0], test[:,1]) # 모든 raw의 무게\n",
    "plt.xlabel('length')\n",
    "plt.ylabel('weight')\n",
    "plt.show()"
   ]
  },
  {
   "cell_type": "code",
   "execution_count": 107,
   "id": "d6e1879e",
   "metadata": {},
   "outputs": [
    {
     "data": {
      "text/plain": [
       "1.0"
      ]
     },
     "execution_count": 107,
     "metadata": {},
     "output_type": "execute_result"
    }
   ],
   "source": [
    "kn = KNeighborsClassifier()\n",
    "kn.fit(train, train_target)\n",
    "kn.score(train, train_target)"
   ]
  },
  {
   "cell_type": "code",
   "execution_count": 108,
   "id": "e102f8dc",
   "metadata": {},
   "outputs": [
    {
     "data": {
      "text/plain": [
       "array([0., 0., 1., 0., 1., 1., 1., 0., 1., 1., 0., 1., 1., 0.])"
      ]
     },
     "execution_count": 108,
     "metadata": {},
     "output_type": "execute_result"
    }
   ],
   "source": [
    "kn.predict(test)"
   ]
  },
  {
   "cell_type": "code",
   "execution_count": 109,
   "id": "4517254b",
   "metadata": {},
   "outputs": [
    {
     "data": {
      "text/plain": [
       "array([0., 0., 1., 0., 1., 1., 1., 0., 1., 1., 0., 1., 1., 0.])"
      ]
     },
     "execution_count": 109,
     "metadata": {},
     "output_type": "execute_result"
    }
   ],
   "source": [
    "test_target[:14]"
   ]
  }
 ],
 "metadata": {
  "kernelspec": {
   "display_name": "Python 3 (ipykernel)",
   "language": "python",
   "name": "python3"
  },
  "language_info": {
   "codemirror_mode": {
    "name": "ipython",
    "version": 3
   },
   "file_extension": ".py",
   "mimetype": "text/x-python",
   "name": "python",
   "nbconvert_exporter": "python",
   "pygments_lexer": "ipython3",
   "version": "3.9.7"
  }
 },
 "nbformat": 4,
 "nbformat_minor": 5
}
