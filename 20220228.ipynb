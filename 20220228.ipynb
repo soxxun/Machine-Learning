{
 "cells": [
  {
   "cell_type": "code",
   "execution_count": 116,
   "id": "84cb2caf",
   "metadata": {},
   "outputs": [],
   "source": [
    "# 두 개의 제품의 길이와 무게 정보를 가지고 예측해보기\n",
    "# A, B\n",
    "# 30 ~ 40\n",
    "# if B.size() > 30 .....\n",
    "\n",
    "# A 제품과 B 제품의 Class\n",
    "# 분류(Classification)\n",
    "# 이진분류(binary classification)"
   ]
  },
  {
   "cell_type": "code",
   "execution_count": 117,
   "id": "9c6c901d",
   "metadata": {},
   "outputs": [
    {
     "name": "stdout",
     "output_type": "stream",
     "text": [
      "[21.32373735237596, 21.994701939430467, 22.422718019224334, 22.698709131979648, 23.1129470384922, 24.094534604521453, 24.47568224438266, 25.266953816764744, 25.53287571586745]\n",
      "[603.595401053064, 805.2180280997593, 692.8653227651155, 722.7417492622924, 347.1651273340135, 214.96997565223327, 829.7663947282333, 678.4994942321721, 459.9751012956174]\n"
     ]
    }
   ],
   "source": [
    "import random as rd\n",
    "\n",
    "A_len = []\n",
    "A_wei = []\n",
    "for i in range(40):\n",
    "    A_len.append(rd.uniform(20,45)) # 실수 범위 지정\n",
    "    A_wei.append(rd.uniform(200,950))\n",
    "\n",
    "# 정렬하기 (디폴드값 : 오름차순)\n",
    "A_len.sort()\n",
    "A_len.sort()\n",
    "\n",
    "print(A_len[1:10])\n",
    "print(A_wei[1:10])"
   ]
  },
  {
   "cell_type": "code",
   "execution_count": 118,
   "id": "df6afcac",
   "metadata": {},
   "outputs": [
    {
     "data": {
      "image/png": "[encoded data removed]",
      "text/plain": [
       "<Figure size 432x288 with 1 Axes>"
      ]
     },
     "metadata": {
      "needs_background": "light"
     },
     "output_type": "display_data"
    }
   ],
   "source": [
    "# 시각화\n",
    "# A 데이터\n",
    "import matplotlib.pyplot as plt\n",
    "plt.scatter(A_len, A_wei)\n",
    "plt.xlabel('length')\n",
    "plt.ylabel('weight')\n",
    "plt.show()"
   ]
  },
  {
   "cell_type": "code",
   "execution_count": 119,
   "id": "8736d382",
   "metadata": {},
   "outputs": [
    {
     "name": "stdout",
     "output_type": "stream",
     "text": [
      "[9.784726011547633, 9.905585724293193, 10.832997243359461, 11.50823411396633, 11.525788917198401, 11.60665543866261, 12.503976466502163, 12.772772540772195, 13.027135416906507]\n",
      "[17.462614808402748, 11.880512302440025, 8.908573847567027, 17.22957683479007, 13.269259956365559, 17.154255531223747, 12.394251281494242, 18.264772905051245, 10.898820883792457]\n"
     ]
    }
   ],
   "source": [
    "# B 데이터\n",
    "B_len = []\n",
    "B_wei = []\n",
    "for i in range(20):\n",
    "    B_len.append(rd.uniform(9,15)) # 실수 범위 지정\n",
    "    B_wei.append(rd.uniform(6,20))\n",
    "\n",
    "# 정렬하기 (디폴드값 : 오름차순)\n",
    "B_len.sort()\n",
    "B_len.sort()\n",
    "\n",
    "print(B_len[1:10])\n",
    "print(B_wei[1:10])"
   ]
  },
  {
   "cell_type": "code",
   "execution_count": 120,
   "id": "83d779e1",
   "metadata": {},
   "outputs": [
    {
     "data": {
      "image/png": "[encoded data removed]",
      "text/plain": [
       "<Figure size 432x288 with 1 Axes>"
      ]
     },
     "metadata": {
      "needs_background": "light"
     },
     "output_type": "display_data"
    }
   ],
   "source": [
    "plt.scatter(B_len, B_wei)\n",
    "plt.xlabel('length')\n",
    "plt.ylabel('weight')\n",
    "plt.show()"
   ]
  },
  {
   "cell_type": "code",
   "execution_count": 121,
   "id": "67d7ae90",
   "metadata": {},
   "outputs": [
    {
     "data": {
      "image/png": "[encoded data removed]",
      "text/plain": [
       "<Figure size 432x288 with 1 Axes>"
      ]
     },
     "metadata": {
      "needs_background": "light"
     },
     "output_type": "display_data"
    }
   ],
   "source": [
    "# 위 두 데이터를 하나로 표현해 보기\n",
    "plt.scatter(A_len, A_wei)\n",
    "plt.scatter(B_len, B_wei)\n",
    "plt.xlabel('length')\n",
    "plt.ylabel('weight')\n",
    "plt.show()"
   ]
  },
  {
   "cell_type": "code",
   "execution_count": 122,
   "id": "86a85b9f",
   "metadata": {},
   "outputs": [],
   "source": [
    "# 두 값 합치기 (단순히 데이터가 나열됨)\n",
    "length = A_len + B_len\n",
    "weight = A_wei + B_wei"
   ]
  },
  {
   "cell_type": "code",
   "execution_count": 123,
   "id": "0e76108e",
   "metadata": {},
   "outputs": [],
   "source": [
    "# 머신러닝 사이킷런...\n",
    "\n",
    "# 각각의 길이와 무게를 리스트 내 리스트로 표현\n",
    "# 2차원 배열 형태\n",
    "# 군집을 만들어 예측하는 함수\n",
    "#    \"0~10까지의 범위의 A 데이터는 X에 해당하고\n",
    "#    11~20까지의 범위의 B 데이터는 Y에 해당한다.\"\n",
    "\n",
    "# [\n",
    "#     [20.5, 250.2],\n",
    "#     [10.5, 150.2]\n",
    "# ]\n",
    "\n",
    "# [\n",
    "#     [A],\n",
    "#     [B]\n",
    "# ]"
   ]
  },
  {
   "cell_type": "code",
   "execution_count": 124,
   "id": "a0df9908",
   "metadata": {},
   "outputs": [
    {
     "data": {
      "text/plain": [
       "[(20.27583138577248, 675.5222828389152), (21.32373735237596, 603.595401053064)]"
      ]
     },
     "execution_count": 124,
     "metadata": {},
     "output_type": "execute_result"
    }
   ],
   "source": [
    "# 데이터 합칠 때 유용한 파이썬 명령어...zip\n",
    "# 각각의 요소끼리 묶어줌\n",
    "\n",
    "list(zip(length[0:2], weight[0:2]))"
   ]
  },
  {
   "cell_type": "code",
   "execution_count": 125,
   "id": "cab32863",
   "metadata": {},
   "outputs": [
    {
     "data": {
      "text/plain": [
       "[[21.32373735237596, 603.595401053064],\n",
       " [21.994701939430467, 805.2180280997593],\n",
       " [22.422718019224334, 692.8653227651155],\n",
       " [22.698709131979648, 722.7417492622924],\n",
       " [23.1129470384922, 347.1651273340135],\n",
       " [24.094534604521453, 214.96997565223327],\n",
       " [24.47568224438266, 829.7663947282333],\n",
       " [25.266953816764744, 678.4994942321721],\n",
       " [25.53287571586745, 459.9751012956174]]"
      ]
     },
     "execution_count": 125,
     "metadata": {},
     "output_type": "execute_result"
    }
   ],
   "source": [
    "data = [[l, w] for l, w in zip(length, weight)] # 각각의 요소를 하나씩 가져옴\n",
    "                                                # 리스트 컴프리헨션으로 리스트 형태의 쌍으로 묶어주기\n",
    "data[1:10] # 실행"
   ]
  },
  {
   "cell_type": "code",
   "execution_count": 143,
   "id": "bcf34fd3",
   "metadata": {},
   "outputs": [
    {
     "data": {
      "text/plain": [
       "[1, 1, 1, 1, 1, 1, 1, 1, 1]"
      ]
     },
     "execution_count": 143,
     "metadata": {},
     "output_type": "execute_result"
    }
   ],
   "source": [
    "# 머신러닝... 학습데이터 + 정답(label) 필수\n",
    "\n",
    "# 임의로 생성\n",
    "# 1 --> A제품\n",
    "# 0 --> B제품\n",
    "\n",
    "target = [1] * 40 + [0] * 20 # A_len은 range(40), B_len은 range(20)으로 생성했기 때문\n",
    "target[1:10]"
   ]
  },
  {
   "cell_type": "code",
   "execution_count": 144,
   "id": "72c807a8",
   "metadata": {},
   "outputs": [
    {
     "data": {
      "text/plain": [
       "60"
      ]
     },
     "execution_count": 144,
     "metadata": {},
     "output_type": "execute_result"
    }
   ],
   "source": [
    "len(data)"
   ]
  },
  {
   "cell_type": "code",
   "execution_count": 145,
   "id": "1428b32e",
   "metadata": {},
   "outputs": [
    {
     "data": {
      "text/plain": [
       "60"
      ]
     },
     "execution_count": 145,
     "metadata": {},
     "output_type": "execute_result"
    }
   ],
   "source": [
    "len(target)\n",
    "# 학습데이터가 2차원 이상의 데이터로 이루어져 있어도 정답(label)은 1차원으로 출력됨"
   ]
  },
  {
   "cell_type": "code",
   "execution_count": 146,
   "id": "bcf9722f",
   "metadata": {},
   "outputs": [
    {
     "name": "stdout",
     "output_type": "stream",
     "text": [
      "Requirement already satisfied: sklearn in c:\\anaconda3\\lib\\site-packages (0.0)\n",
      "Requirement already satisfied: scikit-learn in c:\\anaconda3\\lib\\site-packages (from sklearn) (0.24.2)\n",
      "Requirement already satisfied: scipy>=0.19.1 in c:\\anaconda3\\lib\\site-packages (from scikit-learn->sklearn) (1.7.1)\n",
      "Requirement already satisfied: numpy>=1.13.3 in c:\\anaconda3\\lib\\site-packages (from scikit-learn->sklearn) (1.20.3)\n",
      "Requirement already satisfied: joblib>=0.11 in c:\\anaconda3\\lib\\site-packages (from scikit-learn->sklearn) (1.1.0)\n",
      "Requirement already satisfied: threadpoolctl>=2.0.0 in c:\\anaconda3\\lib\\site-packages (from scikit-learn->sklearn) (2.2.0)\n"
     ]
    }
   ],
   "source": [
    "!pip install sklearn"
   ]
  },
  {
   "cell_type": "code",
   "execution_count": 147,
   "id": "8a4341d7",
   "metadata": {},
   "outputs": [],
   "source": [
    "from sklearn.neighbors import KNeighborsClassifier"
   ]
  },
  {
   "cell_type": "code",
   "execution_count": 148,
   "id": "0ab5d966",
   "metadata": {},
   "outputs": [],
   "source": [
    "# 머신러닝의 pattern\n",
    "\n",
    "# 1. 머신러닝 객체 생성\n",
    "# 2. 학습\n",
    "# 3. 적용 - 스코어\n",
    "# 4. 예측"
   ]
  },
  {
   "cell_type": "code",
   "execution_count": 149,
   "id": "54351610",
   "metadata": {},
   "outputs": [],
   "source": [
    "# 1 (함수 불러올 때 as로 생성해 주어도 무관)\n",
    "kn = KNeighborsClassifier() # K 최근접 이웃의 개수를 정할 수 있음\n",
    "\n",
    "# 따라서 k의 개수에 따라 분류가 달라질 수 있음"
   ]
  },
  {
   "cell_type": "code",
   "execution_count": 150,
   "id": "dbf5872d",
   "metadata": {},
   "outputs": [
    {
     "data": {
      "text/plain": [
       "KNeighborsClassifier()"
      ]
     },
     "execution_count": 150,
     "metadata": {},
     "output_type": "execute_result"
    }
   ],
   "source": [
    "# 2\n",
    "kn.fit(data, target) # 2 (kn이라는 모델에 적용됨)"
   ]
  },
  {
   "cell_type": "code",
   "execution_count": 151,
   "id": "78848161",
   "metadata": {},
   "outputs": [
    {
     "data": {
      "text/plain": [
       "1.0"
      ]
     },
     "execution_count": 151,
     "metadata": {},
     "output_type": "execute_result"
    }
   ],
   "source": [
    "# 3\n",
    "kn.score(data, target) # 1.0 = 100%의 확률을 보인다는 것을 의미\n",
    "# 학습했던 데이터(data)와 정답(target)의 점수 (적중률이 얼마나 높은지)"
   ]
  },
  {
   "cell_type": "code",
   "execution_count": 152,
   "id": "beabc0be",
   "metadata": {},
   "outputs": [
    {
     "data": {
      "image/png": "[encoded data removed]",
      "text/plain": [
       "<Figure size 432x288 with 1 Axes>"
      ]
     },
     "metadata": {
      "needs_background": "light"
     },
     "output_type": "display_data"
    }
   ],
   "source": [
    "plt.scatter(A_len, A_wei)\n",
    "plt.scatter(B_len, B_wei)\n",
    "\n",
    "# 'x:30, y:600'의 데이터 추출해보기\n",
    "plt.scatter(30, 600, marker='^')\n",
    "\n",
    "plt.xlabel('length')\n",
    "plt.ylabel('weight')\n",
    "plt.show()"
   ]
  },
  {
   "cell_type": "code",
   "execution_count": 153,
   "id": "a37bc55d",
   "metadata": {},
   "outputs": [
    {
     "data": {
      "text/plain": [
       "array([1])"
      ]
     },
     "execution_count": 153,
     "metadata": {},
     "output_type": "execute_result"
    }
   ],
   "source": [
    "# 4 (예측)\n",
    "kn.predict([[30,600]]) # 2차원 배열 형태로 데이터를 만들었기 때문에 동일한 형태로 코드를 작성해야 함\n",
    "\n",
    "# 1이 반환된다는 것은 A를 예측했다는 의미 (아까 target에서 A를 1로, B를 0으로 주었기 때문)"
   ]
  },
  {
   "cell_type": "code",
   "execution_count": 163,
   "id": "602739d7",
   "metadata": {},
   "outputs": [
    {
     "data": {
      "text/plain": [
       "array([1])"
      ]
     },
     "execution_count": 163,
     "metadata": {},
     "output_type": "execute_result"
    }
   ],
   "source": [
    "kn.predict([[13,10]])\n",
    "\n",
    "# 0을 반환하여 B라는 것을 예측\n",
    "# kn.predict([[13,200]])은 A제품에 가깝다고 예측하고 있음\n",
    "# (A의 데이터가 B보다 우선되어 있고  상대적으로 양이 많기 때문에 치중할 수 밖에 없음)\n",
    "# 이러한 오류를 방지하기 위해서는 훈련세트와 테스트세트를 나누어야 하고 데이터를 석어주어야 함 "
   ]
  },
  {
   "cell_type": "code",
   "execution_count": 155,
   "id": "7b4d57da",
   "metadata": {},
   "outputs": [
    {
     "data": {
      "text/plain": [
       "array([[ 20.27583139, 675.52228284],\n",
       "       [ 21.32373735, 603.59540105],\n",
       "       [ 21.99470194, 805.2180281 ],\n",
       "       [ 22.42271802, 692.86532277],\n",
       "       [ 22.69870913, 722.74174926],\n",
       "       [ 23.11294704, 347.16512733],\n",
       "       [ 24.0945346 , 214.96997565],\n",
       "       [ 24.47568224, 829.76639473],\n",
       "       [ 25.26695382, 678.49949423],\n",
       "       [ 25.53287572, 459.9751013 ],\n",
       "       [ 27.825571  , 241.43837576],\n",
       "       [ 27.93469876, 401.83976744],\n",
       "       [ 28.58867908, 549.29610339],\n",
       "       [ 28.61429073, 925.98604796],\n",
       "       [ 28.62170087, 356.83214902],\n",
       "       [ 28.81752803, 552.37037565],\n",
       "       [ 30.18820224, 945.9910304 ],\n",
       "       [ 30.31260858, 832.22223149],\n",
       "       [ 31.62802617, 516.24197916],\n",
       "       [ 32.41611366, 410.47168345],\n",
       "       [ 32.4232251 , 860.06715944],\n",
       "       [ 35.02709322, 533.10774704],\n",
       "       [ 36.81928645, 280.04802362],\n",
       "       [ 37.30010793, 379.80151014],\n",
       "       [ 38.1358753 , 475.11584091],\n",
       "       [ 38.6265729 , 919.92813159],\n",
       "       [ 39.10499871, 310.50995699],\n",
       "       [ 39.13748947, 253.33645553],\n",
       "       [ 39.42346026, 403.23329539],\n",
       "       [ 39.66433435, 668.23360875],\n",
       "       [ 40.40524227, 910.27411217],\n",
       "       [ 40.44288693, 419.242389  ],\n",
       "       [ 40.68088973, 648.28344663],\n",
       "       [ 41.26609315, 626.91780419],\n",
       "       [ 42.12716796, 762.28776803],\n",
       "       [ 42.43413868, 222.2401853 ],\n",
       "       [ 43.13656956, 461.77495136],\n",
       "       [ 43.2821618 , 429.84649073],\n",
       "       [ 43.39478766, 933.19377794],\n",
       "       [ 44.7254119 , 573.15624921],\n",
       "       [  9.7733803 ,   6.91256583],\n",
       "       [  9.78472601,  17.46261481],\n",
       "       [  9.90558572,  11.8805123 ],\n",
       "       [ 10.83299724,   8.90857385],\n",
       "       [ 11.50823411,  17.22957683],\n",
       "       [ 11.52578892,  13.26925996],\n",
       "       [ 11.60665544,  17.15425553],\n",
       "       [ 12.50397647,  12.39425128],\n",
       "       [ 12.77277254,  18.26477291],\n",
       "       [ 13.02713542,  10.89882088],\n",
       "       [ 13.04884832,   6.94653052],\n",
       "       [ 13.48837898,  19.00639351],\n",
       "       [ 13.71234834,  18.56935821],\n",
       "       [ 13.94913166,  12.95023568],\n",
       "       [ 13.98543036,   9.76311875],\n",
       "       [ 14.08204181,   8.49527913],\n",
       "       [ 14.16014883,  13.42343297],\n",
       "       [ 14.55197267,  18.28177894],\n",
       "       [ 14.55993532,  11.95419526],\n",
       "       [ 14.62277761,  18.52892963]])"
      ]
     },
     "execution_count": 155,
     "metadata": {},
     "output_type": "execute_result"
    }
   ],
   "source": [
    "# kn._fit_X\n",
    "# kn이라는 분류 학습기가 이전 데이터로 학습했던 X 데이터를 출력\n",
    "\n",
    "kn._fit_X"
   ]
  },
  {
   "cell_type": "code",
   "execution_count": 156,
   "id": "098bf877",
   "metadata": {},
   "outputs": [
    {
     "data": {
      "text/plain": [
       "array([1, 1, 1, 1, 1, 1, 1, 1, 1, 1, 1, 1, 1, 1, 1, 1, 1, 1, 1, 1, 1, 1,\n",
       "       1, 1, 1, 1, 1, 1, 1, 1, 1, 1, 1, 1, 1, 1, 1, 1, 1, 1, 0, 0, 0, 0,\n",
       "       0, 0, 0, 0, 0, 0, 0, 0, 0, 0, 0, 0, 0, 0, 0, 0])"
      ]
     },
     "execution_count": 156,
     "metadata": {},
     "output_type": "execute_result"
    }
   ],
   "source": [
    "# kn._y\n",
    "# kn이라는 분류 학습기가 이전 데이터로 학습했던 데이터로 정답(label)을 출력\n",
    "kn._y"
   ]
  },
  {
   "cell_type": "code",
   "execution_count": 162,
   "id": "5be5e32c",
   "metadata": {},
   "outputs": [
    {
     "data": {
      "text/plain": [
       "0.6666666666666666"
      ]
     },
     "execution_count": 162,
     "metadata": {},
     "output_type": "execute_result"
    }
   ],
   "source": [
    "kn49 = KNeighborsClassifier(n_neighbors=45)\n",
    "kn49.fit(data,target)\n",
    "kn49.score(data, target)\n",
    "\n",
    "# 최근접 이웃의 개수를 49개 주어서 확률이 60%(0.666...)까지 떨어짐"
   ]
  },
  {
   "cell_type": "code",
   "execution_count": 158,
   "id": "6d51a3dd",
   "metadata": {},
   "outputs": [],
   "source": [
    "# k가 낮다 → 적은 이웃 수로 판단한다 → 불안정한 결과 ~ 오버피칭\n",
    "# k가 높다 → 많은 이웃 수로 판단한다 → 지나친 일반화 ~ 언더피팅\n",
    "\n",
    "# k를 선택하는 방법 : 가장 좋은 성능을 내는 값으로 선택\n",
    "\n",
    "# k의 값을 1부터 증가시켜가며 각 점들에 대해 knn으로 분류해보고 오류 계산\n",
    "# 가장 오류가 적은 k값을 선택"
   ]
  },
  {
   "cell_type": "code",
   "execution_count": null,
   "id": "c9bb1cd9",
   "metadata": {},
   "outputs": [],
   "source": []
  },
  {
   "cell_type": "code",
   "execution_count": null,
   "id": "f343179e",
   "metadata": {},
   "outputs": [],
   "source": []
  },
  {
   "cell_type": "code",
   "execution_count": null,
   "id": "371a2fa4",
   "metadata": {},
   "outputs": [],
   "source": []
  }
 ],
 "metadata": {
  "kernelspec": {
   "display_name": "Python 3 (ipykernel)",
   "language": "python",
   "name": "python3"
  },
  "language_info": {
   "codemirror_mode": {
    "name": "ipython",
    "version": 3
   },
   "file_extension": ".py",
   "mimetype": "text/x-python",
   "name": "python",
   "nbconvert_exporter": "python",
   "pygments_lexer": "ipython3",
   "version": "3.9.7"
  }
 },
 "nbformat": 4,
 "nbformat_minor": 5
}
