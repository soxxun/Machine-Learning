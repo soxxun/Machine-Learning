{
 "cells": [
  {
   "cell_type": "markdown",
   "id": "fcc64bf6",
   "metadata": {},
   "source": [
    "# 교차검증"
   ]
  },
  {
   "cell_type": "code",
   "execution_count": 176,
   "id": "8899f0cb",
   "metadata": {},
   "outputs": [],
   "source": [
    "# 테스트 세트를 사용하지 않고 모델이 과대적합인지, 과소적합인지, 즉 과적합 판단방법 <-- 머신러닝의 개념은 X\n",
    "# 평가하고 측정하기 위한 하나의 도구일 뿐임\n",
    "# 머신러닝의 성능을 높이기 위한 것이 아닌, 단지 보고서용으로 적절\n",
    "# 데이터가 적거나 또는 머신러닝을 수행했을 때 과적합 발생 시 먼저 교차검증으로 평균치를 보여준 후\n",
    "# 어느 정도 성능을 보인다고 명시하고\n",
    "# 파라미터 튜닝을 통해 좀 더 성능을 끌어올려 보는 것 (검증의 개념)\n",
    "\n",
    "# 성능이 너무 안 좋을 때에는 데이터를 의심해 봐야할 것...데이터 수집이 잘못되었다는 의심을 해볼 필요가 있고 혹은 전처리의 필요성이 있음\n",
    "# 컬럼이 많다면 결정트리의 'feature 중요도'를 이용하여 상위 몇 개의 feature만 가지고 다시 수행해 볼 것\n",
    "\n",
    "# 보통 거의 1 이 넘어가거나 0.99와 같은 값은 과적합일 가능성이 있음\n",
    "# 0.90 ~ 0.95 정도의 수치가 가장 적절함\n",
    "# 데이터의 수치를 낮췄는데도 test와 train의 값에 큰 차이가 없다면 과적합은 아님\n",
    "# train과 test 두 값의 차이가 매우 클 때 과적합일 가능성이 크다\n",
    "# 그러나 차이가 별로 나지 않아도 매우 낮으면 과소적합일 가능성이 크다\n",
    "\n",
    "# cross_validate --> test데이터를 사용하지 않고 train 데이터만 가지고 과대/과소를 판단하기 위한 도구라고 생각하면 됨"
   ]
  },
  {
   "cell_type": "code",
   "execution_count": 177,
   "id": "fa47ef57",
   "metadata": {},
   "outputs": [],
   "source": [
    "import pandas as pd"
   ]
  },
  {
   "cell_type": "code",
   "execution_count": 178,
   "id": "fadf8e2f",
   "metadata": {},
   "outputs": [
    {
     "data": {
      "text/html": [
       "<div>\n",
       "<style scoped>\n",
       "    .dataframe tbody tr th:only-of-type {\n",
       "        vertical-align: middle;\n",
       "    }\n",
       "\n",
       "    .dataframe tbody tr th {\n",
       "        vertical-align: top;\n",
       "    }\n",
       "\n",
       "    .dataframe thead th {\n",
       "        text-align: right;\n",
       "    }\n",
       "</style>\n",
       "<table border=\"1\" class=\"dataframe\">\n",
       "  <thead>\n",
       "    <tr style=\"text-align: right;\">\n",
       "      <th></th>\n",
       "      <th>alcohol</th>\n",
       "      <th>sugar</th>\n",
       "      <th>pH</th>\n",
       "      <th>class</th>\n",
       "    </tr>\n",
       "  </thead>\n",
       "  <tbody>\n",
       "    <tr>\n",
       "      <th>0</th>\n",
       "      <td>9.4</td>\n",
       "      <td>1.9</td>\n",
       "      <td>3.51</td>\n",
       "      <td>0.0</td>\n",
       "    </tr>\n",
       "    <tr>\n",
       "      <th>1</th>\n",
       "      <td>9.8</td>\n",
       "      <td>2.6</td>\n",
       "      <td>3.20</td>\n",
       "      <td>0.0</td>\n",
       "    </tr>\n",
       "    <tr>\n",
       "      <th>2</th>\n",
       "      <td>9.8</td>\n",
       "      <td>2.3</td>\n",
       "      <td>3.26</td>\n",
       "      <td>0.0</td>\n",
       "    </tr>\n",
       "    <tr>\n",
       "      <th>3</th>\n",
       "      <td>9.8</td>\n",
       "      <td>1.9</td>\n",
       "      <td>3.16</td>\n",
       "      <td>0.0</td>\n",
       "    </tr>\n",
       "    <tr>\n",
       "      <th>4</th>\n",
       "      <td>9.4</td>\n",
       "      <td>1.9</td>\n",
       "      <td>3.51</td>\n",
       "      <td>0.0</td>\n",
       "    </tr>\n",
       "  </tbody>\n",
       "</table>\n",
       "</div>"
      ],
      "text/plain": [
       "   alcohol  sugar    pH  class\n",
       "0      9.4    1.9  3.51    0.0\n",
       "1      9.8    2.6  3.20    0.0\n",
       "2      9.8    2.3  3.26    0.0\n",
       "3      9.8    1.9  3.16    0.0\n",
       "4      9.4    1.9  3.51    0.0"
      ]
     },
     "execution_count": 178,
     "metadata": {},
     "output_type": "execute_result"
    }
   ],
   "source": [
    "df = pd.read_csv(\"https://raw.githubusercontent.com/bigdataleeky/python/main/wine.csv\")\n",
    "df.head()"
   ]
  },
  {
   "cell_type": "code",
   "execution_count": 179,
   "id": "12dc0e88",
   "metadata": {},
   "outputs": [
    {
     "data": {
      "text/html": [
       "<div>\n",
       "<style scoped>\n",
       "    .dataframe tbody tr th:only-of-type {\n",
       "        vertical-align: middle;\n",
       "    }\n",
       "\n",
       "    .dataframe tbody tr th {\n",
       "        vertical-align: top;\n",
       "    }\n",
       "\n",
       "    .dataframe thead th {\n",
       "        text-align: right;\n",
       "    }\n",
       "</style>\n",
       "<table border=\"1\" class=\"dataframe\">\n",
       "  <thead>\n",
       "    <tr style=\"text-align: right;\">\n",
       "      <th></th>\n",
       "      <th>alcohol</th>\n",
       "      <th>sugar</th>\n",
       "      <th>pH</th>\n",
       "    </tr>\n",
       "  </thead>\n",
       "  <tbody>\n",
       "    <tr>\n",
       "      <th>0</th>\n",
       "      <td>9.4</td>\n",
       "      <td>1.9</td>\n",
       "      <td>3.51</td>\n",
       "    </tr>\n",
       "    <tr>\n",
       "      <th>1</th>\n",
       "      <td>9.8</td>\n",
       "      <td>2.6</td>\n",
       "      <td>3.20</td>\n",
       "    </tr>\n",
       "    <tr>\n",
       "      <th>2</th>\n",
       "      <td>9.8</td>\n",
       "      <td>2.3</td>\n",
       "      <td>3.26</td>\n",
       "    </tr>\n",
       "    <tr>\n",
       "      <th>3</th>\n",
       "      <td>9.8</td>\n",
       "      <td>1.9</td>\n",
       "      <td>3.16</td>\n",
       "    </tr>\n",
       "    <tr>\n",
       "      <th>4</th>\n",
       "      <td>9.4</td>\n",
       "      <td>1.9</td>\n",
       "      <td>3.51</td>\n",
       "    </tr>\n",
       "  </tbody>\n",
       "</table>\n",
       "</div>"
      ],
      "text/plain": [
       "   alcohol  sugar    pH\n",
       "0      9.4    1.9  3.51\n",
       "1      9.8    2.6  3.20\n",
       "2      9.8    2.3  3.26\n",
       "3      9.8    1.9  3.16\n",
       "4      9.4    1.9  3.51"
      ]
     },
     "execution_count": 179,
     "metadata": {},
     "output_type": "execute_result"
    }
   ],
   "source": [
    "# 데이터 분류\n",
    "# - 학습용 데이터\n",
    "x = df.iloc[:,:-1]\n",
    "x.head()"
   ]
  },
  {
   "cell_type": "code",
   "execution_count": 180,
   "id": "4734aa8b",
   "metadata": {},
   "outputs": [
    {
     "data": {
      "text/plain": [
       "<bound method NDFrame.head of 0       0\n",
       "1       0\n",
       "2       0\n",
       "3       0\n",
       "4       0\n",
       "       ..\n",
       "6492    1\n",
       "6493    1\n",
       "6494    1\n",
       "6495    1\n",
       "6496    1\n",
       "Name: class, Length: 6497, dtype: int32>"
      ]
     },
     "execution_count": 180,
     "metadata": {},
     "output_type": "execute_result"
    }
   ],
   "source": [
    "y = df.iloc[:,-1]\n",
    "y = y.astype(int)\n",
    "y.head"
   ]
  },
  {
   "cell_type": "code",
   "execution_count": 181,
   "id": "e9a52326",
   "metadata": {},
   "outputs": [],
   "source": [
    "from sklearn.model_selection import train_test_split"
   ]
  },
  {
   "cell_type": "code",
   "execution_count": 182,
   "id": "d3b3f6d4",
   "metadata": {},
   "outputs": [
    {
     "data": {
      "text/plain": [
       "((5197, 3), (5197,))"
      ]
     },
     "execution_count": 182,
     "metadata": {},
     "output_type": "execute_result"
    }
   ],
   "source": [
    "# 최종테스트 데이터\n",
    "x_train, x_target, y_train, y_target = train_test_split(x,y,test_size=0.2, random_state=42)\n",
    "x_train.shape, y_train.shape"
   ]
  },
  {
   "cell_type": "code",
   "execution_count": 183,
   "id": "b9bdbd6a",
   "metadata": {},
   "outputs": [],
   "source": [
    "# 훈련용 데이터를 --> 훈련용 + 검증용 8:2\n",
    "x_train2, x_target2, y_train2, y_target2 = train_test_split(x_train ,y_train ,test_size=0.2, random_state=42)"
   ]
  },
  {
   "cell_type": "code",
   "execution_count": 184,
   "id": "2347cd8c",
   "metadata": {},
   "outputs": [
    {
     "data": {
      "text/plain": [
       "((4157, 3), (4157,))"
      ]
     },
     "execution_count": 184,
     "metadata": {},
     "output_type": "execute_result"
    }
   ],
   "source": [
    "x_train2.shape, y_train2.shape"
   ]
  },
  {
   "cell_type": "code",
   "execution_count": 185,
   "id": "04397061",
   "metadata": {},
   "outputs": [
    {
     "data": {
      "text/plain": [
       "(0.9971133028626413, 0.864423076923077)"
      ]
     },
     "execution_count": 185,
     "metadata": {},
     "output_type": "execute_result"
    }
   ],
   "source": [
    "from sklearn.tree import DecisionTreeClassifier\n",
    "dc = DecisionTreeClassifier(random_state=42)\n",
    "dc.fit(x_train2, y_train2)\n",
    "dc.score(x_train2, y_train2), dc.score(x_target2, y_target2)"
   ]
  },
  {
   "cell_type": "markdown",
   "id": "62746010",
   "metadata": {},
   "source": [
    "# 위 모델을 가지고 과적합 평가, 즉 교차검증 해 보기"
   ]
  },
  {
   "cell_type": "code",
   "execution_count": 186,
   "id": "8b417a73",
   "metadata": {},
   "outputs": [
    {
     "data": {
      "text/plain": [
       "{'fit_time': array([0.0229373 , 0.0169549 , 0.01296306, 0.01395988, 0.01196575]),\n",
       " 'score_time': array([0.00498652, 0.00299239, 0.00399709, 0.00199699, 0.00199723]),\n",
       " 'test_score': array([0.86923077, 0.84615385, 0.87680462, 0.84889317, 0.83541867])}"
      ]
     },
     "execution_count": 186,
     "metadata": {},
     "output_type": "execute_result"
    }
   ],
   "source": [
    "# GridSearchCV --> 하이퍼 파라미터 튜닝...모델 셀렉션의 하나\n",
    "from sklearn.model_selection import cross_validate # 머신러닝의 기능을 조금 더 효율적으로 수행하기 위한 도구\n",
    "score = cross_validate(dc, x_train, y_train) # dc를 가지고 최종테스트 데이터(x_train, y_train)으로 검증하기\n",
    "score\n",
    "# 다섯개로 나누어 교차하며 검증"
   ]
  },
  {
   "cell_type": "code",
   "execution_count": 187,
   "id": "3499ecef",
   "metadata": {},
   "outputs": [
    {
     "data": {
      "text/plain": [
       "array([0.86923077, 0.84615385, 0.87680462, 0.84889317, 0.83541867])"
      ]
     },
     "execution_count": 187,
     "metadata": {},
     "output_type": "execute_result"
    }
   ],
   "source": [
    "# type(score['test_score'])\n",
    "# # numpy.ndarray\n",
    "score['test_score']\n",
    "# array가 붙으면 numpy임을 알 수 있음"
   ]
  },
  {
   "cell_type": "code",
   "execution_count": 188,
   "id": "8ff931fc",
   "metadata": {},
   "outputs": [
    {
     "data": {
      "text/plain": [
       "0.855300214703487"
      ]
     },
     "execution_count": 188,
     "metadata": {},
     "output_type": "execute_result"
    }
   ],
   "source": [
    "score['test_score'].mean() # 1"
   ]
  },
  {
   "cell_type": "code",
   "execution_count": 189,
   "id": "46782743",
   "metadata": {},
   "outputs": [
    {
     "data": {
      "text/plain": [
       "0.855300214703487"
      ]
     },
     "execution_count": 189,
     "metadata": {},
     "output_type": "execute_result"
    }
   ],
   "source": [
    "import numpy as np\n",
    "np.mean(score['test_score']) # 2\n",
    "                             # 어느 것을 써도 무방"
   ]
  },
  {
   "cell_type": "markdown",
   "id": "503a977d",
   "metadata": {},
   "source": [
    "# 교차검증\n",
    "## *(장점)*\n",
    "### - 모든 데이터셋을 훈련과 평가에 활용 가능\n",
    "### - 정확도 향상시킬 수 있음\n",
    "### - 데이터가 부족할 때의 과적합을 해결 가능\n",
    "### - 데이터 편중을 막을 수 있음\n",
    "### - 보다 일반화된 모델 생성 가능\n",
    "\n",
    "## *(단점)*\n",
    "### - 여러 번 시도하기 때문에 시간이 과다 소요됨"
   ]
  },
  {
   "cell_type": "code",
   "execution_count": 190,
   "id": "311250f3",
   "metadata": {},
   "outputs": [],
   "source": [
    "# kfold 방식과 거의 유사\n",
    "# 분류기를 통한 교차검증\n",
    "# 분류모델이면 StratifiedKFold 사용\n",
    "# 예측...즉 군집일 경우, all in other cases --> KFold 사용\n",
    "from sklearn.model_selection import StratifiedKFold # 데이터 분류기 (분류 방법 정의)"
   ]
  },
  {
   "cell_type": "code",
   "execution_count": 191,
   "id": "7827e324",
   "metadata": {},
   "outputs": [
    {
     "data": {
      "text/plain": [
       "0.855300214703487"
      ]
     },
     "execution_count": 191,
     "metadata": {},
     "output_type": "execute_result"
    }
   ],
   "source": [
    "# cross_validate 한 데이터를 다시 또 여러 번 반복\n",
    "score = cross_validate(dc, x_train, y_train, cv=StratifiedKFold()) # cv : 분류기(분할 시 사용하는 유틸리티 함수)\n",
    "score['test_score'].mean()\n",
    "# 위와 거의 동일하지만 보다 더 정확하고 세밀히 분류한 것"
   ]
  },
  {
   "cell_type": "code",
   "execution_count": 192,
   "id": "96455dd7",
   "metadata": {},
   "outputs": [
    {
     "data": {
      "text/plain": [
       "array(['alcohol', 'sugar', 'pH'], dtype=object)"
      ]
     },
     "execution_count": 192,
     "metadata": {},
     "output_type": "execute_result"
    }
   ],
   "source": [
    "dc.feature_names_in_ # 변수명 출력"
   ]
  },
  {
   "cell_type": "code",
   "execution_count": 193,
   "id": "62e30274",
   "metadata": {},
   "outputs": [
    {
     "data": {
      "text/plain": [
       "array([0.23614177, 0.50084785, 0.26301038])"
      ]
     },
     "execution_count": 193,
     "metadata": {},
     "output_type": "execute_result"
    }
   ],
   "source": [
    "dc.feature_importances_ # 변수 중요도\n",
    "# 가장 중요한 것 --> sugar"
   ]
  },
  {
   "cell_type": "code",
   "execution_count": 194,
   "id": "609f1ace",
   "metadata": {},
   "outputs": [
    {
     "data": {
      "text/plain": [
       "array([0.50084785, 0.26301038, 0.23614177])"
      ]
     },
     "execution_count": 194,
     "metadata": {},
     "output_type": "execute_result"
    }
   ],
   "source": [
    "# dc.feature_importances_.sort() --> 실행 안됨 (넘파이 데이터이기 때문에 아래와 같이 코드 작성해 주어야 함)\n",
    "np.sort(dc.feature_importances_)[::-1] # 내림차순 정렬"
   ]
  },
  {
   "cell_type": "markdown",
   "id": "19dc7f1d",
   "metadata": {},
   "source": [
    "### 결정트리 사용 이유 : 정확한 분류\n",
    "### 부가적인 기능 : feature의 중요도를 알 수 있음\n",
    "###  ***만약 feature가 너무 많다면 feature_importance_의 값을 내림차순으로 정렬한 후 상위 몇 개의 feature만 추출하여 원하는 머신러닝에 적용하면 될 것"
   ]
  },
  {
   "cell_type": "code",
   "execution_count": 195,
   "id": "070f30c0",
   "metadata": {},
   "outputs": [
    {
     "data": {
      "text/plain": [
       "{'ccp_alpha': 0.0,\n",
       " 'class_weight': None,\n",
       " 'criterion': 'gini',\n",
       " 'max_depth': None,\n",
       " 'max_features': None,\n",
       " 'max_leaf_nodes': None,\n",
       " 'min_impurity_decrease': 0.0,\n",
       " 'min_samples_leaf': 1,\n",
       " 'min_samples_split': 2,\n",
       " 'min_weight_fraction_leaf': 0.0,\n",
       " 'random_state': 42,\n",
       " 'splitter': 'best'}"
      ]
     },
     "execution_count": 195,
     "metadata": {},
     "output_type": "execute_result"
    }
   ],
   "source": [
    "# 교차 검증으로 과적합을 피할 수 있다면 성능을 높이기 위해 하이퍼 파라미터 튜닝을 통해 성능 확인하기\n",
    "dc.get_params()"
   ]
  },
  {
   "cell_type": "code",
   "execution_count": 196,
   "id": "ed3f7988",
   "metadata": {},
   "outputs": [],
   "source": [
    "# min_impurity_decrease 활용해 보기\n",
    "params = {\n",
    "    'min_impurity_decrease' : [0.0001, 0.001, 0.01, 0.01, 1, 10, 100]\n",
    "}"
   ]
  },
  {
   "cell_type": "code",
   "execution_count": 197,
   "id": "5d17c8a0",
   "metadata": {},
   "outputs": [],
   "source": [
    "# 튜닝...\n",
    "from sklearn.model_selection import GridSearchCV"
   ]
  },
  {
   "cell_type": "code",
   "execution_count": 198,
   "id": "7d72c9bc",
   "metadata": {},
   "outputs": [],
   "source": [
    "gs = GridSearchCV(dc, param_grid=params)"
   ]
  },
  {
   "cell_type": "code",
   "execution_count": 199,
   "id": "f2781f45",
   "metadata": {},
   "outputs": [
    {
     "data": {
      "text/plain": [
       "GridSearchCV(estimator=DecisionTreeClassifier(random_state=42),\n",
       "             param_grid={'min_impurity_decrease': [0.0001, 0.001, 0.01, 0.01, 1,\n",
       "                                                   10, 100]})"
      ]
     },
     "execution_count": 199,
     "metadata": {},
     "output_type": "execute_result"
    }
   ],
   "source": [
    "gs.fit(x_train, y_train)"
   ]
  },
  {
   "cell_type": "code",
   "execution_count": 200,
   "id": "09d5eb3b",
   "metadata": {},
   "outputs": [
    {
     "data": {
      "text/plain": [
       "{'min_impurity_decrease': 0.0001}"
      ]
     },
     "execution_count": 200,
     "metadata": {},
     "output_type": "execute_result"
    }
   ],
   "source": [
    "gs.best_params_\n",
    "# 0.0001일 때가 가장 적합"
   ]
  },
  {
   "cell_type": "code",
   "execution_count": 201,
   "id": "cc684302",
   "metadata": {},
   "outputs": [],
   "source": [
    "best_model = gs.best_estimator_"
   ]
  },
  {
   "cell_type": "code",
   "execution_count": 202,
   "id": "c79247ec",
   "metadata": {},
   "outputs": [
    {
     "data": {
      "text/plain": [
       "0.9673076923076923"
      ]
     },
     "execution_count": 202,
     "metadata": {},
     "output_type": "execute_result"
    }
   ],
   "source": [
    "best_model.score(x_target2, y_target2)"
   ]
  },
  {
   "cell_type": "code",
   "execution_count": 203,
   "id": "169f8aeb",
   "metadata": {},
   "outputs": [
    {
     "data": {
      "text/plain": [
       "(0.9615162593804117, 0.8653846153846154)"
      ]
     },
     "execution_count": 203,
     "metadata": {},
     "output_type": "execute_result"
    }
   ],
   "source": [
    "best_model.score(x_train, y_train), best_model.score(x_target, y_target)"
   ]
  },
  {
   "cell_type": "code",
   "execution_count": 204,
   "id": "e99b1fb1",
   "metadata": {},
   "outputs": [],
   "source": [
    "params = {\n",
    "    'min_impurity_decrease' : [0.0001, 0.001, 0.01, 0.1, 1, 10, 100],\n",
    "    'max_depth' : [3,5],\n",
    "#     'min_samples_leaf' : np.arange(1, 5),\n",
    "#     'min_samples_split' : np.arange(1, 5) --> 너~~무 오래 걸림\n",
    "}"
   ]
  },
  {
   "cell_type": "code",
   "execution_count": 205,
   "id": "5bd8c57c",
   "metadata": {},
   "outputs": [
    {
     "data": {
      "text/plain": [
       "{'max_depth': 5, 'min_impurity_decrease': 0.001}"
      ]
     },
     "execution_count": 205,
     "metadata": {},
     "output_type": "execute_result"
    }
   ],
   "source": [
    "gs = GridSearchCV(dc, param_grid=params)\n",
    "gs.fit(x_train, y_train)\n",
    "gs.best_params_"
   ]
  },
  {
   "cell_type": "code",
   "execution_count": 206,
   "id": "227ce71e",
   "metadata": {},
   "outputs": [
    {
     "data": {
      "text/plain": [
       "(0.8664614200500289, 0.8615384615384616)"
      ]
     },
     "execution_count": 206,
     "metadata": {},
     "output_type": "execute_result"
    }
   ],
   "source": [
    "best_model = gs.best_estimator_\n",
    "best_model.score(x_train, y_train), best_model.score(x_target, y_target)"
   ]
  },
  {
   "cell_type": "code",
   "execution_count": 207,
   "id": "f7a95316",
   "metadata": {},
   "outputs": [],
   "source": [
    "# 한쪽으로 편중된, 과적합이 되는 것을 방지하기 위해 교차검증을 하는 것임\n",
    "# 처음에 학습하기 위한 데이터를 분류하기 위해\n",
    "# 랜덤으로 데이터를 섞은 후 8:2로 분류하고 2는 따로 보관해 둠\n",
    "# 학습용 데이터 8을 다시 8:2로 분류하는 것을 반복하여 값을 측정해 나감 (머신러닝은 지속적으로 학습됨)\n",
    "# 학습에 완전히 참여한 상태가 되면 학습한 것을 검증하기 위해 학습되지 않은, 한 번도 참여하지 않은 검증용 데이터 2로 검증 시행\n",
    "# 이 분할 과정을 일일이 해 주는 것이 cross_validate : 머신러닝의 모델을 객관적으로 평가하기 위해 모델을 학습시키는 도구\n",
    "\n",
    "# dc : 해당 머신러닝 dc(estimate)를 평가하기 위한 것\n",
    "# 8에 해당하는 데이터 : x_train, y_train을 쪼개고 쪼개어 학습\n",
    "# 학습 후 학습에 참여하지 않은 나머지 20%의 검증용 데이터에 문제를 주고 검증함\n",
    "\n",
    "# 분류로는 StratifiedKFold (혹은 KFold)를 사용할 것\n",
    "# 예측은 KFold, 분류는 StratifiedKFold를 쓰는 것이 적절"
   ]
  },
  {
   "cell_type": "markdown",
   "id": "1ef11712",
   "metadata": {},
   "source": [
    "# Ensemble (앙상블)\n",
    "\n",
    "### < 앙상블의 학습 기법 >\n",
    "### Random Forest Algorithm (임의의 숲) - tree\n",
    "### Extra Tree Algorithm\n",
    "### Gradient Boosting Algorithm\n"
   ]
  },
  {
   "cell_type": "code",
   "execution_count": 208,
   "id": "e6ac72cd",
   "metadata": {},
   "outputs": [],
   "source": [
    "# 정형데이터와 비정형데이터를 다룰 때 주로 사용\n",
    "# 정형데이터를 다룰 때 머신러닝 중 '랜덤 포레스트'의 성능이 가장 뛰어남\n",
    "# 성능을 높이기 위해 여러 개의 모델을 사용\n",
    "# 같은 종류라 하더라도 데이터를 추출하기 때문에 다양한 성능을 낼 수 있음\n",
    "\n",
    "# 정형데이터 - 구조가 정해져 있음\n",
    "# 비정형 데이터 : 정의하거나 표현하기 힘든 불규칙적인 데이터(사진, 이미지, 음성파일 등)"
   ]
  },
  {
   "cell_type": "code",
   "execution_count": 209,
   "id": "040972f3",
   "metadata": {},
   "outputs": [],
   "source": [
    "# 랜덤 포레스트 알고리즘 : 결정트리(DecisionTree)를 무작위로 생성하여 숲을 구성\n",
    "\n",
    "# 부트스트랩 샘플 : 무작위로 데이터를 추출하는 방법\n",
    "#   - 데이터 추출 후 다시 원위치로 돌려 놓음 (랜덤한 값들도 잘 섞이게끔 하기 위함)"
   ]
  },
  {
   "cell_type": "code",
   "execution_count": 210,
   "id": "7654706f",
   "metadata": {},
   "outputs": [
    {
     "data": {
      "text/html": [
       "<div>\n",
       "<style scoped>\n",
       "    .dataframe tbody tr th:only-of-type {\n",
       "        vertical-align: middle;\n",
       "    }\n",
       "\n",
       "    .dataframe tbody tr th {\n",
       "        vertical-align: top;\n",
       "    }\n",
       "\n",
       "    .dataframe thead th {\n",
       "        text-align: right;\n",
       "    }\n",
       "</style>\n",
       "<table border=\"1\" class=\"dataframe\">\n",
       "  <thead>\n",
       "    <tr style=\"text-align: right;\">\n",
       "      <th></th>\n",
       "      <th>alcohol</th>\n",
       "      <th>sugar</th>\n",
       "      <th>pH</th>\n",
       "      <th>class</th>\n",
       "    </tr>\n",
       "  </thead>\n",
       "  <tbody>\n",
       "    <tr>\n",
       "      <th>0</th>\n",
       "      <td>9.4</td>\n",
       "      <td>1.9</td>\n",
       "      <td>3.51</td>\n",
       "      <td>0</td>\n",
       "    </tr>\n",
       "    <tr>\n",
       "      <th>1</th>\n",
       "      <td>9.8</td>\n",
       "      <td>2.6</td>\n",
       "      <td>3.20</td>\n",
       "      <td>0</td>\n",
       "    </tr>\n",
       "    <tr>\n",
       "      <th>2</th>\n",
       "      <td>9.8</td>\n",
       "      <td>2.3</td>\n",
       "      <td>3.26</td>\n",
       "      <td>0</td>\n",
       "    </tr>\n",
       "    <tr>\n",
       "      <th>3</th>\n",
       "      <td>9.8</td>\n",
       "      <td>1.9</td>\n",
       "      <td>3.16</td>\n",
       "      <td>0</td>\n",
       "    </tr>\n",
       "    <tr>\n",
       "      <th>4</th>\n",
       "      <td>9.4</td>\n",
       "      <td>1.9</td>\n",
       "      <td>3.51</td>\n",
       "      <td>0</td>\n",
       "    </tr>\n",
       "  </tbody>\n",
       "</table>\n",
       "</div>"
      ],
      "text/plain": [
       "   alcohol  sugar    pH  class\n",
       "0      9.4    1.9  3.51      0\n",
       "1      9.8    2.6  3.20      0\n",
       "2      9.8    2.3  3.26      0\n",
       "3      9.8    1.9  3.16      0\n",
       "4      9.4    1.9  3.51      0"
      ]
     },
     "execution_count": 210,
     "metadata": {},
     "output_type": "execute_result"
    }
   ],
   "source": [
    "# 트리 알고리즘은 정규화 안함...(StandardScaling)\n",
    "df = pd.read_csv(\"https://raw.githubusercontent.com/bigdataleeky/python/main/wine.csv\")\n",
    "df['class'] = df['class'].astype(int)\n",
    "df.head()"
   ]
  },
  {
   "cell_type": "code",
   "execution_count": 211,
   "id": "c231cac5",
   "metadata": {},
   "outputs": [
    {
     "data": {
      "text/plain": [
       "((6497, 3), (6497,))"
      ]
     },
     "execution_count": 211,
     "metadata": {},
     "output_type": "execute_result"
    }
   ],
   "source": [
    "x = df.iloc[:,:-1]\n",
    "y = df.iloc[:,-1]\n",
    "x.shape, y.shape"
   ]
  },
  {
   "cell_type": "markdown",
   "id": "cc2dee65",
   "metadata": {},
   "source": [
    "# 앙상블 - 랜덤 포레스트"
   ]
  },
  {
   "cell_type": "code",
   "execution_count": 212,
   "id": "7e4ad0fa",
   "metadata": {},
   "outputs": [],
   "source": [
    "from sklearn.ensemble import RandomForestClassifier"
   ]
  },
  {
   "cell_type": "code",
   "execution_count": 213,
   "id": "c4b31728",
   "metadata": {},
   "outputs": [
    {
     "data": {
      "text/plain": [
       "((4872, 3), (4872,))"
      ]
     },
     "execution_count": 213,
     "metadata": {},
     "output_type": "execute_result"
    }
   ],
   "source": [
    "x_train, x_target, y_train, y_target = train_test_split(x, y, random_state=42)\n",
    "x_train.shape, y_train.shape"
   ]
  },
  {
   "cell_type": "code",
   "execution_count": 214,
   "id": "13dfec1f",
   "metadata": {},
   "outputs": [
    {
     "data": {
      "text/plain": [
       "(0.9973316912972086, 0.8812307692307693)"
      ]
     },
     "execution_count": 214,
     "metadata": {},
     "output_type": "execute_result"
    }
   ],
   "source": [
    "rfc = RandomForestClassifier(random_state=42)\n",
    "rfc.fit(x_train, y_train)\n",
    "rfc.score(x_train, y_train), rfc.score(x_target, y_target) \n",
    "# (0.9973316912972086, 0.8806153846153846) --> 과적합 발생\n",
    "\n",
    "# 결정트리 : 과적합 자체는 피할 수는 없지만 성능 자체는 나아짐"
   ]
  },
  {
   "cell_type": "code",
   "execution_count": 215,
   "id": "5bbe5ef8",
   "metadata": {},
   "outputs": [
    {
     "data": {
      "text/plain": [
       "{'fit_time': array([0.45278931, 0.49069047, 0.580477  , 0.52357006, 0.48769307]),\n",
       " 'score_time': array([0.03789687, 0.05684805, 0.03889585, 0.04288769, 0.0459137 ]),\n",
       " 'test_score': array([0.88      , 0.90051282, 0.90349076, 0.89014374, 0.88295688])}"
      ]
     },
     "execution_count": 215,
     "metadata": {},
     "output_type": "execute_result"
    }
   ],
   "source": [
    "# cross_validate 사용해 보기\n",
    "# 마지막 검증을 하지 않고 전체 학습 데이터에 해당하는 전체 평균값 살펴보기\n",
    "score = cross_validate(rfc, x_train, y_train, cv=StratifiedKFold())\n",
    "score"
   ]
  },
  {
   "cell_type": "code",
   "execution_count": 216,
   "id": "3e296ae2",
   "metadata": {},
   "outputs": [
    {
     "data": {
      "text/plain": [
       "0.8914208392565683"
      ]
     },
     "execution_count": 216,
     "metadata": {},
     "output_type": "execute_result"
    }
   ],
   "source": [
    "score['test_score'].mean()\n",
    "# 랜덤 포레스트를 했을 때의 성능이 대략 0.8908048228294636 정도 나온다는 것을 알 수 있음\n",
    "# 이전에는 8:2로 나누어 8만 가지고 cross_validate 하여 반복적으로 계속 나누어 학습한 뒤\n",
    "# 마지막에 2를 가지고 실제 성능을 평가했음\n",
    "\n",
    "# 현재는 전체데이터 전부를 학습하여 다시 나누지 않고 그 자체로 전체 평균을 살펴본 것"
   ]
  },
  {
   "cell_type": "code",
   "execution_count": 217,
   "id": "ea219ab1",
   "metadata": {},
   "outputs": [],
   "source": [
    "# 전체데이터를 사용하는 이유\n",
    "# - feature의 중요도를 알기 위해 \n",
    "# - 랜덤 포레스트를 사용하는데, 크로스 벨리데이터를 이용해서 전체 학습데이터를 사용했다는 것은\n",
    "# - 검증할 데이터는 없음 --> 중요 feature만 보기 위함"
   ]
  },
  {
   "cell_type": "code",
   "execution_count": 218,
   "id": "d54c2297",
   "metadata": {},
   "outputs": [
    {
     "data": {
      "text/plain": [
       "array([0.23155241, 0.49706658, 0.27138101])"
      ]
     },
     "execution_count": 218,
     "metadata": {},
     "output_type": "execute_result"
    }
   ],
   "source": [
    "rfc.fit(x_train, y_train)\n",
    "rfc.feature_importances_"
   ]
  },
  {
   "cell_type": "code",
   "execution_count": 219,
   "id": "ccebd979",
   "metadata": {},
   "outputs": [],
   "source": [
    "# Tree 알고리즘 그 자체로 구분도 할 수 있지만...\n",
    "# Feature 엔지니어링에 주로 활용"
   ]
  },
  {
   "cell_type": "code",
   "execution_count": 220,
   "id": "f31e33aa",
   "metadata": {},
   "outputs": [
    {
     "data": {
      "text/plain": [
       "array([0.23406607, 0.49490174, 0.27103219])"
      ]
     },
     "execution_count": 220,
     "metadata": {},
     "output_type": "execute_result"
    }
   ],
   "source": [
    "rfc2 = RandomForestClassifier(oob_score=True)\n",
    "rfc2.fit(x_train, y_train)\n",
    "rfc2.feature_importances_ # 비교하려면 random_state값도 맞춰주어야 함"
   ]
  },
  {
   "cell_type": "markdown",
   "id": "d1b17bf5",
   "metadata": {},
   "source": [
    "# 앙상블 - 엑스트라 트리"
   ]
  },
  {
   "cell_type": "code",
   "execution_count": 221,
   "id": "9ec26303",
   "metadata": {},
   "outputs": [],
   "source": [
    "# 평가할 때 교차검증을 하는 것이 보다 유리함\n",
    "# 랜덤 포레스트 보다 무작위성이 큼\n",
    "# 노드를 순차적 X --> 무작위로 분할하기 때문에 (랜덤 포레스트 보다) 계산속도가 빠름\n",
    "# 데이터를 한꺼번에 많이, 조금 더 빨리 가져오는 것이 장점"
   ]
  },
  {
   "cell_type": "code",
   "execution_count": 222,
   "id": "c2ce822d",
   "metadata": {},
   "outputs": [],
   "source": [
    "from sklearn.ensemble import ExtraTreesClassifier\n",
    "et = ExtraTreesClassifier()\n",
    "score = cross_validate(et, x_train, y_train)"
   ]
  },
  {
   "cell_type": "code",
   "execution_count": 223,
   "id": "8fb0c1ab",
   "metadata": {},
   "outputs": [
    {
     "data": {
      "text/plain": [
       "{'fit_time': array([0.43786287, 0.41488886, 0.49670267, 0.44378066, 0.40591931]),\n",
       " 'score_time': array([0.05484867, 0.0588088 , 0.05185819, 0.04886699, 0.04889441]),\n",
       " 'test_score': array([0.88820513, 0.89230769, 0.89835729, 0.89117043, 0.88090349])}"
      ]
     },
     "execution_count": 223,
     "metadata": {},
     "output_type": "execute_result"
    }
   ],
   "source": [
    "score"
   ]
  },
  {
   "cell_type": "code",
   "execution_count": 224,
   "id": "c2337141",
   "metadata": {},
   "outputs": [
    {
     "data": {
      "text/plain": [
       "0.8901888064023588"
      ]
     },
     "execution_count": 224,
     "metadata": {},
     "output_type": "execute_result"
    }
   ],
   "source": [
    "score['test_score'].mean()\n",
    "# 이전과 거의 유사"
   ]
  },
  {
   "cell_type": "markdown",
   "id": "91e0b851",
   "metadata": {},
   "source": [
    "# 앙상블 - 그라디언트 부스팅"
   ]
  },
  {
   "cell_type": "code",
   "execution_count": 225,
   "id": "b8fcfa5a",
   "metadata": {},
   "outputs": [],
   "source": [
    "# 하나의 완전한 트리를 만드는 것 보다는,\n",
    "# 깊이가 얕은 트리를 만들고 그 다음 트리는 이전 트리의 결점을 보완하는 방식의 앙상블\n",
    "# 기본적으로 깊이가 3인 결정트리를 100개 생성함 -> 과적합에 강하고 높은 일반화 성능을 기대 (항상 X)\n",
    "# 경사하강법(0314파일 참조)을 트리 앙상블에 적용한 것...손실함수 사용, 분류 --> 로지스틱 함수\n",
    "#                                                                      회귀 --> 평균제곱와 MSE"
   ]
  },
  {
   "cell_type": "code",
   "execution_count": 226,
   "id": "11a90060",
   "metadata": {},
   "outputs": [
    {
     "data": {
      "text/plain": [
       "(0.876641288895909, 0.9146652520989097)"
      ]
     },
     "execution_count": 226,
     "metadata": {},
     "output_type": "execute_result"
    }
   ],
   "source": [
    "from sklearn.ensemble import GradientBoostingClassifier\n",
    "gd = GradientBoostingClassifier(random_state=42, learning_rate=0.3)\n",
    "# learning rate(기울기)를 조정하면 성능을 조절할 수 있음\n",
    "# 하나씩 점차 올리면서 일일이 확인하기에는 무리 --> 튜닝을 해야 함\n",
    "score = cross_validate(gd, x_train, y_train, return_train_score=True)\n",
    "score['test_score'].mean(), score['train_score'].mean()"
   ]
  },
  {
   "cell_type": "code",
   "execution_count": 227,
   "id": "2e1a00aa",
   "metadata": {},
   "outputs": [
    {
     "data": {
      "text/plain": [
       "{'ccp_alpha': 0.0,\n",
       " 'criterion': 'friedman_mse',\n",
       " 'init': None,\n",
       " 'learning_rate': 0.3,\n",
       " 'loss': 'deviance',\n",
       " 'max_depth': 3,\n",
       " 'max_features': None,\n",
       " 'max_leaf_nodes': None,\n",
       " 'min_impurity_decrease': 0.0,\n",
       " 'min_samples_leaf': 1,\n",
       " 'min_samples_split': 2,\n",
       " 'min_weight_fraction_leaf': 0.0,\n",
       " 'n_estimators': 100,\n",
       " 'n_iter_no_change': None,\n",
       " 'random_state': 42,\n",
       " 'subsample': 1.0,\n",
       " 'tol': 0.0001,\n",
       " 'validation_fraction': 0.1,\n",
       " 'verbose': 0,\n",
       " 'warm_start': False}"
      ]
     },
     "execution_count": 227,
     "metadata": {},
     "output_type": "execute_result"
    }
   ],
   "source": [
    "gd.get_params()"
   ]
  },
  {
   "cell_type": "code",
   "execution_count": 228,
   "id": "eec0d3c0",
   "metadata": {},
   "outputs": [
    {
     "data": {
      "text/plain": [
       "GridSearchCV(estimator=GradientBoostingClassifier(learning_rate=0.3,\n",
       "                                                  random_state=42),\n",
       "             param_grid={'learning_rate': array([0.1, 0.2, 0.3, 0.4, 0.5, 0.6, 0.7, 0.8, 0.9, 1. , 1.1, 1.2, 1.3,\n",
       "       1.4])})"
      ]
     },
     "execution_count": 228,
     "metadata": {},
     "output_type": "execute_result"
    }
   ],
   "source": [
    "from sklearn.model_selection import GridSearchCV # 튜닝\n",
    "param = {\n",
    "    'learning_rate' : np.arange(0.1, 1.5, 0.1)\n",
    "}\n",
    "gs = GridSearchCV(gd, param_grid=param)\n",
    "gs.fit(x_train, y_train)"
   ]
  },
  {
   "cell_type": "code",
   "execution_count": 229,
   "id": "35058f3b",
   "metadata": {},
   "outputs": [
    {
     "data": {
      "text/plain": [
       "{'learning_rate': 0.4}"
      ]
     },
     "execution_count": 229,
     "metadata": {},
     "output_type": "execute_result"
    }
   ],
   "source": [
    "gs.best_params_"
   ]
  },
  {
   "cell_type": "code",
   "execution_count": 230,
   "id": "bb8f58bd",
   "metadata": {},
   "outputs": [
    {
     "data": {
      "text/plain": [
       "(0.8770504922866319, 0.9233888719704268)"
      ]
     },
     "execution_count": 230,
     "metadata": {},
     "output_type": "execute_result"
    }
   ],
   "source": [
    "model = gs.best_estimator_\n",
    "score = cross_validate(model, x_train, y_train, return_train_score=True)\n",
    "score['test_score'].mean(), score['train_score'].mean()"
   ]
  },
  {
   "cell_type": "markdown",
   "id": "23a9aee3",
   "metadata": {},
   "source": [
    "### 히스토그램 기반 그라디언트 부스팅\n",
    "### 정형데이터를 다루는 머신러닝 알고리즘 중 가장 인기 多\n",
    "### 입력 데이터의 특징을 보고 판단하여 구간을 나누어 작업\n",
    "### X의 특성을 256개의 구간으로 나눔...트리를 구성할 때 최적의 노드가 되도록 분할 --> 효율과 속도 up\n",
    "### 256개 중에서 한 개를 정답으로 삼아 사용하고 나머지 255개의 데이터를 학습용으로 사용"
   ]
  },
  {
   "cell_type": "code",
   "execution_count": 231,
   "id": "4c65354d",
   "metadata": {},
   "outputs": [],
   "source": [
    "from sklearn.experimental import enable_hist_gradient_boosting # <-- 앙상블 계열이나 앙상블 패키지 X \n",
    "from sklearn.ensemble import HistGradientBoostingClassifier"
   ]
  },
  {
   "cell_type": "code",
   "execution_count": 232,
   "id": "6b3ebfeb",
   "metadata": {},
   "outputs": [
    {
     "data": {
      "text/plain": [
       "(0.8805410414363187, 0.9380129799494501)"
      ]
     },
     "execution_count": 232,
     "metadata": {},
     "output_type": "execute_result"
    }
   ],
   "source": [
    "hghc = HistGradientBoostingClassifier(random_state=42)\n",
    "score = cross_validate(hghc, x_train, y_train, return_train_score=True)\n",
    "score['test_score'].mean(), score['train_score'].mean()"
   ]
  },
  {
   "cell_type": "code",
   "execution_count": 233,
   "id": "b9b188aa",
   "metadata": {},
   "outputs": [
    {
     "data": {
      "text/plain": [
       "{'categorical_features': None,\n",
       " 'early_stopping': 'auto',\n",
       " 'l2_regularization': 0.0,\n",
       " 'learning_rate': 0.1,\n",
       " 'loss': 'auto',\n",
       " 'max_bins': 255,\n",
       " 'max_depth': None,\n",
       " 'max_iter': 100,\n",
       " 'max_leaf_nodes': 31,\n",
       " 'min_samples_leaf': 20,\n",
       " 'monotonic_cst': None,\n",
       " 'n_iter_no_change': 10,\n",
       " 'random_state': 42,\n",
       " 'scoring': 'loss',\n",
       " 'tol': 1e-07,\n",
       " 'validation_fraction': 0.1,\n",
       " 'verbose': 0,\n",
       " 'warm_start': False}"
      ]
     },
     "execution_count": 233,
     "metadata": {},
     "output_type": "execute_result"
    }
   ],
   "source": [
    "hghc.get_params()"
   ]
  },
  {
   "cell_type": "code",
   "execution_count": 234,
   "id": "6fd3e1ca",
   "metadata": {},
   "outputs": [
    {
     "data": {
      "text/plain": [
       "GridSearchCV(estimator=HistGradientBoostingClassifier(random_state=42),\n",
       "             param_grid={'learning_rate': array([0.1, 0.2, 0.3, 0.4, 0.5, 0.6, 0.7, 0.8, 0.9, 1. , 1.1, 1.2, 1.3,\n",
       "       1.4])})"
      ]
     },
     "execution_count": 234,
     "metadata": {},
     "output_type": "execute_result"
    }
   ],
   "source": [
    "param = {\n",
    "    'learning_rate' : np.arange(0.1, 1.5, 0.1)\n",
    "}\n",
    "gs = GridSearchCV(hghc, param_grid=param)\n",
    "gs.fit(x_train, y_train)"
   ]
  },
  {
   "cell_type": "code",
   "execution_count": 235,
   "id": "5a7873a9",
   "metadata": {},
   "outputs": [
    {
     "data": {
      "text/plain": [
       "(0.8871097772863686, 0.9809627539727774)"
      ]
     },
     "execution_count": 235,
     "metadata": {},
     "output_type": "execute_result"
    }
   ],
   "source": [
    "model = gs.best_estimator_\n",
    "score = cross_validate(model, x_train, y_train, return_train_score=True)\n",
    "score['test_score'].mean(), score['train_score'].mean()\n",
    "# 실제로 검증용이 높아졌다면 좋은 결과를 받은 것임"
   ]
  },
  {
   "cell_type": "code",
   "execution_count": 236,
   "id": "26e43498",
   "metadata": {},
   "outputs": [
    {
     "data": {
      "text/plain": [
       "{'learning_rate': 0.30000000000000004}"
      ]
     },
     "execution_count": 236,
     "metadata": {},
     "output_type": "execute_result"
    }
   ],
   "source": [
    "gs.best_params_"
   ]
  },
  {
   "cell_type": "code",
   "execution_count": 237,
   "id": "2037ff1f",
   "metadata": {},
   "outputs": [],
   "source": [
    "from sklearn.inspection import permutation_importance # 피쳐의 중요도"
   ]
  },
  {
   "cell_type": "code",
   "execution_count": 238,
   "id": "2c939e70",
   "metadata": {},
   "outputs": [
    {
     "data": {
      "text/plain": [
       "(array([0.1365353 , 0.27557471, 0.14076355]),\n",
       " array(['alcohol', 'sugar', 'pH'], dtype=object))"
      ]
     },
     "execution_count": 238,
     "metadata": {},
     "output_type": "execute_result"
    }
   ],
   "source": [
    "result = permutation_importance(model, x_train, y_train, random_state=42)\n",
    "result.importances_mean, model.feature_names_in_ # 컬럼명 확인할 때는 변수명 X, 모델명으로 확인"
   ]
  },
  {
   "cell_type": "code",
   "execution_count": 239,
   "id": "1a2b1f1b",
   "metadata": {},
   "outputs": [
    {
     "data": {
      "text/plain": [
       "array([0.05735385, 0.20455385, 0.05870769])"
      ]
     },
     "execution_count": 239,
     "metadata": {},
     "output_type": "execute_result"
    }
   ],
   "source": [
    "result = permutation_importance(model, x_target, y_target, random_state=42)\n",
    "result.importances_mean\n",
    "# train과 target 모두 sugar column의 중요도가 가장 높게 나옴"
   ]
  },
  {
   "cell_type": "code",
   "execution_count": 240,
   "id": "d23879fc",
   "metadata": {},
   "outputs": [],
   "source": [
    "# model.score(x_train, y_train), model.score(x_target, y_target) --> 해줄 필요 없음"
   ]
  },
  {
   "cell_type": "markdown",
   "id": "a82fac49",
   "metadata": {},
   "source": [
    "# 앙상블 > 그라디언트 부스팅 > XGBboost\n",
    "### XGBboost -> 그라디언트 부스팅 알고리즘을 분산환경에서 실행할 수 있도록\n",
    "### Begging / Boosting"
   ]
  },
  {
   "cell_type": "code",
   "execution_count": 241,
   "id": "18e1245f",
   "metadata": {},
   "outputs": [],
   "source": [
    "# Begging\n",
    "# - 각 모델에서 나온 값을 계산한 후, 최종 결과를 내는 방식\n",
    "\n",
    "# Boosting\n",
    "# - 순차적으로 이전 모델의 결과를 다음 모델에 반영하여 누적적으로 산출하는 방식)"
   ]
  },
  {
   "cell_type": "code",
   "execution_count": 242,
   "id": "f9eaa205",
   "metadata": {},
   "outputs": [],
   "source": [
    "# ! pip install xgboost"
   ]
  },
  {
   "cell_type": "code",
   "execution_count": 243,
   "id": "397906ef",
   "metadata": {},
   "outputs": [
    {
     "data": {
      "text/plain": [
       "(0.8871097772863686, 0.9809627539727774)"
      ]
     },
     "execution_count": 243,
     "metadata": {},
     "output_type": "execute_result"
    }
   ],
   "source": [
    "from xgboost import XGBClassifier\n",
    "xgb = XGBClassifier(tree_method='hist', random_state=42)\n",
    "score = cross_validate(model, x_train, y_train, return_train_score=True)\n",
    "score['test_score'].mean(), score['train_score'].mean()\n",
    "\n",
    "# Warning !\n",
    "# score = cross_validate(model, x_train.to_numpy, y_train.to_numpy, return_train_score=True)"
   ]
  },
  {
   "cell_type": "code",
   "execution_count": 244,
   "id": "271a5915",
   "metadata": {},
   "outputs": [
    {
     "name": "stdout",
     "output_type": "stream",
     "text": [
      "Collecting lightgbm\n",
      "  Downloading lightgbm-3.3.2-py3-none-win_amd64.whl (1.0 MB)\n",
      "Requirement already satisfied: scipy in c:\\anaconda3\\lib\\site-packages (from lightgbm) (1.7.1)\n",
      "Requirement already satisfied: wheel in c:\\anaconda3\\lib\\site-packages (from lightgbm) (0.37.0)\n",
      "Requirement already satisfied: numpy in c:\\anaconda3\\lib\\site-packages (from lightgbm) (1.20.3)\n",
      "Requirement already satisfied: scikit-learn!=0.22.0 in c:\\users\\pc\\appdata\\roaming\\python\\python39\\site-packages (from lightgbm) (1.0.2)\n",
      "Requirement already satisfied: threadpoolctl>=2.0.0 in c:\\anaconda3\\lib\\site-packages (from scikit-learn!=0.22.0->lightgbm) (2.2.0)\n",
      "Requirement already satisfied: joblib>=0.11 in c:\\anaconda3\\lib\\site-packages (from scikit-learn!=0.22.0->lightgbm) (1.1.0)\n",
      "Installing collected packages: lightgbm\n",
      "Successfully installed lightgbm-3.3.2\n"
     ]
    }
   ],
   "source": [
    "! pip install lightgbm"
   ]
  },
  {
   "cell_type": "code",
   "execution_count": 251,
   "id": "fdb8cc4b",
   "metadata": {},
   "outputs": [
    {
     "data": {
      "text/plain": [
       "(0.8846461327857632, 0.9413484712095832)"
      ]
     },
     "execution_count": 251,
     "metadata": {},
     "output_type": "execute_result"
    }
   ],
   "source": [
    "from lightgbm import LGBMClassifier\n",
    "lgbm = LGBMClassifier(random_state=42)\n",
    "score = cross_validate(lgbm, x_train.to_numpy(), y_train.to_numpy(), return_train_score=True)\n",
    "score['test_score'].mean(), score['train_score'].mean()"
   ]
  },
  {
   "cell_type": "code",
   "execution_count": 252,
   "id": "c6d72278",
   "metadata": {},
   "outputs": [],
   "source": [
    "# 정리\n",
    "# 1. 랜덤 포레스트 : 부스트랩 생플 --> 전체 특징 중 일부 랜덤 선택\n",
    "# 2. 엑스트라 트리 : 부스트랩 생플 사용 X --> 노드 랜덤 분할, 속도 up, 그러나 트리가 더 많이 소요\n",
    "# 3. 그라디언트 부스팅 : deepth : 3인 tree의 집합, 성능 up, 그러나 속도가 느림\n",
    "# 4. 히스토그램 기반 그라디언트 부스팅 : 가장 뛰어난 앙상블 기법으로,\n",
    "#                                       계급 구간을 나누는데 255개로 나누어 사용, 정답은 단 한 개 (총 256개)\n",
    "#                                       노드를 분할하는 게 가장 빠름\n",
    "# 1 < 2 < 3 < 4 < XGBboost"
   ]
  }
 ],
 "metadata": {
  "kernelspec": {
   "display_name": "Python 3 (ipykernel)",
   "language": "python",
   "name": "python3"
  },
  "language_info": {
   "codemirror_mode": {
    "name": "ipython",
    "version": 3
   },
   "file_extension": ".py",
   "mimetype": "text/x-python",
   "name": "python",
   "nbconvert_exporter": "python",
   "pygments_lexer": "ipython3",
   "version": "3.9.7"
  }
 },
 "nbformat": 4,
 "nbformat_minor": 5
}
