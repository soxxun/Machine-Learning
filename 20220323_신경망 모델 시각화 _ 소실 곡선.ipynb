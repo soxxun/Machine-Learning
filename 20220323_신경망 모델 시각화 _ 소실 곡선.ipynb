{
 "cells": [
  {
   "cell_type": "code",
   "execution_count": 1,
   "id": "a1ddaa33",
   "metadata": {},
   "outputs": [
    {
     "name": "stdout",
     "output_type": "stream",
     "text": [
      "[0 1 2 3 4 5 6 7 8 9]\n",
      "[0.  0.1 0.2 0.3 0.4 0.5 0.6 0.7 0.8 0.9]\n"
     ]
    }
   ],
   "source": [
    "import numpy as np\n",
    "temp_list = np.array(range(10))\n",
    "print(temp_list)\n",
    "print(temp_list / 10) # 표준화, 즉 모든 값의 범위가 0~1 사이의 값으로 변환됨"
   ]
  },
  {
   "cell_type": "code",
   "execution_count": 2,
   "id": "97999108",
   "metadata": {},
   "outputs": [],
   "source": [
    "# 일종의 파라미터 튜닝 --> 최적화된 값을 찾기 위한 과정"
   ]
  },
  {
   "cell_type": "code",
   "execution_count": 3,
   "id": "4f935bf1",
   "metadata": {},
   "outputs": [
    {
     "data": {
      "text/plain": [
       "((60000, 28, 28), (60000,), (10000, 28, 28), (10000,))"
      ]
     },
     "execution_count": 3,
     "metadata": {},
     "output_type": "execute_result"
    }
   ],
   "source": [
    "from tensorflow import keras\n",
    "(x,y),(xt,yt) = keras.datasets.fashion_mnist.load_data() # (xt,yt) --> 최종 검증하기 위한 데이터세트\n",
    "x.shape, y.shape, xt.shape, yt.shape # 3차원 배열"
   ]
  },
  {
   "cell_type": "markdown",
   "id": "26b33ec0",
   "metadata": {},
   "source": [
    "### 정규화 (StandardScale OR 표준 점수)"
   ]
  },
  {
   "cell_type": "code",
   "execution_count": 4,
   "id": "389510f5",
   "metadata": {},
   "outputs": [
    {
     "data": {
      "text/plain": [
       "(60000, 784)"
      ]
     },
     "execution_count": 4,
     "metadata": {},
     "output_type": "execute_result"
    }
   ],
   "source": [
    "# 둘 중 뭘 사용해도 상관 없음\n",
    "# 범위를 모르는 경우 유용\n",
    "# - StandardScaler의 경우 (2차원 배열로 변환해 주어야 함)\n",
    "\n",
    "x_2d = x.reshape(-1,28*28) # 개수는 알아서 맞추어 줌\n",
    "# 차수를 바꿔주지 않으면 ValueError 발생\n",
    "# (dim 3, expected <= 2. --> 2차원을 기대하나, 3차원을 이용하여 에러가 났다는 의미)\n",
    "\n",
    "# 아래 방법이 원조 방법\n",
    "#    x_2d = x.reshape(60000, 28,28)\n",
    "\n",
    "from sklearn.preprocessing import StandardScaler\n",
    "ss = StandardScaler()\n",
    "x_scaled = ss.fit_transform(x_2d)\n",
    "x_scaled.shape\n",
    "\n",
    "# TypeError...not collable --> 함수가 아니므로 호출할 수 없다는 의미로 괄호를 빼 주어야 함"
   ]
  },
  {
   "cell_type": "code",
   "execution_count": 5,
   "id": "0343654f",
   "metadata": {},
   "outputs": [
    {
     "data": {
      "text/plain": [
       "((45000, 784), (15000, 784), (45000,), (15000,))"
      ]
     },
     "execution_count": 5,
     "metadata": {},
     "output_type": "execute_result"
    }
   ],
   "source": [
    "from sklearn.model_selection import train_test_split\n",
    "x_train, x_target, y_train, y_target = train_test_split(x_scaled, y)\n",
    "x_train.shape, x_target.shape, y_train.shape, y_target.shape"
   ]
  },
  {
   "cell_type": "code",
   "execution_count": 6,
   "id": "d62efc44",
   "metadata": {},
   "outputs": [],
   "source": [
    "# 범위를 아는 경우 표준점수가 편함\n",
    "# - 표준점수\n",
    "# x_scaled = x / 255.0\n",
    "\n",
    "# 이미지 데이터이기 때문에 하나의 이미지가 픽셀로 되어 있고 각각의 픽셀은 RGB 색상값 중 하나로 이루어져 있기 때문에\n",
    "# 255로 나누어 준 것\n",
    "\n",
    "\n",
    "# 단 이 경우에도 데이터를 따로 2차원 배열로 변환해 주어야 함 (input_shape 매개변수 이용)"
   ]
  },
  {
   "cell_type": "code",
   "execution_count": 7,
   "id": "ae05169a",
   "metadata": {},
   "outputs": [],
   "source": [
    "def make_model(layer = None):\n",
    "# 추가할 층이 없으면 기본 형태로 만듦\n",
    "    model = keras.Sequential()\n",
    "    model.add(keras.layers.Flatten(input_shape=(28*28,))) # StandardScaler로 이미 펼쳐주었기 때문에 형식만 맞춰준 것이고,\n",
    "                                                          # 표준점수로 한 경우에는 (28, 28)로 데이터를 펴 주어야 함 (784로 표현해도 상관 무)\n",
    "                                                          # 참고로 튜플에서의 1차원 표현은 (n,) <-- 이렇게 표현해 주어야 함\n",
    "        \n",
    "    model.add(keras.layers.Dense(100, activation='relu')) # sigmoid 보다 성능 좋음\n",
    "    if layer:\n",
    "        model.add(layer)\n",
    "              \n",
    "    model.add(keras.layers.Dense(10, activation='softmax'))\n",
    "    return model\n",
    "\n",
    "# 이 함수를 통해 원하는 대로 층을 구성해보기\n",
    "#       기존의 층 1개가 있고, 또 다른 층이 있다면 추가해주기"
   ]
  },
  {
   "cell_type": "markdown",
   "id": "214f3605",
   "metadata": {},
   "source": [
    "## - 기본적인 모델 만들어보기"
   ]
  },
  {
   "cell_type": "code",
   "execution_count": 8,
   "id": "3cca83da",
   "metadata": {},
   "outputs": [
    {
     "name": "stdout",
     "output_type": "stream",
     "text": [
      "Model: \"sequential\"\n",
      "_________________________________________________________________\n",
      " Layer (type)                Output Shape              Param #   \n",
      "=================================================================\n",
      " flatten (Flatten)           (None, 784)               0         \n",
      "                                                                 \n",
      " dense (Dense)               (None, 100)               78500     \n",
      "                                                                 \n",
      " dense_1 (Dense)             (None, 10)                1010      \n",
      "                                                                 \n",
      "=================================================================\n",
      "Total params: 79,510\n",
      "Trainable params: 79,510\n",
      "Non-trainable params: 0\n",
      "_________________________________________________________________\n"
     ]
    }
   ],
   "source": [
    "model = make_model() # 지금부터는 colab 해도 됨\n",
    "model.summary()\n",
    "\n",
    "# dense_1 : 785 * 100 + 100    # 785개를 가지고 100번 학습하도록 돌린 것\n",
    "# dense_2 : 100 * 10 + 100     # 100개를 가지고 다시 10번 학습하도록 돌린 것"
   ]
  },
  {
   "cell_type": "code",
   "execution_count": 9,
   "id": "af1c9746",
   "metadata": {},
   "outputs": [
    {
     "data": {
      "text/plain": [
       "{'name': 'sequential',\n",
       " 'layers': [{'class_name': 'InputLayer',\n",
       "   'config': {'batch_input_shape': (None, 784),\n",
       "    'dtype': 'float32',\n",
       "    'sparse': False,\n",
       "    'ragged': False,\n",
       "    'name': 'flatten_input'}},\n",
       "  {'class_name': 'Flatten',\n",
       "   'config': {'name': 'flatten',\n",
       "    'trainable': True,\n",
       "    'batch_input_shape': (None, 784),\n",
       "    'dtype': 'float32',\n",
       "    'data_format': 'channels_last'}},\n",
       "  {'class_name': 'Dense',\n",
       "   'config': {'name': 'dense',\n",
       "    'trainable': True,\n",
       "    'dtype': 'float32',\n",
       "    'units': 100,\n",
       "    'activation': 'relu',\n",
       "    'use_bias': True,\n",
       "    'kernel_initializer': {'class_name': 'GlorotUniform',\n",
       "     'config': {'seed': None}},\n",
       "    'bias_initializer': {'class_name': 'Zeros', 'config': {}},\n",
       "    'kernel_regularizer': None,\n",
       "    'bias_regularizer': None,\n",
       "    'activity_regularizer': None,\n",
       "    'kernel_constraint': None,\n",
       "    'bias_constraint': None}},\n",
       "  {'class_name': 'Dense',\n",
       "   'config': {'name': 'dense_1',\n",
       "    'trainable': True,\n",
       "    'dtype': 'float32',\n",
       "    'units': 10,\n",
       "    'activation': 'softmax',\n",
       "    'use_bias': True,\n",
       "    'kernel_initializer': {'class_name': 'GlorotUniform',\n",
       "     'config': {'seed': None}},\n",
       "    'bias_initializer': {'class_name': 'Zeros', 'config': {}},\n",
       "    'kernel_regularizer': None,\n",
       "    'bias_regularizer': None,\n",
       "    'activity_regularizer': None,\n",
       "    'kernel_constraint': None,\n",
       "    'bias_constraint': None}}]}"
      ]
     },
     "execution_count": 9,
     "metadata": {},
     "output_type": "execute_result"
    }
   ],
   "source": [
    "model.get_config()"
   ]
  },
  {
   "cell_type": "code",
   "execution_count": 10,
   "id": "3beafba3",
   "metadata": {},
   "outputs": [],
   "source": [
    "# compile : 작성한 코드들을 컴퓨터가 이해할 수 있는 이진법(0,1)으로 번역해주는 기능으로, 진짜 신경망처럼 작업할 수 있도록 만들어 줌 \n",
    "\n",
    "model.compile(optimizer='adam', loss='sparse_categorical_crossentropy', metrics=['accuracy']) # metrics = [] 배열 형식 준 것\n",
    "history = model.fit(x_train, y_train, epochs=5, verbose=0) # 'verbose=0' : 일일이 에포크 마다 보고하지 않고 실행만 됨 (Dafault : 1)\n",
    "\n",
    "# .history로 결과값을 확인하면 되기 때문에 에포크값을 크게 줄 경우에는 0을 지정해 줌"
   ]
  },
  {
   "cell_type": "code",
   "execution_count": 11,
   "id": "4a81bafa",
   "metadata": {},
   "outputs": [
    {
     "data": {
      "text/plain": [
       "{'loss': [0.467506468296051,\n",
       "  0.3445262610912323,\n",
       "  0.30566728115081787,\n",
       "  0.2777573764324188,\n",
       "  0.2578951418399811],\n",
       " 'accuracy': [0.8344888687133789,\n",
       "  0.874311089515686,\n",
       "  0.8871777653694153,\n",
       "  0.8975777626037598,\n",
       "  0.9045777916908264]}"
      ]
     },
     "execution_count": 11,
     "metadata": {},
     "output_type": "execute_result"
    }
   ],
   "source": [
    "history.history # fit 결과값을 넣은 변수는 객체이기 때문에 출력은 불가능 .history로 결과를 확인해야 함"
   ]
  },
  {
   "cell_type": "code",
   "execution_count": 12,
   "id": "6af3fdaa",
   "metadata": {},
   "outputs": [
    {
     "data": {
      "text/plain": [
       "[0.467506468296051,\n",
       " 0.3445262610912323,\n",
       " 0.30566728115081787,\n",
       " 0.2777573764324188,\n",
       " 0.2578951418399811]"
      ]
     },
     "execution_count": 12,
     "metadata": {},
     "output_type": "execute_result"
    }
   ],
   "source": [
    "# loss값만 확인하기\n",
    "history.history['loss']"
   ]
  },
  {
   "cell_type": "code",
   "execution_count": 13,
   "id": "92144632",
   "metadata": {},
   "outputs": [
    {
     "data": {
      "text/plain": [
       "dict_keys(['loss', 'accuracy'])"
      ]
     },
     "execution_count": 13,
     "metadata": {},
     "output_type": "execute_result"
    }
   ],
   "source": [
    "# 키값만 출력\n",
    "history.history.keys()\n",
    "\n",
    "# 지금까지 데이터 구조 살펴봄"
   ]
  },
  {
   "cell_type": "markdown",
   "id": "58380fc9",
   "metadata": {},
   "source": [
    "## 위 모델 시각화"
   ]
  },
  {
   "cell_type": "code",
   "execution_count": 14,
   "id": "2042432f",
   "metadata": {},
   "outputs": [],
   "source": [
    "import matplotlib.pyplot as plt"
   ]
  },
  {
   "cell_type": "code",
   "execution_count": 15,
   "id": "f61be71f",
   "metadata": {},
   "outputs": [
    {
     "data": {
      "image/png": "[encoded data removed]",
      "text/plain": [
       "<Figure size 432x288 with 1 Axes>"
      ]
     },
     "metadata": {
      "needs_background": "light"
     },
     "output_type": "display_data"
    }
   ],
   "source": [
    "temp_list =[1,5,7,8,10,12,15,18,20] \n",
    "plt.plot(temp_list)\n",
    "plt.show()\n",
    "\n",
    "# x축값은 자동생성 --> 횟수"
   ]
  },
  {
   "cell_type": "code",
   "execution_count": 16,
   "id": "0cf6c421",
   "metadata": {},
   "outputs": [
    {
     "data": {
      "image/png": "[encoded data removed]",
      "text/plain": [
       "<Figure size 432x288 with 1 Axes>"
      ]
     },
     "metadata": {
      "needs_background": "light"
     },
     "output_type": "display_data"
    }
   ],
   "source": [
    "temp_list = history.history['loss'] # 에포크값 그대로 적용된 것\n",
    "plt.plot(temp_list)\n",
    "plt.xlabel('epochs')\n",
    "plt.ylabel('loss')\n",
    "plt.title('loss rate')\n",
    "plt.show()\n",
    "\n",
    "# 학습할수록(에포크 진행 시마다) --> 정확도 up, 손실율 down"
   ]
  },
  {
   "cell_type": "markdown",
   "id": "16164ba9",
   "metadata": {},
   "source": [
    "### epochs 값 늘리면? 5 --> 25"
   ]
  },
  {
   "cell_type": "code",
   "execution_count": 17,
   "id": "5bc4877c",
   "metadata": {},
   "outputs": [],
   "source": [
    "model = make_model()\n",
    "model.compile(optimizer='adam', loss='sparse_categorical_crossentropy', metrics=['accuracy'])\n",
    "history = model.fit(x_train, y_train, epochs=25, verbose=0)"
   ]
  },
  {
   "cell_type": "markdown",
   "id": "2a2b3fcb",
   "metadata": {},
   "source": [
    "### 이번에는 손실 방향 X --> 향상되는 방향으로 살펴보기"
   ]
  },
  {
   "cell_type": "code",
   "execution_count": 18,
   "id": "1181633e",
   "metadata": {},
   "outputs": [
    {
     "data": {
      "image/png": "[encoded data removed]",
      "text/plain": [
       "<Figure size 432x288 with 1 Axes>"
      ]
     },
     "metadata": {
      "needs_background": "light"
     },
     "output_type": "display_data"
    }
   ],
   "source": [
    "# 정확도\n",
    "temp_list = history.history['accuracy']\n",
    "plt.plot(temp_list)\n",
    "plt.xlabel('epochs')\n",
    "plt.ylabel('accuracy')\n",
    "plt.title('loss rate')\n",
    "plt.show()\n",
    "# 분할해서 각각 하나씩 그려보기"
   ]
  },
  {
   "cell_type": "markdown",
   "id": "c4e9b194",
   "metadata": {},
   "source": [
    "## 검증세트로 그려보기"
   ]
  },
  {
   "cell_type": "code",
   "execution_count": 19,
   "id": "b57ad383",
   "metadata": {},
   "outputs": [],
   "source": [
    "# 이전까지 학습데이터를 기반으로 한 손실율과 정확성을 살펴봄\n",
    "# 과적합을 판단하기 위해서는 훈련세트 뿐만 아니라 타깃에 대한 검증세트에 대한 데이터를 살펴봐야 함\n",
    "# --> 검증세트도 에포크값 할당\n",
    "model = make_model()\n",
    "model.compile(optimizer='adam', loss='sparse_categorical_crossentropy', metrics=['accuracy'])\n",
    "\n",
    "# 검증세트는 fit 적용이 달라짐\n",
    "history = model.fit(x_train, y_train, epochs=25, verbose=0, validation_data=(x_target, y_target))\n",
    "# keras에서는 sklearn과 달리 훈련세트와 검증세트를 따로 학습하는 것이 아니라 한번에 학습함"
   ]
  },
  {
   "cell_type": "code",
   "execution_count": 20,
   "id": "295138ca",
   "metadata": {},
   "outputs": [
    {
     "data": {
      "text/plain": [
       "dict_keys(['loss', 'accuracy', 'val_loss', 'val_accuracy'])"
      ]
     },
     "execution_count": 20,
     "metadata": {},
     "output_type": "execute_result"
    }
   ],
   "source": [
    "history.history.keys()"
   ]
  },
  {
   "cell_type": "code",
   "execution_count": 21,
   "id": "1c2e2b05",
   "metadata": {},
   "outputs": [
    {
     "data": {
      "image/png": "[encoded data removed]",
      "text/plain": [
       "<Figure size 432x288 with 1 Axes>"
      ]
     },
     "metadata": {
      "needs_background": "light"
     },
     "output_type": "display_data"
    }
   ],
   "source": [
    "# 훈련세트와 검증세트의 손실값만 살펴보기\n",
    "\n",
    "train_loss = history.history['loss']\n",
    "target_loss = history.history['val_loss']\n",
    "plt.plot(train_loss)\n",
    "plt.plot(target_loss)\n",
    "\n",
    "plt.xlabel('epochs')\n",
    "plt.ylabel('loss')\n",
    "plt.legend(['train, target'])\n",
    "plt.title('loss rate')\n",
    "plt.show()"
   ]
  },
  {
   "cell_type": "markdown",
   "id": "479ddd5a",
   "metadata": {},
   "source": [
    "### 전형적인 과소적합의 형태를 띄고 있음 (훈련 < 검증)\n",
    "### 과적합이 나오는 이유...특정 가중치가 과하게 적용된 것"
   ]
  },
  {
   "cell_type": "markdown",
   "id": "3dda7715",
   "metadata": {},
   "source": [
    "---------------"
   ]
  },
  {
   "cell_type": "markdown",
   "id": "83d6bd94",
   "metadata": {},
   "source": [
    "### 선형 회귀 모델을 이용할 때 과적합을 해결하기 위해 규제 알고리즘(릿지, 라쏘)을 사용했듯,\n",
    "### keras에도 이와 같은 알고리즘이 있음\n",
    "### - *하이퍼 파라미터는 성능이 가장 좋은 adam을 써 줌으로써 이미 적용된 셈*"
   ]
  },
  {
   "cell_type": "markdown",
   "id": "a34f9d39",
   "metadata": {},
   "source": [
    "----------------"
   ]
  },
  {
   "cell_type": "markdown",
   "id": "6be4c74e",
   "metadata": {},
   "source": [
    "## < keras에서 과적합 해결하기 >\n",
    "### 학습에 참여하는 784개의 모든 데이터를 사용하는 것이 아니라 랜덤으로 데이터를 빼주어 결과값을 출력해보기\n",
    "### - 일부 출력층, 즉 뉴런의 출력을 무작위로 꺼내어...0으로 만들어버림 (단, 전체적인 구조는 변경하지 않음)\n",
    "### - 특정 뉴런에 과하게 의존하는 것을 막아줌\n",
    "## >> Drop-out"
   ]
  },
  {
   "cell_type": "code",
   "execution_count": 22,
   "id": "e03c7335",
   "metadata": {},
   "outputs": [
    {
     "name": "stdout",
     "output_type": "stream",
     "text": [
      "Model: \"sequential_3\"\n",
      "_________________________________________________________________\n",
      " Layer (type)                Output Shape              Param #   \n",
      "=================================================================\n",
      " flatten_3 (Flatten)         (None, 784)               0         \n",
      "                                                                 \n",
      " dense_6 (Dense)             (None, 100)               78500     \n",
      "                                                                 \n",
      " dropout (Dropout)           (None, 100)               0         \n",
      "                                                                 \n",
      " dense_7 (Dense)             (None, 10)                1010      \n",
      "                                                                 \n",
      "=================================================================\n",
      "Total params: 79,510\n",
      "Trainable params: 79,510\n",
      "Non-trainable params: 0\n",
      "_________________________________________________________________\n"
     ]
    }
   ],
   "source": [
    "model = make_model(keras.layers.Dropout(0.3))\n",
    "model.summary()"
   ]
  },
  {
   "cell_type": "code",
   "execution_count": 23,
   "id": "3b3a6f5f",
   "metadata": {},
   "outputs": [],
   "source": [
    "model = make_model(keras.layers.Dropout(0.3)) # summary로 확인하고 난 후 다시 compile로 적용하려면 모델을 다시 만들어 주어야 함\n",
    "                                              # complie을 해 주면 모델의 성능을 다시 측정,\n",
    "                                              # 그러나 compile을 안하고 fit만 해주면 훈련 횟수가 누적돼버림\n",
    "        \n",
    "model.compile(optimizer='adam', loss='sparse_categorical_crossentropy', metrics=['accuracy'])\n",
    "history = model.fit(x_train, y_train, epochs=25, verbose=0, validation_data=(x_target, y_target))"
   ]
  },
  {
   "cell_type": "code",
   "execution_count": 24,
   "id": "792bd998",
   "metadata": {},
   "outputs": [
    {
     "data": {
      "image/png": "[encoded data removed]",
      "text/plain": [
       "<Figure size 432x288 with 1 Axes>"
      ]
     },
     "metadata": {
      "needs_background": "light"
     },
     "output_type": "display_data"
    }
   ],
   "source": [
    "# 훈련세트와 검증세트의 손실값만 살펴보기\n",
    "\n",
    "train_loss = history.history['loss']\n",
    "target_loss = history.history['val_loss']\n",
    "plt.plot(train_loss)\n",
    "plt.plot(target_loss)\n",
    "\n",
    "plt.xlabel('epochs')\n",
    "plt.ylabel('loss')\n",
    "plt.legend(['train, target'])\n",
    "plt.title('loss rate')\n",
    "plt.show()"
   ]
  },
  {
   "cell_type": "code",
   "execution_count": 25,
   "id": "d8d02bdc",
   "metadata": {},
   "outputs": [],
   "source": [
    "# 에포크값이 너무 딱 떨어지는 것 보다는 살짝 괴리가 있는 것이 보다 적합할 수도...\n",
    "# 위에서 찾은 하이퍼 파라미터값(epochs : 10)으로 다시 훈련하기"
   ]
  },
  {
   "cell_type": "code",
   "execution_count": 26,
   "id": "72e131d9",
   "metadata": {},
   "outputs": [
    {
     "data": {
      "text/plain": [
       "<keras.callbacks.History at 0x26fe5064a90>"
      ]
     },
     "execution_count": 26,
     "metadata": {},
     "output_type": "execute_result"
    }
   ],
   "source": [
    "model = make_model(keras.layers.Dropout(0.3))\n",
    "model.compile(optimizer='adam', loss='sparse_categorical_crossentropy', metrics=['accuracy'])\n",
    "model.fit(x_train, y_train, epochs=7, verbose=0, validation_data=(x_target, y_target))"
   ]
  },
  {
   "cell_type": "code",
   "execution_count": 27,
   "id": "20a657ad",
   "metadata": {},
   "outputs": [
    {
     "name": "stdout",
     "output_type": "stream",
     "text": [
      "469/469 [==============================] - 2s 3ms/step - loss: 0.3438 - accuracy: 0.8796\n"
     ]
    },
    {
     "data": {
      "text/plain": [
       "[0.3437618017196655, 0.8795999884605408]"
      ]
     },
     "execution_count": 27,
     "metadata": {},
     "output_type": "execute_result"
    }
   ],
   "source": [
    "# 검증 --> evaluation...사용해보기\n",
    "model.evaluate(x_target, y_target)"
   ]
  },
  {
   "cell_type": "markdown",
   "id": "f2e67115",
   "metadata": {},
   "source": [
    "# 모델을 파일로 저장하기"
   ]
  },
  {
   "cell_type": "code",
   "execution_count": 28,
   "id": "25769a2b",
   "metadata": {},
   "outputs": [],
   "source": [
    "# 인공지능 모델은 주로 확장자, h5로 저장\n",
    "# - 모델의 파라미터 저장...하이퍼 파라미터(weights)\n",
    "model.save_weights('model-weight.h5')\n",
    "# 파라미터 적용하여 모델 구성해보기"
   ]
  },
  {
   "cell_type": "code",
   "execution_count": 29,
   "id": "5e4c7766",
   "metadata": {},
   "outputs": [],
   "source": [
    "# 두번째 방법\n",
    "# - 모델 구조와 파라미터를 함께 저장\n",
    "model.save('model-whoile.h5')"
   ]
  },
  {
   "cell_type": "markdown",
   "id": "04b95505",
   "metadata": {},
   "source": [
    "## 1. 모델 객체 생성...Sequencial\n",
    "## 2. 레이어 구성...model(keras, layer, Dense) or Dropout\n",
    "## 3. 모델 compile\n",
    "## 4. 모델 적용 model.fit...(훈련세트) or 검증세트"
   ]
  },
  {
   "cell_type": "markdown",
   "id": "974a90cc",
   "metadata": {},
   "source": [
    "-------------------"
   ]
  },
  {
   "cell_type": "markdown",
   "id": "811936fd",
   "metadata": {},
   "source": [
    "### 저장한 파라미터 불러올 때 주의할 점\n",
    "### - 모델 만들 때 저장된 파라미터를 불러올 수 있는데 이때 이전에 저장했던 모델과 정확히 동일해야 함"
   ]
  },
  {
   "cell_type": "code",
   "execution_count": 30,
   "id": "6616b9fe",
   "metadata": {},
   "outputs": [
    {
     "name": "stdout",
     "output_type": "stream",
     "text": [
      "469/469 [==============================] - 2s 3ms/step - loss: 0.3438 - accuracy: 0.8796\n"
     ]
    },
    {
     "data": {
      "text/plain": [
       "[0.3437618017196655, 0.8795999884605408]"
      ]
     },
     "execution_count": 30,
     "metadata": {},
     "output_type": "execute_result"
    }
   ],
   "source": [
    "model = make_model(keras.layers.Dropout(0.3))\n",
    "model.load_weights('model-weight.h5')\n",
    "\n",
    "# 파라미터 적용하여 모델 구성\n",
    "# 이전에 저장한 파라미터(가중치)값을 compile 해 주어야 함 (단, fit은 X)\n",
    "model.compile(optimizer=\"adam\", loss = 'sparse_categorical_crossentropy', metrics=['accuracy'])\n",
    "model.evaluate(x_target, y_target)"
   ]
  },
  {
   "cell_type": "markdown",
   "id": "44014ae7",
   "metadata": {},
   "source": [
    "### 저장된 파일 불러오기"
   ]
  },
  {
   "cell_type": "code",
   "execution_count": 31,
   "id": "67d70cc6",
   "metadata": {},
   "outputs": [
    {
     "name": "stdout",
     "output_type": "stream",
     "text": [
      "469/469 [==============================] - 2s 2ms/step - loss: 0.3438 - accuracy: 0.8796\n"
     ]
    },
    {
     "data": {
      "text/plain": [
       "[0.3437618017196655, 0.8795999884605408]"
      ]
     },
     "execution_count": 31,
     "metadata": {},
     "output_type": "execute_result"
    }
   ],
   "source": [
    "model = keras.models.load_model('model-whoile.h5')\n",
    "model.evaluate(x_target, y_target) # loss, accuracy 출력\n",
    "\n",
    "# 'model-weight.h5'는 파라미터만 저장돼 있는 것이고,\n",
    "# 'model-whoile.h5'는 파라미터 뿐만 아니라 모델 전체를 저장한 파일을\n",
    "# 불러온 것이므로 바로 사용 가능"
   ]
  },
  {
   "cell_type": "markdown",
   "id": "35ea8d85",
   "metadata": {},
   "source": [
    "#### ** 정확하게 가져온 것을 알 수 있음"
   ]
  },
  {
   "cell_type": "markdown",
   "id": "c6252901",
   "metadata": {},
   "source": [
    "-----------------------"
   ]
  },
  {
   "cell_type": "markdown",
   "id": "72004175",
   "metadata": {},
   "source": [
    "# < 콜백, 조기종료 >\n",
    "### - 호출을 받아 실행 중에 최적의 값을 만나게 되면 즉시 종료\n",
    "### - fit() 메서드의 callbacks 매개변수에 리스트로 전달\n",
    "### - Modelcheckpoint 콜백...지정된 에포크 횟수 동안 최상의 검증 점수를 만드는 모델을 저장"
   ]
  },
  {
   "cell_type": "code",
   "execution_count": 32,
   "id": "0b355187",
   "metadata": {},
   "outputs": [
    {
     "name": "stdout",
     "output_type": "stream",
     "text": [
      "Epoch 1/25\n",
      "1407/1407 [==============================] - 8s 5ms/step - loss: 0.5477 - accuracy: 0.8082 - val_loss: 0.3975 - val_accuracy: 0.8557\n",
      "Epoch 2/25\n",
      "1407/1407 [==============================] - 6s 4ms/step - loss: 0.4117 - accuracy: 0.8533 - val_loss: 0.3624 - val_accuracy: 0.8657\n",
      "Epoch 3/25\n",
      "1407/1407 [==============================] - 6s 4ms/step - loss: 0.3736 - accuracy: 0.8650 - val_loss: 0.3545 - val_accuracy: 0.8692\n",
      "Epoch 4/25\n",
      "1407/1407 [==============================] - 6s 4ms/step - loss: 0.3509 - accuracy: 0.8728 - val_loss: 0.3467 - val_accuracy: 0.8742\n",
      "Epoch 5/25\n",
      "1407/1407 [==============================] - 6s 4ms/step - loss: 0.3375 - accuracy: 0.8763 - val_loss: 0.3555 - val_accuracy: 0.8722\n",
      "Epoch 6/25\n",
      "1407/1407 [==============================] - 6s 4ms/step - loss: 0.3235 - accuracy: 0.8799 - val_loss: 0.3415 - val_accuracy: 0.8774\n",
      "Epoch 7/25\n",
      "1407/1407 [==============================] - 6s 4ms/step - loss: 0.3112 - accuracy: 0.8864 - val_loss: 0.3439 - val_accuracy: 0.8779\n",
      "Epoch 8/25\n",
      "1407/1407 [==============================] - 6s 4ms/step - loss: 0.3034 - accuracy: 0.8891 - val_loss: 0.3357 - val_accuracy: 0.8818\n",
      "Epoch 9/25\n",
      "1407/1407 [==============================] - 6s 4ms/step - loss: 0.2923 - accuracy: 0.8932 - val_loss: 0.3313 - val_accuracy: 0.8851\n",
      "Epoch 10/25\n",
      "1407/1407 [==============================] - 6s 4ms/step - loss: 0.2881 - accuracy: 0.8938 - val_loss: 0.3491 - val_accuracy: 0.8802\n",
      "Epoch 11/25\n",
      "1407/1407 [==============================] - 6s 4ms/step - loss: 0.2818 - accuracy: 0.8956 - val_loss: 0.3642 - val_accuracy: 0.8792\n",
      "Epoch 12/25\n",
      "1407/1407 [==============================] - 6s 4ms/step - loss: 0.2710 - accuracy: 0.8986 - val_loss: 0.3427 - val_accuracy: 0.8832\n",
      "Epoch 13/25\n",
      "1407/1407 [==============================] - 6s 5ms/step - loss: 0.2650 - accuracy: 0.9016 - val_loss: 0.3434 - val_accuracy: 0.8854\n",
      "Epoch 14/25\n",
      "1407/1407 [==============================] - 6s 4ms/step - loss: 0.2605 - accuracy: 0.9039 - val_loss: 0.3409 - val_accuracy: 0.8883\n",
      "Epoch 15/25\n",
      "1407/1407 [==============================] - 6s 4ms/step - loss: 0.2574 - accuracy: 0.9048 - val_loss: 0.3483 - val_accuracy: 0.8840\n",
      "Epoch 16/25\n",
      "1407/1407 [==============================] - 8s 6ms/step - loss: 0.2536 - accuracy: 0.9065 - val_loss: 0.3522 - val_accuracy: 0.8861\n",
      "Epoch 17/25\n",
      "1407/1407 [==============================] - 7s 5ms/step - loss: 0.2514 - accuracy: 0.9077 - val_loss: 0.3462 - val_accuracy: 0.8855\n",
      "Epoch 18/25\n",
      "1407/1407 [==============================] - 6s 5ms/step - loss: 0.2427 - accuracy: 0.9090 - val_loss: 0.3571 - val_accuracy: 0.8855\n",
      "Epoch 19/25\n",
      "1407/1407 [==============================] - 6s 4ms/step - loss: 0.2364 - accuracy: 0.9130 - val_loss: 0.3610 - val_accuracy: 0.8853\n",
      "Epoch 20/25\n",
      "1407/1407 [==============================] - 6s 4ms/step - loss: 0.2342 - accuracy: 0.9129 - val_loss: 0.3722 - val_accuracy: 0.8825\n",
      "Epoch 21/25\n",
      "1407/1407 [==============================] - 8s 5ms/step - loss: 0.2366 - accuracy: 0.9128 - val_loss: 0.3644 - val_accuracy: 0.8846\n",
      "Epoch 22/25\n",
      "1407/1407 [==============================] - 5s 4ms/step - loss: 0.2295 - accuracy: 0.9148 - val_loss: 0.3713 - val_accuracy: 0.8851\n",
      "Epoch 23/25\n",
      "1407/1407 [==============================] - 6s 4ms/step - loss: 0.2239 - accuracy: 0.9171 - val_loss: 0.3692 - val_accuracy: 0.8855\n",
      "Epoch 24/25\n",
      "1407/1407 [==============================] - 7s 5ms/step - loss: 0.2228 - accuracy: 0.9181 - val_loss: 0.3800 - val_accuracy: 0.8820\n",
      "Epoch 25/25\n",
      "1407/1407 [==============================] - 7s 5ms/step - loss: 0.2223 - accuracy: 0.9184 - val_loss: 0.3811 - val_accuracy: 0.8864\n"
     ]
    },
    {
     "data": {
      "text/plain": [
       "<keras.callbacks.History at 0x26fed755be0>"
      ]
     },
     "execution_count": 32,
     "metadata": {},
     "output_type": "execute_result"
    }
   ],
   "source": [
    "# ModelCheckpoint 기본적으로 최상의 검증 점수를 만들어 h5로 저장한 후, 조기종료\n",
    "\n",
    "model = make_model(keras.layers.Dropout(0.3)) # 주로 과적합을 막기 위해 0.3을 줌\n",
    "model.compile(optimizer='adam', loss = 'sparse_categorical_crossentropy',\n",
    "             metrics=['accuracy'])\n",
    "# 다중분류이므로 --> loss = 'sparse_categorical_crossentropy'\n",
    "\n",
    "checkpoint= keras.callbacks.ModelCheckpoint('best-model.h5', save_best_only=True)\n",
    "# 지금까지 keras로 make_model에 디자인 층을 생성하고 compile까지 한 모델에\n",
    "# 모델체크포인트라는 속성을 추가해 줌으로써\n",
    "# --> 최상의 조건이 되었을 때, 'best-model.h5'라고 저장\n",
    "#     이렇게 만들어 준 파일은 객체를 받아 와 fit 메서드에서 써 주어야 함\n",
    "\n",
    "model.fit(x_train,y_train, epochs=25, validation_data=(x_target,y_target), verbose=1,\n",
    "         callbacks=[checkpoint])\n",
    "# 모델에 최종적으로 fit, 학습시킴\n",
    "# (검증용 데이터를 학습시킬 때는 validation_data 매개변수 사용)\n",
    "# callbacks=[checkpoint] --> 'best-model.h5' 속성까지 실행됨"
   ]
  },
  {
   "cell_type": "code",
   "execution_count": 33,
   "id": "255119be",
   "metadata": {},
   "outputs": [
    {
     "data": {
      "image/png": "[encoded data removed]",
      "text/plain": [
       "<Figure size 432x288 with 1 Axes>"
      ]
     },
     "metadata": {
      "needs_background": "light"
     },
     "output_type": "display_data"
    }
   ],
   "source": [
    "plt.plot(history.history['loss']) # 훈련세트의 손실값\n",
    "plt.plot(history.history['val_loss']) # 검증세트의 손실값\n",
    "plt.xlabel('epoch')\n",
    "plt.ylabel('loss')\n",
    "plt.legend(['train','val'])\n",
    "plt.show()"
   ]
  },
  {
   "cell_type": "code",
   "execution_count": 34,
   "id": "6f9db6d0",
   "metadata": {},
   "outputs": [
    {
     "name": "stdout",
     "output_type": "stream",
     "text": [
      "Epoch 1/25\n",
      "1407/1407 [==============================] - 7s 4ms/step - loss: 0.5487 - accuracy: 0.8111 - val_loss: 0.4013 - val_accuracy: 0.8591\n",
      "Epoch 2/25\n",
      "1407/1407 [==============================] - 7s 5ms/step - loss: 0.4132 - accuracy: 0.8530 - val_loss: 0.3657 - val_accuracy: 0.8675\n",
      "Epoch 3/25\n",
      "1407/1407 [==============================] - 6s 4ms/step - loss: 0.3756 - accuracy: 0.8643 - val_loss: 0.3594 - val_accuracy: 0.8673\n",
      "Epoch 4/25\n",
      "1407/1407 [==============================] - 6s 4ms/step - loss: 0.3566 - accuracy: 0.8705 - val_loss: 0.3608 - val_accuracy: 0.8722\n",
      "Epoch 5/25\n",
      "1407/1407 [==============================] - 6s 4ms/step - loss: 0.3389 - accuracy: 0.8758 - val_loss: 0.3579 - val_accuracy: 0.8696\n",
      "Epoch 6/25\n",
      "1407/1407 [==============================] - 7s 5ms/step - loss: 0.3270 - accuracy: 0.8781 - val_loss: 0.3457 - val_accuracy: 0.8780\n",
      "Epoch 7/25\n",
      "1407/1407 [==============================] - 9s 6ms/step - loss: 0.3147 - accuracy: 0.8837 - val_loss: 0.3468 - val_accuracy: 0.8761\n",
      "Epoch 8/25\n",
      "1407/1407 [==============================] - 8s 5ms/step - loss: 0.3037 - accuracy: 0.8895 - val_loss: 0.3480 - val_accuracy: 0.8738\n"
     ]
    }
   ],
   "source": [
    "# 아직 조기종료는 해 주지 않은 상태\n",
    "\n",
    "# 조기종료..모델이 과적합이 될 것 같으면 종료...일종의 규제방법 중 하나\n",
    "# keras에 조기종료해 주는 콜백이 존재함...early_stopping.stopped_epoch\n",
    "# EarlyStopping + ModelCheckpoint <-- 함께 사용하면 가장 낮은 검증손실의 모델을 파일에 저장하고 \n",
    "# 검즘손실이 다시 상승할 때 훈련 중지, 현재 모델의 파라미터를 최상의 파라미터로 전환\n",
    "\n",
    "model = make_model(keras.layers.Dropout(0.3))\n",
    "model.compile(optimizer='adam', loss = 'sparse_categorical_crossentropy',\n",
    "             metrics=['accuracy'])\n",
    "\n",
    "checkpoint= keras.callbacks.ModelCheckpoint('best-model.h5', save_best_only=True)\n",
    "early_stopping = keras.callbacks.EarlyStopping(restore_best_weights=True, patience=2)\n",
    "# patience=2 --> 지정해 주지 않으면 1이 반환됨\n",
    "# 상승한 지점을 1개만 보는 것이 아니라 2번까지는 살펴보겠다는 것\n",
    "\n",
    "history =  model.fit(x_train,y_train, epochs=25, validation_data=(x_target,y_target), verbose=1,\n",
    "         callbacks=[checkpoint, early_stopping])\n",
    "\n",
    "# 에포크값이 커지면(검증 점수가 너무 커지면) 규제를 적용해도 과대적합이 커지는 경향이 있었음"
   ]
  },
  {
   "cell_type": "code",
   "execution_count": 35,
   "id": "392c6079",
   "metadata": {},
   "outputs": [
    {
     "data": {
      "text/plain": [
       "7"
      ]
     },
     "execution_count": 35,
     "metadata": {},
     "output_type": "execute_result"
    }
   ],
   "source": [
    "# 몇 번째의 에포크에서 훈련이 중지되었는지, 조기종료값 반환\n",
    "# 최적의 파라미터값이 6인 것을 예측할 수 있음\n",
    "\n",
    "early_stopping.stopped_epoch"
   ]
  },
  {
   "cell_type": "code",
   "execution_count": 36,
   "id": "8b3e4cbb",
   "metadata": {},
   "outputs": [
    {
     "data": {
      "image/png": "[encoded data removed]",
      "text/plain": [
       "<Figure size 432x288 with 1 Axes>"
      ]
     },
     "metadata": {
      "needs_background": "light"
     },
     "output_type": "display_data"
    }
   ],
   "source": [
    "plt.plot(history.history['loss']) # 훈련세트의 손실값\n",
    "plt.plot(history.history['val_loss']) # 검증세트의 손실값\n",
    "plt.xlabel('epoch')\n",
    "plt.ylabel('loss')\n",
    "plt.legend(['train','val'])\n",
    "plt.show()"
   ]
  },
  {
   "cell_type": "code",
   "execution_count": 37,
   "id": "ab7e4188",
   "metadata": {},
   "outputs": [
    {
     "name": "stdout",
     "output_type": "stream",
     "text": [
      "469/469 [==============================] - 2s 3ms/step - loss: 0.3457 - accuracy: 0.8780\n"
     ]
    },
    {
     "data": {
      "text/plain": [
       "[0.34569042921066284, 0.878000020980835]"
      ]
     },
     "execution_count": 37,
     "metadata": {},
     "output_type": "execute_result"
    }
   ],
   "source": [
    "model.evaluate(x_target,y_target)"
   ]
  },
  {
   "cell_type": "code",
   "execution_count": null,
   "id": "e363e335",
   "metadata": {},
   "outputs": [],
   "source": []
  }
 ],
 "metadata": {
  "kernelspec": {
   "display_name": "Python 3 (ipykernel)",
   "language": "python",
   "name": "python3"
  },
  "language_info": {
   "codemirror_mode": {
    "name": "ipython",
    "version": 3
   },
   "file_extension": ".py",
   "mimetype": "text/x-python",
   "name": "python",
   "nbconvert_exporter": "python",
   "pygments_lexer": "ipython3",
   "version": "3.9.7"
  }
 },
 "nbformat": 4,
 "nbformat_minor": 5
}
