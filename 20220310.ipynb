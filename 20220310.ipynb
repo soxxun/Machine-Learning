{
 "cells": [
  {
   "cell_type": "markdown",
   "id": "f24324df",
   "metadata": {},
   "source": [
    "# <타깃 마케팅>\n",
    "## 온라인 판매 데이터 분석\n",
    "## 타깃 마케팅이 필요한 소비자 군집 구성\n",
    "## 정답이 없는 비지도 학습을 통해 어떤 군집을 이룰 수 있는지 확인해 보기\n",
    "## UCI Machine Learning Repository 에서 다운로드"
   ]
  },
  {
   "cell_type": "code",
   "execution_count": 1,
   "id": "59693706",
   "metadata": {},
   "outputs": [],
   "source": [
    "# 비지도 학습\n",
    "# - 타깃이 주어지지 않은 상태에서 학습\n",
    "# - 훈련 데이터를 학습 -> 모델 생성 -> 유사한 특성(관계/패턴)을 가지는 데이터로 클러스터를 구성\n",
    "# - 새로운 데이터의 특성을 분석하여 해당 클러스터 예측"
   ]
  },
  {
   "cell_type": "code",
   "execution_count": 3,
   "id": "69ab0b00",
   "metadata": {},
   "outputs": [],
   "source": [
    "# k-평균\n",
    "# 유클리디안 거리 알고리즘을 이용 --> 평균 거리가 작은 쪽으로 계속 중심점을 이동"
   ]
  },
  {
   "cell_type": "code",
   "execution_count": 4,
   "id": "6be210d0",
   "metadata": {},
   "outputs": [],
   "source": [
    "# 엘보방법\n",
    "#  - 왜곡 : 클러스터의 중심점과 클러스터 내의 데이터 거리 차이의 제곱값의 합\n",
    "#           각각의 거리를 제곱한 것들의 합\n",
    "#  - 클러스터의 개수 k의 변화에 따른 왜곡의 변화를 그래프로 나타내 보면 그래프가 꺾이는 지점이\n",
    "#    엘보...그 곳을 최적의 k로 선택하면 됨"
   ]
  },
  {
   "cell_type": "code",
   "execution_count": 6,
   "id": "b55cf173",
   "metadata": {},
   "outputs": [],
   "source": [
    "# 실루엣 분석 도구\n",
    "#  - 클러스터 내의 데이터가 얼마나 조밀하게 모여있는지 측정하는 그래프 도구\n",
    "#  - 데이터 i가 해당 클러스터 내의 데이터와 얼마나 가까운가를 나타내는 응집력 a(i)\n",
    "#  - 가장 가까운 다른 클러스터 내의 데이터와 얼마나 떨어져 있는가를 나타내는 클러스터 분리도 b(i)를 이용\n",
    "#  - 실루엣 계수 s(i)를 계산\n",
    "#  - (-1)에서 (1) 이상의 값을 가지며 1에 가까울수록 좋은 군집화\n",
    "#  - 실루엣 계수 공식 : s(i) = (b(i) - a(i)) / max(a(i), b(i))"
   ]
  },
  {
   "cell_type": "code",
   "execution_count": 7,
   "id": "949bd02f",
   "metadata": {},
   "outputs": [],
   "source": [
    "# https://archive.ics.uci.edu/ml/datasets/online+retail\n",
    "# Data Folder > Online Retail.xlsx"
   ]
  },
  {
   "cell_type": "code",
   "execution_count": null,
   "id": "dabddd0e",
   "metadata": {},
   "outputs": [],
   "source": []
  }
 ],
 "metadata": {
  "kernelspec": {
   "display_name": "Python 3 (ipykernel)",
   "language": "python",
   "name": "python3"
  },
  "language_info": {
   "codemirror_mode": {
    "name": "ipython",
    "version": 3
   },
   "file_extension": ".py",
   "mimetype": "text/x-python",
   "name": "python",
   "nbconvert_exporter": "python",
   "pygments_lexer": "ipython3",
   "version": "3.9.7"
  }
 },
 "nbformat": 4,
 "nbformat_minor": 5
}
