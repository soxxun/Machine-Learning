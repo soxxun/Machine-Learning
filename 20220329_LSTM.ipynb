{
 "cells": [
  {
   "cell_type": "markdown",
   "id": "071f4008",
   "metadata": {},
   "source": [
    "# LSTM(Long Short Term Memroy)\n",
    "### 기존의 순환신경망에 LSTM 층을 하나 더 생성해 주면 됨"
   ]
  },
  {
   "cell_type": "markdown",
   "id": "bf472a78",
   "metadata": {},
   "source": [
    "**- 데이터 준비**"
   ]
  },
  {
   "cell_type": "code",
   "execution_count": 9,
   "id": "c8d2925a",
   "metadata": {},
   "outputs": [],
   "source": [
    "import numpy as np\n",
    "from tensorflow.keras.datasets import imdb\n",
    "from tensorflow import keras\n",
    "(x_train_imdb, y_train_imdb), (x_target_imdb, y_target_imdb) = imdb.load_data(num_words=500)\n",
    "\n",
    "from sklearn.model_selection import train_test_split\n",
    "x_train, x_target, y_train, y_target = train_test_split(x_train_imdb, y_train_imdb, test_size=0.2, random_state=42)\n",
    "\n",
    "from tensorflow.keras.preprocessing.sequence import pad_sequences\n",
    "x_train_seq = pad_sequences(x_train, maxlen=100)\n",
    "x_target_seq = pad_sequences(x_target, maxlen=100)"
   ]
  },
  {
   "cell_type": "code",
   "execution_count": 13,
   "id": "443ecb0a",
   "metadata": {
    "scrolled": true
   },
   "outputs": [
    {
     "name": "stdout",
     "output_type": "stream",
     "text": [
      "Epoch 1/20\n",
      "313/313 [==============================] - 23s 59ms/step - loss: 0.6924 - accuracy: 0.5340 - val_loss: 0.6917 - val_accuracy: 0.5670\n",
      "Epoch 2/20\n",
      "313/313 [==============================] - 16s 53ms/step - loss: 0.6898 - accuracy: 0.6033 - val_loss: 0.6881 - val_accuracy: 0.6238\n",
      "Epoch 3/20\n",
      "313/313 [==============================] - 16s 52ms/step - loss: 0.6830 - accuracy: 0.6429 - val_loss: 0.6776 - val_accuracy: 0.6536\n",
      "Epoch 4/20\n",
      "313/313 [==============================] - 17s 53ms/step - loss: 0.6497 - accuracy: 0.6467 - val_loss: 0.6149 - val_accuracy: 0.6906\n",
      "Epoch 5/20\n",
      "313/313 [==============================] - 15s 48ms/step - loss: 0.5871 - accuracy: 0.7377 - val_loss: 0.5761 - val_accuracy: 0.7518\n",
      "Epoch 6/20\n",
      "313/313 [==============================] - 15s 47ms/step - loss: 0.5589 - accuracy: 0.7580 - val_loss: 0.5533 - val_accuracy: 0.7624\n",
      "Epoch 7/20\n",
      "313/313 [==============================] - 16s 50ms/step - loss: 0.5385 - accuracy: 0.7666 - val_loss: 0.5354 - val_accuracy: 0.7680\n",
      "Epoch 8/20\n",
      "313/313 [==============================] - 17s 55ms/step - loss: 0.5211 - accuracy: 0.7741 - val_loss: 0.5226 - val_accuracy: 0.7678\n",
      "Epoch 9/20\n",
      "313/313 [==============================] - 16s 51ms/step - loss: 0.5059 - accuracy: 0.7794 - val_loss: 0.5098 - val_accuracy: 0.7754\n",
      "Epoch 10/20\n",
      "313/313 [==============================] - 14s 45ms/step - loss: 0.4927 - accuracy: 0.7844 - val_loss: 0.4960 - val_accuracy: 0.7784\n",
      "Epoch 11/20\n",
      "313/313 [==============================] - 14s 45ms/step - loss: 0.4813 - accuracy: 0.7873 - val_loss: 0.4855 - val_accuracy: 0.7834\n",
      "Epoch 12/20\n",
      "313/313 [==============================] - 15s 47ms/step - loss: 0.4714 - accuracy: 0.7910 - val_loss: 0.4772 - val_accuracy: 0.7858\n",
      "Epoch 13/20\n",
      "313/313 [==============================] - 14s 45ms/step - loss: 0.4626 - accuracy: 0.7944 - val_loss: 0.4700 - val_accuracy: 0.7904\n",
      "Epoch 14/20\n",
      "313/313 [==============================] - 14s 45ms/step - loss: 0.4548 - accuracy: 0.7983 - val_loss: 0.4658 - val_accuracy: 0.7934\n",
      "Epoch 15/20\n",
      "313/313 [==============================] - 14s 45ms/step - loss: 0.4483 - accuracy: 0.8001 - val_loss: 0.4586 - val_accuracy: 0.7924\n",
      "Epoch 16/20\n",
      "313/313 [==============================] - 14s 45ms/step - loss: 0.4424 - accuracy: 0.8047 - val_loss: 0.4535 - val_accuracy: 0.7924\n",
      "Epoch 17/20\n",
      "313/313 [==============================] - 14s 44ms/step - loss: 0.4373 - accuracy: 0.8073 - val_loss: 0.4494 - val_accuracy: 0.7946\n",
      "Epoch 18/20\n",
      "313/313 [==============================] - 14s 45ms/step - loss: 0.4327 - accuracy: 0.8073 - val_loss: 0.4472 - val_accuracy: 0.7968\n",
      "Epoch 19/20\n",
      "313/313 [==============================] - 14s 44ms/step - loss: 0.4290 - accuracy: 0.8087 - val_loss: 0.4438 - val_accuracy: 0.7962\n",
      "Epoch 20/20\n",
      "313/313 [==============================] - 14s 44ms/step - loss: 0.4260 - accuracy: 0.8098 - val_loss: 0.4417 - val_accuracy: 0.7950\n"
     ]
    }
   ],
   "source": [
    "model = keras.Sequential()\n",
    "model.add(keras.layers.Embedding(500, 16, input_length=100))\n",
    "# 빈도수가 높은 토큰의 개수 = 500개로 한정,   Embedding vector의 크기(하이퍼 파라미터),   input_length = 토큰의 개수\n",
    "\n",
    "model.add(keras.layers.LSTM(8))\n",
    "model.add(keras.layers.Dense(1, activation='sigmoid'))\n",
    "\n",
    "rmsprop= keras.optimizers.RMSprop(learning_rate=1e-4)\n",
    "model.compile(optimizer=rmsprop, loss='binary_crossentropy', metrics=['accuracy'])\n",
    "\n",
    "checkpointCB = keras.callbacks.ModelCheckpoint('best-lstm-model.h5', save_best_only=True)\n",
    "earlystoppingCB = keras.callbacks.EarlyStopping(patience=2, restore_best_weights=True)\n",
    "\n",
    "history = model.fit(x_train_seq, y_train, epochs=20, batch_size=64,\n",
    "                    validation_data=(x_target_seq, y_target), callbacks=[checkpointCB, earlystoppingCB])\n",
    "\n",
    "# validation_data=() 튜플 형태를 권장\n",
    "# (단, 리스트 형태를 주어도 실행은 됨)\n"
   ]
  },
  {
   "cell_type": "code",
   "execution_count": 14,
   "id": "a5227382",
   "metadata": {},
   "outputs": [
    {
     "name": "stderr",
     "output_type": "stream",
     "text": [
      "C:\\Users\\pc\\AppData\\Local\\Temp/ipykernel_19584/1644147293.py:6: UserWarning: Legend does not support 't' instances.\n",
      "A proxy artist may be used instead.\n",
      "See: https://matplotlib.org/users/legend_guide.html#creating-artists-specifically-for-adding-to-the-legend-aka-proxy-artists\n",
      "  plt.legend('train', 'target')\n",
      "C:\\Users\\pc\\AppData\\Local\\Temp/ipykernel_19584/1644147293.py:6: UserWarning: Legend does not support 'r' instances.\n",
      "A proxy artist may be used instead.\n",
      "See: https://matplotlib.org/users/legend_guide.html#creating-artists-specifically-for-adding-to-the-legend-aka-proxy-artists\n",
      "  plt.legend('train', 'target')\n",
      "C:\\Users\\pc\\AppData\\Local\\Temp/ipykernel_19584/1644147293.py:6: UserWarning: Legend does not support 'a' instances.\n",
      "A proxy artist may be used instead.\n",
      "See: https://matplotlib.org/users/legend_guide.html#creating-artists-specifically-for-adding-to-the-legend-aka-proxy-artists\n",
      "  plt.legend('train', 'target')\n",
      "C:\\Users\\pc\\AppData\\Local\\Temp/ipykernel_19584/1644147293.py:6: UserWarning: Legend does not support 'i' instances.\n",
      "A proxy artist may be used instead.\n",
      "See: https://matplotlib.org/users/legend_guide.html#creating-artists-specifically-for-adding-to-the-legend-aka-proxy-artists\n",
      "  plt.legend('train', 'target')\n",
      "C:\\Users\\pc\\AppData\\Local\\Temp/ipykernel_19584/1644147293.py:6: UserWarning: Legend does not support 'n' instances.\n",
      "A proxy artist may be used instead.\n",
      "See: https://matplotlib.org/users/legend_guide.html#creating-artists-specifically-for-adding-to-the-legend-aka-proxy-artists\n",
      "  plt.legend('train', 'target')\n"
     ]
    },
    {
     "data": {
      "image/png": "[encoded data removed]",
      "text/plain": [
       "<Figure size 432x288 with 1 Axes>"
      ]
     },
     "metadata": {
      "needs_background": "light"
     },
     "output_type": "display_data"
    }
   ],
   "source": [
    "import matplotlib.pyplot as plt\n",
    "plt.plot(history.history['loss'])\n",
    "plt.plot(history.history['val_loss'])\n",
    "plt.xlabel('epoch')\n",
    "plt.ylabel('loss')\n",
    "plt.legend('train', 'target')\n",
    "plt.show()"
   ]
  },
  {
   "cell_type": "markdown",
   "id": "326e5301",
   "metadata": {},
   "source": [
    "**위 과정은 지난 시간과 동일**\n",
    "\n",
    "**단지 알고리즘만 LSTM으로 바뀐 것**"
   ]
  },
  {
   "cell_type": "markdown",
   "id": "d8e72f33",
   "metadata": {},
   "source": [
    "RNN은 이전 정보를 가지고 새로운 결과를 예측한다면,\n",
    "\n",
    "LSTM는 일종의 수식을 전달해주어 결과를 가지고 새롭게 예측함"
   ]
  },
  {
   "cell_type": "code",
   "execution_count": 15,
   "id": "c258df8e",
   "metadata": {
    "scrolled": true
   },
   "outputs": [
    {
     "name": "stdout",
     "output_type": "stream",
     "text": [
      "Epoch 1/50\n",
      "313/313 [==============================] - 19s 49ms/step - loss: 0.6925 - accuracy: 0.5300 - val_loss: 0.6915 - val_accuracy: 0.5778\n",
      "Epoch 2/50\n",
      "313/313 [==============================] - 15s 48ms/step - loss: 0.6895 - accuracy: 0.6031 - val_loss: 0.6866 - val_accuracy: 0.6252\n",
      "Epoch 3/50\n",
      "313/313 [==============================] - 15s 49ms/step - loss: 0.6721 - accuracy: 0.6342 - val_loss: 0.6443 - val_accuracy: 0.6912\n",
      "Epoch 4/50\n",
      "313/313 [==============================] - 15s 47ms/step - loss: 0.6203 - accuracy: 0.7157 - val_loss: 0.6107 - val_accuracy: 0.7308\n",
      "Epoch 5/50\n",
      "313/313 [==============================] - 14s 46ms/step - loss: 0.5960 - accuracy: 0.7339 - val_loss: 0.5877 - val_accuracy: 0.7422\n",
      "Epoch 6/50\n",
      "313/313 [==============================] - 14s 46ms/step - loss: 0.5756 - accuracy: 0.7484 - val_loss: 0.5657 - val_accuracy: 0.7582\n",
      "Epoch 7/50\n",
      "313/313 [==============================] - 14s 46ms/step - loss: 0.5531 - accuracy: 0.7606 - val_loss: 0.5435 - val_accuracy: 0.7724\n",
      "Epoch 8/50\n",
      "313/313 [==============================] - 14s 46ms/step - loss: 0.5332 - accuracy: 0.7685 - val_loss: 0.5269 - val_accuracy: 0.7738\n",
      "Epoch 9/50\n",
      "313/313 [==============================] - 14s 46ms/step - loss: 0.5182 - accuracy: 0.7747 - val_loss: 0.5130 - val_accuracy: 0.7798\n",
      "Epoch 10/50\n",
      "313/313 [==============================] - 15s 47ms/step - loss: 0.5093 - accuracy: 0.7740 - val_loss: 0.5038 - val_accuracy: 0.7796\n",
      "Epoch 11/50\n",
      "313/313 [==============================] - 15s 47ms/step - loss: 0.4978 - accuracy: 0.7821 - val_loss: 0.4952 - val_accuracy: 0.7840\n",
      "Epoch 12/50\n",
      "313/313 [==============================] - 15s 48ms/step - loss: 0.4895 - accuracy: 0.7834 - val_loss: 0.4872 - val_accuracy: 0.7838\n",
      "Epoch 13/50\n",
      "313/313 [==============================] - 16s 50ms/step - loss: 0.4825 - accuracy: 0.7863 - val_loss: 0.4851 - val_accuracy: 0.7836\n",
      "Epoch 14/50\n",
      "313/313 [==============================] - 15s 47ms/step - loss: 0.4760 - accuracy: 0.7899 - val_loss: 0.4756 - val_accuracy: 0.7860\n",
      "Epoch 15/50\n",
      "313/313 [==============================] - 15s 46ms/step - loss: 0.4687 - accuracy: 0.7919 - val_loss: 0.4699 - val_accuracy: 0.7878\n",
      "Epoch 16/50\n",
      "313/313 [==============================] - 17s 54ms/step - loss: 0.4658 - accuracy: 0.7916 - val_loss: 0.4663 - val_accuracy: 0.7886\n",
      "Epoch 17/50\n",
      "313/313 [==============================] - 16s 51ms/step - loss: 0.4601 - accuracy: 0.7944 - val_loss: 0.4644 - val_accuracy: 0.7870\n",
      "Epoch 18/50\n",
      "313/313 [==============================] - 17s 54ms/step - loss: 0.4552 - accuracy: 0.7969 - val_loss: 0.4626 - val_accuracy: 0.7908\n",
      "Epoch 19/50\n",
      "313/313 [==============================] - 16s 52ms/step - loss: 0.4507 - accuracy: 0.7961 - val_loss: 0.4560 - val_accuracy: 0.7926\n",
      "Epoch 20/50\n",
      "313/313 [==============================] - 16s 50ms/step - loss: 0.4495 - accuracy: 0.7981 - val_loss: 0.4534 - val_accuracy: 0.7898\n",
      "Epoch 21/50\n",
      "313/313 [==============================] - 15s 49ms/step - loss: 0.4443 - accuracy: 0.8008 - val_loss: 0.4512 - val_accuracy: 0.7960\n",
      "Epoch 22/50\n",
      "313/313 [==============================] - 16s 51ms/step - loss: 0.4424 - accuracy: 0.8016 - val_loss: 0.4492 - val_accuracy: 0.7954\n",
      "Epoch 23/50\n",
      "313/313 [==============================] - 16s 51ms/step - loss: 0.4414 - accuracy: 0.8037 - val_loss: 0.4470 - val_accuracy: 0.7926\n",
      "Epoch 24/50\n",
      "313/313 [==============================] - 16s 50ms/step - loss: 0.4388 - accuracy: 0.8010 - val_loss: 0.4478 - val_accuracy: 0.7978\n",
      "Epoch 25/50\n",
      "313/313 [==============================] - 16s 51ms/step - loss: 0.4388 - accuracy: 0.8023 - val_loss: 0.4445 - val_accuracy: 0.7940\n",
      "Epoch 26/50\n",
      "313/313 [==============================] - 14s 45ms/step - loss: 0.4365 - accuracy: 0.8036 - val_loss: 0.4436 - val_accuracy: 0.8004\n",
      "Epoch 27/50\n",
      "313/313 [==============================] - 14s 45ms/step - loss: 0.4312 - accuracy: 0.8059 - val_loss: 0.4424 - val_accuracy: 0.7968\n",
      "Epoch 28/50\n",
      "313/313 [==============================] - 17s 53ms/step - loss: 0.4310 - accuracy: 0.8068 - val_loss: 0.4402 - val_accuracy: 0.7954\n",
      "Epoch 29/50\n",
      "313/313 [==============================] - 16s 51ms/step - loss: 0.4306 - accuracy: 0.8044 - val_loss: 0.4401 - val_accuracy: 0.7972\n",
      "Epoch 30/50\n",
      "313/313 [==============================] - 17s 53ms/step - loss: 0.4284 - accuracy: 0.8079 - val_loss: 0.4411 - val_accuracy: 0.7990\n",
      "Epoch 31/50\n",
      "313/313 [==============================] - 21s 67ms/step - loss: 0.4275 - accuracy: 0.8072 - val_loss: 0.4448 - val_accuracy: 0.7960\n"
     ]
    }
   ],
   "source": [
    "model = keras.Sequential()\n",
    "model.add(keras.layers.Embedding(500, 16, input_length=100))\n",
    "model.add(keras.layers.LSTM(8, dropout=0.3)) # <-- drouout 값\n",
    "model.add(keras.layers.Dense(1, activation='sigmoid'))\n",
    "\n",
    "rmsprop= keras.optimizers.RMSprop(learning_rate=1e-4)\n",
    "model.compile(optimizer=rmsprop, loss='binary_crossentropy', metrics=['accuracy'])\n",
    "\n",
    "checkpointCB = keras.callbacks.ModelCheckpoint('best-lstm-dropout-model.h5', save_best_only=True)\n",
    "earlystoppingCB = keras.callbacks.EarlyStopping(patience=2, restore_best_weights=True)\n",
    "\n",
    "history = model.fit(x_train_seq, y_train, epochs=50, batch_size=64,\n",
    "                    validation_data=(x_target_seq, y_target), callbacks=[checkpointCB, earlystoppingCB])"
   ]
  },
  {
   "cell_type": "code",
   "execution_count": 16,
   "id": "7b72f7be",
   "metadata": {},
   "outputs": [
    {
     "name": "stderr",
     "output_type": "stream",
     "text": [
      "C:\\Users\\pc\\AppData\\Local\\Temp/ipykernel_19584/1644147293.py:6: UserWarning: Legend does not support 't' instances.\n",
      "A proxy artist may be used instead.\n",
      "See: https://matplotlib.org/users/legend_guide.html#creating-artists-specifically-for-adding-to-the-legend-aka-proxy-artists\n",
      "  plt.legend('train', 'target')\n",
      "C:\\Users\\pc\\AppData\\Local\\Temp/ipykernel_19584/1644147293.py:6: UserWarning: Legend does not support 'r' instances.\n",
      "A proxy artist may be used instead.\n",
      "See: https://matplotlib.org/users/legend_guide.html#creating-artists-specifically-for-adding-to-the-legend-aka-proxy-artists\n",
      "  plt.legend('train', 'target')\n",
      "C:\\Users\\pc\\AppData\\Local\\Temp/ipykernel_19584/1644147293.py:6: UserWarning: Legend does not support 'a' instances.\n",
      "A proxy artist may be used instead.\n",
      "See: https://matplotlib.org/users/legend_guide.html#creating-artists-specifically-for-adding-to-the-legend-aka-proxy-artists\n",
      "  plt.legend('train', 'target')\n",
      "C:\\Users\\pc\\AppData\\Local\\Temp/ipykernel_19584/1644147293.py:6: UserWarning: Legend does not support 'i' instances.\n",
      "A proxy artist may be used instead.\n",
      "See: https://matplotlib.org/users/legend_guide.html#creating-artists-specifically-for-adding-to-the-legend-aka-proxy-artists\n",
      "  plt.legend('train', 'target')\n",
      "C:\\Users\\pc\\AppData\\Local\\Temp/ipykernel_19584/1644147293.py:6: UserWarning: Legend does not support 'n' instances.\n",
      "A proxy artist may be used instead.\n",
      "See: https://matplotlib.org/users/legend_guide.html#creating-artists-specifically-for-adding-to-the-legend-aka-proxy-artists\n",
      "  plt.legend('train', 'target')\n"
     ]
    },
    {
     "data": {
      "image/png": "[encoded data removed]",
      "text/plain": [
       "<Figure size 432x288 with 1 Axes>"
      ]
     },
     "metadata": {
      "needs_background": "light"
     },
     "output_type": "display_data"
    }
   ],
   "source": [
    "import matplotlib.pyplot as plt\n",
    "plt.plot(history.history['loss'])\n",
    "plt.plot(history.history['val_loss'])\n",
    "plt.xlabel('epoch')\n",
    "plt.ylabel('loss')\n",
    "plt.legend('train', 'target')\n",
    "plt.show()"
   ]
  },
  {
   "cell_type": "code",
   "execution_count": 31,
   "id": "9310ec53",
   "metadata": {
    "scrolled": true
   },
   "outputs": [
    {
     "name": "stdout",
     "output_type": "stream",
     "text": [
      "Epoch 1/50\n",
      "313/313 [==============================] - 45s 97ms/step - loss: 0.6930 - accuracy: 0.5153 - val_loss: 0.6927 - val_accuracy: 0.5546\n",
      "Epoch 2/50\n",
      "313/313 [==============================] - 28s 90ms/step - loss: 0.6921 - accuracy: 0.5749 - val_loss: 0.6913 - val_accuracy: 0.6086\n",
      "Epoch 3/50\n",
      "313/313 [==============================] - 28s 89ms/step - loss: 0.6890 - accuracy: 0.6229 - val_loss: 0.6855 - val_accuracy: 0.6538\n",
      "Epoch 4/50\n",
      "313/313 [==============================] - 28s 89ms/step - loss: 0.6771 - accuracy: 0.6546 - val_loss: 0.6607 - val_accuracy: 0.6728\n",
      "Epoch 5/50\n",
      "313/313 [==============================] - 28s 89ms/step - loss: 0.6228 - accuracy: 0.6919 - val_loss: 0.5712 - val_accuracy: 0.7236\n",
      "Epoch 6/50\n",
      "313/313 [==============================] - 28s 91ms/step - loss: 0.5506 - accuracy: 0.7326 - val_loss: 0.5289 - val_accuracy: 0.7454\n",
      "Epoch 7/50\n",
      "313/313 [==============================] - 30s 96ms/step - loss: 0.5235 - accuracy: 0.7541 - val_loss: 0.5065 - val_accuracy: 0.7620\n",
      "Epoch 8/50\n",
      "313/313 [==============================] - 27s 88ms/step - loss: 0.5031 - accuracy: 0.7639 - val_loss: 0.4917 - val_accuracy: 0.7678\n",
      "Epoch 9/50\n",
      "313/313 [==============================] - 30s 95ms/step - loss: 0.4891 - accuracy: 0.7727 - val_loss: 0.4803 - val_accuracy: 0.7778\n",
      "Epoch 10/50\n",
      "313/313 [==============================] - 26s 83ms/step - loss: 0.4776 - accuracy: 0.7779 - val_loss: 0.4694 - val_accuracy: 0.7812\n",
      "Epoch 11/50\n",
      "313/313 [==============================] - 26s 82ms/step - loss: 0.4686 - accuracy: 0.7879 - val_loss: 0.4626 - val_accuracy: 0.7826\n",
      "Epoch 12/50\n",
      "313/313 [==============================] - 25s 81ms/step - loss: 0.4634 - accuracy: 0.7850 - val_loss: 0.4579 - val_accuracy: 0.7854\n",
      "Epoch 13/50\n",
      "313/313 [==============================] - 29s 92ms/step - loss: 0.4547 - accuracy: 0.7915 - val_loss: 0.4582 - val_accuracy: 0.7884\n",
      "Epoch 14/50\n",
      "313/313 [==============================] - 28s 90ms/step - loss: 0.4517 - accuracy: 0.7933 - val_loss: 0.4504 - val_accuracy: 0.7892\n",
      "Epoch 15/50\n",
      "313/313 [==============================] - 33s 105ms/step - loss: 0.4493 - accuracy: 0.7929 - val_loss: 0.4477 - val_accuracy: 0.7908\n",
      "Epoch 16/50\n",
      "313/313 [==============================] - 33s 105ms/step - loss: 0.4447 - accuracy: 0.7979 - val_loss: 0.4462 - val_accuracy: 0.7900\n",
      "Epoch 17/50\n",
      "313/313 [==============================] - 30s 95ms/step - loss: 0.4429 - accuracy: 0.7991 - val_loss: 0.4443 - val_accuracy: 0.7916\n",
      "Epoch 18/50\n",
      "313/313 [==============================] - 30s 94ms/step - loss: 0.4417 - accuracy: 0.7980 - val_loss: 0.4427 - val_accuracy: 0.7934\n",
      "Epoch 19/50\n",
      "313/313 [==============================] - 32s 102ms/step - loss: 0.4390 - accuracy: 0.8005 - val_loss: 0.4423 - val_accuracy: 0.7942\n",
      "Epoch 20/50\n",
      "313/313 [==============================] - 29s 94ms/step - loss: 0.4376 - accuracy: 0.7997 - val_loss: 0.4427 - val_accuracy: 0.7918\n",
      "Epoch 21/50\n",
      "313/313 [==============================] - 32s 103ms/step - loss: 0.4351 - accuracy: 0.7995 - val_loss: 0.4400 - val_accuracy: 0.7940\n",
      "Epoch 22/50\n",
      "313/313 [==============================] - 30s 94ms/step - loss: 0.4337 - accuracy: 0.8007 - val_loss: 0.4401 - val_accuracy: 0.7928\n",
      "Epoch 23/50\n",
      "313/313 [==============================] - 30s 96ms/step - loss: 0.4315 - accuracy: 0.8054 - val_loss: 0.4374 - val_accuracy: 0.7970\n",
      "Epoch 24/50\n",
      "313/313 [==============================] - 29s 91ms/step - loss: 0.4321 - accuracy: 0.8038 - val_loss: 0.4381 - val_accuracy: 0.7962\n",
      "Epoch 25/50\n",
      "313/313 [==============================] - 33s 105ms/step - loss: 0.4308 - accuracy: 0.8020 - val_loss: 0.4384 - val_accuracy: 0.7984\n"
     ]
    }
   ],
   "source": [
    "model = keras.Sequential()\n",
    "model.add(keras.layers.Embedding(500, 16, input_length=100))\n",
    "model.add(keras.layers.LSTM(8, dropout=0.3, return_sequences=True)) # --> 층을 연결할 때 변환 과정을 확인하기 위한 매개변수\n",
    "                                                                    #     (모든 타입스텝의 은닉 상태를 확인, 단 실제 출력은 X)\n",
    "model.add(keras.layers.LSTM(8, dropout=0.3)) # 은닉층\n",
    "model.add(keras.layers.Dense(1, activation='sigmoid'))\n",
    "\n",
    "rmsprop= keras.optimizers.RMSprop(learning_rate=1e-4)\n",
    "model.compile(optimizer=rmsprop, loss='binary_crossentropy', metrics=['accuracy'])\n",
    "\n",
    "checkpointCB = keras.callbacks.ModelCheckpoint('best-lstm-dropout2-model.h5', save_best_only=True)\n",
    "earlystoppingCB = keras.callbacks.EarlyStopping(patience=2, restore_best_weights=True)\n",
    "\n",
    "history = model.fit(x_train_seq, y_train, epochs=50, batch_size=64,\n",
    "                    validation_data=(x_target_seq, y_target), callbacks=[checkpointCB, earlystoppingCB])"
   ]
  },
  {
   "cell_type": "code",
   "execution_count": 32,
   "id": "8fb99c20",
   "metadata": {},
   "outputs": [
    {
     "data": {
      "image/png": "[encoded data removed]",
      "text/plain": [
       "<Figure size 432x288 with 1 Axes>"
      ]
     },
     "metadata": {
      "needs_background": "light"
     },
     "output_type": "display_data"
    }
   ],
   "source": [
    "plt.plot(history.history['loss'])\n",
    "plt.plot(history.history['val_loss'])\n",
    "plt.xlabel('epoch')\n",
    "plt.ylabel('loss')\n",
    "plt.legend('train', 'target')\n",
    "plt.show()"
   ]
  },
  {
   "cell_type": "markdown",
   "id": "68df578a",
   "metadata": {},
   "source": [
    "# GRU\n",
    "- LSTM의 라이트 버전\n",
    "\n",
    "\n",
    "- LSTM의 장기 의존성 문제에 대한 해결책을 유지하면서, 은닉 상태를 업데이트하는 계산을 줄임\n",
    "\n",
    "\n",
    "- 셀 상태(forget, input, output)을 계산하지 않고 은닉 상태(update, reset) 하나만 포함\n",
    "\n",
    "- LSTM의 경우 forget gate, input gate, output gate 3개의 gate 사용\n",
    "\n",
    "\n",
    "- GRU에서는 **reset gate, update gate** 2개의 gate만을 사용하며,\n",
    "\n",
    "\n",
    "\n",
    "- cell state, hidden state가 합쳐져 하나의 **hidden state**로 표현\n",
    "\n",
    "\n",
    "- LSTM 보다 가중치가 작으므로 계산량은 적지만 LSTM만큼 성능은 좋음\n",
    "\n",
    "\n",
    "- 기본적으로 과적합을 억제하는 기능"
   ]
  },
  {
   "cell_type": "code",
   "execution_count": 33,
   "id": "edfaae7a",
   "metadata": {},
   "outputs": [
    {
     "name": "stdout",
     "output_type": "stream",
     "text": [
      "Epoch 1/50\n",
      "313/313 [==============================] - 23s 60ms/step - loss: 0.6922 - accuracy: 0.5303 - val_loss: 0.6914 - val_accuracy: 0.5382\n",
      "Epoch 2/50\n",
      "313/313 [==============================] - 15s 47ms/step - loss: 0.6890 - accuracy: 0.5733 - val_loss: 0.6875 - val_accuracy: 0.5774\n",
      "Epoch 3/50\n",
      "313/313 [==============================] - 21s 67ms/step - loss: 0.6836 - accuracy: 0.6090 - val_loss: 0.6811 - val_accuracy: 0.6074\n",
      "Epoch 4/50\n",
      "313/313 [==============================] - 19s 61ms/step - loss: 0.6739 - accuracy: 0.6328 - val_loss: 0.6692 - val_accuracy: 0.6368\n",
      "Epoch 5/50\n",
      "313/313 [==============================] - 16s 53ms/step - loss: 0.6564 - accuracy: 0.6558 - val_loss: 0.6473 - val_accuracy: 0.6618\n",
      "Epoch 6/50\n",
      "313/313 [==============================] - 16s 51ms/step - loss: 0.6212 - accuracy: 0.6837 - val_loss: 0.5984 - val_accuracy: 0.7008\n",
      "Epoch 7/50\n",
      "313/313 [==============================] - 16s 53ms/step - loss: 0.5529 - accuracy: 0.7282 - val_loss: 0.5384 - val_accuracy: 0.7376\n",
      "Epoch 8/50\n",
      "313/313 [==============================] - 16s 53ms/step - loss: 0.5161 - accuracy: 0.7541 - val_loss: 0.5171 - val_accuracy: 0.7502\n",
      "Epoch 9/50\n",
      "313/313 [==============================] - 16s 52ms/step - loss: 0.4980 - accuracy: 0.7660 - val_loss: 0.5022 - val_accuracy: 0.7622\n",
      "Epoch 10/50\n",
      "313/313 [==============================] - 17s 54ms/step - loss: 0.4845 - accuracy: 0.7765 - val_loss: 0.4919 - val_accuracy: 0.7700\n",
      "Epoch 11/50\n",
      "313/313 [==============================] - 18s 56ms/step - loss: 0.4742 - accuracy: 0.7823 - val_loss: 0.4811 - val_accuracy: 0.7730\n",
      "Epoch 12/50\n",
      "313/313 [==============================] - 16s 51ms/step - loss: 0.4647 - accuracy: 0.7879 - val_loss: 0.4743 - val_accuracy: 0.7776\n",
      "Epoch 13/50\n",
      "313/313 [==============================] - 16s 50ms/step - loss: 0.4572 - accuracy: 0.7915 - val_loss: 0.4695 - val_accuracy: 0.7836\n",
      "Epoch 14/50\n",
      "313/313 [==============================] - 16s 50ms/step - loss: 0.4516 - accuracy: 0.7941 - val_loss: 0.4646 - val_accuracy: 0.7838\n",
      "Epoch 15/50\n",
      "313/313 [==============================] - 16s 52ms/step - loss: 0.4464 - accuracy: 0.7970 - val_loss: 0.4629 - val_accuracy: 0.7796\n",
      "Epoch 16/50\n",
      "313/313 [==============================] - 16s 52ms/step - loss: 0.4417 - accuracy: 0.8011 - val_loss: 0.4587 - val_accuracy: 0.7866\n",
      "Epoch 17/50\n",
      "313/313 [==============================] - 18s 57ms/step - loss: 0.4386 - accuracy: 0.8014 - val_loss: 0.4600 - val_accuracy: 0.7902\n",
      "Epoch 18/50\n",
      "313/313 [==============================] - 16s 51ms/step - loss: 0.4355 - accuracy: 0.8044 - val_loss: 0.4567 - val_accuracy: 0.7930\n",
      "Epoch 19/50\n",
      "313/313 [==============================] - 16s 51ms/step - loss: 0.4330 - accuracy: 0.8041 - val_loss: 0.4546 - val_accuracy: 0.7882\n",
      "Epoch 20/50\n",
      "313/313 [==============================] - 16s 52ms/step - loss: 0.4308 - accuracy: 0.8055 - val_loss: 0.4527 - val_accuracy: 0.7912\n",
      "Epoch 21/50\n",
      "313/313 [==============================] - 16s 52ms/step - loss: 0.4287 - accuracy: 0.8084 - val_loss: 0.4514 - val_accuracy: 0.7906\n",
      "Epoch 22/50\n",
      "313/313 [==============================] - 16s 52ms/step - loss: 0.4271 - accuracy: 0.8099 - val_loss: 0.4506 - val_accuracy: 0.7880\n",
      "Epoch 23/50\n",
      "313/313 [==============================] - 17s 54ms/step - loss: 0.4256 - accuracy: 0.8113 - val_loss: 0.4505 - val_accuracy: 0.7928\n",
      "Epoch 24/50\n",
      "313/313 [==============================] - 18s 57ms/step - loss: 0.4245 - accuracy: 0.8110 - val_loss: 0.4494 - val_accuracy: 0.7908\n",
      "Epoch 25/50\n",
      "313/313 [==============================] - 16s 50ms/step - loss: 0.4231 - accuracy: 0.8116 - val_loss: 0.4512 - val_accuracy: 0.7922\n",
      "Epoch 26/50\n",
      "313/313 [==============================] - 15s 49ms/step - loss: 0.4223 - accuracy: 0.8121 - val_loss: 0.4510 - val_accuracy: 0.7890\n"
     ]
    }
   ],
   "source": [
    "model = keras.Sequential()\n",
    "model.add(keras.layers.Embedding(500, 16, input_length=100))\n",
    "model.add(keras.layers.GRU(8))\n",
    "model.add(keras.layers.Dense(1, activation='sigmoid'))\n",
    "\n",
    "rmsprop= keras.optimizers.RMSprop(learning_rate=1e-4)\n",
    "model.compile(optimizer=rmsprop, loss='binary_crossentropy', metrics=['accuracy'])\n",
    "\n",
    "checkpointCB = keras.callbacks.ModelCheckpoint('best-gru-model.h5', save_best_only=True)\n",
    "earlystoppingCB = keras.callbacks.EarlyStopping(patience=2, restore_best_weights=True)\n",
    "\n",
    "history = model.fit(x_train_seq, y_train, epochs=50, batch_size=64,\n",
    "                    validation_data=(x_target_seq, y_target), callbacks=[checkpointCB, earlystoppingCB])"
   ]
  },
  {
   "cell_type": "code",
   "execution_count": 34,
   "id": "413ad09c",
   "metadata": {},
   "outputs": [],
   "source": [
    "import warnings\n",
    "warnings.filterwarnings('ignore') # 경고 무시하기"
   ]
  },
  {
   "cell_type": "code",
   "execution_count": 35,
   "id": "9a9f9392",
   "metadata": {},
   "outputs": [
    {
     "data": {
      "image/png": "[encoded data removed]",
      "text/plain": [
       "<Figure size 432x288 with 1 Axes>"
      ]
     },
     "metadata": {
      "needs_background": "light"
     },
     "output_type": "display_data"
    }
   ],
   "source": [
    "plt.plot(history.history['loss'])\n",
    "plt.plot(history.history['val_loss'])\n",
    "plt.xlabel('epoch')\n",
    "plt.ylabel('loss')\n",
    "plt.legend('train', 'target')\n",
    "plt.show()"
   ]
  },
  {
   "cell_type": "code",
   "execution_count": 36,
   "id": "f0c8c594",
   "metadata": {},
   "outputs": [
    {
     "name": "stdout",
     "output_type": "stream",
     "text": [
      "625/625 [==============================] - 7s 10ms/step - loss: 0.4215 - accuracy: 0.8138\n"
     ]
    },
    {
     "data": {
      "text/plain": [
       "[0.42151322960853577, 0.8138499855995178]"
      ]
     },
     "execution_count": 36,
     "metadata": {},
     "output_type": "execute_result"
    }
   ],
   "source": [
    "model.evaluate(x_train_seq, y_train)"
   ]
  },
  {
   "cell_type": "code",
   "execution_count": 37,
   "id": "adb0b941",
   "metadata": {},
   "outputs": [
    {
     "name": "stdout",
     "output_type": "stream",
     "text": [
      "157/157 [==============================] - 1s 9ms/step - loss: 0.4494 - accuracy: 0.7908\n"
     ]
    },
    {
     "data": {
      "text/plain": [
       "[0.44939106702804565, 0.7907999753952026]"
      ]
     },
     "execution_count": 37,
     "metadata": {},
     "output_type": "execute_result"
    }
   ],
   "source": [
    "model.evaluate(x_target_seq, y_target)"
   ]
  }
 ],
 "metadata": {
  "kernelspec": {
   "display_name": "Python 3 (ipykernel)",
   "language": "python",
   "name": "python3"
  },
  "language_info": {
   "codemirror_mode": {
    "name": "ipython",
    "version": 3
   },
   "file_extension": ".py",
   "mimetype": "text/x-python",
   "name": "python",
   "nbconvert_exporter": "python",
   "pygments_lexer": "ipython3",
   "version": "3.9.7"
  }
 },
 "nbformat": 4,
 "nbformat_minor": 5
}
