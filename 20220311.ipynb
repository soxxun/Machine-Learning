{
 "cells": [
  {
   "cell_type": "markdown",
   "id": "568cc490",
   "metadata": {},
   "source": [
    "# <타깃 마케팅>\n",
    "## 온라인 판매 데이터 분석\n",
    "## 타깃 마케팅이 필요한 소비자 군집 구성\n",
    "## 정답이 없는 비지도 학습을 통해 어떤 군집을 이룰 수 있는지 확인해 보기\n",
    "## UCI Machine Learning Repository 에서 다운로드"
   ]
  },
  {
   "cell_type": "code",
   "execution_count": 125,
   "id": "b0148ed5",
   "metadata": {},
   "outputs": [],
   "source": [
    "# 비지도 학습\n",
    "# - 타깃이 주어지지 않은 상태에서 학습\n",
    "# - 훈련 데이터를 학습 -> 모델 생성 -> 유사한 특성(관계/패턴)을 가지는 데이터로 클러스터를 구성\n",
    "# - 새로운 데이터의 특성을 분석하여 해당 클러스터 예측"
   ]
  },
  {
   "cell_type": "code",
   "execution_count": 126,
   "id": "d43f553d",
   "metadata": {},
   "outputs": [],
   "source": [
    "# k-평균\n",
    "# 유클리디안 거리 알고리즘을 이용 --> 평균 거리가 작은 쪽으로 계속 중심점을 이동"
   ]
  },
  {
   "cell_type": "code",
   "execution_count": 127,
   "id": "32e40e8b",
   "metadata": {},
   "outputs": [],
   "source": [
    "# 엘보방법\n",
    "#  - 왜곡 : 클러스터의 중심점과 클러스터 내의 데이터 거리 차이의 제곱값의 합\n",
    "#           각각의 거리를 제곱한 것들의 합\n",
    "#  - 클러스터의 개수 k의 변화에 따른 왜곡의 변화를 그래프로 나타내 보면 그래프가 꺾이는 지점이\n",
    "#    엘보...그 곳을 최적의 k로 선택하면 됨"
   ]
  },
  {
   "cell_type": "code",
   "execution_count": 128,
   "id": "54b78f6e",
   "metadata": {},
   "outputs": [],
   "source": [
    "# 실루엣 분석 도구\n",
    "#  - 클러스터 내의 데이터가 얼마나 조밀하게 모여있는지 측정하는 그래프 도구\n",
    "#  - 데이터 i가 해당 클러스터 내의 데이터와 얼마나 가까운가를 나타내는 응집력 a(i)\n",
    "#  - 가장 가까운 다른 클러스터 내의 데이터와 얼마나 떨어져 있는가를 나타내는 클러스터 분리도 b(i)를 이용\n",
    "#  - 실루엣 계수 s(i)를 계산\n",
    "#  - (-1)에서 (1) 이상의 값을 가지며 1에 가까울수록 좋은 군집화\n",
    "#  - 실루엣 계수 공식 : s(i) = (b(i) - a(i)) / max(a(i), b(i))"
   ]
  },
  {
   "cell_type": "code",
   "execution_count": 129,
   "id": "22effa89",
   "metadata": {},
   "outputs": [],
   "source": [
    "# https://archive.ics.uci.edu/ml/datasets/online+retail\n",
    "# Data Folder > Online Retail.xlsx"
   ]
  },
  {
   "cell_type": "markdown",
   "id": "eb5decad",
   "metadata": {},
   "source": [
    "# ================================================"
   ]
  },
  {
   "cell_type": "code",
   "execution_count": 131,
   "id": "a2628adc",
   "metadata": {},
   "outputs": [],
   "source": [
    "# 각 컬럼에 대한 정보 (by Online Retail.xlsx)\n",
    "\n",
    "# nvoiceNo: 6자리 정수로 이루어진 송장 번호. ‘C’로 시작하는 것은 취소 주문 \n",
    "# StockCode: 제품 고유의 품목 코드 \n",
    "# Description: 제품 설명 \n",
    "# Quantity: 주문 수량\n",
    "# Country: 주문 고객의 국적\n",
    "# InvoiceDate: 주문 날짜와 시간 \n",
    "# UnitPrice: 제품 단가(£, 영국 파운드화)\n",
    "# CustomerID: 주문 고객 번호"
   ]
  },
  {
   "cell_type": "code",
   "execution_count": 61,
   "id": "7785821f",
   "metadata": {},
   "outputs": [],
   "source": [
    "import pandas as pd\n",
    "import math"
   ]
  },
  {
   "cell_type": "markdown",
   "id": "9f3c4d98",
   "metadata": {},
   "source": [
    "# 데이터 준비 및 탐색"
   ]
  },
  {
   "cell_type": "code",
   "execution_count": 62,
   "id": "97e7df08",
   "metadata": {},
   "outputs": [
    {
     "data": {
      "text/html": [
       "<div>\n",
       "<style scoped>\n",
       "    .dataframe tbody tr th:only-of-type {\n",
       "        vertical-align: middle;\n",
       "    }\n",
       "\n",
       "    .dataframe tbody tr th {\n",
       "        vertical-align: top;\n",
       "    }\n",
       "\n",
       "    .dataframe thead th {\n",
       "        text-align: right;\n",
       "    }\n",
       "</style>\n",
       "<table border=\"1\" class=\"dataframe\">\n",
       "  <thead>\n",
       "    <tr style=\"text-align: right;\">\n",
       "      <th></th>\n",
       "      <th>InvoiceNo</th>\n",
       "      <th>StockCode</th>\n",
       "      <th>Description</th>\n",
       "      <th>Quantity</th>\n",
       "      <th>InvoiceDate</th>\n",
       "      <th>UnitPrice</th>\n",
       "      <th>CustomerID</th>\n",
       "      <th>Country</th>\n",
       "    </tr>\n",
       "  </thead>\n",
       "  <tbody>\n",
       "    <tr>\n",
       "      <th>0</th>\n",
       "      <td>536365</td>\n",
       "      <td>85123A</td>\n",
       "      <td>WHITE HANGING HEART T-LIGHT HOLDER</td>\n",
       "      <td>6</td>\n",
       "      <td>2010-12-01 08:26:00</td>\n",
       "      <td>2.55</td>\n",
       "      <td>17850.0</td>\n",
       "      <td>United Kingdom</td>\n",
       "    </tr>\n",
       "    <tr>\n",
       "      <th>1</th>\n",
       "      <td>536365</td>\n",
       "      <td>71053</td>\n",
       "      <td>WHITE METAL LANTERN</td>\n",
       "      <td>6</td>\n",
       "      <td>2010-12-01 08:26:00</td>\n",
       "      <td>3.39</td>\n",
       "      <td>17850.0</td>\n",
       "      <td>United Kingdom</td>\n",
       "    </tr>\n",
       "    <tr>\n",
       "      <th>2</th>\n",
       "      <td>536365</td>\n",
       "      <td>84406B</td>\n",
       "      <td>CREAM CUPID HEARTS COAT HANGER</td>\n",
       "      <td>8</td>\n",
       "      <td>2010-12-01 08:26:00</td>\n",
       "      <td>2.75</td>\n",
       "      <td>17850.0</td>\n",
       "      <td>United Kingdom</td>\n",
       "    </tr>\n",
       "    <tr>\n",
       "      <th>3</th>\n",
       "      <td>536365</td>\n",
       "      <td>84029G</td>\n",
       "      <td>KNITTED UNION FLAG HOT WATER BOTTLE</td>\n",
       "      <td>6</td>\n",
       "      <td>2010-12-01 08:26:00</td>\n",
       "      <td>3.39</td>\n",
       "      <td>17850.0</td>\n",
       "      <td>United Kingdom</td>\n",
       "    </tr>\n",
       "    <tr>\n",
       "      <th>4</th>\n",
       "      <td>536365</td>\n",
       "      <td>84029E</td>\n",
       "      <td>RED WOOLLY HOTTIE WHITE HEART.</td>\n",
       "      <td>6</td>\n",
       "      <td>2010-12-01 08:26:00</td>\n",
       "      <td>3.39</td>\n",
       "      <td>17850.0</td>\n",
       "      <td>United Kingdom</td>\n",
       "    </tr>\n",
       "  </tbody>\n",
       "</table>\n",
       "</div>"
      ],
      "text/plain": [
       "  InvoiceNo StockCode                          Description  Quantity  \\\n",
       "0    536365    85123A   WHITE HANGING HEART T-LIGHT HOLDER         6   \n",
       "1    536365     71053                  WHITE METAL LANTERN         6   \n",
       "2    536365    84406B       CREAM CUPID HEARTS COAT HANGER         8   \n",
       "3    536365    84029G  KNITTED UNION FLAG HOT WATER BOTTLE         6   \n",
       "4    536365    84029E       RED WOOLLY HOTTIE WHITE HEART.         6   \n",
       "\n",
       "          InvoiceDate  UnitPrice  CustomerID         Country  \n",
       "0 2010-12-01 08:26:00       2.55     17850.0  United Kingdom  \n",
       "1 2010-12-01 08:26:00       3.39     17850.0  United Kingdom  \n",
       "2 2010-12-01 08:26:00       2.75     17850.0  United Kingdom  \n",
       "3 2010-12-01 08:26:00       3.39     17850.0  United Kingdom  \n",
       "4 2010-12-01 08:26:00       3.39     17850.0  United Kingdom  "
      ]
     },
     "execution_count": 62,
     "metadata": {},
     "output_type": "execute_result"
    }
   ],
   "source": [
    "retail_df = pd.read_excel(r'C:\\Users\\pc\\_MachineLearning\\Online Retail.xlsx')\n",
    "retail_df.head()\n",
    "# CustomerID --> 고객번호는 정수형태여야 함 (학번과도 같음 실수형태는 불가함)\n",
    "# 데이터를 판단할 때 객관적인 사실을 파악하는 것이 중요"
   ]
  },
  {
   "cell_type": "code",
   "execution_count": 63,
   "id": "b62c1883",
   "metadata": {},
   "outputs": [
    {
     "data": {
      "text/plain": [
       "(541909, 8)"
      ]
     },
     "execution_count": 63,
     "metadata": {},
     "output_type": "execute_result"
    }
   ],
   "source": [
    "retail_df.shape"
   ]
  },
  {
   "cell_type": "code",
   "execution_count": 64,
   "id": "fb71934f",
   "metadata": {},
   "outputs": [
    {
     "name": "stdout",
     "output_type": "stream",
     "text": [
      "<class 'pandas.core.frame.DataFrame'>\n",
      "RangeIndex: 541909 entries, 0 to 541908\n",
      "Data columns (total 8 columns):\n",
      " #   Column       Non-Null Count   Dtype         \n",
      "---  ------       --------------   -----         \n",
      " 0   InvoiceNo    541909 non-null  object        \n",
      " 1   StockCode    541909 non-null  object        \n",
      " 2   Description  540455 non-null  object        \n",
      " 3   Quantity     541909 non-null  int64         \n",
      " 4   InvoiceDate  541909 non-null  datetime64[ns]\n",
      " 5   UnitPrice    541909 non-null  float64       \n",
      " 6   CustomerID   406829 non-null  float64       \n",
      " 7   Country      541909 non-null  object        \n",
      "dtypes: datetime64[ns](1), float64(2), int64(1), object(4)\n",
      "memory usage: 33.1+ MB\n"
     ]
    }
   ],
   "source": [
    "retail_df.info()"
   ]
  },
  {
   "cell_type": "markdown",
   "id": "2a69ae83",
   "metadata": {},
   "source": [
    "# 데이터 정제하기 - 데이터 확인 (오류 등)"
   ]
  },
  {
   "cell_type": "code",
   "execution_count": 65,
   "id": "192593a8",
   "metadata": {},
   "outputs": [],
   "source": [
    "# 1. CustomerID의 값이 null이 아닌 값 추출하기\n",
    "# retail_df['CustomerID'].notnull()\n",
    "retail_df = retail_df[retail_df['CustomerID'].notna()] # 널이 아닌 값 제거 (자기 자신으로 치환)"
   ]
  },
  {
   "cell_type": "code",
   "execution_count": 66,
   "id": "ecaa9551",
   "metadata": {},
   "outputs": [
    {
     "data": {
      "text/plain": [
       "8905"
      ]
     },
     "execution_count": 66,
     "metadata": {},
     "output_type": "execute_result"
    }
   ],
   "source": [
    "sum(retail_df['Quantity'] < 0)"
   ]
  },
  {
   "cell_type": "code",
   "execution_count": 67,
   "id": "7c80b098",
   "metadata": {},
   "outputs": [],
   "source": [
    "retail_df = retail_df[retail_df['Quantity'] > 0] # Quantity가 양수인 값만 추출"
   ]
  },
  {
   "cell_type": "code",
   "execution_count": 68,
   "id": "94504a7c",
   "metadata": {},
   "outputs": [
    {
     "data": {
      "text/plain": [
       "0"
      ]
     },
     "execution_count": 68,
     "metadata": {},
     "output_type": "execute_result"
    }
   ],
   "source": [
    "sum(retail_df['UnitPrice'].isna()) # 확인"
   ]
  },
  {
   "cell_type": "code",
   "execution_count": 69,
   "id": "a0f7eca6",
   "metadata": {},
   "outputs": [
    {
     "data": {
      "text/plain": [
       "0"
      ]
     },
     "execution_count": 69,
     "metadata": {},
     "output_type": "execute_result"
    }
   ],
   "source": [
    "sum(retail_df['Quantity'] < 0) # 확인"
   ]
  },
  {
   "cell_type": "code",
   "execution_count": 70,
   "id": "b83b2f73",
   "metadata": {},
   "outputs": [
    {
     "data": {
      "text/plain": [
       "0"
      ]
     },
     "execution_count": 70,
     "metadata": {},
     "output_type": "execute_result"
    }
   ],
   "source": [
    "sum(retail_df['CustomerID'].isna()) # 확인"
   ]
  },
  {
   "cell_type": "code",
   "execution_count": 71,
   "id": "ba284961",
   "metadata": {},
   "outputs": [],
   "source": [
    "# CustomerID --> 정수 형태로 변환 / DataFrame.astype(int)\n",
    "retail_df['CustomerID'] = retail_df['CustomerID'].astype(int)"
   ]
  },
  {
   "cell_type": "code",
   "execution_count": 72,
   "id": "df41e708",
   "metadata": {},
   "outputs": [
    {
     "name": "stdout",
     "output_type": "stream",
     "text": [
      "<class 'pandas.core.frame.DataFrame'>\n",
      "Int64Index: 397924 entries, 0 to 541908\n",
      "Data columns (total 8 columns):\n",
      " #   Column       Non-Null Count   Dtype         \n",
      "---  ------       --------------   -----         \n",
      " 0   InvoiceNo    397924 non-null  object        \n",
      " 1   StockCode    397924 non-null  object        \n",
      " 2   Description  397924 non-null  object        \n",
      " 3   Quantity     397924 non-null  int64         \n",
      " 4   InvoiceDate  397924 non-null  datetime64[ns]\n",
      " 5   UnitPrice    397924 non-null  float64       \n",
      " 6   CustomerID   397924 non-null  int32         \n",
      " 7   Country      397924 non-null  object        \n",
      "dtypes: datetime64[ns](1), float64(1), int32(1), int64(1), object(4)\n",
      "memory usage: 25.8+ MB\n"
     ]
    }
   ],
   "source": [
    "retail_df.info() # 모든 데이터가 널값이 없음을 확인"
   ]
  },
  {
   "cell_type": "code",
   "execution_count": 73,
   "id": "4ad100e8",
   "metadata": {},
   "outputs": [
    {
     "data": {
      "text/html": [
       "<div>\n",
       "<style scoped>\n",
       "    .dataframe tbody tr th:only-of-type {\n",
       "        vertical-align: middle;\n",
       "    }\n",
       "\n",
       "    .dataframe tbody tr th {\n",
       "        vertical-align: top;\n",
       "    }\n",
       "\n",
       "    .dataframe thead th {\n",
       "        text-align: right;\n",
       "    }\n",
       "</style>\n",
       "<table border=\"1\" class=\"dataframe\">\n",
       "  <thead>\n",
       "    <tr style=\"text-align: right;\">\n",
       "      <th></th>\n",
       "      <th>InvoiceNo</th>\n",
       "      <th>StockCode</th>\n",
       "      <th>Description</th>\n",
       "      <th>Quantity</th>\n",
       "      <th>InvoiceDate</th>\n",
       "      <th>UnitPrice</th>\n",
       "      <th>CustomerID</th>\n",
       "      <th>Country</th>\n",
       "    </tr>\n",
       "  </thead>\n",
       "  <tbody>\n",
       "    <tr>\n",
       "      <th>0</th>\n",
       "      <td>536365</td>\n",
       "      <td>85123A</td>\n",
       "      <td>WHITE HANGING HEART T-LIGHT HOLDER</td>\n",
       "      <td>6</td>\n",
       "      <td>2010-12-01 08:26:00</td>\n",
       "      <td>2.55</td>\n",
       "      <td>17850</td>\n",
       "      <td>United Kingdom</td>\n",
       "    </tr>\n",
       "    <tr>\n",
       "      <th>1</th>\n",
       "      <td>536365</td>\n",
       "      <td>71053</td>\n",
       "      <td>WHITE METAL LANTERN</td>\n",
       "      <td>6</td>\n",
       "      <td>2010-12-01 08:26:00</td>\n",
       "      <td>3.39</td>\n",
       "      <td>17850</td>\n",
       "      <td>United Kingdom</td>\n",
       "    </tr>\n",
       "    <tr>\n",
       "      <th>2</th>\n",
       "      <td>536365</td>\n",
       "      <td>84406B</td>\n",
       "      <td>CREAM CUPID HEARTS COAT HANGER</td>\n",
       "      <td>8</td>\n",
       "      <td>2010-12-01 08:26:00</td>\n",
       "      <td>2.75</td>\n",
       "      <td>17850</td>\n",
       "      <td>United Kingdom</td>\n",
       "    </tr>\n",
       "    <tr>\n",
       "      <th>3</th>\n",
       "      <td>536365</td>\n",
       "      <td>84029G</td>\n",
       "      <td>KNITTED UNION FLAG HOT WATER BOTTLE</td>\n",
       "      <td>6</td>\n",
       "      <td>2010-12-01 08:26:00</td>\n",
       "      <td>3.39</td>\n",
       "      <td>17850</td>\n",
       "      <td>United Kingdom</td>\n",
       "    </tr>\n",
       "    <tr>\n",
       "      <th>4</th>\n",
       "      <td>536365</td>\n",
       "      <td>84029E</td>\n",
       "      <td>RED WOOLLY HOTTIE WHITE HEART.</td>\n",
       "      <td>6</td>\n",
       "      <td>2010-12-01 08:26:00</td>\n",
       "      <td>3.39</td>\n",
       "      <td>17850</td>\n",
       "      <td>United Kingdom</td>\n",
       "    </tr>\n",
       "  </tbody>\n",
       "</table>\n",
       "</div>"
      ],
      "text/plain": [
       "  InvoiceNo StockCode                          Description  Quantity  \\\n",
       "0    536365    85123A   WHITE HANGING HEART T-LIGHT HOLDER         6   \n",
       "1    536365     71053                  WHITE METAL LANTERN         6   \n",
       "2    536365    84406B       CREAM CUPID HEARTS COAT HANGER         8   \n",
       "3    536365    84029G  KNITTED UNION FLAG HOT WATER BOTTLE         6   \n",
       "4    536365    84029E       RED WOOLLY HOTTIE WHITE HEART.         6   \n",
       "\n",
       "          InvoiceDate  UnitPrice  CustomerID         Country  \n",
       "0 2010-12-01 08:26:00       2.55       17850  United Kingdom  \n",
       "1 2010-12-01 08:26:00       3.39       17850  United Kingdom  \n",
       "2 2010-12-01 08:26:00       2.75       17850  United Kingdom  \n",
       "3 2010-12-01 08:26:00       3.39       17850  United Kingdom  \n",
       "4 2010-12-01 08:26:00       3.39       17850  United Kingdom  "
      ]
     },
     "execution_count": 73,
     "metadata": {},
     "output_type": "execute_result"
    }
   ],
   "source": [
    "retail_df.head() # CunstomerID가 정상적으로 정수형태로 변환된 것을 알 수 있음\n",
    "# 고객 한 명이 여러 번에 걸쳐 가격이 각기 다른 상품을 주문한 데이터임을 알 수 있음"
   ]
  },
  {
   "cell_type": "code",
   "execution_count": 74,
   "id": "3421cd33",
   "metadata": {},
   "outputs": [
    {
     "data": {
      "text/plain": [
       "['InvoiceNo',\n",
       " 'StockCode',\n",
       " 'Description',\n",
       " 'Quantity',\n",
       " 'InvoiceDate',\n",
       " 'UnitPrice',\n",
       " 'CustomerID',\n",
       " 'Country']"
      ]
     },
     "execution_count": 74,
     "metadata": {},
     "output_type": "execute_result"
    }
   ],
   "source": [
    "# CustomerID, Invoice, StockCode 별로 그룹화 하기 (중복된 데이터가 있는지 확인)\n",
    "# retail_df.groupby(['CustomerID', 'InvoiceNo', 'StockCode']).count()\n",
    "\n",
    "list(retail_df.columns)\n",
    "# [retail_df.groupby([retail_df.columns]).count() > 1 for i in retail_df]\n",
    "# retail_df.groupby(retail_df.columns > 1).count() *************"
   ]
  },
  {
   "cell_type": "code",
   "execution_count": 75,
   "id": "119b6ffb",
   "metadata": {},
   "outputs": [
    {
     "name": "stdout",
     "output_type": "stream",
     "text": [
      "(397924, 8)\n",
      "(392732, 8)\n"
     ]
    }
   ],
   "source": [
    "# 중복 레코드 제거\n",
    "# 변경 값을 저장할 것인지의 여부 : inplace = False (저장 안 함). inplace = True (저장함).\n",
    "print(retail_df.shape)\n",
    "retail_df.drop_duplicates(inplace=True)\n",
    "print(retail_df.shape)"
   ]
  },
  {
   "cell_type": "code",
   "execution_count": 76,
   "id": "c316e766",
   "metadata": {},
   "outputs": [
    {
     "data": {
      "text/html": [
       "<div>\n",
       "<style scoped>\n",
       "    .dataframe tbody tr th:only-of-type {\n",
       "        vertical-align: middle;\n",
       "    }\n",
       "\n",
       "    .dataframe tbody tr th {\n",
       "        vertical-align: top;\n",
       "    }\n",
       "\n",
       "    .dataframe thead th {\n",
       "        text-align: right;\n",
       "    }\n",
       "</style>\n",
       "<table border=\"1\" class=\"dataframe\">\n",
       "  <thead>\n",
       "    <tr style=\"text-align: right;\">\n",
       "      <th></th>\n",
       "      <th>Product</th>\n",
       "      <th>Transaction</th>\n",
       "      <th>Customer</th>\n",
       "    </tr>\n",
       "  </thead>\n",
       "  <tbody>\n",
       "    <tr>\n",
       "      <th>0</th>\n",
       "      <td>3665</td>\n",
       "      <td>18536</td>\n",
       "      <td>4339</td>\n",
       "    </tr>\n",
       "  </tbody>\n",
       "</table>\n",
       "</div>"
      ],
      "text/plain": [
       "   Product  Transaction  Customer\n",
       "0     3665        18536      4339"
      ]
     },
     "execution_count": 76,
     "metadata": {},
     "output_type": "execute_result"
    }
   ],
   "source": [
    "# 제품의 수(Product), 거래 수(Transaction), 고객 수(Cunstomer), 고객의 국적(Country)\n",
    "retail_df['StockCode'].value_counts() # .value_counts() : 빈도수 구하기\n",
    "retail_df['InvoiceNo'].value_counts()\n",
    "retail_df['CustomerID'].value_counts()\n",
    "\n",
    "# 새로운 데이터프레임 생성하기\n",
    "pd.DataFrame({\n",
    "    'Product' : [len(retail_df['StockCode'].value_counts())],\n",
    "    'Transaction' : [len(retail_df['InvoiceNo'].value_counts())],\n",
    "    'Customer' : [len(retail_df['CustomerID'].value_counts())]\n",
    "})"
   ]
  },
  {
   "cell_type": "code",
   "execution_count": 77,
   "id": "1c58d173",
   "metadata": {},
   "outputs": [],
   "source": [
    "# 제품의 수(Product), 거래 수(Transaction), 고객 수(Cunstomer), 고객의 국적(Country)\n",
    "# retail_df['StockCode'].value_counts() # .value_counts() : 빈도수 구하기\n",
    "# retail_df['InvoiceNo'].value_counts()\n",
    "# retail_df['CustomerID'].value_counts()\n",
    "\n",
    "# # 새로운 데이터프레임 생성하기\n",
    "# pd.DataFrame({\n",
    "#     'Product' : [len(retail_df['StockCode'].value_counts())],\n",
    "#     'Transaction' : [len(retail_df['InvoiceNo'].value_counts())],\n",
    "#     'Customer' : [len(retail_df['CustomerID'].value_counts())]\n",
    "# })\n",
    "# 변수 넣어 해보기"
   ]
  },
  {
   "cell_type": "code",
   "execution_count": 78,
   "id": "0e70d028",
   "metadata": {},
   "outputs": [
    {
     "data": {
      "text/plain": [
       "United Kingdom          349227\n",
       "Germany                   9027\n",
       "France                    8327\n",
       "EIRE                      7228\n",
       "Spain                     2480\n",
       "Netherlands               2363\n",
       "Belgium                   2031\n",
       "Switzerland               1842\n",
       "Portugal                  1453\n",
       "Australia                 1184\n",
       "Norway                    1072\n",
       "Italy                      758\n",
       "Channel Islands            747\n",
       "Finland                    685\n",
       "Cyprus                     603\n",
       "Sweden                     450\n",
       "Austria                    398\n",
       "Denmark                    380\n",
       "Poland                     330\n",
       "Japan                      321\n",
       "Israel                     245\n",
       "Unspecified                241\n",
       "Singapore                  222\n",
       "Iceland                    182\n",
       "USA                        179\n",
       "Canada                     151\n",
       "Greece                     145\n",
       "Malta                      112\n",
       "United Arab Emirates        68\n",
       "European Community          60\n",
       "RSA                         58\n",
       "Lebanon                     45\n",
       "Lithuania                   35\n",
       "Brazil                      32\n",
       "Czech Republic              25\n",
       "Bahrain                     17\n",
       "Saudi Arabia                 9\n",
       "Name: Country, dtype: int64"
      ]
     },
     "execution_count": 78,
     "metadata": {},
     "output_type": "execute_result"
    }
   ],
   "source": [
    "retail_df['Country'].value_counts() # 국가별 데이터 확인"
   ]
  },
  {
   "cell_type": "markdown",
   "id": "ec1a43f2",
   "metadata": {},
   "source": [
    "# 분석용 데이터 생성"
   ]
  },
  {
   "cell_type": "code",
   "execution_count": 79,
   "id": "6201e89f",
   "metadata": {},
   "outputs": [
    {
     "data": {
      "text/html": [
       "<div>\n",
       "<style scoped>\n",
       "    .dataframe tbody tr th:only-of-type {\n",
       "        vertical-align: middle;\n",
       "    }\n",
       "\n",
       "    .dataframe tbody tr th {\n",
       "        vertical-align: top;\n",
       "    }\n",
       "\n",
       "    .dataframe thead th {\n",
       "        text-align: right;\n",
       "    }\n",
       "</style>\n",
       "<table border=\"1\" class=\"dataframe\">\n",
       "  <thead>\n",
       "    <tr style=\"text-align: right;\">\n",
       "      <th></th>\n",
       "      <th>InvoiceNo</th>\n",
       "      <th>StockCode</th>\n",
       "      <th>Description</th>\n",
       "      <th>Quantity</th>\n",
       "      <th>InvoiceDate</th>\n",
       "      <th>UnitPrice</th>\n",
       "      <th>CustomerID</th>\n",
       "      <th>Country</th>\n",
       "    </tr>\n",
       "  </thead>\n",
       "  <tbody>\n",
       "    <tr>\n",
       "      <th>0</th>\n",
       "      <td>536365</td>\n",
       "      <td>85123A</td>\n",
       "      <td>WHITE HANGING HEART T-LIGHT HOLDER</td>\n",
       "      <td>6</td>\n",
       "      <td>2010-12-01 08:26:00</td>\n",
       "      <td>2.55</td>\n",
       "      <td>17850</td>\n",
       "      <td>United Kingdom</td>\n",
       "    </tr>\n",
       "    <tr>\n",
       "      <th>1</th>\n",
       "      <td>536365</td>\n",
       "      <td>71053</td>\n",
       "      <td>WHITE METAL LANTERN</td>\n",
       "      <td>6</td>\n",
       "      <td>2010-12-01 08:26:00</td>\n",
       "      <td>3.39</td>\n",
       "      <td>17850</td>\n",
       "      <td>United Kingdom</td>\n",
       "    </tr>\n",
       "    <tr>\n",
       "      <th>2</th>\n",
       "      <td>536365</td>\n",
       "      <td>84406B</td>\n",
       "      <td>CREAM CUPID HEARTS COAT HANGER</td>\n",
       "      <td>8</td>\n",
       "      <td>2010-12-01 08:26:00</td>\n",
       "      <td>2.75</td>\n",
       "      <td>17850</td>\n",
       "      <td>United Kingdom</td>\n",
       "    </tr>\n",
       "    <tr>\n",
       "      <th>3</th>\n",
       "      <td>536365</td>\n",
       "      <td>84029G</td>\n",
       "      <td>KNITTED UNION FLAG HOT WATER BOTTLE</td>\n",
       "      <td>6</td>\n",
       "      <td>2010-12-01 08:26:00</td>\n",
       "      <td>3.39</td>\n",
       "      <td>17850</td>\n",
       "      <td>United Kingdom</td>\n",
       "    </tr>\n",
       "    <tr>\n",
       "      <th>4</th>\n",
       "      <td>536365</td>\n",
       "      <td>84029E</td>\n",
       "      <td>RED WOOLLY HOTTIE WHITE HEART.</td>\n",
       "      <td>6</td>\n",
       "      <td>2010-12-01 08:26:00</td>\n",
       "      <td>3.39</td>\n",
       "      <td>17850</td>\n",
       "      <td>United Kingdom</td>\n",
       "    </tr>\n",
       "  </tbody>\n",
       "</table>\n",
       "</div>"
      ],
      "text/plain": [
       "  InvoiceNo StockCode                          Description  Quantity  \\\n",
       "0    536365    85123A   WHITE HANGING HEART T-LIGHT HOLDER         6   \n",
       "1    536365     71053                  WHITE METAL LANTERN         6   \n",
       "2    536365    84406B       CREAM CUPID HEARTS COAT HANGER         8   \n",
       "3    536365    84029G  KNITTED UNION FLAG HOT WATER BOTTLE         6   \n",
       "4    536365    84029E       RED WOOLLY HOTTIE WHITE HEART.         6   \n",
       "\n",
       "          InvoiceDate  UnitPrice  CustomerID         Country  \n",
       "0 2010-12-01 08:26:00       2.55       17850  United Kingdom  \n",
       "1 2010-12-01 08:26:00       3.39       17850  United Kingdom  \n",
       "2 2010-12-01 08:26:00       2.75       17850  United Kingdom  \n",
       "3 2010-12-01 08:26:00       3.39       17850  United Kingdom  \n",
       "4 2010-12-01 08:26:00       3.39       17850  United Kingdom  "
      ]
     },
     "execution_count": 79,
     "metadata": {},
     "output_type": "execute_result"
    }
   ],
   "source": [
    "retail_df.head()"
   ]
  },
  {
   "cell_type": "code",
   "execution_count": 80,
   "id": "087aad27",
   "metadata": {},
   "outputs": [
    {
     "data": {
      "text/html": [
       "<div>\n",
       "<style scoped>\n",
       "    .dataframe tbody tr th:only-of-type {\n",
       "        vertical-align: middle;\n",
       "    }\n",
       "\n",
       "    .dataframe tbody tr th {\n",
       "        vertical-align: top;\n",
       "    }\n",
       "\n",
       "    .dataframe thead th {\n",
       "        text-align: right;\n",
       "    }\n",
       "</style>\n",
       "<table border=\"1\" class=\"dataframe\">\n",
       "  <thead>\n",
       "    <tr style=\"text-align: right;\">\n",
       "      <th></th>\n",
       "      <th>InvoiceNo</th>\n",
       "      <th>StockCode</th>\n",
       "      <th>Description</th>\n",
       "      <th>Quantity</th>\n",
       "      <th>InvoiceDate</th>\n",
       "      <th>UnitPrice</th>\n",
       "      <th>CustomerID</th>\n",
       "      <th>Country</th>\n",
       "      <th>SaleAmount</th>\n",
       "    </tr>\n",
       "  </thead>\n",
       "  <tbody>\n",
       "    <tr>\n",
       "      <th>0</th>\n",
       "      <td>536365</td>\n",
       "      <td>85123A</td>\n",
       "      <td>WHITE HANGING HEART T-LIGHT HOLDER</td>\n",
       "      <td>6</td>\n",
       "      <td>2010-12-01 08:26:00</td>\n",
       "      <td>2.55</td>\n",
       "      <td>17850</td>\n",
       "      <td>United Kingdom</td>\n",
       "      <td>15.30</td>\n",
       "    </tr>\n",
       "    <tr>\n",
       "      <th>1</th>\n",
       "      <td>536365</td>\n",
       "      <td>71053</td>\n",
       "      <td>WHITE METAL LANTERN</td>\n",
       "      <td>6</td>\n",
       "      <td>2010-12-01 08:26:00</td>\n",
       "      <td>3.39</td>\n",
       "      <td>17850</td>\n",
       "      <td>United Kingdom</td>\n",
       "      <td>20.34</td>\n",
       "    </tr>\n",
       "    <tr>\n",
       "      <th>2</th>\n",
       "      <td>536365</td>\n",
       "      <td>84406B</td>\n",
       "      <td>CREAM CUPID HEARTS COAT HANGER</td>\n",
       "      <td>8</td>\n",
       "      <td>2010-12-01 08:26:00</td>\n",
       "      <td>2.75</td>\n",
       "      <td>17850</td>\n",
       "      <td>United Kingdom</td>\n",
       "      <td>22.00</td>\n",
       "    </tr>\n",
       "    <tr>\n",
       "      <th>3</th>\n",
       "      <td>536365</td>\n",
       "      <td>84029G</td>\n",
       "      <td>KNITTED UNION FLAG HOT WATER BOTTLE</td>\n",
       "      <td>6</td>\n",
       "      <td>2010-12-01 08:26:00</td>\n",
       "      <td>3.39</td>\n",
       "      <td>17850</td>\n",
       "      <td>United Kingdom</td>\n",
       "      <td>20.34</td>\n",
       "    </tr>\n",
       "    <tr>\n",
       "      <th>4</th>\n",
       "      <td>536365</td>\n",
       "      <td>84029E</td>\n",
       "      <td>RED WOOLLY HOTTIE WHITE HEART.</td>\n",
       "      <td>6</td>\n",
       "      <td>2010-12-01 08:26:00</td>\n",
       "      <td>3.39</td>\n",
       "      <td>17850</td>\n",
       "      <td>United Kingdom</td>\n",
       "      <td>20.34</td>\n",
       "    </tr>\n",
       "  </tbody>\n",
       "</table>\n",
       "</div>"
      ],
      "text/plain": [
       "  InvoiceNo StockCode                          Description  Quantity  \\\n",
       "0    536365    85123A   WHITE HANGING HEART T-LIGHT HOLDER         6   \n",
       "1    536365     71053                  WHITE METAL LANTERN         6   \n",
       "2    536365    84406B       CREAM CUPID HEARTS COAT HANGER         8   \n",
       "3    536365    84029G  KNITTED UNION FLAG HOT WATER BOTTLE         6   \n",
       "4    536365    84029E       RED WOOLLY HOTTIE WHITE HEART.         6   \n",
       "\n",
       "          InvoiceDate  UnitPrice  CustomerID         Country  SaleAmount  \n",
       "0 2010-12-01 08:26:00       2.55       17850  United Kingdom       15.30  \n",
       "1 2010-12-01 08:26:00       3.39       17850  United Kingdom       20.34  \n",
       "2 2010-12-01 08:26:00       2.75       17850  United Kingdom       22.00  \n",
       "3 2010-12-01 08:26:00       3.39       17850  United Kingdom       20.34  \n",
       "4 2010-12-01 08:26:00       3.39       17850  United Kingdom       20.34  "
      ]
     },
     "execution_count": 80,
     "metadata": {},
     "output_type": "execute_result"
    }
   ],
   "source": [
    "# 주문 금액 열 추가 'SaleAmount'\n",
    "# - 단위당 가격과 수량이 있는 경우 총 주문 금액 column을 추가해 주는 것이 좋음\n",
    "retail_df['SaleAmount'] = retail_df['UnitPrice'] * retail_df['Quantity']\n",
    "retail_df.head()"
   ]
  },
  {
   "cell_type": "markdown",
   "id": "8e3fe93b",
   "metadata": {},
   "source": [
    "# 마케팅에 이용하려면?\n",
    "### 단, 고객이 실제 원하는 것과는 다를 수 있을 가능성 존재"
   ]
  },
  {
   "cell_type": "code",
   "execution_count": 81,
   "id": "97caba2b",
   "metadata": {},
   "outputs": [
    {
     "data": {
      "text/html": [
       "<div>\n",
       "<style scoped>\n",
       "    .dataframe tbody tr th:only-of-type {\n",
       "        vertical-align: middle;\n",
       "    }\n",
       "\n",
       "    .dataframe tbody tr th {\n",
       "        vertical-align: top;\n",
       "    }\n",
       "\n",
       "    .dataframe thead th {\n",
       "        text-align: right;\n",
       "    }\n",
       "</style>\n",
       "<table border=\"1\" class=\"dataframe\">\n",
       "  <thead>\n",
       "    <tr style=\"text-align: right;\">\n",
       "      <th></th>\n",
       "      <th>CustomerID</th>\n",
       "      <th>InvoiceNo</th>\n",
       "      <th>SaleAmount</th>\n",
       "      <th>InvoiceDate</th>\n",
       "    </tr>\n",
       "  </thead>\n",
       "  <tbody>\n",
       "    <tr>\n",
       "      <th>0</th>\n",
       "      <td>12346</td>\n",
       "      <td>1</td>\n",
       "      <td>77183.60</td>\n",
       "      <td>2011-01-18 10:01:00</td>\n",
       "    </tr>\n",
       "    <tr>\n",
       "      <th>1</th>\n",
       "      <td>12347</td>\n",
       "      <td>182</td>\n",
       "      <td>4310.00</td>\n",
       "      <td>2011-12-07 15:52:00</td>\n",
       "    </tr>\n",
       "    <tr>\n",
       "      <th>2</th>\n",
       "      <td>12348</td>\n",
       "      <td>31</td>\n",
       "      <td>1797.24</td>\n",
       "      <td>2011-09-25 13:13:00</td>\n",
       "    </tr>\n",
       "    <tr>\n",
       "      <th>3</th>\n",
       "      <td>12349</td>\n",
       "      <td>73</td>\n",
       "      <td>1757.55</td>\n",
       "      <td>2011-11-21 09:51:00</td>\n",
       "    </tr>\n",
       "    <tr>\n",
       "      <th>4</th>\n",
       "      <td>12350</td>\n",
       "      <td>17</td>\n",
       "      <td>334.40</td>\n",
       "      <td>2011-02-02 16:01:00</td>\n",
       "    </tr>\n",
       "  </tbody>\n",
       "</table>\n",
       "</div>"
      ],
      "text/plain": [
       "   CustomerID  InvoiceNo  SaleAmount         InvoiceDate\n",
       "0       12346          1    77183.60 2011-01-18 10:01:00\n",
       "1       12347        182     4310.00 2011-12-07 15:52:00\n",
       "2       12348         31     1797.24 2011-09-25 13:13:00\n",
       "3       12349         73     1757.55 2011-11-21 09:51:00\n",
       "4       12350         17      334.40 2011-02-02 16:01:00"
      ]
     },
     "execution_count": 81,
     "metadata": {},
     "output_type": "execute_result"
    }
   ],
   "source": [
    "# # 고객의 주문 횟수, 주문 총액, 주문 후 지난 일수 (주문 후 며칠이 지났는지)\n",
    "# retail_df.groupby('CustomerID')['InvoiceNo'].count() # CustermerID 당 주문 횟수\n",
    "# retail_df.groupby('CustomerID')['SaleAmount'].sum() # CustermerID 당 총 주문 금액\n",
    "customer_df = retail_df.groupby('CustomerID').agg({\n",
    "    'InvoiceNo' : 'count', # 총 주문 횟수\n",
    "    'SaleAmount' : 'sum', # 총 주문 금액\n",
    "    'InvoiceDate' : 'max' # 가장 최근 날짜 출력\n",
    "}) # 함수 또한 문자열('')로 적어주어야 함\n",
    "\n",
    "customer_df = customer_df.reset_index()\n",
    "customer_df.head()"
   ]
  },
  {
   "cell_type": "code",
   "execution_count": 82,
   "id": "ea653b58",
   "metadata": {},
   "outputs": [
    {
     "data": {
      "text/html": [
       "<div>\n",
       "<style scoped>\n",
       "    .dataframe tbody tr th:only-of-type {\n",
       "        vertical-align: middle;\n",
       "    }\n",
       "\n",
       "    .dataframe tbody tr th {\n",
       "        vertical-align: top;\n",
       "    }\n",
       "\n",
       "    .dataframe thead th {\n",
       "        text-align: right;\n",
       "    }\n",
       "</style>\n",
       "<table border=\"1\" class=\"dataframe\">\n",
       "  <thead>\n",
       "    <tr style=\"text-align: right;\">\n",
       "      <th></th>\n",
       "      <th>CustomerID</th>\n",
       "      <th>Freq</th>\n",
       "      <th>SaleAmount</th>\n",
       "      <th>ElapsedDays</th>\n",
       "    </tr>\n",
       "  </thead>\n",
       "  <tbody>\n",
       "    <tr>\n",
       "      <th>0</th>\n",
       "      <td>12346</td>\n",
       "      <td>1</td>\n",
       "      <td>77183.60</td>\n",
       "      <td>2011-01-18 10:01:00</td>\n",
       "    </tr>\n",
       "    <tr>\n",
       "      <th>1</th>\n",
       "      <td>12347</td>\n",
       "      <td>182</td>\n",
       "      <td>4310.00</td>\n",
       "      <td>2011-12-07 15:52:00</td>\n",
       "    </tr>\n",
       "    <tr>\n",
       "      <th>2</th>\n",
       "      <td>12348</td>\n",
       "      <td>31</td>\n",
       "      <td>1797.24</td>\n",
       "      <td>2011-09-25 13:13:00</td>\n",
       "    </tr>\n",
       "    <tr>\n",
       "      <th>3</th>\n",
       "      <td>12349</td>\n",
       "      <td>73</td>\n",
       "      <td>1757.55</td>\n",
       "      <td>2011-11-21 09:51:00</td>\n",
       "    </tr>\n",
       "    <tr>\n",
       "      <th>4</th>\n",
       "      <td>12350</td>\n",
       "      <td>17</td>\n",
       "      <td>334.40</td>\n",
       "      <td>2011-02-02 16:01:00</td>\n",
       "    </tr>\n",
       "  </tbody>\n",
       "</table>\n",
       "</div>"
      ],
      "text/plain": [
       "   CustomerID  Freq  SaleAmount         ElapsedDays\n",
       "0       12346     1    77183.60 2011-01-18 10:01:00\n",
       "1       12347   182     4310.00 2011-12-07 15:52:00\n",
       "2       12348    31     1797.24 2011-09-25 13:13:00\n",
       "3       12349    73     1757.55 2011-11-21 09:51:00\n",
       "4       12350    17      334.40 2011-02-02 16:01:00"
      ]
     },
     "execution_count": 82,
     "metadata": {},
     "output_type": "execute_result"
    }
   ],
   "source": [
    "# InvoiceNo, InvoiceData 컬럼명 적절히 바꿔주기\n",
    "# customer_df.columns = ['CustomerID', 'Freq', 'SaleAmount', 'ElapsedDays'] --> 일일이 바꿔주어야 함\n",
    "customer_df = customer_df.rename(columns={\n",
    "    'InvoiceNo' : 'Freq',\n",
    "    'InvoiceDate' : 'ElapsedDays'\n",
    "})\n",
    "customer_df.head()"
   ]
  },
  {
   "cell_type": "code",
   "execution_count": 83,
   "id": "1d7c7d36",
   "metadata": {},
   "outputs": [
    {
     "data": {
      "text/plain": [
       "2022"
      ]
     },
     "execution_count": 83,
     "metadata": {},
     "output_type": "execute_result"
    }
   ],
   "source": [
    "# 마지막 주문일로부터 며칠이 지났는지에 대한 값을 ElapsedDays에 저장하기\n",
    "import datetime\n",
    "datetime.datetime.today() # 현재 날짜\n",
    "datetime.datetime.today().year # 현재 연도"
   ]
  },
  {
   "cell_type": "code",
   "execution_count": 84,
   "id": "4cc125c1",
   "metadata": {},
   "outputs": [
    {
     "data": {
      "text/html": [
       "<div>\n",
       "<style scoped>\n",
       "    .dataframe tbody tr th:only-of-type {\n",
       "        vertical-align: middle;\n",
       "    }\n",
       "\n",
       "    .dataframe tbody tr th {\n",
       "        vertical-align: top;\n",
       "    }\n",
       "\n",
       "    .dataframe thead th {\n",
       "        text-align: right;\n",
       "    }\n",
       "</style>\n",
       "<table border=\"1\" class=\"dataframe\">\n",
       "  <thead>\n",
       "    <tr style=\"text-align: right;\">\n",
       "      <th></th>\n",
       "      <th>CustomerID</th>\n",
       "      <th>Freq</th>\n",
       "      <th>SaleAmount</th>\n",
       "      <th>ElapsedDays</th>\n",
       "    </tr>\n",
       "  </thead>\n",
       "  <tbody>\n",
       "    <tr>\n",
       "      <th>0</th>\n",
       "      <td>12346</td>\n",
       "      <td>1</td>\n",
       "      <td>77183.60</td>\n",
       "      <td>346 days 13:59:00</td>\n",
       "    </tr>\n",
       "    <tr>\n",
       "      <th>1</th>\n",
       "      <td>12347</td>\n",
       "      <td>182</td>\n",
       "      <td>4310.00</td>\n",
       "      <td>23 days 08:08:00</td>\n",
       "    </tr>\n",
       "    <tr>\n",
       "      <th>2</th>\n",
       "      <td>12348</td>\n",
       "      <td>31</td>\n",
       "      <td>1797.24</td>\n",
       "      <td>96 days 10:47:00</td>\n",
       "    </tr>\n",
       "    <tr>\n",
       "      <th>3</th>\n",
       "      <td>12349</td>\n",
       "      <td>73</td>\n",
       "      <td>1757.55</td>\n",
       "      <td>39 days 14:09:00</td>\n",
       "    </tr>\n",
       "    <tr>\n",
       "      <th>4</th>\n",
       "      <td>12350</td>\n",
       "      <td>17</td>\n",
       "      <td>334.40</td>\n",
       "      <td>331 days 07:59:00</td>\n",
       "    </tr>\n",
       "  </tbody>\n",
       "</table>\n",
       "</div>"
      ],
      "text/plain": [
       "   CustomerID  Freq  SaleAmount       ElapsedDays\n",
       "0       12346     1    77183.60 346 days 13:59:00\n",
       "1       12347   182     4310.00  23 days 08:08:00\n",
       "2       12348    31     1797.24  96 days 10:47:00\n",
       "3       12349    73     1757.55  39 days 14:09:00\n",
       "4       12350    17      334.40 331 days 07:59:00"
      ]
     },
     "execution_count": 84,
     "metadata": {},
     "output_type": "execute_result"
    }
   ],
   "source": [
    "# 임의 기준 날짜 : 2011. 12. 31\n",
    "# - 임의로 설정한 기준 날짜 - 주문 날짜\n",
    "customer_df['ElapsedDays'] = datetime.datetime(2011,12,31) - customer_df['ElapsedDays']\n",
    "customer_df.head()\n",
    "\n",
    "# 346 days 13:59:00 <-- 숫자, 문자가 함께 나오므로 가시성 떨어짐 --> 모두 문자열로 바꾸어 주기"
   ]
  },
  {
   "cell_type": "code",
   "execution_count": 85,
   "id": "57d59009",
   "metadata": {},
   "outputs": [
    {
     "data": {
      "text/plain": [
       "347"
      ]
     },
     "execution_count": 85,
     "metadata": {},
     "output_type": "execute_result"
    }
   ],
   "source": [
    "customer_df['ElapsedDays'][0].days+1 # 0부터 시작하므로 기본적으로 +1 을 해줌"
   ]
  },
  {
   "cell_type": "code",
   "execution_count": 86,
   "id": "0e90fa9e",
   "metadata": {},
   "outputs": [
    {
     "data": {
      "text/html": [
       "<div>\n",
       "<style scoped>\n",
       "    .dataframe tbody tr th:only-of-type {\n",
       "        vertical-align: middle;\n",
       "    }\n",
       "\n",
       "    .dataframe tbody tr th {\n",
       "        vertical-align: top;\n",
       "    }\n",
       "\n",
       "    .dataframe thead th {\n",
       "        text-align: right;\n",
       "    }\n",
       "</style>\n",
       "<table border=\"1\" class=\"dataframe\">\n",
       "  <thead>\n",
       "    <tr style=\"text-align: right;\">\n",
       "      <th></th>\n",
       "      <th>CustomerID</th>\n",
       "      <th>Freq</th>\n",
       "      <th>SaleAmount</th>\n",
       "      <th>ElapsedDays</th>\n",
       "    </tr>\n",
       "  </thead>\n",
       "  <tbody>\n",
       "    <tr>\n",
       "      <th>0</th>\n",
       "      <td>12346</td>\n",
       "      <td>1</td>\n",
       "      <td>77183.60</td>\n",
       "      <td>347</td>\n",
       "    </tr>\n",
       "    <tr>\n",
       "      <th>1</th>\n",
       "      <td>12347</td>\n",
       "      <td>182</td>\n",
       "      <td>4310.00</td>\n",
       "      <td>24</td>\n",
       "    </tr>\n",
       "    <tr>\n",
       "      <th>2</th>\n",
       "      <td>12348</td>\n",
       "      <td>31</td>\n",
       "      <td>1797.24</td>\n",
       "      <td>97</td>\n",
       "    </tr>\n",
       "    <tr>\n",
       "      <th>3</th>\n",
       "      <td>12349</td>\n",
       "      <td>73</td>\n",
       "      <td>1757.55</td>\n",
       "      <td>40</td>\n",
       "    </tr>\n",
       "    <tr>\n",
       "      <th>4</th>\n",
       "      <td>12350</td>\n",
       "      <td>17</td>\n",
       "      <td>334.40</td>\n",
       "      <td>332</td>\n",
       "    </tr>\n",
       "  </tbody>\n",
       "</table>\n",
       "</div>"
      ],
      "text/plain": [
       "   CustomerID  Freq  SaleAmount  ElapsedDays\n",
       "0       12346     1    77183.60          347\n",
       "1       12347   182     4310.00           24\n",
       "2       12348    31     1797.24           97\n",
       "3       12349    73     1757.55           40\n",
       "4       12350    17      334.40          332"
      ]
     },
     "execution_count": 86,
     "metadata": {},
     "output_type": "execute_result"
    }
   ],
   "source": [
    "# def custom(x):\n",
    "#    return x.day + 1\n",
    "\n",
    "# 람다 형식으로 표현하기\n",
    "customer_df['ElapsedDays'] = customer_df['ElapsedDays'].apply(lambda x: x.days + 1)\n",
    "customer_df.head()"
   ]
  },
  {
   "cell_type": "markdown",
   "id": "04d04c22",
   "metadata": {},
   "source": [
    "# 데이터 시각화"
   ]
  },
  {
   "cell_type": "code",
   "execution_count": 87,
   "id": "b3b41f93",
   "metadata": {},
   "outputs": [],
   "source": [
    "# 데이터의 치우친 정도를 보기 위해 boxplot 사용\n",
    "import matplotlib.pyplot as plt\n",
    "import seaborn as sns"
   ]
  },
  {
   "cell_type": "code",
   "execution_count": 93,
   "id": "282a50a6",
   "metadata": {},
   "outputs": [
    {
     "data": {
      "image/png": "[encoded data removed]",
      "text/plain": [
       "<Figure size 432x288 with 1 Axes>"
      ]
     },
     "metadata": {
      "needs_background": "light"
     },
     "output_type": "display_data"
    }
   ],
   "source": [
    "fig, ax = plt.subplots()\n",
    "ax.boxplot( [customer_df['Freq'], customer_df['SaleAmount'], customer_df['ElapsedDays']], sym='bo')\n",
    "# sym 아웃레이어를 파란색으로 표시해 주기 위함\n",
    "#    --> 즉 아웃레이어가 많이 보인다는 것은 데이터가 그만큼 치우쳐져 있다는 의미\n",
    "\n",
    "# label 달아 주기\n",
    "plt.xticks([1,2,3], ['Freq', 'SaleAmount', 'ElapsedDays'])\n",
    "plt.show() # show()를 해 주면 데이터 정보를 제외하고 시각화된 정보만 보여줌"
   ]
  },
  {
   "cell_type": "markdown",
   "id": "ef646e19",
   "metadata": {},
   "source": [
    "# *위 데이터의 분포 고르게 조정 하려면?* - np.log1p()"
   ]
  },
  {
   "cell_type": "code",
   "execution_count": 95,
   "id": "4fdc3ff1",
   "metadata": {},
   "outputs": [
    {
     "data": {
      "text/html": [
       "<div>\n",
       "<style scoped>\n",
       "    .dataframe tbody tr th:only-of-type {\n",
       "        vertical-align: middle;\n",
       "    }\n",
       "\n",
       "    .dataframe tbody tr th {\n",
       "        vertical-align: top;\n",
       "    }\n",
       "\n",
       "    .dataframe thead th {\n",
       "        text-align: right;\n",
       "    }\n",
       "</style>\n",
       "<table border=\"1\" class=\"dataframe\">\n",
       "  <thead>\n",
       "    <tr style=\"text-align: right;\">\n",
       "      <th></th>\n",
       "      <th>CustomerID</th>\n",
       "      <th>Freq</th>\n",
       "      <th>SaleAmount</th>\n",
       "      <th>ElapsedDays</th>\n",
       "      <th>Freq_log</th>\n",
       "      <th>SaleAmount_log</th>\n",
       "      <th>ElapsedDays_log</th>\n",
       "    </tr>\n",
       "  </thead>\n",
       "  <tbody>\n",
       "    <tr>\n",
       "      <th>0</th>\n",
       "      <td>12346</td>\n",
       "      <td>1</td>\n",
       "      <td>77183.60</td>\n",
       "      <td>347</td>\n",
       "      <td>0.693147</td>\n",
       "      <td>11.253955</td>\n",
       "      <td>5.852202</td>\n",
       "    </tr>\n",
       "    <tr>\n",
       "      <th>1</th>\n",
       "      <td>12347</td>\n",
       "      <td>182</td>\n",
       "      <td>4310.00</td>\n",
       "      <td>24</td>\n",
       "      <td>5.209486</td>\n",
       "      <td>8.368925</td>\n",
       "      <td>3.218876</td>\n",
       "    </tr>\n",
       "    <tr>\n",
       "      <th>2</th>\n",
       "      <td>12348</td>\n",
       "      <td>31</td>\n",
       "      <td>1797.24</td>\n",
       "      <td>97</td>\n",
       "      <td>3.465736</td>\n",
       "      <td>7.494564</td>\n",
       "      <td>4.584967</td>\n",
       "    </tr>\n",
       "    <tr>\n",
       "      <th>3</th>\n",
       "      <td>12349</td>\n",
       "      <td>73</td>\n",
       "      <td>1757.55</td>\n",
       "      <td>40</td>\n",
       "      <td>4.304065</td>\n",
       "      <td>7.472245</td>\n",
       "      <td>3.713572</td>\n",
       "    </tr>\n",
       "    <tr>\n",
       "      <th>4</th>\n",
       "      <td>12350</td>\n",
       "      <td>17</td>\n",
       "      <td>334.40</td>\n",
       "      <td>332</td>\n",
       "      <td>2.890372</td>\n",
       "      <td>5.815324</td>\n",
       "      <td>5.808142</td>\n",
       "    </tr>\n",
       "  </tbody>\n",
       "</table>\n",
       "</div>"
      ],
      "text/plain": [
       "   CustomerID  Freq  SaleAmount  ElapsedDays  Freq_log  SaleAmount_log  \\\n",
       "0       12346     1    77183.60          347  0.693147       11.253955   \n",
       "1       12347   182     4310.00           24  5.209486        8.368925   \n",
       "2       12348    31     1797.24           97  3.465736        7.494564   \n",
       "3       12349    73     1757.55           40  4.304065        7.472245   \n",
       "4       12350    17      334.40          332  2.890372        5.815324   \n",
       "\n",
       "   ElapsedDays_log  \n",
       "0         5.852202  \n",
       "1         3.218876  \n",
       "2         4.584967  \n",
       "3         3.713572  \n",
       "4         5.808142  "
      ]
     },
     "execution_count": 95,
     "metadata": {},
     "output_type": "execute_result"
    }
   ],
   "source": [
    "# 각 컬럼에 대해 log 함수 추가\n",
    "# - log 함수를 이용하여 값의 분포를 고르게 조정\n",
    "# Standard Scale과 유사하며, 데이터를 보다 면밀히 보기 위함\n",
    "\n",
    "import numpy as np\n",
    "customer_df['Freq_log'] = np.log1p(customer_df['Freq'])\n",
    "customer_df['SaleAmount_log'] = np.log1p(customer_df['SaleAmount'])\n",
    "customer_df['ElapsedDays_log'] = np.log1p(customer_df['ElapsedDays'])\n",
    "customer_df.head()"
   ]
  },
  {
   "cell_type": "code",
   "execution_count": 96,
   "id": "3267a512",
   "metadata": {},
   "outputs": [],
   "source": [
    "# 시각화를 위해 데이터 조정이 필요하면....np.log1p() 적용하여 시각화\n",
    "# 학습을 위한 데이터 조정이 필요하면 StandardScale을 적용하여 시각화\n",
    "\n",
    "# sklearn을 이용하여 pandas, numpy 등 각종 함수를 써서 데이터를 정제하는 것 보다,\n",
    "# 당장 빠르게 시각화 하여 간편하게 확인하기에는 mp.log1p()가 유용"
   ]
  },
  {
   "cell_type": "code",
   "execution_count": 98,
   "id": "136f2306",
   "metadata": {},
   "outputs": [
    {
     "data": {
      "image/png": "[encoded data removed]",
      "text/plain": [
       "<Figure size 432x288 with 1 Axes>"
      ]
     },
     "metadata": {
      "needs_background": "light"
     },
     "output_type": "display_data"
    }
   ],
   "source": [
    "fig, ax = plt.subplots()\n",
    "ax.boxplot( [customer_df['Freq_log'], customer_df['SaleAmount_log'], customer_df['ElapsedDays_log']], sym='bo')\n",
    "\n",
    "plt.xticks([1,2,3], ['Freq_log', 'SaleAmount_log', 'ElapsedDays_log'])\n",
    "plt.show()"
   ]
  },
  {
   "cell_type": "markdown",
   "id": "eb2cf44e",
   "metadata": {},
   "source": [
    "# k-means (k-평균 군집화 모델)"
   ]
  },
  {
   "cell_type": "code",
   "execution_count": 99,
   "id": "ea61307e",
   "metadata": {},
   "outputs": [],
   "source": [
    "# k-neighnors (k-이웃)과 유사"
   ]
  },
  {
   "cell_type": "code",
   "execution_count": 115,
   "id": "cfdbafaa",
   "metadata": {},
   "outputs": [],
   "source": [
    "from sklearn.cluster import KMeans\n",
    "from sklearn.metrics import silhouette_score, silhouette_samples"
   ]
  },
  {
   "cell_type": "code",
   "execution_count": 116,
   "id": "bc32c9b7",
   "metadata": {},
   "outputs": [],
   "source": [
    "# 원본 데이터에서 뒤 세개의 컬럼(Freq, SaleAmount, ElapsedDays)만 추출하기\n",
    "\n",
    "x_feature = customer_df.iloc[:,-3:].values"
   ]
  },
  {
   "cell_type": "code",
   "execution_count": 117,
   "id": "82b2f75b",
   "metadata": {},
   "outputs": [
    {
     "data": {
      "text/plain": [
       "array([[-2.43663517,  3.69768662,  1.75515689],\n",
       "       [ 1.18886461,  1.41181999, -1.41909282],\n",
       "       [-0.21093425,  0.71904602,  0.22761365],\n",
       "       ...,\n",
       "       [-0.93404238, -1.10875557, -1.1993198 ],\n",
       "       [ 2.29067291,  0.8215225 , -1.37181561],\n",
       "       [ 0.42881405,  0.73649444, -0.26730562]])"
      ]
     },
     "execution_count": 117,
     "metadata": {},
     "output_type": "execute_result"
    }
   ],
   "source": [
    "from sklearn.preprocessing import StandardScaler\n",
    "x_feature_scaled = StandardScaler().fit_transform(x_feature)\n",
    "x_feature_scaled"
   ]
  },
  {
   "cell_type": "markdown",
   "id": "c5aeb172",
   "metadata": {},
   "source": [
    "# *log1p VS KMeans*\n",
    "### log1p() 보다 더욱 디테일 함\n",
    "### - log1p : log 이용\n",
    "### - StandardScale : 정규분포를 이용하여 스케일링\n",
    "### ** 두 가지를 혼용하여 사용하기도 함"
   ]
  },
  {
   "cell_type": "code",
   "execution_count": 122,
   "id": "48003065",
   "metadata": {},
   "outputs": [
    {
     "data": {
      "image/png": "[encoded data removed]",
      "text/plain": [
       "<Figure size 432x288 with 1 Axes>"
      ]
     },
     "metadata": {
      "needs_background": "light"
     },
     "output_type": "display_data"
    }
   ],
   "source": [
    "# k-평균 군집화 모델을 이용\n",
    "# 엘보 방법을 이용하여 군집의 개수 선택\n",
    "\n",
    "Distortion = [] # 왜곡 값 저장할 변수\n",
    "for i in range(1, 11):\n",
    "    # 모델 생성 \n",
    "    KM_i = KMeans(n_clusters=i, random_state=0) # 고정값을 주지 않으면 매번 값이 달라지기 때문에 필수요소\n",
    "    # scaled data 훈련시키기\n",
    "    KM_i.fit(x_feature_scaled)\n",
    "    # 훈련시킨 모델에 왜곡값 저장\n",
    "    Distortion.append(KM_i.inertia_)\n",
    "    \n",
    "plt.plot(range(1,11), Distortion, marker='o') # x,y값\n",
    "plt.xlabel(\"Number of Cluster\")\n",
    "plt.ylabel(\"Distortion\")\n",
    "\n",
    "plt.show()\n",
    "\n",
    "# 초반에 급격하게 꺾인 부분과 완만해지기 시작하는 부분 사이의 값이 가장 적절함을 알 수 있음\n",
    "# 해당 그래프에서는 3이 가장 적절한 것으로 볼 수 있음"
   ]
  },
  {
   "cell_type": "code",
   "execution_count": 123,
   "id": "2ae781cd",
   "metadata": {},
   "outputs": [],
   "source": [
    "# 클러스터의 개수 k를 3으로 설정해서 k-평균 모델을 다시 구축한 후,\n",
    "# 모델에서 만든 클러스터 레이블 확인"
   ]
  },
  {
   "cell_type": "code",
   "execution_count": 133,
   "id": "55b7eec6",
   "metadata": {},
   "outputs": [],
   "source": [
    "kmeans = KMeans(n_clusters=3, random_state=0)\n",
    "\n",
    "# 학습된 모델과 결과예측값(클러스터 레이블 생성하기)\n",
    "y_predict = kmeans.fit_predict(x_feature_scaled) # 학습 + 예측 동시에"
   ]
  },
  {
   "cell_type": "code",
   "execution_count": 134,
   "id": "110fc472",
   "metadata": {},
   "outputs": [
    {
     "data": {
      "text/html": [
       "<div>\n",
       "<style scoped>\n",
       "    .dataframe tbody tr th:only-of-type {\n",
       "        vertical-align: middle;\n",
       "    }\n",
       "\n",
       "    .dataframe tbody tr th {\n",
       "        vertical-align: top;\n",
       "    }\n",
       "\n",
       "    .dataframe thead th {\n",
       "        text-align: right;\n",
       "    }\n",
       "</style>\n",
       "<table border=\"1\" class=\"dataframe\">\n",
       "  <thead>\n",
       "    <tr style=\"text-align: right;\">\n",
       "      <th></th>\n",
       "      <th>CustomerID</th>\n",
       "      <th>Freq</th>\n",
       "      <th>SaleAmount</th>\n",
       "      <th>ElapsedDays</th>\n",
       "      <th>Freq_log</th>\n",
       "      <th>SaleAmount_log</th>\n",
       "      <th>ElapsedDays_log</th>\n",
       "      <th>clusterLabel</th>\n",
       "    </tr>\n",
       "  </thead>\n",
       "  <tbody>\n",
       "    <tr>\n",
       "      <th>0</th>\n",
       "      <td>12346</td>\n",
       "      <td>1</td>\n",
       "      <td>77183.60</td>\n",
       "      <td>347</td>\n",
       "      <td>0.693147</td>\n",
       "      <td>11.253955</td>\n",
       "      <td>5.852202</td>\n",
       "      <td>2</td>\n",
       "    </tr>\n",
       "    <tr>\n",
       "      <th>1</th>\n",
       "      <td>12347</td>\n",
       "      <td>182</td>\n",
       "      <td>4310.00</td>\n",
       "      <td>24</td>\n",
       "      <td>5.209486</td>\n",
       "      <td>8.368925</td>\n",
       "      <td>3.218876</td>\n",
       "      <td>0</td>\n",
       "    </tr>\n",
       "    <tr>\n",
       "      <th>2</th>\n",
       "      <td>12348</td>\n",
       "      <td>31</td>\n",
       "      <td>1797.24</td>\n",
       "      <td>97</td>\n",
       "      <td>3.465736</td>\n",
       "      <td>7.494564</td>\n",
       "      <td>4.584967</td>\n",
       "      <td>1</td>\n",
       "    </tr>\n",
       "    <tr>\n",
       "      <th>3</th>\n",
       "      <td>12349</td>\n",
       "      <td>73</td>\n",
       "      <td>1757.55</td>\n",
       "      <td>40</td>\n",
       "      <td>4.304065</td>\n",
       "      <td>7.472245</td>\n",
       "      <td>3.713572</td>\n",
       "      <td>0</td>\n",
       "    </tr>\n",
       "    <tr>\n",
       "      <th>4</th>\n",
       "      <td>12350</td>\n",
       "      <td>17</td>\n",
       "      <td>334.40</td>\n",
       "      <td>332</td>\n",
       "      <td>2.890372</td>\n",
       "      <td>5.815324</td>\n",
       "      <td>5.808142</td>\n",
       "      <td>2</td>\n",
       "    </tr>\n",
       "  </tbody>\n",
       "</table>\n",
       "</div>"
      ],
      "text/plain": [
       "   CustomerID  Freq  SaleAmount  ElapsedDays  Freq_log  SaleAmount_log  \\\n",
       "0       12346     1    77183.60          347  0.693147       11.253955   \n",
       "1       12347   182     4310.00           24  5.209486        8.368925   \n",
       "2       12348    31     1797.24           97  3.465736        7.494564   \n",
       "3       12349    73     1757.55           40  4.304065        7.472245   \n",
       "4       12350    17      334.40          332  2.890372        5.815324   \n",
       "\n",
       "   ElapsedDays_log  clusterLabel  \n",
       "0         5.852202             2  \n",
       "1         3.218876             0  \n",
       "2         4.584967             1  \n",
       "3         3.713572             0  \n",
       "4         5.808142             2  "
      ]
     },
     "execution_count": 134,
     "metadata": {},
     "output_type": "execute_result"
    }
   ],
   "source": [
    "customer_df['clusterLabel'] = y_predict\n",
    "customer_df.head()"
   ]
  },
  {
   "cell_type": "markdown",
   "id": "12616c2f",
   "metadata": {},
   "source": [
    "# 실루엣 분석 (응집력의 정도)"
   ]
  },
  {
   "cell_type": "code",
   "execution_count": 135,
   "id": "6ec4d1a3",
   "metadata": {},
   "outputs": [],
   "source": [
    "# 각 클러스터의 비중을 가로바 차트로 시각화\n",
    "from matplotlib import cm"
   ]
  },
  {
   "cell_type": "code",
   "execution_count": 137,
   "id": "f437290d",
   "metadata": {},
   "outputs": [],
   "source": [
    "def silhouetteViz(n_cluster, X_features):\n",
    "    kmeans = KMeans(n_clusters = n_cluster, random_state = 0)\n",
    "    Y_labels = kmeans.fit_predict(X_features)\n",
    "\n",
    "    silhouette_values = silhouette_samples(X_features, Y_labels, metric = 'euclidean')\n",
    "\n",
    "    y_ax_lower, y_ax_upper = 0, 0\n",
    "    y_ticks = []\n",
    "\n",
    "    for c in range(n_cluster):\n",
    "        c_silhouettes = silhouette_values[Y_labels == c]\n",
    "        c_silhouettes.sort()\n",
    "        y_ax_upper += len(c_silhouettes)\n",
    "        color = cm.jet(float(c) / n_cluster)\n",
    "        plt.barh(range(y_ax_lower, y_ax_upper), c_silhouettes, height = 1.0, edgecolor = 'none', color = color)\n",
    "        y_ticks.append((y_ax_lower + y_ax_upper) / 2.)\n",
    "        y_ax_lower += len(c_silhouettes)\n",
    "\n",
    "    silhouette_avg = np.mean(silhouette_values)\n",
    "    plt.axvline(silhouette_avg, color = 'red', linestyle = '--')\n",
    "    plt.title('Number of Cluster : '+ str(n_cluster) + '\\n' + 'Silhouette Score : '+ str(round(silhouette_avg,3)))\n",
    "    plt.yticks(y_ticks, range(n_cluster))\n",
    "    plt.xticks([0, 0.2, 0.4, 0.6, 0.8, 1])\n",
    "    plt.ylabel('Cluster')\n",
    "    plt.xlabel('Silhouette coefficient')\n",
    "    plt.tight_layout()\n",
    "    plt.show()"
   ]
  },
  {
   "cell_type": "code",
   "execution_count": 144,
   "id": "d9e8ec39",
   "metadata": {},
   "outputs": [
    {
     "data": {
      "image/png": "[encoded data removed]",
      "text/plain": [
       "<Figure size 432x288 with 1 Axes>"
      ]
     },
     "metadata": {
      "needs_background": "light"
     },
     "output_type": "display_data"
    },
    {
     "data": {
      "image/png": "[encoded data removed]",
      "text/plain": [
       "<Figure size 432x288 with 1 Axes>"
      ]
     },
     "metadata": {
      "needs_background": "light"
     },
     "output_type": "display_data"
    },
    {
     "data": {
      "image/png": "[encoded data removed]",
      "text/plain": [
       "<Figure size 432x288 with 1 Axes>"
      ]
     },
     "metadata": {
      "needs_background": "light"
     },
     "output_type": "display_data"
    },
    {
     "data": {
      "image/png": "[encoded data removed]",
      "text/plain": [
       "<Figure size 432x288 with 1 Axes>"
      ]
     },
     "metadata": {
      "needs_background": "light"
     },
     "output_type": "display_data"
    },
    {
     "data": {
      "image/png": "[encoded data removed]",
      "text/plain": [
       "<Figure size 432x288 with 1 Axes>"
      ]
     },
     "metadata": {
      "needs_background": "light"
     },
     "output_type": "display_data"
    }
   ],
   "source": [
    "# 실루엣은 1에 가까울수록 적정 군집\n",
    "\n",
    "# 1개는 Error -->  군집을 하나로 본다는 것이므로 어차피 의미가 없음\n",
    "silhouetteViz(2, x_feature_scaled) # 0.397\n",
    "silhouetteViz(3, x_feature_scaled) # 0.327\n",
    "silhouetteViz(4, x_feature_scaled) # 0.323\n",
    "silhouetteViz(5, x_feature_scaled) # 0.301\n",
    "silhouetteViz(6, x_feature_scaled) # 0.293"
   ]
  },
  {
   "cell_type": "code",
   "execution_count": 141,
   "id": "45cac909",
   "metadata": {},
   "outputs": [],
   "source": [
    "# 클러스터 분포\n",
    "def clusterScatter(n_cluster, X_features):\n",
    "    c_colors = []\n",
    "    kmeans = KMeans(n_clusters = n_cluster, random_state = 0)\n",
    "    Y_labels = kmeans.fit_predict(X_features)\n",
    "\n",
    "    for i in range(n_cluster):\n",
    "        c_color = cm.jet(float(i) / n_cluster) #클러스터의 색상 설정\n",
    "        c_colors.append(c_color)\n",
    "        #클러스터의 데이터 분포를 동그라미로 시각화\n",
    "        plt.scatter(X_features[Y_labels == i,0], X_features[Y_labels == i,1], marker = 'o', color =  c_color, edgecolor = 'black', s = 50, label = 'cluster '+ str(i))\n",
    "\n",
    "    #각 클러스터의 중심점을 삼각형으로 표시\n",
    "    for i in range(n_cluster):\n",
    "        plt.scatter(kmeans.cluster_centers_[i,0], kmeans.cluster_centers_[i,1], marker = '^', color = c_colors[i], edgecolor = 'w', s = 200)\n",
    "        plt.legend()\n",
    "        plt.grid()\n",
    "        plt.tight_layout()\n",
    "        plt.show()"
   ]
  },
  {
   "cell_type": "code",
   "execution_count": 145,
   "id": "965ed6f4",
   "metadata": {
    "scrolled": true
   },
   "outputs": [
    {
     "data": {
      "image/png": "[encoded data removed]",
      "text/plain": [
       "<Figure size 432x288 with 1 Axes>"
      ]
     },
     "metadata": {
      "needs_background": "light"
     },
     "output_type": "display_data"
    },
    {
     "name": "stderr",
     "output_type": "stream",
     "text": [
      "No handles with labels found to put in legend.\n"
     ]
    },
    {
     "data": {
      "image/png": "[encoded data removed]",
      "text/plain": [
       "<Figure size 432x288 with 1 Axes>"
      ]
     },
     "metadata": {
      "needs_background": "light"
     },
     "output_type": "display_data"
    }
   ],
   "source": [
    "clusterScatter(2, x_feature_scaled)"
   ]
  },
  {
   "cell_type": "code",
   "execution_count": 146,
   "id": "5b43fedf",
   "metadata": {},
   "outputs": [
    {
     "data": {
      "image/png": "[encoded data removed]",
      "text/plain": [
       "<Figure size 432x288 with 1 Axes>"
      ]
     },
     "metadata": {
      "needs_background": "light"
     },
     "output_type": "display_data"
    },
    {
     "name": "stderr",
     "output_type": "stream",
     "text": [
      "No handles with labels found to put in legend.\n"
     ]
    },
    {
     "data": {
      "image/png": "[encoded data removed]",
      "text/plain": [
       "<Figure size 432x288 with 1 Axes>"
      ]
     },
     "metadata": {
      "needs_background": "light"
     },
     "output_type": "display_data"
    },
    {
     "name": "stderr",
     "output_type": "stream",
     "text": [
      "No handles with labels found to put in legend.\n"
     ]
    },
    {
     "data": {
      "image/png": "[encoded data removed]",
      "text/plain": [
       "<Figure size 432x288 with 1 Axes>"
      ]
     },
     "metadata": {
      "needs_background": "light"
     },
     "output_type": "display_data"
    }
   ],
   "source": [
    "clusterScatter(3, x_feature_scaled)"
   ]
  },
  {
   "cell_type": "markdown",
   "id": "cf233399",
   "metadata": {},
   "source": [
    "## 엘보 & 실루엣 모두 2일 때 가장 최적의 군집을 이룬다는 것을 알 수 있음"
   ]
  },
  {
   "cell_type": "code",
   "execution_count": 147,
   "id": "c18c9324",
   "metadata": {},
   "outputs": [],
   "source": [
    "# 클러스터를 2개로 재조정\n",
    "best_cluster = 2\n",
    "kmeans = KMeans(n_clusters=best_cluster, random_state=0)\n",
    "y_predict = kmeans.fit_predict(x_feature_scaled)"
   ]
  },
  {
   "cell_type": "code",
   "execution_count": 150,
   "id": "b2172ecf",
   "metadata": {},
   "outputs": [
    {
     "data": {
      "text/html": [
       "<div>\n",
       "<style scoped>\n",
       "    .dataframe tbody tr th:only-of-type {\n",
       "        vertical-align: middle;\n",
       "    }\n",
       "\n",
       "    .dataframe tbody tr th {\n",
       "        vertical-align: top;\n",
       "    }\n",
       "\n",
       "    .dataframe thead th {\n",
       "        text-align: right;\n",
       "    }\n",
       "</style>\n",
       "<table border=\"1\" class=\"dataframe\">\n",
       "  <thead>\n",
       "    <tr style=\"text-align: right;\">\n",
       "      <th></th>\n",
       "      <th>CustomerID</th>\n",
       "      <th>Freq</th>\n",
       "      <th>SaleAmount</th>\n",
       "      <th>ElapsedDays</th>\n",
       "      <th>Freq_log</th>\n",
       "      <th>SaleAmount_log</th>\n",
       "      <th>ElapsedDays_log</th>\n",
       "      <th>clusterLabel</th>\n",
       "    </tr>\n",
       "  </thead>\n",
       "  <tbody>\n",
       "    <tr>\n",
       "      <th>0</th>\n",
       "      <td>12346</td>\n",
       "      <td>1</td>\n",
       "      <td>77183.60</td>\n",
       "      <td>347</td>\n",
       "      <td>0.693147</td>\n",
       "      <td>11.253955</td>\n",
       "      <td>5.852202</td>\n",
       "      <td>0</td>\n",
       "    </tr>\n",
       "    <tr>\n",
       "      <th>1</th>\n",
       "      <td>12347</td>\n",
       "      <td>182</td>\n",
       "      <td>4310.00</td>\n",
       "      <td>24</td>\n",
       "      <td>5.209486</td>\n",
       "      <td>8.368925</td>\n",
       "      <td>3.218876</td>\n",
       "      <td>1</td>\n",
       "    </tr>\n",
       "    <tr>\n",
       "      <th>2</th>\n",
       "      <td>12348</td>\n",
       "      <td>31</td>\n",
       "      <td>1797.24</td>\n",
       "      <td>97</td>\n",
       "      <td>3.465736</td>\n",
       "      <td>7.494564</td>\n",
       "      <td>4.584967</td>\n",
       "      <td>1</td>\n",
       "    </tr>\n",
       "    <tr>\n",
       "      <th>3</th>\n",
       "      <td>12349</td>\n",
       "      <td>73</td>\n",
       "      <td>1757.55</td>\n",
       "      <td>40</td>\n",
       "      <td>4.304065</td>\n",
       "      <td>7.472245</td>\n",
       "      <td>3.713572</td>\n",
       "      <td>1</td>\n",
       "    </tr>\n",
       "    <tr>\n",
       "      <th>4</th>\n",
       "      <td>12350</td>\n",
       "      <td>17</td>\n",
       "      <td>334.40</td>\n",
       "      <td>332</td>\n",
       "      <td>2.890372</td>\n",
       "      <td>5.815324</td>\n",
       "      <td>5.808142</td>\n",
       "      <td>0</td>\n",
       "    </tr>\n",
       "  </tbody>\n",
       "</table>\n",
       "</div>"
      ],
      "text/plain": [
       "   CustomerID  Freq  SaleAmount  ElapsedDays  Freq_log  SaleAmount_log  \\\n",
       "0       12346     1    77183.60          347  0.693147       11.253955   \n",
       "1       12347   182     4310.00           24  5.209486        8.368925   \n",
       "2       12348    31     1797.24           97  3.465736        7.494564   \n",
       "3       12349    73     1757.55           40  4.304065        7.472245   \n",
       "4       12350    17      334.40          332  2.890372        5.815324   \n",
       "\n",
       "   ElapsedDays_log  clusterLabel  \n",
       "0         5.852202             0  \n",
       "1         3.218876             1  \n",
       "2         4.584967             1  \n",
       "3         3.713572             1  \n",
       "4         5.808142             0  "
      ]
     },
     "execution_count": 150,
     "metadata": {},
     "output_type": "execute_result"
    }
   ],
   "source": [
    "customer_df['clusterLabel'] = y_predict\n",
    "customer_df.head()"
   ]
  },
  {
   "cell_type": "code",
   "execution_count": 151,
   "id": "ac16b261",
   "metadata": {},
   "outputs": [],
   "source": [
    "# DataFrame을 파일로 저장\n",
    "customer_df.to_csv(r'C:\\Users\\pc\\_MachineLearning\\20220311\\customer_cluster.csv')"
   ]
  },
  {
   "cell_type": "code",
   "execution_count": 152,
   "id": "03754a1d",
   "metadata": {},
   "outputs": [
    {
     "data": {
      "text/plain": [
       "clusterLabel\n",
       "0    2282\n",
       "1    2057\n",
       "Name: CustomerID, dtype: int64"
      ]
     },
     "execution_count": 152,
     "metadata": {},
     "output_type": "execute_result"
    }
   ],
   "source": [
    "# 소비자 군집 완성\n",
    "customer_df.groupby('clusterLabel')['CustomerID'].count()"
   ]
  },
  {
   "cell_type": "markdown",
   "id": "faf9fd92",
   "metadata": {},
   "source": [
    "# < 차주 계획 >\n",
    "### - Cluster별로 고객의 구매빈도, 마지막 구매일 이후 얼마나 경과...등 각종 통계 구하기\n",
    "### - 각 클러스터의 특징 파악 후 마케팅에 활용하기\n",
    "### !! 주의 !!\n",
    "### *위 예시에서는 2개 군집이 최적의 값이었으나...*\n",
    "### *마케팅에 활용하려면 고객을 보다 더 세분화 하여 분석하는 것이 좋을 것*"
   ]
  },
  {
   "cell_type": "code",
   "execution_count": null,
   "id": "7eadfc1f",
   "metadata": {},
   "outputs": [],
   "source": []
  }
 ],
 "metadata": {
  "kernelspec": {
   "display_name": "Python 3 (ipykernel)",
   "language": "python",
   "name": "python3"
  },
  "language_info": {
   "codemirror_mode": {
    "name": "ipython",
    "version": 3
   },
   "file_extension": ".py",
   "mimetype": "text/x-python",
   "name": "python",
   "nbconvert_exporter": "python",
   "pygments_lexer": "ipython3",
   "version": "3.9.7"
  }
 },
 "nbformat": 4,
 "nbformat_minor": 5
}
