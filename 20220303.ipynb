{
 "cells": [
  {
   "cell_type": "code",
   "execution_count": 1,
   "id": "185a2d83",
   "metadata": {},
   "outputs": [],
   "source": [
    "import numpy as np"
   ]
  },
  {
   "cell_type": "code",
   "execution_count": 2,
   "id": "ace7913f",
   "metadata": {},
   "outputs": [],
   "source": [
    "length = np.array(\n",
    "    [8.4, 13.7, 15.0, 16.2, 17.4, 18.0, 18.7, 19.0, 19.6, 20.0, \n",
    "     21.0, 21.0, 21.0, 21.3, 22.0, 22.0, 22.0, 22.0, 22.0, 22.5, \n",
    "     22.5, 22.7, 23.0, 23.5, 24.0, 24.0, 24.6, 25.0, 25.6, 26.5, \n",
    "     27.3, 27.5, 27.5, 27.5, 28.0, 28.7, 30.0, 32.8, 34.5, 35.0, \n",
    "     36.5, 36.0, 37.0, 37.0, 39.0, 39.0, 39.0, 40.0, 40.0, 40.0, \n",
    "     40.0, 42.0, 43.0, 43.0, 43.5, 44.0]\n",
    "     )\n",
    "weight = np.array(\n",
    "    [5.9, 32.0, 40.0, 51.5, 70.0, 100.0, 78.0, 80.0, 85.0, 85.0, \n",
    "     110.0, 115.0, 125.0, 130.0, 120.0, 120.0, 130.0, 135.0, 110.0, \n",
    "     130.0, 150.0, 145.0, 150.0, 170.0, 225.0, 145.0, 188.0, 180.0, \n",
    "     197.0, 218.0, 300.0, 260.0, 265.0, 250.0, 250.0, 300.0, 320.0, \n",
    "     514.0, 556.0, 840.0, 685.0, 700.0, 700.0, 690.0, 900.0, 650.0, \n",
    "     820.0, 850.0, 900.0, 1015.0, 820.0, 1100.0, 1000.0, 1100.0, \n",
    "     1000.0, 1000.0]\n",
    "     )"
   ]
  },
  {
   "cell_type": "markdown",
   "id": "ddd8267b",
   "metadata": {},
   "source": [
    "### 길이가 50, 무게는 ??"
   ]
  },
  {
   "cell_type": "markdown",
   "id": "731265a2",
   "metadata": {},
   "source": [
    "#### 예측 :  회귀(regressor)\n",
    "#### 분류 : 분류(class)\n",
    "#### EDA(탐색적 데이터 분석) (80~90%) --> 데이터(학습용/검증용) --> 적절한 머신러닝 선택 --> 평가(평균제곱오차) & score 데이터\n",
    "#### - 시간이 오래 걸림\n"
   ]
  },
  {
   "cell_type": "code",
   "execution_count": 6,
   "id": "2d65840e",
   "metadata": {},
   "outputs": [],
   "source": [
    "from sklearn.model_selection import train_test_split\n",
    "train, test, train_target, test_target = train_test_split(length, weight, random_state=42)\n",
    "# 입력데이터 차수 변경하기\n",
    "train = train.reshape(-1,1)\n",
    "test = test.reshape(-1,1)"
   ]
  },
  {
   "cell_type": "code",
   "execution_count": 14,
   "id": "0d484e04",
   "metadata": {},
   "outputs": [
    {
     "data": {
      "text/plain": [
       "KNeighborsRegressor(n_neighbors=3)"
      ]
     },
     "execution_count": 14,
     "metadata": {},
     "output_type": "execute_result"
    }
   ],
   "source": [
    "from sklearn.neighbors import KNeighborsRegressor\n",
    "knr = KNeighborsRegressor(n_neighbors=3) # 이웃의 개수 : 3\n",
    "knr.fit(train, train_target)"
   ]
  },
  {
   "cell_type": "code",
   "execution_count": 15,
   "id": "6b613dd6",
   "metadata": {},
   "outputs": [
    {
     "data": {
      "text/plain": [
       "(42, 1)"
      ]
     },
     "execution_count": 15,
     "metadata": {},
     "output_type": "execute_result"
    }
   ],
   "source": [
    "train.shape # 2차원"
   ]
  },
  {
   "cell_type": "code",
   "execution_count": 16,
   "id": "abc288e1",
   "metadata": {},
   "outputs": [
    {
     "data": {
      "text/plain": [
       "array([1033.33333333])"
      ]
     },
     "execution_count": 16,
     "metadata": {},
     "output_type": "execute_result"
    }
   ],
   "source": [
    "knr.predict([[50]])"
   ]
  },
  {
   "cell_type": "code",
   "execution_count": 18,
   "id": "06a6760c",
   "metadata": {},
   "outputs": [],
   "source": [
    "# 시각화를 통해 K 최근접 이웃 알고리즘을 적용한 값을 시각화 함"
   ]
  },
  {
   "cell_type": "code",
   "execution_count": 19,
   "id": "906c8157",
   "metadata": {},
   "outputs": [
    {
     "data": {
      "text/plain": [
       "(array([[6., 7., 7.]]), array([[34,  8, 14]], dtype=int64))"
      ]
     },
     "execution_count": 19,
     "metadata": {},
     "output_type": "execute_result"
    }
   ],
   "source": [
    "distance, indexes = knr.kneighbors([[50]])\n",
    "distance, indexes"
   ]
  },
  {
   "cell_type": "code",
   "execution_count": 25,
   "id": "255c85a8",
   "metadata": {},
   "outputs": [
    {
     "data": {
      "image/png": "[encoded data removed]",
      "text/plain": [
       "<Figure size 432x288 with 1 Axes>"
      ]
     },
     "metadata": {
      "needs_background": "light"
     },
     "output_type": "display_data"
    }
   ],
   "source": [
    "import matplotlib.pyplot as plt\n",
    "plt.scatter(train, train_target)\n",
    "plt.scatter(50, 1033, marker='^')\n",
    "plt.scatter(train[indexes], train_target[indexes], marker='D')\n",
    "\n",
    "plt.xlabel('length')\n",
    "plt.ylabel('weight')\n",
    "plt.show() # 객체명이 가려짐"
   ]
  },
  {
   "cell_type": "code",
   "execution_count": 26,
   "id": "996806e4",
   "metadata": {},
   "outputs": [
    {
     "data": {
      "text/plain": [
       "array([1033.33333333])"
      ]
     },
     "execution_count": 26,
     "metadata": {},
     "output_type": "execute_result"
    }
   ],
   "source": [
    "knr.predict([[100]])"
   ]
  },
  {
   "cell_type": "code",
   "execution_count": 35,
   "id": "7912dfc9",
   "metadata": {},
   "outputs": [
    {
     "data": {
      "text/plain": [
       "LinearRegression()"
      ]
     },
     "execution_count": 35,
     "metadata": {},
     "output_type": "execute_result"
    }
   ],
   "source": [
    "from sklearn.linear_model import LinearRegression\n",
    "lr = LinearRegression()\n",
    "lr.fit(train, train_target)"
   ]
  },
  {
   "cell_type": "code",
   "execution_count": 44,
   "id": "860544a8",
   "metadata": {},
   "outputs": [
    {
     "data": {
      "text/plain": [
       "array([3192.69585141])"
      ]
     },
     "execution_count": 44,
     "metadata": {},
     "output_type": "execute_result"
    }
   ],
   "source": [
    "lr.predict([[100]])"
   ]
  },
  {
   "cell_type": "code",
   "execution_count": 38,
   "id": "e81ca22e",
   "metadata": {},
   "outputs": [
    {
     "data": {
      "text/plain": [
       "array([-396.88148524])"
      ]
     },
     "execution_count": 38,
     "metadata": {},
     "output_type": "execute_result"
    }
   ],
   "source": [
    "lr.predict([[8]])"
   ]
  },
  {
   "cell_type": "code",
   "execution_count": 39,
   "id": "0548f544",
   "metadata": {},
   "outputs": [
    {
     "data": {
      "text/plain": [
       "(array([39.01714496]), -709.018644953547)"
      ]
     },
     "execution_count": 39,
     "metadata": {},
     "output_type": "execute_result"
    }
   ],
   "source": [
    "lr.coef_, lr.intercept_"
   ]
  },
  {
   "cell_type": "markdown",
   "id": "6d223873",
   "metadata": {},
   "source": [
    "### 선형 회귀 시각화"
   ]
  },
  {
   "cell_type": "code",
   "execution_count": 68,
   "id": "49c13042",
   "metadata": {},
   "outputs": [
    {
     "data": {
      "image/png": "[encoded data removed]",
      "text/plain": [
       "<Figure size 432x288 with 1 Axes>"
      ]
     },
     "metadata": {
      "needs_background": "light"
     },
     "output_type": "display_data"
    }
   ],
   "source": [
    "plt.scatter(train, train_target)\n",
    "plt.scatter(50, 1241.83860323, marker='^')\n",
    "plt.scatter(100,3192.69585141, marker='^')\n",
    "plt.xlabel('length')\n",
    "plt.ylabel('weight')\n",
    "\n",
    "plt.plot([8,100], [-339.88148524, 3192.69585141])\n",
    "plt.show()"
   ]
  },
  {
   "cell_type": "code",
   "execution_count": 41,
   "id": "0a6b6a1a",
   "metadata": {},
   "outputs": [
    {
     "data": {
      "text/plain": [
       "64.89383276543603"
      ]
     },
     "execution_count": 41,
     "metadata": {},
     "output_type": "execute_result"
    }
   ],
   "source": [
    "from sklearn.metrics import mean_absolute_error\n",
    "lr_predict = lr.predict(train)\n",
    "mean_absolute_error(train_target, lr_predict)"
   ]
  },
  {
   "cell_type": "markdown",
   "id": "49e8ed53",
   "metadata": {},
   "source": [
    "### 선형 방정식의 문제점은 직선이기 때문에 음수가 나올 수 있음...\n",
    "### 그리고 값이 크거나 작을수록 변동폭이 큼 (정확한 값을 반영하기 힘듦)..."
   ]
  },
  {
   "cell_type": "markdown",
   "id": "6d537dab",
   "metadata": {},
   "source": [
    "## 다항 회귀"
   ]
  },
  {
   "cell_type": "code",
   "execution_count": 48,
   "id": "ff4bbfaa",
   "metadata": {},
   "outputs": [
    {
     "data": {
      "text/plain": [
       "array([[1, 2],\n",
       "       [2, 3],\n",
       "       [3, 4]])"
      ]
     },
     "execution_count": 48,
     "metadata": {},
     "output_type": "execute_result"
    }
   ],
   "source": [
    "# np.column_stack의 기능\n",
    "a = np.array((1,2,3))\n",
    "b = np.array((2,3,4))\n",
    "\n",
    "# 1)\n",
    "np.column_stack((a,b)) # a와 b를 하나의 리스트로 묶어줌\n",
    "\n",
    "# 2) 컴프리헨션과 zip 함수를 이용하여 쌍으로 묶어 반환 \n",
    "temp = [[i,j] for i,j in zip(a,b)]\n",
    "np.array(temp)"
   ]
  },
  {
   "cell_type": "code",
   "execution_count": 49,
   "id": "a4b1bc31",
   "metadata": {
    "scrolled": true
   },
   "outputs": [],
   "source": [
    "train_poly = np.column_stack((train**2, train)) \n",
    "test_poly = np.column_stack((test**2, test))"
   ]
  },
  {
   "cell_type": "code",
   "execution_count": 50,
   "id": "e61b3be4",
   "metadata": {},
   "outputs": [
    {
     "data": {
      "text/plain": [
       "((42, 2), (14, 2))"
      ]
     },
     "execution_count": 50,
     "metadata": {},
     "output_type": "execute_result"
    }
   ],
   "source": [
    "train_poly.shape, test_poly.shape"
   ]
  },
  {
   "cell_type": "code",
   "execution_count": 51,
   "id": "3ab548c7",
   "metadata": {},
   "outputs": [
    {
     "data": {
      "text/plain": [
       "LinearRegression()"
      ]
     },
     "execution_count": 51,
     "metadata": {},
     "output_type": "execute_result"
    }
   ],
   "source": [
    "# 훈련\n",
    "lr.fit(train_poly, train_target)"
   ]
  },
  {
   "cell_type": "code",
   "execution_count": 59,
   "id": "a6179ca8",
   "metadata": {},
   "outputs": [
    {
     "data": {
      "text/plain": [
       "array([1573.98423528])"
      ]
     },
     "execution_count": 59,
     "metadata": {},
     "output_type": "execute_result"
    }
   ],
   "source": [
    "# 예측\n",
    "lr.predict([[50**2, 50]])"
   ]
  },
  {
   "cell_type": "code",
   "execution_count": 60,
   "id": "2df30407",
   "metadata": {},
   "outputs": [
    {
     "data": {
      "text/plain": [
       "(array([  1.01433211, -21.55792498]), 116.05021078278293)"
      ]
     },
     "execution_count": 60,
     "metadata": {},
     "output_type": "execute_result"
    }
   ],
   "source": [
    "# y = ax(제곱) + bx + c \n",
    "# - 위 값이 a, b, c 순서로 출력됨\n",
    "lr.coef_, lr.intercept_"
   ]
  },
  {
   "cell_type": "code",
   "execution_count": 63,
   "id": "d9506cae",
   "metadata": {},
   "outputs": [
    {
     "data": {
      "text/plain": [
       "1573.9842352827402"
      ]
     },
     "execution_count": 63,
     "metadata": {},
     "output_type": "execute_result"
    }
   ],
   "source": [
    "lr.coef_[0]*(50**2) + lr.coef_[1]*50 + lr.intercept_\n",
    "# lr.predict([[50**2, 50]]) 와 동일한 값 출력"
   ]
  },
  {
   "cell_type": "markdown",
   "id": "c9a7098e",
   "metadata": {},
   "source": [
    "## 다형 회귀에 대한 시각화"
   ]
  },
  {
   "cell_type": "code",
   "execution_count": 69,
   "id": "be5b27ba",
   "metadata": {},
   "outputs": [
    {
     "data": {
      "text/plain": [
       "<matplotlib.collections.PathCollection at 0x1bd0e500a90>"
      ]
     },
     "execution_count": 69,
     "metadata": {},
     "output_type": "execute_result"
    },
    {
     "data": {
      "image/png": "[encoded data removed]",
      "text/plain": [
       "<Figure size 432x288 with 1 Axes>"
      ]
     },
     "metadata": {
      "needs_background": "light"
     },
     "output_type": "display_data"
    }
   ],
   "source": [
    "plt.scatter(train, train_target)\n",
    "plt.scatter(50, 1573.9842352827402, marker='^')"
   ]
  },
  {
   "cell_type": "markdown",
   "id": "4f5cfbbd",
   "metadata": {},
   "source": [
    "## 방정식 그래프로 그리기"
   ]
  },
  {
   "cell_type": "code",
   "execution_count": 72,
   "id": "af37dcc6",
   "metadata": {},
   "outputs": [
    {
     "data": {
      "text/plain": [
       "[<matplotlib.lines.Line2D at 0x1bd0f5e45b0>]"
      ]
     },
     "execution_count": 72,
     "metadata": {},
     "output_type": "execute_result"
    },
    {
     "data": {
      "image/png": "[encoded data removed]",
      "text/plain": [
       "<Figure size 432x288 with 1 Axes>"
      ]
     },
     "metadata": {
      "needs_background": "light"
     },
     "output_type": "display_data"
    }
   ],
   "source": [
    "# 직선\n",
    "plt.scatter(train, train_target)\n",
    "plt.scatter(50, 1573.9842352827402, marker='^')\n",
    "plt.plot([15, 50], [lr.predict([[15**2, 15]]), lr.predict([[50**2, 50]])])"
   ]
  },
  {
   "cell_type": "code",
   "execution_count": 79,
   "id": "196d8517",
   "metadata": {},
   "outputs": [
    {
     "data": {
      "text/plain": [
       "array([  20.90606071,   30.79243112,   42.70746575,   56.6511646 ,\n",
       "         72.62352767,   90.62455496,  110.65424646,  132.71260219,\n",
       "        156.79962213,  182.91530629,  211.05965467,  241.23266727,\n",
       "        273.43434409,  307.66468513,  343.92369038,  382.21135986,\n",
       "        422.52769355,  464.87269146,  509.24635359,  555.64867994,\n",
       "        604.07967051,  654.5393253 ,  707.0276443 ,  761.54462753,\n",
       "        818.09027497,  876.66458663,  937.26756251,  999.89920261,\n",
       "       1064.55950693, 1131.24847547, 1199.96610822, 1270.7124052 ,\n",
       "       1343.48736639, 1418.2909918 , 1495.12328143])"
      ]
     },
     "execution_count": 79,
     "metadata": {},
     "output_type": "execute_result"
    }
   ],
   "source": [
    "point = np.arange(15, 50)\n",
    "lr.coef_[0] * (point ** 2) + lr.coef_[1] * point + lr.intercept_"
   ]
  },
  {
   "cell_type": "code",
   "execution_count": 82,
   "id": "b3db799e",
   "metadata": {},
   "outputs": [
    {
     "data": {
      "text/plain": [
       "array([  20.90606071,   30.79243112,   42.70746575,   56.6511646 ,\n",
       "         72.62352767,   90.62455496,  110.65424646,  132.71260219,\n",
       "        156.79962213,  182.91530629,  211.05965467,  241.23266727,\n",
       "        273.43434409,  307.66468513,  343.92369038,  382.21135986,\n",
       "        422.52769355,  464.87269146,  509.24635359,  555.64867994,\n",
       "        604.07967051,  654.5393253 ,  707.0276443 ,  761.54462753,\n",
       "        818.09027497,  876.66458663,  937.26756251,  999.89920261,\n",
       "       1064.55950693, 1131.24847547, 1199.96610822, 1270.7124052 ,\n",
       "       1343.48736639, 1418.2909918 , 1495.12328143])"
      ]
     },
     "execution_count": 82,
     "metadata": {},
     "output_type": "execute_result"
    }
   ],
   "source": [
    "lr.predict([[i**2,i] for i in point])"
   ]
  },
  {
   "cell_type": "code",
   "execution_count": 84,
   "id": "7ae07c24",
   "metadata": {},
   "outputs": [
    {
     "data": {
      "text/plain": [
       "[<matplotlib.lines.Line2D at 0x1bd0db59cd0>]"
      ]
     },
     "execution_count": 84,
     "metadata": {},
     "output_type": "execute_result"
    },
    {
     "data": {
      "image/png": "[encoded data removed]",
      "text/plain": [
       "<Figure size 432x288 with 1 Axes>"
      ]
     },
     "metadata": {
      "needs_background": "light"
     },
     "output_type": "display_data"
    }
   ],
   "source": [
    "# 곡선\n",
    "point = np.arange(15, 50)\n",
    "plt.scatter(train, train_target)\n",
    "plt.scatter(50, 1573.9842352827402, marker='^')\n",
    "plt.plot(point, lr.predict([[i**2,i] for i in point]))"
   ]
  },
  {
   "cell_type": "markdown",
   "id": "2f7f557e",
   "metadata": {},
   "source": [
    "### 길이에 따른 무게가 마이너스가 나오는 오류 (직선의 방정식)을 곡선의 방정식으로 변환하면서 문제점 해결"
   ]
  },
  {
   "cell_type": "code",
   "execution_count": 86,
   "id": "44c430f5",
   "metadata": {},
   "outputs": [],
   "source": [
    "# 머신러닝은 x값이 주어지면 y값이 어떤 값이든 좌표상 데이터가 출력된다.\n",
    "# y = ax + b (1차원 방정식)\n",
    "# 두 개의 값이 주어졌을 때\n",
    "# y = ax(제곱) + bx + c\n",
    "\n",
    "# 결국 x의 값을 가지고 y의 값을 유추한 것이 선형 회귀 방식\n",
    "# 그런데 이 방식은 범위를 벗어나면 경우에 따라 마이너스값을 가질 가능성이 있음\n",
    "# 우리가 구해야 할 값은 '무게'이고 무게는 기본적으로 마이너스값을 가질 수 없으므로\n",
    "# 곡선으로 그려주어 이 문제점을 해결한 것임\n",
    "# x값이 하나의 값밖에 없기 때문에 2차원 형태의 넘파이 배열을 만들기 위해 (즉 조금 더 정확한 값을 반영해 주기 위해)\n",
    "# 기존의 값을 가지고 위와 같은 식을 작성한 것\n",
    "# 항이 여러개이기 때문에 다항 회귀인 것\n",
    "\n",
    "# ... 3차, 4차, 5차까지도 그래프 생성 가능...그러나 차수를 너무 늘리면 과적합이 일어날 수 있음"
   ]
  },
  {
   "cell_type": "code",
   "execution_count": null,
   "id": "1fb8afdb",
   "metadata": {},
   "outputs": [],
   "source": []
  }
 ],
 "metadata": {
  "kernelspec": {
   "display_name": "Python 3 (ipykernel)",
   "language": "python",
   "name": "python3"
  },
  "language_info": {
   "codemirror_mode": {
    "name": "ipython",
    "version": 3
   },
   "file_extension": ".py",
   "mimetype": "text/x-python",
   "name": "python",
   "nbconvert_exporter": "python",
   "pygments_lexer": "ipython3",
   "version": "3.9.7"
  }
 },
 "nbformat": 4,
 "nbformat_minor": 5
}
