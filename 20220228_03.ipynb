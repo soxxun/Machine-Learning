{
 "cells": [
  {
   "cell_type": "markdown",
   "id": "790dee64",
   "metadata": {},
   "source": [
    "## 사이킷런을 이용하여 데이터 섞기"
   ]
  },
  {
   "cell_type": "code",
   "execution_count": 31,
   "id": "2d991c71",
   "metadata": {},
   "outputs": [],
   "source": [
    "import random as rd\n",
    "\n",
    "A_len = []\n",
    "A_wei = []\n",
    "for i in range(35):\n",
    "    A_len.append(rd.uniform(20,45)) # 실수 범위 지정\n",
    "    A_wei.append(rd.uniform(200,950))\n",
    "\n",
    "# 정렬하기 (디폴드값 : 오름차순)\n",
    "A_len.sort()\n",
    "A_len.sort()\n",
    "\n",
    "# ====================================================\n",
    "\n",
    "B_len = []\n",
    "B_wei = []\n",
    "for i in range(14):\n",
    "    B_len.append(rd.uniform(9,15)) # 실수 범위 지정\n",
    "    B_wei.append(rd.uniform(6,20))\n",
    "\n",
    "# 정렬하기 (디폴드값 : 오름차순)\n",
    "B_len.sort()\n",
    "B_len.sort()\n",
    "\n",
    "length = A_len + B_len\n",
    "weight = A_wei + B_wei"
   ]
  },
  {
   "cell_type": "code",
   "execution_count": 32,
   "id": "00b3dbab",
   "metadata": {},
   "outputs": [],
   "source": [
    "import numpy as np\n",
    "data = np.column_stack((length, weight))"
   ]
  },
  {
   "cell_type": "code",
   "execution_count": 33,
   "id": "1ce3e3ec",
   "metadata": {},
   "outputs": [
    {
     "data": {
      "text/plain": [
       "array([[ 21.65350107, 793.56698021],\n",
       "       [ 21.78802065, 819.51343266],\n",
       "       [ 22.16728705, 315.28782559],\n",
       "       [ 22.24026021, 939.75836858],\n",
       "       [ 22.33615966, 703.14532105],\n",
       "       [ 22.5093562 , 542.10413508]])"
      ]
     },
     "execution_count": 33,
     "metadata": {},
     "output_type": "execute_result"
    }
   ],
   "source": [
    "data[:6]"
   ]
  },
  {
   "cell_type": "code",
   "execution_count": 34,
   "id": "67f44204",
   "metadata": {},
   "outputs": [],
   "source": [
    "target = np.concatenate( (np.ones(35), np.zeros(14)) ) # 35개 만큼의 배열 생성\n",
    "         # concatenate는 튜플 형태로 코드를 작성해야 함"
   ]
  },
  {
   "cell_type": "code",
   "execution_count": 35,
   "id": "2208ea42",
   "metadata": {},
   "outputs": [
    {
     "data": {
      "text/plain": [
       "array([1., 1., 1., 1., 1., 1.])"
      ]
     },
     "execution_count": 35,
     "metadata": {},
     "output_type": "execute_result"
    }
   ],
   "source": [
    "target[:6]"
   ]
  },
  {
   "cell_type": "code",
   "execution_count": 36,
   "id": "dff39ccf",
   "metadata": {},
   "outputs": [],
   "source": [
    "from sklearn.model_selection import train_test_split"
   ]
  },
  {
   "cell_type": "code",
   "execution_count": 37,
   "id": "e3d1cd28",
   "metadata": {},
   "outputs": [],
   "source": [
    "train, test, train_target, test_target = train_test_split(data, target, random_state=42) # 학습용 데이터, 검증용 데이터를 두개씩 묶어줌"
   ]
  },
  {
   "cell_type": "code",
   "execution_count": 38,
   "id": "2ddca172",
   "metadata": {},
   "outputs": [
    {
     "ename": "NameError",
     "evalue": "name 'train_traget' is not defined",
     "output_type": "error",
     "traceback": [
      "\u001b[1;31m---------------------------------------------------------------------------\u001b[0m",
      "\u001b[1;31mNameError\u001b[0m                                 Traceback (most recent call last)",
      "\u001b[1;32m~\\AppData\\Local\\Temp/ipykernel_20940/1580651255.py\u001b[0m in \u001b[0;36m<module>\u001b[1;34m\u001b[0m\n\u001b[1;32m----> 1\u001b[1;33m \u001b[0mtrain\u001b[0m\u001b[1;33m.\u001b[0m\u001b[0mshape\u001b[0m\u001b[1;33m,\u001b[0m \u001b[0mtest\u001b[0m\u001b[1;33m.\u001b[0m\u001b[0mshape\u001b[0m\u001b[1;33m,\u001b[0m \u001b[0mtrain_traget\u001b[0m\u001b[1;33m.\u001b[0m\u001b[0mshape\u001b[0m\u001b[1;33m,\u001b[0m \u001b[0mtest_target\u001b[0m\u001b[1;33m.\u001b[0m\u001b[0mshape\u001b[0m \u001b[1;31m# 학습, 정답, 학습, 정답\u001b[0m\u001b[1;33m\u001b[0m\u001b[1;33m\u001b[0m\u001b[0m\n\u001b[0m",
      "\u001b[1;31mNameError\u001b[0m: name 'train_traget' is not defined"
     ]
    }
   ],
   "source": [
    "train.shape, test.shape, train_traget.shape, test_target.shape # 학습, 정답, 학습, 정답"
   ]
  },
  {
   "cell_type": "code",
   "execution_count": null,
   "id": "741beed5",
   "metadata": {},
   "outputs": [],
   "source": [
    "# 앞 두개는 train의 학습, test의 학습, 뒤 두개는 train의 정답, test의 정답"
   ]
  },
  {
   "cell_type": "code",
   "execution_count": 42,
   "id": "db8341d5",
   "metadata": {},
   "outputs": [
    {
     "data": {
      "text/plain": [
       "1.0"
      ]
     },
     "execution_count": 42,
     "metadata": {},
     "output_type": "execute_result"
    }
   ],
   "source": [
    "from sklearn.neighbors import KNeighborsClassifier\n",
    "kn = KNeighborsClassifier()\n",
    "kn.fit(train, train_target)\n",
    "kn.score(test, test_target)"
   ]
  },
  {
   "cell_type": "code",
   "execution_count": 43,
   "id": "b8c77ab7",
   "metadata": {},
   "outputs": [
    {
     "data": {
      "image/png": "[encoded data removed]",
      "text/plain": [
       "<Figure size 432x288 with 1 Axes>"
      ]
     },
     "metadata": {
      "needs_background": "light"
     },
     "output_type": "display_data"
    }
   ],
   "source": [
    "import matplotlib.pyplot as plt\n",
    "plt.scatter(train[:,0], train[:,1])\n",
    "plt.scatter(20, 200, marker='^')\n",
    "# plt.scatter(test[:,0], test[:,1])\n",
    "plt.xlabel('length')\n",
    "plt.ylabel('weight')\n",
    "plt.show()"
   ]
  },
  {
   "cell_type": "code",
   "execution_count": 44,
   "id": "83d5af0c",
   "metadata": {},
   "outputs": [],
   "source": [
    "distance, indexes = kn.kneighbors([[20,400]]) # 어느 집합에 속하는지 분류하기 위해 25와 150을 중심으로 최근접점 출력 "
   ]
  },
  {
   "cell_type": "code",
   "execution_count": 45,
   "id": "255d543e",
   "metadata": {},
   "outputs": [
    {
     "data": {
      "text/plain": [
       "(array([[14.26998668, 19.44059466, 24.5041926 , 28.641267  , 56.26113371]]),\n",
       " array([[26, 24, 10,  2, 30]], dtype=int64))"
      ]
     },
     "execution_count": 45,
     "metadata": {},
     "output_type": "execute_result"
    }
   ],
   "source": [
    "distance, indexes"
   ]
  },
  {
   "cell_type": "code",
   "execution_count": 46,
   "id": "68797740",
   "metadata": {},
   "outputs": [
    {
     "data": {
      "image/png": "[encoded data removed]",
      "text/plain": [
       "<Figure size 432x288 with 1 Axes>"
      ]
     },
     "metadata": {
      "needs_background": "light"
     },
     "output_type": "display_data"
    }
   ],
   "source": [
    "import matplotlib.pyplot as plt\n",
    "plt.scatter(train[:,0], train[:,1])\n",
    "plt.scatter(20, 200, marker='^')\n",
    "plt.scatter(train[indexes,0], train[indexes,1], marker='D')\n",
    "plt.xlabel('length')\n",
    "plt.ylabel('weight')\n",
    "plt.show()"
   ]
  },
  {
   "cell_type": "code",
   "execution_count": 47,
   "id": "ba9dacaf",
   "metadata": {},
   "outputs": [
    {
     "data": {
      "image/png": "[encoded data removed]",
      "text/plain": [
       "<Figure size 432x288 with 1 Axes>"
      ]
     },
     "metadata": {
      "needs_background": "light"
     },
     "output_type": "display_data"
    }
   ],
   "source": [
    "import matplotlib.pyplot as plt\n",
    "plt.scatter(train[:,0], train[:,1])\n",
    "plt.scatter(20, 200, marker='^')\n",
    "plt.scatter(train[indexes,0], train[indexes,1], marker='D')\n",
    "plt.xlim((0,1000)) # 데이터 스케일 통일시킴\n",
    "plt.xlabel('length')\n",
    "plt.ylabel('weight')\n",
    "plt.show()"
   ]
  },
  {
   "cell_type": "code",
   "execution_count": 48,
   "id": "b8675e3f",
   "metadata": {},
   "outputs": [],
   "source": [
    "# 스케일링\n",
    "mean = np.mean(train, axis=0)\n",
    "std = np.std(train, axis=0)"
   ]
  },
  {
   "cell_type": "code",
   "execution_count": 49,
   "id": "f2bc3957",
   "metadata": {},
   "outputs": [
    {
     "data": {
      "text/plain": [
       "(array([[ 25.87214233, 269.14079338],\n",
       "        [ 22.24026021, 939.75836858],\n",
       "        [ 23.03363305, 371.5198447 ],\n",
       "        [ 11.56535596,  18.86011827],\n",
       "        [ 11.8722533 ,  17.22096084],\n",
       "        [ 13.62818844,  18.32237493],\n",
       "        [ 34.7787211 , 319.98624272],\n",
       "        [ 28.61440621, 514.85965873],\n",
       "        [ 35.17209075, 845.49871434],\n",
       "        [ 40.78714922, 648.84400181],\n",
       "        [ 43.69601025, 406.24135826],\n",
       "        [ 42.98182653, 896.95948355],\n",
       "        [ 21.65350107, 793.56698021],\n",
       "        [ 12.37737777,  11.29186176],\n",
       "        [ 43.32988607, 753.13765895],\n",
       "        [ 22.5093562 , 542.10413508],\n",
       "        [ 42.93141951, 603.41471137],\n",
       "        [ 31.74223291, 849.41750939],\n",
       "        [ 10.39150563,   9.88295749],\n",
       "        [ 21.78802065, 819.51343266],\n",
       "        [ 37.31162754, 843.61294398],\n",
       "        [ 22.16728705, 315.28782559],\n",
       "        [ 10.58267615,  17.62613165],\n",
       "        [ 10.35232627,  15.23677242],\n",
       "        [ 39.23968692, 402.7876815 ],\n",
       "        [ 10.8388214 ,  15.57258979],\n",
       "        [ 31.69990832, 391.83025918],\n",
       "        [ 38.97637829, 571.22770881],\n",
       "        [ 35.67787263, 289.60271263],\n",
       "        [ 14.27166196,  14.46528597],\n",
       "        [ 37.30662507, 453.53312894],\n",
       "        [ 25.30800684, 839.50434283],\n",
       "        [ 12.03541106,  16.88465865],\n",
       "        [ 33.63813402, 789.73043279],\n",
       "        [ 42.54290358, 667.81456489],\n",
       "        [ 10.79406993,   6.68290008]]),\n",
       " array([ 11.79741929, 326.21381793]))"
      ]
     },
     "execution_count": 49,
     "metadata": {},
     "output_type": "execute_result"
    }
   ],
   "source": [
    "train, std"
   ]
  },
  {
   "cell_type": "code",
   "execution_count": 50,
   "id": "55947754",
   "metadata": {},
   "outputs": [],
   "source": [
    "train_scaled = (train - mean) / std"
   ]
  },
  {
   "cell_type": "code",
   "execution_count": 51,
   "id": "51ba4fe3",
   "metadata": {},
   "outputs": [
    {
     "data": {
      "text/plain": [
       "array([[-0.05253411, -0.47786249],\n",
       "       [-0.36038806,  1.57789829],\n",
       "       [-0.29313837, -0.16402217],\n",
       "       [-1.26523886, -1.24509141],\n",
       "       [-1.23922492, -1.25011621],\n",
       "       [-1.09038431, -1.24673985],\n",
       "       [ 0.70242581, -0.32199709],\n",
       "       [ 0.17991197,  0.27538232],\n",
       "       [ 0.73576951,  1.28894777],\n",
       "       [ 1.21172602,  0.68610785],\n",
       "       [ 1.45829359, -0.05758427],\n",
       "       [ 1.39775631,  1.44669942],\n",
       "       [-0.41012429,  1.12975238],\n",
       "       [-1.1964084 , -1.26829171],\n",
       "       [ 1.42725933,  1.00581735],\n",
       "       [-0.33757833,  0.35889955],\n",
       "       [ 1.39348359,  0.54684553],\n",
       "       [ 0.44504001,  1.30096073],\n",
       "       [-1.36473946, -1.27261067],\n",
       "       [-0.39872183,  1.20929056],\n",
       "       [ 0.91712585,  1.28316699],\n",
       "       [-0.36657358, -0.33639996],\n",
       "       [-1.34853503, -1.24887417],\n",
       "       [-1.36806047, -1.25619869],\n",
       "       [ 1.08055646, -0.06817142],\n",
       "       [-1.32682305, -1.25516925],\n",
       "       [ 0.4414524 , -0.10176112],\n",
       "       [ 1.05823729,  0.44817711],\n",
       "       [ 0.77864176, -0.41513701],\n",
       "       [-1.03584072, -1.25856366],\n",
       "       [ 0.91670182,  0.08738743],\n",
       "       [-0.10035266,  1.27057218],\n",
       "       [-1.22539497, -1.25114713],\n",
       "       [ 0.60574474,  1.11799155],\n",
       "       [ 1.36055131,  0.74426162],\n",
       "       [-1.33061638, -1.28242036]])"
      ]
     },
     "execution_count": 51,
     "metadata": {},
     "output_type": "execute_result"
    }
   ],
   "source": [
    "train_scaled"
   ]
  },
  {
   "cell_type": "markdown",
   "id": "b09485d1",
   "metadata": {},
   "source": [
    "## 스케일 한 것을 가지고 모델을 다시 한 번 훈련하기\n",
    "## - 전처리 데이터로 모델 훈련하기"
   ]
  },
  {
   "cell_type": "code",
   "execution_count": 52,
   "id": "02f72f7a",
   "metadata": {},
   "outputs": [],
   "source": [
    "# train : 학습용 데이터\n",
    "# test : 검증용 데이터"
   ]
  },
  {
   "cell_type": "code",
   "execution_count": 53,
   "id": "2b10e616",
   "metadata": {},
   "outputs": [
    {
     "data": {
      "image/png": "[encoded data removed]",
      "text/plain": [
       "<Figure size 432x288 with 1 Axes>"
      ]
     },
     "metadata": {
      "needs_background": "light"
     },
     "output_type": "display_data"
    }
   ],
   "source": [
    "plt.scatter(train_scaled[:,0], train_scaled[:,1])\n",
    "plt.scatter(20, 200, marker =\"^\")\n",
    "plt.xlabel('length')\n",
    "plt.ylabel('weight')\n",
    "plt.show()"
   ]
  },
  {
   "cell_type": "code",
   "execution_count": 55,
   "id": "0fd45b8f",
   "metadata": {},
   "outputs": [],
   "source": [
    "new_target =([20,200] - mean) / std"
   ]
  },
  {
   "cell_type": "code",
   "execution_count": 58,
   "id": "306fd9a8",
   "metadata": {},
   "outputs": [
    {
     "ename": "TypeError",
     "evalue": "scatter() missing 1 required positional argument: 'y'",
     "output_type": "error",
     "traceback": [
      "\u001b[1;31m---------------------------------------------------------------------------\u001b[0m",
      "\u001b[1;31mTypeError\u001b[0m                                 Traceback (most recent call last)",
      "\u001b[1;32m~\\AppData\\Local\\Temp/ipykernel_20940/212491409.py\u001b[0m in \u001b[0;36m<module>\u001b[1;34m\u001b[0m\n\u001b[0;32m      1\u001b[0m \u001b[0mplt\u001b[0m\u001b[1;33m.\u001b[0m\u001b[0mscatter\u001b[0m\u001b[1;33m(\u001b[0m\u001b[0mtrain_scaled\u001b[0m\u001b[1;33m[\u001b[0m\u001b[1;33m:\u001b[0m\u001b[1;33m,\u001b[0m\u001b[1;36m0\u001b[0m\u001b[1;33m]\u001b[0m\u001b[1;33m,\u001b[0m \u001b[0mtrain_scaled\u001b[0m\u001b[1;33m[\u001b[0m\u001b[1;33m:\u001b[0m\u001b[1;33m,\u001b[0m\u001b[1;36m1\u001b[0m\u001b[1;33m]\u001b[0m\u001b[1;33m)\u001b[0m\u001b[1;33m\u001b[0m\u001b[1;33m\u001b[0m\u001b[0m\n\u001b[1;32m----> 2\u001b[1;33m \u001b[0mplt\u001b[0m\u001b[1;33m.\u001b[0m\u001b[0mscatter\u001b[0m\u001b[1;33m(\u001b[0m\u001b[0mnew_target\u001b[0m\u001b[1;33m[\u001b[0m\u001b[1;36m0\u001b[0m\u001b[1;33m]\u001b[0m\u001b[1;33m,\u001b[0m \u001b[0mmarker\u001b[0m \u001b[1;33m=\u001b[0m\u001b[1;34m\"^\"\u001b[0m\u001b[1;33m)\u001b[0m\u001b[1;33m\u001b[0m\u001b[1;33m\u001b[0m\u001b[0m\n\u001b[0m\u001b[0;32m      3\u001b[0m \u001b[0mplt\u001b[0m\u001b[1;33m.\u001b[0m\u001b[0mxlabel\u001b[0m\u001b[1;33m(\u001b[0m\u001b[1;34m'length'\u001b[0m\u001b[1;33m)\u001b[0m\u001b[1;33m\u001b[0m\u001b[1;33m\u001b[0m\u001b[0m\n\u001b[0;32m      4\u001b[0m \u001b[0mplt\u001b[0m\u001b[1;33m.\u001b[0m\u001b[0mylabel\u001b[0m\u001b[1;33m(\u001b[0m\u001b[1;34m'weight'\u001b[0m\u001b[1;33m)\u001b[0m\u001b[1;33m\u001b[0m\u001b[1;33m\u001b[0m\u001b[0m\n\u001b[0;32m      5\u001b[0m \u001b[0mplt\u001b[0m\u001b[1;33m.\u001b[0m\u001b[0mshow\u001b[0m\u001b[1;33m(\u001b[0m\u001b[1;33m)\u001b[0m\u001b[1;33m\u001b[0m\u001b[1;33m\u001b[0m\u001b[0m\n",
      "\u001b[1;31mTypeError\u001b[0m: scatter() missing 1 required positional argument: 'y'"
     ]
    },
    {
     "data": {
      "image/png": "[encoded data removed]",
      "text/plain": [
       "<Figure size 432x288 with 1 Axes>"
      ]
     },
     "metadata": {
      "needs_background": "light"
     },
     "output_type": "display_data"
    }
   ],
   "source": [
    "plt.scatter(train_scaled[:,0], train_scaled[:,1])\n",
    "plt.scatter(new_target[0], marker =\"^\")\n",
    "plt.xlabel('length')\n",
    "plt.ylabel('weight')\n",
    "plt.show()"
   ]
  },
  {
   "cell_type": "markdown",
   "id": "418e0a51",
   "metadata": {},
   "source": [
    "### 훈련데이터를 표준화(정규화) - scaling 한 값을 학습에 적용시키기"
   ]
  },
  {
   "cell_type": "code",
   "execution_count": 59,
   "id": "2f89f184",
   "metadata": {},
   "outputs": [
    {
     "data": {
      "text/plain": [
       "KNeighborsClassifier()"
      ]
     },
     "execution_count": 59,
     "metadata": {},
     "output_type": "execute_result"
    }
   ],
   "source": [
    "kn.fit(train_scaled, train_target)"
   ]
  },
  {
   "cell_type": "code",
   "execution_count": 60,
   "id": "35f41d46",
   "metadata": {},
   "outputs": [],
   "source": [
    "### 검증 데이터도 표준화"
   ]
  },
  {
   "cell_type": "code",
   "execution_count": 61,
   "id": "e84c8c60",
   "metadata": {},
   "outputs": [],
   "source": [
    "test_scaled = (test - mean) / std"
   ]
  },
  {
   "cell_type": "code",
   "execution_count": 62,
   "id": "7dc8234c",
   "metadata": {},
   "outputs": [
    {
     "data": {
      "text/plain": [
       "1.0"
      ]
     },
     "execution_count": 62,
     "metadata": {},
     "output_type": "execute_result"
    }
   ],
   "source": [
    "kn.score(test_scaled, test_target)"
   ]
  },
  {
   "cell_type": "code",
   "execution_count": 63,
   "id": "9fc2585f",
   "metadata": {},
   "outputs": [
    {
     "data": {
      "text/plain": [
       "array([1.])"
      ]
     },
     "execution_count": 63,
     "metadata": {},
     "output_type": "execute_result"
    }
   ],
   "source": [
    "kn.predict([new_target])"
   ]
  },
  {
   "cell_type": "code",
   "execution_count": 64,
   "id": "7d5cb5eb",
   "metadata": {},
   "outputs": [],
   "source": [
    "distances, indexes = kn.kneighbors([new_target])"
   ]
  },
  {
   "cell_type": "code",
   "execution_count": 67,
   "id": "897828de",
   "metadata": {},
   "outputs": [
    {
     "data": {
      "image/png": "[encoded data removed]",
      "text/plain": [
       "<Figure size 432x288 with 1 Axes>"
      ]
     },
     "metadata": {
      "needs_background": "light"
     },
     "output_type": "display_data"
    }
   ],
   "source": [
    "import matplotlib.pyplot as plt\n",
    "plt.scatter(train[:,0], train[:,1])\n",
    "plt.scatter(20, 200, marker='^')\n",
    "plt.scatter(new_target[0], new_target[1], marker='D')\n",
    "plt.xlabel('length')\n",
    "plt.ylabel('weight')\n",
    "plt.show()"
   ]
  },
  {
   "cell_type": "markdown",
   "id": "926faa66",
   "metadata": {},
   "source": [
    "#### 1. 훈련용 데이터와 평가용 데이터를 잘 섞은 후 나눔\n",
    "####    사이킷런의 라이브러리를 이용해서 학습용과 테스트용으로 나눔\n",
    "#### 2. 데이터의 스케일링 맞추기\n",
    "####    사이킷런의 scaling 함수 이용\n",
    "#### 3. 적합한 머신러닝을 선택\n",
    "####    분류 문제 --> 기본적으로 kneighbors 이용"
   ]
  },
  {
   "cell_type": "code",
   "execution_count": null,
   "id": "20925265",
   "metadata": {},
   "outputs": [],
   "source": []
  }
 ],
 "metadata": {
  "kernelspec": {
   "display_name": "Python 3 (ipykernel)",
   "language": "python",
   "name": "python3"
  },
  "language_info": {
   "codemirror_mode": {
    "name": "ipython",
    "version": 3
   },
   "file_extension": ".py",
   "mimetype": "text/x-python",
   "name": "python",
   "nbconvert_exporter": "python",
   "pygments_lexer": "ipython3",
   "version": "3.9.7"
  }
 },
 "nbformat": 4,
 "nbformat_minor": 5
}
