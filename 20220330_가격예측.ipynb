{
 "cells": [
  {
   "cell_type": "code",
   "execution_count": 104,
   "id": "fa178483",
   "metadata": {},
   "outputs": [],
   "source": [
    "import pandas as pd\n",
    "import numpy as np\n",
    "import matplotlib.pyplot as plt\n",
    "import seaborn as sns\n",
    "import warnings\n",
    "warnings.filterwarnings('ignore')"
   ]
  },
  {
   "cell_type": "code",
   "execution_count": 105,
   "id": "33b4a73b",
   "metadata": {},
   "outputs": [
    {
     "data": {
      "text/html": [
       "<div>\n",
       "<style scoped>\n",
       "    .dataframe tbody tr th:only-of-type {\n",
       "        vertical-align: middle;\n",
       "    }\n",
       "\n",
       "    .dataframe tbody tr th {\n",
       "        vertical-align: top;\n",
       "    }\n",
       "\n",
       "    .dataframe thead th {\n",
       "        text-align: right;\n",
       "    }\n",
       "</style>\n",
       "<table border=\"1\" class=\"dataframe\">\n",
       "  <thead>\n",
       "    <tr style=\"text-align: right;\">\n",
       "      <th></th>\n",
       "      <th>create_date</th>\n",
       "      <th>price</th>\n",
       "      <th>text</th>\n",
       "      <th>phone_model</th>\n",
       "      <th>factory_price</th>\n",
       "      <th>maker</th>\n",
       "      <th>price_index</th>\n",
       "    </tr>\n",
       "  </thead>\n",
       "  <tbody>\n",
       "    <tr>\n",
       "      <th>0</th>\n",
       "      <td>2017-03-19  4 35 00 PM</td>\n",
       "      <td>550000.0</td>\n",
       "      <td>아이폰6플러스 블랙+애플라이트 64기가 팝니다  아이폰6플러스 블랙+애플라이트 64...</td>\n",
       "      <td>iphone 6 64gb</td>\n",
       "      <td>924000</td>\n",
       "      <td>apple</td>\n",
       "      <td>95.96</td>\n",
       "    </tr>\n",
       "    <tr>\n",
       "      <th>1</th>\n",
       "      <td>2016-10-26  12 08 00 PM</td>\n",
       "      <td>380000.0</td>\n",
       "      <td>갤럭시s6엣지 32기가 팝니다 직거래  갤럭시s6엣지 32기가 품명 갤럭시s6엣지제...</td>\n",
       "      <td>galaxy s6 edge 32gb</td>\n",
       "      <td>979000</td>\n",
       "      <td>samsung</td>\n",
       "      <td>103.05</td>\n",
       "    </tr>\n",
       "    <tr>\n",
       "      <th>2</th>\n",
       "      <td>2016-10-25  12 52 00 PM</td>\n",
       "      <td>300000.0</td>\n",
       "      <td>갤럭시s6 풀박스로 팝니다~~~ 새상품급  실기스조차 없어요  직접거래 구매한지 1...</td>\n",
       "      <td>galaxy s6 32gb</td>\n",
       "      <td>854000</td>\n",
       "      <td>samsung</td>\n",
       "      <td>103.05</td>\n",
       "    </tr>\n",
       "    <tr>\n",
       "      <th>3</th>\n",
       "      <td>2017-03-23  11 14 00 PM</td>\n",
       "      <td>290000.0</td>\n",
       "      <td>sk  g5 티탄 폰 단품판매합니다  직접거래 sk g5 티탄 폰 단품판매합니다 올...</td>\n",
       "      <td>lg g5 32gb</td>\n",
       "      <td>836000</td>\n",
       "      <td>lg</td>\n",
       "      <td>95.96</td>\n",
       "    </tr>\n",
       "    <tr>\n",
       "      <th>4</th>\n",
       "      <td>2016-04-11  7 35 00 PM</td>\n",
       "      <td>280000.0</td>\n",
       "      <td>sony 엑스페리아 c5 ultra e5506 16gb  미사용 새제품 팝니다 1...</td>\n",
       "      <td>lg u 32gb</td>\n",
       "      <td>396000</td>\n",
       "      <td>lg</td>\n",
       "      <td>102.59</td>\n",
       "    </tr>\n",
       "  </tbody>\n",
       "</table>\n",
       "</div>"
      ],
      "text/plain": [
       "               create_date     price  \\\n",
       "0   2017-03-19  4 35 00 PM  550000.0   \n",
       "1  2016-10-26  12 08 00 PM  380000.0   \n",
       "2  2016-10-25  12 52 00 PM  300000.0   \n",
       "3  2017-03-23  11 14 00 PM  290000.0   \n",
       "4   2016-04-11  7 35 00 PM  280000.0   \n",
       "\n",
       "                                                text          phone_model  \\\n",
       "0  아이폰6플러스 블랙+애플라이트 64기가 팝니다  아이폰6플러스 블랙+애플라이트 64...        iphone 6 64gb   \n",
       "1  갤럭시s6엣지 32기가 팝니다 직거래  갤럭시s6엣지 32기가 품명 갤럭시s6엣지제...  galaxy s6 edge 32gb   \n",
       "2  갤럭시s6 풀박스로 팝니다~~~ 새상품급  실기스조차 없어요  직접거래 구매한지 1...       galaxy s6 32gb   \n",
       "3  sk  g5 티탄 폰 단품판매합니다  직접거래 sk g5 티탄 폰 단품판매합니다 올...           lg g5 32gb   \n",
       "4   sony 엑스페리아 c5 ultra e5506 16gb  미사용 새제품 팝니다 1...            lg u 32gb   \n",
       "\n",
       "   factory_price    maker  price_index  \n",
       "0         924000    apple        95.96  \n",
       "1         979000  samsung       103.05  \n",
       "2         854000  samsung       103.05  \n",
       "3         836000       lg        95.96  \n",
       "4         396000       lg       102.59  "
      ]
     },
     "execution_count": 105,
     "metadata": {},
     "output_type": "execute_result"
    }
   ],
   "source": [
    "df = pd.read_csv('https://raw.githubusercontent.com/bigdataleeky/python/main/data/mobile_phone.csv')\n",
    "df.head()"
   ]
  },
  {
   "cell_type": "code",
   "execution_count": 107,
   "id": "2e939f53",
   "metadata": {},
   "outputs": [
    {
     "name": "stdout",
     "output_type": "stream",
     "text": [
      "<class 'pandas.core.frame.DataFrame'>\n",
      "RangeIndex: 4951 entries, 0 to 4950\n",
      "Data columns (total 7 columns):\n",
      " #   Column         Non-Null Count  Dtype  \n",
      "---  ------         --------------  -----  \n",
      " 0   create_date    4951 non-null   object \n",
      " 1   price          4951 non-null   float64\n",
      " 2   text           4951 non-null   object \n",
      " 3   phone_model    4951 non-null   object \n",
      " 4   factory_price  4951 non-null   int64  \n",
      " 5   maker          4951 non-null   object \n",
      " 6   price_index    4951 non-null   float64\n",
      "dtypes: float64(2), int64(1), object(4)\n",
      "memory usage: 270.9+ KB\n"
     ]
    }
   ],
   "source": [
    "df.info()"
   ]
  },
  {
   "cell_type": "code",
   "execution_count": 108,
   "id": "ef82b42e",
   "metadata": {},
   "outputs": [
    {
     "data": {
      "text/plain": [
       "['2017', '03', '19  4 35 00 PM']"
      ]
     },
     "execution_count": 108,
     "metadata": {},
     "output_type": "execute_result"
    }
   ],
   "source": [
    "df['create_date'][0].split('-')  # 첫번째 방법"
   ]
  },
  {
   "cell_type": "code",
   "execution_count": 117,
   "id": "e054ca0f",
   "metadata": {},
   "outputs": [
    {
     "data": {
      "text/plain": [
       "'2017-03'"
      ]
     },
     "execution_count": 117,
     "metadata": {},
     "output_type": "execute_result"
    }
   ],
   "source": [
    "df.iloc[0][0][:7] # 두번째 방법"
   ]
  },
  {
   "cell_type": "code",
   "execution_count": 118,
   "id": "a2b1a12c",
   "metadata": {},
   "outputs": [],
   "source": [
    "df['yearmonth'] =  df['create_date'].apply(lambda x: x[:7])"
   ]
  },
  {
   "cell_type": "code",
   "execution_count": 119,
   "id": "33ef2cc3",
   "metadata": {},
   "outputs": [
    {
     "data": {
      "text/html": [
       "<div>\n",
       "<style scoped>\n",
       "    .dataframe tbody tr th:only-of-type {\n",
       "        vertical-align: middle;\n",
       "    }\n",
       "\n",
       "    .dataframe tbody tr th {\n",
       "        vertical-align: top;\n",
       "    }\n",
       "\n",
       "    .dataframe thead th {\n",
       "        text-align: right;\n",
       "    }\n",
       "</style>\n",
       "<table border=\"1\" class=\"dataframe\">\n",
       "  <thead>\n",
       "    <tr style=\"text-align: right;\">\n",
       "      <th></th>\n",
       "      <th>create_date</th>\n",
       "      <th>price</th>\n",
       "      <th>text</th>\n",
       "      <th>phone_model</th>\n",
       "      <th>factory_price</th>\n",
       "      <th>maker</th>\n",
       "      <th>price_index</th>\n",
       "      <th>yearmonth</th>\n",
       "    </tr>\n",
       "  </thead>\n",
       "  <tbody>\n",
       "    <tr>\n",
       "      <th>0</th>\n",
       "      <td>2017-03-19  4 35 00 PM</td>\n",
       "      <td>550000.0</td>\n",
       "      <td>아이폰6플러스 블랙+애플라이트 64기가 팝니다  아이폰6플러스 블랙+애플라이트 64...</td>\n",
       "      <td>iphone 6 64gb</td>\n",
       "      <td>924000</td>\n",
       "      <td>apple</td>\n",
       "      <td>95.96</td>\n",
       "      <td>2017-03</td>\n",
       "    </tr>\n",
       "    <tr>\n",
       "      <th>1</th>\n",
       "      <td>2016-10-26  12 08 00 PM</td>\n",
       "      <td>380000.0</td>\n",
       "      <td>갤럭시s6엣지 32기가 팝니다 직거래  갤럭시s6엣지 32기가 품명 갤럭시s6엣지제...</td>\n",
       "      <td>galaxy s6 edge 32gb</td>\n",
       "      <td>979000</td>\n",
       "      <td>samsung</td>\n",
       "      <td>103.05</td>\n",
       "      <td>2016-10</td>\n",
       "    </tr>\n",
       "    <tr>\n",
       "      <th>2</th>\n",
       "      <td>2016-10-25  12 52 00 PM</td>\n",
       "      <td>300000.0</td>\n",
       "      <td>갤럭시s6 풀박스로 팝니다~~~ 새상품급  실기스조차 없어요  직접거래 구매한지 1...</td>\n",
       "      <td>galaxy s6 32gb</td>\n",
       "      <td>854000</td>\n",
       "      <td>samsung</td>\n",
       "      <td>103.05</td>\n",
       "      <td>2016-10</td>\n",
       "    </tr>\n",
       "    <tr>\n",
       "      <th>3</th>\n",
       "      <td>2017-03-23  11 14 00 PM</td>\n",
       "      <td>290000.0</td>\n",
       "      <td>sk  g5 티탄 폰 단품판매합니다  직접거래 sk g5 티탄 폰 단품판매합니다 올...</td>\n",
       "      <td>lg g5 32gb</td>\n",
       "      <td>836000</td>\n",
       "      <td>lg</td>\n",
       "      <td>95.96</td>\n",
       "      <td>2017-03</td>\n",
       "    </tr>\n",
       "    <tr>\n",
       "      <th>4</th>\n",
       "      <td>2016-04-11  7 35 00 PM</td>\n",
       "      <td>280000.0</td>\n",
       "      <td>sony 엑스페리아 c5 ultra e5506 16gb  미사용 새제품 팝니다 1...</td>\n",
       "      <td>lg u 32gb</td>\n",
       "      <td>396000</td>\n",
       "      <td>lg</td>\n",
       "      <td>102.59</td>\n",
       "      <td>2016-04</td>\n",
       "    </tr>\n",
       "  </tbody>\n",
       "</table>\n",
       "</div>"
      ],
      "text/plain": [
       "               create_date     price  \\\n",
       "0   2017-03-19  4 35 00 PM  550000.0   \n",
       "1  2016-10-26  12 08 00 PM  380000.0   \n",
       "2  2016-10-25  12 52 00 PM  300000.0   \n",
       "3  2017-03-23  11 14 00 PM  290000.0   \n",
       "4   2016-04-11  7 35 00 PM  280000.0   \n",
       "\n",
       "                                                text          phone_model  \\\n",
       "0  아이폰6플러스 블랙+애플라이트 64기가 팝니다  아이폰6플러스 블랙+애플라이트 64...        iphone 6 64gb   \n",
       "1  갤럭시s6엣지 32기가 팝니다 직거래  갤럭시s6엣지 32기가 품명 갤럭시s6엣지제...  galaxy s6 edge 32gb   \n",
       "2  갤럭시s6 풀박스로 팝니다~~~ 새상품급  실기스조차 없어요  직접거래 구매한지 1...       galaxy s6 32gb   \n",
       "3  sk  g5 티탄 폰 단품판매합니다  직접거래 sk g5 티탄 폰 단품판매합니다 올...           lg g5 32gb   \n",
       "4   sony 엑스페리아 c5 ultra e5506 16gb  미사용 새제품 팝니다 1...            lg u 32gb   \n",
       "\n",
       "   factory_price    maker  price_index yearmonth  \n",
       "0         924000    apple        95.96   2017-03  \n",
       "1         979000  samsung       103.05   2016-10  \n",
       "2         854000  samsung       103.05   2016-10  \n",
       "3         836000       lg        95.96   2017-03  \n",
       "4         396000       lg       102.59   2016-04  "
      ]
     },
     "execution_count": 119,
     "metadata": {},
     "output_type": "execute_result"
    }
   ],
   "source": [
    "df.head()"
   ]
  },
  {
   "cell_type": "markdown",
   "id": "2ad7cbd3",
   "metadata": {},
   "source": [
    "### 연도별 일별 거래 횟수"
   ]
  },
  {
   "cell_type": "code",
   "execution_count": 120,
   "id": "fcfebfad",
   "metadata": {},
   "outputs": [
    {
     "data": {
      "text/plain": [
       "2016-10    2956\n",
       "2017-03    1311\n",
       "2016-08     107\n",
       "2016-09     105\n",
       "2016-04     102\n",
       "Name: yearmonth, dtype: int64"
      ]
     },
     "execution_count": 120,
     "metadata": {},
     "output_type": "execute_result"
    }
   ],
   "source": [
    "df_yearmonth = df['yearmonth'].value_counts()\n",
    "df_yearmonth.head()\n",
    "# 왼쪽(index값), 오른쪽(value값)"
   ]
  },
  {
   "cell_type": "markdown",
   "id": "377f0ef8",
   "metadata": {},
   "source": [
    "### 연도별 일별 거래횟수  그래프  시계열 속성의 데이터는 정렬 안된 데이터 시각화는 무의미"
   ]
  },
  {
   "cell_type": "code",
   "execution_count": 121,
   "id": "c8e47a82",
   "metadata": {},
   "outputs": [
    {
     "data": {
      "image/png": "[encoded data removed]",
      "text/plain": [
       "<Figure size 432x288 with 1 Axes>"
      ]
     },
     "metadata": {
      "needs_background": "light"
     },
     "output_type": "display_data"
    }
   ],
   "source": [
    "df_yearmonth.plot()\n",
    "plt.show()"
   ]
  },
  {
   "cell_type": "code",
   "execution_count": 11,
   "id": "dca1c6db",
   "metadata": {},
   "outputs": [
    {
     "data": {
      "image/png": "[encoded data removed]",
      "text/plain": [
       "<Figure size 432x288 with 1 Axes>"
      ]
     },
     "metadata": {
      "needs_background": "light"
     },
     "output_type": "display_data"
    }
   ],
   "source": [
    "df_yearmonth.sort_index(ascending=True).plot()\n",
    "plt.show()"
   ]
  },
  {
   "cell_type": "code",
   "execution_count": 122,
   "id": "6cd2b74d",
   "metadata": {},
   "outputs": [
    {
     "data": {
      "image/png": "[encoded data removed]",
      "text/plain": [
       "<Figure size 432x288 with 1 Axes>"
      ]
     },
     "metadata": {
      "needs_background": "light"
     },
     "output_type": "display_data"
    }
   ],
   "source": [
    "df_yearmonthday =  df['create_date'].apply(lambda x : x[:10]).value_counts()\n",
    "df_yearmonthday.sort_index(ascending = True).plot()\n",
    "plt.show()"
   ]
  },
  {
   "cell_type": "code",
   "execution_count": 123,
   "id": "2b8c98e1",
   "metadata": {},
   "outputs": [
    {
     "data": {
      "image/png": "[encoded data removed]",
      "text/plain": [
       "<Figure size 7200x1440 with 1 Axes>"
      ]
     },
     "metadata": {
      "needs_background": "light"
     },
     "output_type": "display_data"
    }
   ],
   "source": [
    "df_yearmonthday = df_yearmonthday.sort_index()\n",
    "\n",
    "plt.figure(figsize=(100,20))\n",
    "plt.plot(df_yearmonthday.index, df_yearmonthday.values)\n",
    "plt.xticks(rotation=90)\n",
    "plt.show()"
   ]
  },
  {
   "cell_type": "code",
   "execution_count": 124,
   "id": "6d084ea2",
   "metadata": {},
   "outputs": [
    {
     "data": {
      "image/png": "[encoded data removed]",
      "text/plain": [
       "<Figure size 432x288 with 1 Axes>"
      ]
     },
     "metadata": {
      "needs_background": "light"
     },
     "output_type": "display_data"
    }
   ],
   "source": [
    "# 가격 피처 탐색\n",
    "df['price'].hist(bins=\"auto\")\n",
    "plt.show()"
   ]
  },
  {
   "cell_type": "code",
   "execution_count": 125,
   "id": "cb4533eb",
   "metadata": {},
   "outputs": [
    {
     "data": {
      "text/plain": [
       "0    550000.0\n",
       "1    380000.0\n",
       "2    300000.0\n",
       "3    290000.0\n",
       "4    280000.0\n",
       "Name: price, dtype: float64"
      ]
     },
     "execution_count": 125,
     "metadata": {},
     "output_type": "execute_result"
    }
   ],
   "source": [
    "df['price'].head()"
   ]
  },
  {
   "cell_type": "code",
   "execution_count": 126,
   "id": "ff3968d4",
   "metadata": {},
   "outputs": [
    {
     "data": {
      "text/plain": [
       "phone_model\n",
       "g pro2 32gb             90142.857143\n",
       "g3 cat.6 32gb          110325.777778\n",
       "g4 32gb                154842.105263\n",
       "galaxy a7 2016 16gb    283636.363636\n",
       "galaxy a8 2016 32gb    211125.000000\n",
       "                           ...      \n",
       "vega secret up 16gb    134565.217391\n",
       "wine smart jazz 4gb     91194.531250\n",
       "xperia z3 16gb         230000.000000\n",
       "xperia z3 32gb         193571.428571\n",
       "y6 8gb                 111857.142857\n",
       "Name: price, Length: 64, dtype: float64"
      ]
     },
     "execution_count": 126,
     "metadata": {},
     "output_type": "execute_result"
    }
   ],
   "source": [
    "# 모델 별 가격\n",
    "df_model_price = df.groupby('phone_model')['price'].mean()\n",
    "df_model_price"
   ]
  },
  {
   "cell_type": "code",
   "execution_count": 127,
   "id": "e31d0b67",
   "metadata": {},
   "outputs": [
    {
     "data": {
      "image/png": "[encoded data removed]",
      "text/plain": [
       "<Figure size 7200x1440 with 1 Axes>"
      ]
     },
     "metadata": {
      "needs_background": "light"
     },
     "output_type": "display_data"
    }
   ],
   "source": [
    "plt.figure(figsize=(100,20))\n",
    "df_model_price  = df_model_price.sort_values(ascending=False)\n",
    "plt.bar(df_model_price.index, df_model_price.values)\n",
    "plt.xticks(rotation=90)\n",
    "plt.show()"
   ]
  },
  {
   "cell_type": "markdown",
   "id": "570779bf",
   "metadata": {},
   "source": [
    "**bins**\n",
    "\n",
    "- 입력 형태 : int, sequence, str\n",
    "- 선택적 입력 가능\n",
    "- 해당 막대의 영역(bin)을 얼마나 채우는지 결정해주는 변수\n",
    "- 즉 막대의 너비를 조절하는 변수 (numpy.histogram과 일치)\n",
    "- 각각의 다른 자료형에 따라 이 변수의 영향이 약간 변화함\n",
    "\n",
    "\n",
    "    - 정수(int)가 입력될 경우, 각 막대의 너비는 동일\n",
    "    - 입력된 bins+1로 막대의 너비(모서리)가 계산되고 반환됨\n",
    "    - 시퀀스(sequence)가 입력될 경우 막대의 너비를 직접 설정할 수 있게 해 줌 \n",
    "        - ex. bins([1,2,3,4])\n",
    "       - 첫번째 막대는 (1,2)로 너비 설정 (1 포함 2 제외)\n",
    "       - 첫번째 막대는 (3,4)로 너비 설정 (3 포함 4 제외)\n",
    "    - 문자열(str)이 입력될 경우 : **'auto', 'sturges', 'fd', 'doane', 'scott', 'rice', 'sqrt'**"
   ]
  },
  {
   "cell_type": "code",
   "execution_count": 18,
   "id": "53a9d9a7",
   "metadata": {},
   "outputs": [
    {
     "data": {
      "text/plain": [
       "<AxesSubplot:>"
      ]
     },
     "execution_count": 18,
     "metadata": {},
     "output_type": "execute_result"
    },
    {
     "data": {
      "image/png": "[encoded data removed]",
      "text/plain": [
       "<Figure size 432x288 with 1 Axes>"
      ]
     },
     "metadata": {
      "needs_background": "light"
     },
     "output_type": "display_data"
    }
   ],
   "source": [
    "# 출고가... 위와 같이 시각화의 의미가 없다. \n",
    "# value로만 이루어진 데이터의 시각화 --> histogram\n",
    "df['factory_price'].hist(bins=\"auto\")"
   ]
  },
  {
   "cell_type": "markdown",
   "id": "9dcf3b77",
   "metadata": {},
   "source": [
    "## 모든 피처들의 상관관계"
   ]
  },
  {
   "attachments": {
    "corr%28%29.png": {
     "image/png": "[encoded data removed]"
    }
   },
   "cell_type": "markdown",
   "id": "605fccd2",
   "metadata": {},
   "source": [
    "각 변수로 담긴 데이터들을 pandas의 DataFrame으로 변경(df)하여 corr() 메서드를 실행시켜주면, 파이썬에서는 기본적으로 '피어슨의 상관계수'를 제공하여 각각이 어떤 관계를 갖는지 상관분석을 할 수 있다.\n",
    "\n",
    "Python pandas는 Pearson Correlation Coefficient를 구할 수 있는 corr(), corrwith() 함수를 제공한다. 이들 함수를 groupby() 와 apply(lambda func)를 함께 사용함으로써 그룹 별 변수 간 상관계수를 구할 수 있다. \n",
    "\n",
    "\n",
    "1과 가까울수록 양의 상관관계이며 -1과 가까울수록 음의 상관관계이다.\n",
    "\n",
    "![corr%28%29.png](attachment:corr%28%29.png)"
   ]
  },
  {
   "cell_type": "code",
   "execution_count": 128,
   "id": "b55e6674",
   "metadata": {},
   "outputs": [
    {
     "data": {
      "image/png": "[encoded data removed]",
      "text/plain": [
       "<Figure size 432x288 with 9 Axes>"
      ]
     },
     "metadata": {
      "needs_background": "light"
     },
     "output_type": "display_data"
    },
    {
     "name": "stdout",
     "output_type": "stream",
     "text": [
      "                  price  factory_price  price_index\n",
      "price          1.000000       0.339306     0.025516\n",
      "factory_price  0.339306       1.000000    -0.011648\n",
      "price_index    0.025516      -0.011648     1.000000\n"
     ]
    }
   ],
   "source": [
    "corr_matrix =  df.corr() # 상관계수 계산 함수\n",
    "from pandas.plotting import scatter_matrix\n",
    "scatter_matrix(df)\n",
    "plt.show()\n",
    "print(corr_matrix)"
   ]
  },
  {
   "cell_type": "markdown",
   "id": "000f0094",
   "metadata": {},
   "source": [
    "**학습하는 데이터들이 서로 상관관계가 높은면 둘 중에 한쪽은 제거 해야 한다. 그렇게 하지 않으면 상관관계가 높은 데이터끼리 변동이 커지기 때문에 학습결과가 제대로 되지 않는다. 따라서 독립변수들은 상관관계가 없어야 한다.**\n",
    "\n",
    "**독립변수끼리 상관관계가 높아서 서로 어떤 관계를 가지면 학습할 때 이런 요소가 가중치 계산에 반영이 되어 영향을 끼치면 제대로 된 결과를 내지 못하기 때문이다.**"
   ]
  },
  {
   "cell_type": "markdown",
   "id": "08f6466d",
   "metadata": {},
   "source": [
    "# 모델별 거래 데이터 - box plot\n",
    "### 가격 예측... Random Forest\n",
    "### 중요 피처는 뭐가 있을까?"
   ]
  },
  {
   "cell_type": "code",
   "execution_count": 129,
   "id": "fdd1e98a",
   "metadata": {},
   "outputs": [
    {
     "data": {
      "text/plain": [
       "factory_price    1.000000\n",
       "price            0.339306\n",
       "price_index     -0.011648\n",
       "Name: factory_price, dtype: float64"
      ]
     },
     "execution_count": 129,
     "metadata": {},
     "output_type": "execute_result"
    }
   ],
   "source": [
    "corr_matrix['factory_price'].sort_values(ascending=False)"
   ]
  },
  {
   "cell_type": "code",
   "execution_count": 130,
   "id": "55ea14d2",
   "metadata": {},
   "outputs": [
    {
     "data": {
      "image/png": "[encoded data removed]",
      "text/plain": [
       "<Figure size 432x288 with 1 Axes>"
      ]
     },
     "metadata": {
      "needs_background": "light"
     },
     "output_type": "display_data"
    }
   ],
   "source": [
    "df.plot.scatter(x='factory_price', y = 'price')\n",
    "plt.show()"
   ]
  },
  {
   "cell_type": "markdown",
   "id": "e19aefee",
   "metadata": {},
   "source": [
    "### 기종별 거래 데이터 개수"
   ]
  },
  {
   "cell_type": "code",
   "execution_count": 131,
   "id": "7c42bd84",
   "metadata": {},
   "outputs": [
    {
     "data": {
      "image/png": "[encoded data removed]",
      "text/plain": [
       "<Figure size 432x288 with 1 Axes>"
      ]
     },
     "metadata": {
      "needs_background": "light"
     },
     "output_type": "display_data"
    }
   ],
   "source": [
    "model_counts = df['phone_model'].value_counts()\n",
    "model_counts.describe()  # 기술 통계량\n",
    "plt.boxplot(model_counts)\n",
    "plt.show()"
   ]
  },
  {
   "cell_type": "markdown",
   "id": "1069febf",
   "metadata": {},
   "source": [
    "### 가격 예측\n",
    "### RandomForest "
   ]
  },
  {
   "cell_type": "code",
   "execution_count": 132,
   "id": "bb4b1df5",
   "metadata": {},
   "outputs": [],
   "source": [
    "from sklearn.ensemble import RandomForestRegressor\n",
    "from sklearn.metrics import r2_score\n",
    "from sklearn.metrics import mean_squared_error"
   ]
  },
  {
   "cell_type": "code",
   "execution_count": 133,
   "id": "0e96a030",
   "metadata": {},
   "outputs": [
    {
     "data": {
      "text/html": [
       "<div>\n",
       "<style scoped>\n",
       "    .dataframe tbody tr th:only-of-type {\n",
       "        vertical-align: middle;\n",
       "    }\n",
       "\n",
       "    .dataframe tbody tr th {\n",
       "        vertical-align: top;\n",
       "    }\n",
       "\n",
       "    .dataframe thead th {\n",
       "        text-align: right;\n",
       "    }\n",
       "</style>\n",
       "<table border=\"1\" class=\"dataframe\">\n",
       "  <thead>\n",
       "    <tr style=\"text-align: right;\">\n",
       "      <th></th>\n",
       "      <th>create_date</th>\n",
       "      <th>price</th>\n",
       "      <th>text</th>\n",
       "      <th>phone_model</th>\n",
       "      <th>factory_price</th>\n",
       "      <th>maker</th>\n",
       "      <th>price_index</th>\n",
       "      <th>yearmonth</th>\n",
       "    </tr>\n",
       "  </thead>\n",
       "  <tbody>\n",
       "    <tr>\n",
       "      <th>0</th>\n",
       "      <td>2017-03-19  4 35 00 PM</td>\n",
       "      <td>550000.0</td>\n",
       "      <td>아이폰6플러스 블랙+애플라이트 64기가 팝니다  아이폰6플러스 블랙+애플라이트 64...</td>\n",
       "      <td>iphone 6 64gb</td>\n",
       "      <td>924000</td>\n",
       "      <td>apple</td>\n",
       "      <td>95.96</td>\n",
       "      <td>2017-03</td>\n",
       "    </tr>\n",
       "    <tr>\n",
       "      <th>1</th>\n",
       "      <td>2016-10-26  12 08 00 PM</td>\n",
       "      <td>380000.0</td>\n",
       "      <td>갤럭시s6엣지 32기가 팝니다 직거래  갤럭시s6엣지 32기가 품명 갤럭시s6엣지제...</td>\n",
       "      <td>galaxy s6 edge 32gb</td>\n",
       "      <td>979000</td>\n",
       "      <td>samsung</td>\n",
       "      <td>103.05</td>\n",
       "      <td>2016-10</td>\n",
       "    </tr>\n",
       "    <tr>\n",
       "      <th>2</th>\n",
       "      <td>2016-10-25  12 52 00 PM</td>\n",
       "      <td>300000.0</td>\n",
       "      <td>갤럭시s6 풀박스로 팝니다~~~ 새상품급  실기스조차 없어요  직접거래 구매한지 1...</td>\n",
       "      <td>galaxy s6 32gb</td>\n",
       "      <td>854000</td>\n",
       "      <td>samsung</td>\n",
       "      <td>103.05</td>\n",
       "      <td>2016-10</td>\n",
       "    </tr>\n",
       "    <tr>\n",
       "      <th>3</th>\n",
       "      <td>2017-03-23  11 14 00 PM</td>\n",
       "      <td>290000.0</td>\n",
       "      <td>sk  g5 티탄 폰 단품판매합니다  직접거래 sk g5 티탄 폰 단품판매합니다 올...</td>\n",
       "      <td>lg g5 32gb</td>\n",
       "      <td>836000</td>\n",
       "      <td>lg</td>\n",
       "      <td>95.96</td>\n",
       "      <td>2017-03</td>\n",
       "    </tr>\n",
       "    <tr>\n",
       "      <th>4</th>\n",
       "      <td>2016-04-11  7 35 00 PM</td>\n",
       "      <td>280000.0</td>\n",
       "      <td>sony 엑스페리아 c5 ultra e5506 16gb  미사용 새제품 팝니다 1...</td>\n",
       "      <td>lg u 32gb</td>\n",
       "      <td>396000</td>\n",
       "      <td>lg</td>\n",
       "      <td>102.59</td>\n",
       "      <td>2016-04</td>\n",
       "    </tr>\n",
       "  </tbody>\n",
       "</table>\n",
       "</div>"
      ],
      "text/plain": [
       "               create_date     price  \\\n",
       "0   2017-03-19  4 35 00 PM  550000.0   \n",
       "1  2016-10-26  12 08 00 PM  380000.0   \n",
       "2  2016-10-25  12 52 00 PM  300000.0   \n",
       "3  2017-03-23  11 14 00 PM  290000.0   \n",
       "4   2016-04-11  7 35 00 PM  280000.0   \n",
       "\n",
       "                                                text          phone_model  \\\n",
       "0  아이폰6플러스 블랙+애플라이트 64기가 팝니다  아이폰6플러스 블랙+애플라이트 64...        iphone 6 64gb   \n",
       "1  갤럭시s6엣지 32기가 팝니다 직거래  갤럭시s6엣지 32기가 품명 갤럭시s6엣지제...  galaxy s6 edge 32gb   \n",
       "2  갤럭시s6 풀박스로 팝니다~~~ 새상품급  실기스조차 없어요  직접거래 구매한지 1...       galaxy s6 32gb   \n",
       "3  sk  g5 티탄 폰 단품판매합니다  직접거래 sk g5 티탄 폰 단품판매합니다 올...           lg g5 32gb   \n",
       "4   sony 엑스페리아 c5 ultra e5506 16gb  미사용 새제품 팝니다 1...            lg u 32gb   \n",
       "\n",
       "   factory_price    maker  price_index yearmonth  \n",
       "0         924000    apple        95.96   2017-03  \n",
       "1         979000  samsung       103.05   2016-10  \n",
       "2         854000  samsung       103.05   2016-10  \n",
       "3         836000       lg        95.96   2017-03  \n",
       "4         396000       lg       102.59   2016-04  "
      ]
     },
     "execution_count": 133,
     "metadata": {},
     "output_type": "execute_result"
    }
   ],
   "source": [
    "df.head()"
   ]
  },
  {
   "cell_type": "code",
   "execution_count": 134,
   "id": "5141bd44",
   "metadata": {},
   "outputs": [
    {
     "data": {
      "text/html": [
       "<div>\n",
       "<style scoped>\n",
       "    .dataframe tbody tr th:only-of-type {\n",
       "        vertical-align: middle;\n",
       "    }\n",
       "\n",
       "    .dataframe tbody tr th {\n",
       "        vertical-align: top;\n",
       "    }\n",
       "\n",
       "    .dataframe thead th {\n",
       "        text-align: right;\n",
       "    }\n",
       "</style>\n",
       "<table border=\"1\" class=\"dataframe\">\n",
       "  <thead>\n",
       "    <tr style=\"text-align: right;\">\n",
       "      <th></th>\n",
       "      <th>price</th>\n",
       "      <th>phone_model</th>\n",
       "      <th>factory_price</th>\n",
       "      <th>maker</th>\n",
       "      <th>price_index</th>\n",
       "      <th>yearmonth</th>\n",
       "    </tr>\n",
       "  </thead>\n",
       "  <tbody>\n",
       "    <tr>\n",
       "      <th>0</th>\n",
       "      <td>550000.0</td>\n",
       "      <td>iphone 6 64gb</td>\n",
       "      <td>924000</td>\n",
       "      <td>apple</td>\n",
       "      <td>95.96</td>\n",
       "      <td>2017-03</td>\n",
       "    </tr>\n",
       "    <tr>\n",
       "      <th>1</th>\n",
       "      <td>380000.0</td>\n",
       "      <td>galaxy s6 edge 32gb</td>\n",
       "      <td>979000</td>\n",
       "      <td>samsung</td>\n",
       "      <td>103.05</td>\n",
       "      <td>2016-10</td>\n",
       "    </tr>\n",
       "    <tr>\n",
       "      <th>2</th>\n",
       "      <td>300000.0</td>\n",
       "      <td>galaxy s6 32gb</td>\n",
       "      <td>854000</td>\n",
       "      <td>samsung</td>\n",
       "      <td>103.05</td>\n",
       "      <td>2016-10</td>\n",
       "    </tr>\n",
       "    <tr>\n",
       "      <th>3</th>\n",
       "      <td>290000.0</td>\n",
       "      <td>lg g5 32gb</td>\n",
       "      <td>836000</td>\n",
       "      <td>lg</td>\n",
       "      <td>95.96</td>\n",
       "      <td>2017-03</td>\n",
       "    </tr>\n",
       "    <tr>\n",
       "      <th>4</th>\n",
       "      <td>280000.0</td>\n",
       "      <td>lg u 32gb</td>\n",
       "      <td>396000</td>\n",
       "      <td>lg</td>\n",
       "      <td>102.59</td>\n",
       "      <td>2016-04</td>\n",
       "    </tr>\n",
       "  </tbody>\n",
       "</table>\n",
       "</div>"
      ],
      "text/plain": [
       "      price          phone_model  factory_price    maker  price_index  \\\n",
       "0  550000.0        iphone 6 64gb         924000    apple        95.96   \n",
       "1  380000.0  galaxy s6 edge 32gb         979000  samsung       103.05   \n",
       "2  300000.0       galaxy s6 32gb         854000  samsung       103.05   \n",
       "3  290000.0           lg g5 32gb         836000       lg        95.96   \n",
       "4  280000.0            lg u 32gb         396000       lg       102.59   \n",
       "\n",
       "  yearmonth  \n",
       "0   2017-03  \n",
       "1   2016-10  \n",
       "2   2016-10  \n",
       "3   2017-03  \n",
       "4   2016-04  "
      ]
     },
     "execution_count": 134,
     "metadata": {},
     "output_type": "execute_result"
    }
   ],
   "source": [
    "# pd.concat([df.iloc[:,1], df.iloc[:,3:]], axis=1) 이것도 가능\n",
    "df = df.drop(['create_date','text'], axis=1)\n",
    "df.head() "
   ]
  },
  {
   "cell_type": "code",
   "execution_count": 135,
   "id": "d44a0e6b",
   "metadata": {},
   "outputs": [
    {
     "data": {
      "text/plain": [
       "((4951, 5), (4951,))"
      ]
     },
     "execution_count": 135,
     "metadata": {},
     "output_type": "execute_result"
    }
   ],
   "source": [
    "y = df['price']\n",
    "x = df.iloc[:,1:]\n",
    "x.shape, y.shape"
   ]
  },
  {
   "cell_type": "code",
   "execution_count": 136,
   "id": "d6d9dd3e",
   "metadata": {},
   "outputs": [
    {
     "data": {
      "text/html": [
       "<div>\n",
       "<style scoped>\n",
       "    .dataframe tbody tr th:only-of-type {\n",
       "        vertical-align: middle;\n",
       "    }\n",
       "\n",
       "    .dataframe tbody tr th {\n",
       "        vertical-align: top;\n",
       "    }\n",
       "\n",
       "    .dataframe thead th {\n",
       "        text-align: right;\n",
       "    }\n",
       "</style>\n",
       "<table border=\"1\" class=\"dataframe\">\n",
       "  <thead>\n",
       "    <tr style=\"text-align: right;\">\n",
       "      <th></th>\n",
       "      <th>phone_model</th>\n",
       "      <th>factory_price</th>\n",
       "      <th>maker</th>\n",
       "      <th>price_index</th>\n",
       "      <th>yearmonth</th>\n",
       "    </tr>\n",
       "  </thead>\n",
       "  <tbody>\n",
       "    <tr>\n",
       "      <th>0</th>\n",
       "      <td>iphone 6 64gb</td>\n",
       "      <td>924000</td>\n",
       "      <td>apple</td>\n",
       "      <td>95.96</td>\n",
       "      <td>2017-03</td>\n",
       "    </tr>\n",
       "    <tr>\n",
       "      <th>1</th>\n",
       "      <td>galaxy s6 edge 32gb</td>\n",
       "      <td>979000</td>\n",
       "      <td>samsung</td>\n",
       "      <td>103.05</td>\n",
       "      <td>2016-10</td>\n",
       "    </tr>\n",
       "    <tr>\n",
       "      <th>2</th>\n",
       "      <td>galaxy s6 32gb</td>\n",
       "      <td>854000</td>\n",
       "      <td>samsung</td>\n",
       "      <td>103.05</td>\n",
       "      <td>2016-10</td>\n",
       "    </tr>\n",
       "    <tr>\n",
       "      <th>3</th>\n",
       "      <td>lg g5 32gb</td>\n",
       "      <td>836000</td>\n",
       "      <td>lg</td>\n",
       "      <td>95.96</td>\n",
       "      <td>2017-03</td>\n",
       "    </tr>\n",
       "    <tr>\n",
       "      <th>4</th>\n",
       "      <td>lg u 32gb</td>\n",
       "      <td>396000</td>\n",
       "      <td>lg</td>\n",
       "      <td>102.59</td>\n",
       "      <td>2016-04</td>\n",
       "    </tr>\n",
       "    <tr>\n",
       "      <th>...</th>\n",
       "      <td>...</td>\n",
       "      <td>...</td>\n",
       "      <td>...</td>\n",
       "      <td>...</td>\n",
       "      <td>...</td>\n",
       "    </tr>\n",
       "    <tr>\n",
       "      <th>4946</th>\n",
       "      <td>iphone 7 plus 256gb</td>\n",
       "      <td>1283700</td>\n",
       "      <td>apple</td>\n",
       "      <td>103.05</td>\n",
       "      <td>2016-10</td>\n",
       "    </tr>\n",
       "    <tr>\n",
       "      <th>4947</th>\n",
       "      <td>iphone 7 256gb</td>\n",
       "      <td>1130800</td>\n",
       "      <td>apple</td>\n",
       "      <td>103.05</td>\n",
       "      <td>2016-10</td>\n",
       "    </tr>\n",
       "    <tr>\n",
       "      <th>4948</th>\n",
       "      <td>iphone 7 256gb</td>\n",
       "      <td>1130800</td>\n",
       "      <td>apple</td>\n",
       "      <td>103.05</td>\n",
       "      <td>2016-09</td>\n",
       "    </tr>\n",
       "    <tr>\n",
       "      <th>4949</th>\n",
       "      <td>iphone 7 plus 256gb</td>\n",
       "      <td>1283700</td>\n",
       "      <td>apple</td>\n",
       "      <td>103.05</td>\n",
       "      <td>2016-10</td>\n",
       "    </tr>\n",
       "    <tr>\n",
       "      <th>4950</th>\n",
       "      <td>iphone 7 128gb</td>\n",
       "      <td>999000</td>\n",
       "      <td>apple</td>\n",
       "      <td>103.05</td>\n",
       "      <td>2016-09</td>\n",
       "    </tr>\n",
       "  </tbody>\n",
       "</table>\n",
       "<p>4951 rows × 5 columns</p>\n",
       "</div>"
      ],
      "text/plain": [
       "              phone_model  factory_price    maker  price_index yearmonth\n",
       "0           iphone 6 64gb         924000    apple        95.96   2017-03\n",
       "1     galaxy s6 edge 32gb         979000  samsung       103.05   2016-10\n",
       "2          galaxy s6 32gb         854000  samsung       103.05   2016-10\n",
       "3              lg g5 32gb         836000       lg        95.96   2017-03\n",
       "4               lg u 32gb         396000       lg       102.59   2016-04\n",
       "...                   ...            ...      ...          ...       ...\n",
       "4946  iphone 7 plus 256gb        1283700    apple       103.05   2016-10\n",
       "4947       iphone 7 256gb        1130800    apple       103.05   2016-10\n",
       "4948       iphone 7 256gb        1130800    apple       103.05   2016-09\n",
       "4949  iphone 7 plus 256gb        1283700    apple       103.05   2016-10\n",
       "4950       iphone 7 128gb         999000    apple       103.05   2016-09\n",
       "\n",
       "[4951 rows x 5 columns]"
      ]
     },
     "execution_count": 136,
     "metadata": {},
     "output_type": "execute_result"
    }
   ],
   "source": [
    "x"
   ]
  },
  {
   "cell_type": "code",
   "execution_count": 137,
   "id": "5bb8db49",
   "metadata": {},
   "outputs": [
    {
     "data": {
      "text/plain": [
       "0        550000.0\n",
       "1        380000.0\n",
       "2        300000.0\n",
       "3        290000.0\n",
       "4        280000.0\n",
       "          ...    \n",
       "4946    1300000.0\n",
       "4947    1300000.0\n",
       "4948    1300000.0\n",
       "4949    1350000.0\n",
       "4950    1500000.0\n",
       "Name: price, Length: 4951, dtype: float64"
      ]
     },
     "execution_count": 137,
     "metadata": {},
     "output_type": "execute_result"
    }
   ],
   "source": [
    "y"
   ]
  },
  {
   "cell_type": "markdown",
   "id": "7c39a097",
   "metadata": {},
   "source": [
    "### 문자열 데이터는...one hot encoding (판다스에서는 get_dummies 제공)"
   ]
  },
  {
   "cell_type": "code",
   "execution_count": 138,
   "id": "56caad51",
   "metadata": {},
   "outputs": [
    {
     "data": {
      "text/html": [
       "<div>\n",
       "<style scoped>\n",
       "    .dataframe tbody tr th:only-of-type {\n",
       "        vertical-align: middle;\n",
       "    }\n",
       "\n",
       "    .dataframe tbody tr th {\n",
       "        vertical-align: top;\n",
       "    }\n",
       "\n",
       "    .dataframe thead th {\n",
       "        text-align: right;\n",
       "    }\n",
       "</style>\n",
       "<table border=\"1\" class=\"dataframe\">\n",
       "  <thead>\n",
       "    <tr style=\"text-align: right;\">\n",
       "      <th></th>\n",
       "      <th>factory_price</th>\n",
       "      <th>price_index</th>\n",
       "      <th>phone_model_g pro2 32gb</th>\n",
       "      <th>phone_model_g3 cat.6 32gb</th>\n",
       "      <th>phone_model_g4 32gb</th>\n",
       "      <th>phone_model_galaxy a7 2016 16gb</th>\n",
       "      <th>phone_model_galaxy a8 2016 32gb</th>\n",
       "      <th>phone_model_galaxy alpha 32gb</th>\n",
       "      <th>phone_model_galaxy folder 8gb</th>\n",
       "      <th>phone_model_galaxy grand max 16gb</th>\n",
       "      <th>...</th>\n",
       "      <th>yearmonth_2016-02</th>\n",
       "      <th>yearmonth_2016-03</th>\n",
       "      <th>yearmonth_2016-04</th>\n",
       "      <th>yearmonth_2016-05</th>\n",
       "      <th>yearmonth_2016-06</th>\n",
       "      <th>yearmonth_2016-07</th>\n",
       "      <th>yearmonth_2016-08</th>\n",
       "      <th>yearmonth_2016-09</th>\n",
       "      <th>yearmonth_2016-10</th>\n",
       "      <th>yearmonth_2017-03</th>\n",
       "    </tr>\n",
       "  </thead>\n",
       "  <tbody>\n",
       "    <tr>\n",
       "      <th>0</th>\n",
       "      <td>924000</td>\n",
       "      <td>95.96</td>\n",
       "      <td>0</td>\n",
       "      <td>0</td>\n",
       "      <td>0</td>\n",
       "      <td>0</td>\n",
       "      <td>0</td>\n",
       "      <td>0</td>\n",
       "      <td>0</td>\n",
       "      <td>0</td>\n",
       "      <td>...</td>\n",
       "      <td>0</td>\n",
       "      <td>0</td>\n",
       "      <td>0</td>\n",
       "      <td>0</td>\n",
       "      <td>0</td>\n",
       "      <td>0</td>\n",
       "      <td>0</td>\n",
       "      <td>0</td>\n",
       "      <td>0</td>\n",
       "      <td>1</td>\n",
       "    </tr>\n",
       "    <tr>\n",
       "      <th>1</th>\n",
       "      <td>979000</td>\n",
       "      <td>103.05</td>\n",
       "      <td>0</td>\n",
       "      <td>0</td>\n",
       "      <td>0</td>\n",
       "      <td>0</td>\n",
       "      <td>0</td>\n",
       "      <td>0</td>\n",
       "      <td>0</td>\n",
       "      <td>0</td>\n",
       "      <td>...</td>\n",
       "      <td>0</td>\n",
       "      <td>0</td>\n",
       "      <td>0</td>\n",
       "      <td>0</td>\n",
       "      <td>0</td>\n",
       "      <td>0</td>\n",
       "      <td>0</td>\n",
       "      <td>0</td>\n",
       "      <td>1</td>\n",
       "      <td>0</td>\n",
       "    </tr>\n",
       "    <tr>\n",
       "      <th>2</th>\n",
       "      <td>854000</td>\n",
       "      <td>103.05</td>\n",
       "      <td>0</td>\n",
       "      <td>0</td>\n",
       "      <td>0</td>\n",
       "      <td>0</td>\n",
       "      <td>0</td>\n",
       "      <td>0</td>\n",
       "      <td>0</td>\n",
       "      <td>0</td>\n",
       "      <td>...</td>\n",
       "      <td>0</td>\n",
       "      <td>0</td>\n",
       "      <td>0</td>\n",
       "      <td>0</td>\n",
       "      <td>0</td>\n",
       "      <td>0</td>\n",
       "      <td>0</td>\n",
       "      <td>0</td>\n",
       "      <td>1</td>\n",
       "      <td>0</td>\n",
       "    </tr>\n",
       "    <tr>\n",
       "      <th>3</th>\n",
       "      <td>836000</td>\n",
       "      <td>95.96</td>\n",
       "      <td>0</td>\n",
       "      <td>0</td>\n",
       "      <td>0</td>\n",
       "      <td>0</td>\n",
       "      <td>0</td>\n",
       "      <td>0</td>\n",
       "      <td>0</td>\n",
       "      <td>0</td>\n",
       "      <td>...</td>\n",
       "      <td>0</td>\n",
       "      <td>0</td>\n",
       "      <td>0</td>\n",
       "      <td>0</td>\n",
       "      <td>0</td>\n",
       "      <td>0</td>\n",
       "      <td>0</td>\n",
       "      <td>0</td>\n",
       "      <td>0</td>\n",
       "      <td>1</td>\n",
       "    </tr>\n",
       "    <tr>\n",
       "      <th>4</th>\n",
       "      <td>396000</td>\n",
       "      <td>102.59</td>\n",
       "      <td>0</td>\n",
       "      <td>0</td>\n",
       "      <td>0</td>\n",
       "      <td>0</td>\n",
       "      <td>0</td>\n",
       "      <td>0</td>\n",
       "      <td>0</td>\n",
       "      <td>0</td>\n",
       "      <td>...</td>\n",
       "      <td>0</td>\n",
       "      <td>0</td>\n",
       "      <td>1</td>\n",
       "      <td>0</td>\n",
       "      <td>0</td>\n",
       "      <td>0</td>\n",
       "      <td>0</td>\n",
       "      <td>0</td>\n",
       "      <td>0</td>\n",
       "      <td>0</td>\n",
       "    </tr>\n",
       "  </tbody>\n",
       "</table>\n",
       "<p>5 rows × 84 columns</p>\n",
       "</div>"
      ],
      "text/plain": [
       "   factory_price  price_index  phone_model_g pro2 32gb  \\\n",
       "0         924000        95.96                        0   \n",
       "1         979000       103.05                        0   \n",
       "2         854000       103.05                        0   \n",
       "3         836000        95.96                        0   \n",
       "4         396000       102.59                        0   \n",
       "\n",
       "   phone_model_g3 cat.6 32gb  phone_model_g4 32gb  \\\n",
       "0                          0                    0   \n",
       "1                          0                    0   \n",
       "2                          0                    0   \n",
       "3                          0                    0   \n",
       "4                          0                    0   \n",
       "\n",
       "   phone_model_galaxy a7 2016 16gb  phone_model_galaxy a8 2016 32gb  \\\n",
       "0                                0                                0   \n",
       "1                                0                                0   \n",
       "2                                0                                0   \n",
       "3                                0                                0   \n",
       "4                                0                                0   \n",
       "\n",
       "   phone_model_galaxy alpha 32gb  phone_model_galaxy folder 8gb  \\\n",
       "0                              0                              0   \n",
       "1                              0                              0   \n",
       "2                              0                              0   \n",
       "3                              0                              0   \n",
       "4                              0                              0   \n",
       "\n",
       "   phone_model_galaxy grand max 16gb  ...  yearmonth_2016-02  \\\n",
       "0                                  0  ...                  0   \n",
       "1                                  0  ...                  0   \n",
       "2                                  0  ...                  0   \n",
       "3                                  0  ...                  0   \n",
       "4                                  0  ...                  0   \n",
       "\n",
       "   yearmonth_2016-03  yearmonth_2016-04  yearmonth_2016-05  yearmonth_2016-06  \\\n",
       "0                  0                  0                  0                  0   \n",
       "1                  0                  0                  0                  0   \n",
       "2                  0                  0                  0                  0   \n",
       "3                  0                  0                  0                  0   \n",
       "4                  0                  1                  0                  0   \n",
       "\n",
       "   yearmonth_2016-07  yearmonth_2016-08  yearmonth_2016-09  yearmonth_2016-10  \\\n",
       "0                  0                  0                  0                  0   \n",
       "1                  0                  0                  0                  1   \n",
       "2                  0                  0                  0                  1   \n",
       "3                  0                  0                  0                  0   \n",
       "4                  0                  0                  0                  0   \n",
       "\n",
       "   yearmonth_2017-03  \n",
       "0                  1  \n",
       "1                  0  \n",
       "2                  0  \n",
       "3                  1  \n",
       "4                  0  \n",
       "\n",
       "[5 rows x 84 columns]"
      ]
     },
     "execution_count": 138,
     "metadata": {},
     "output_type": "execute_result"
    }
   ],
   "source": [
    "# 데이터프레임의 형식을 유지하면서 해당되는 컬럼의 값을 바꿔줌\n",
    "# x 데이터 원핫인코딩\n",
    "x = pd.get_dummies(x, columns=['phone_model', 'maker', 'yearmonth'])\n",
    "x.head()"
   ]
  },
  {
   "cell_type": "markdown",
   "id": "c264840a",
   "metadata": {},
   "source": [
    "### 훈련세트, 검증세트 나누기"
   ]
  },
  {
   "cell_type": "code",
   "execution_count": 196,
   "id": "27efd26d",
   "metadata": {},
   "outputs": [
    {
     "data": {
      "text/plain": [
       "((3960, 84), (3960,), (991, 84), (991,))"
      ]
     },
     "execution_count": 196,
     "metadata": {},
     "output_type": "execute_result"
    }
   ],
   "source": [
    "from sklearn.model_selection import train_test_split\n",
    "from sklearn.preprocessing import StandardScaler\n",
    "ss = StandardScaler()\n",
    "x_scaled = ss.fit_transform(x)\n",
    "\n",
    "x_train,x_target,y_train,y_target =  train_test_split(x_scaled,y,test_size=0.2,random_state=42)\n",
    "x_train.shape,y_train.shape, x_target.shape, y_target.shape"
   ]
  },
  {
   "cell_type": "code",
   "execution_count": 197,
   "id": "1edd233a",
   "metadata": {},
   "outputs": [],
   "source": [
    "from sklearn.ensemble import RandomForestRegressor\n",
    "rfr = RandomForestRegressor(criterion='mse', n_estimators=1000)\n",
    "rfr.fit(x_train, y_train)\n",
    "y_train_predict = rfr.predict(x_train)\n",
    "y_target_predict = rfr.predict(x_target)"
   ]
  },
  {
   "cell_type": "code",
   "execution_count": 198,
   "id": "b3516a8e",
   "metadata": {},
   "outputs": [],
   "source": [
    "from sklearn.metrics import mean_squared_error\n",
    "y_train_mse =  mean_squared_error(y_train,y_train_predict)\n",
    "y_target_mse = mean_squared_error(y_target,y_target_predict)"
   ]
  },
  {
   "cell_type": "code",
   "execution_count": 199,
   "id": "6817117c",
   "metadata": {},
   "outputs": [
    {
     "name": "stdout",
     "output_type": "stream",
     "text": [
      "MSE train : 11399190067.896576  target : 11757807357.180862\n"
     ]
    }
   ],
   "source": [
    "print(f\"MSE train : {y_train_mse}  target : {y_target_mse}\")"
   ]
  },
  {
   "cell_type": "code",
   "execution_count": 200,
   "id": "4847997f",
   "metadata": {},
   "outputs": [
    {
     "data": {
      "text/plain": [
       "(0.757267450111685, 0.7522742787028084)"
      ]
     },
     "execution_count": 200,
     "metadata": {},
     "output_type": "execute_result"
    }
   ],
   "source": [
    "rfr.score(x_train,y_train), rfr.score(x_target,y_target)"
   ]
  },
  {
   "cell_type": "code",
   "execution_count": 201,
   "id": "3e42a4c9",
   "metadata": {},
   "outputs": [
    {
     "data": {
      "text/plain": [
       "{'bootstrap': True,\n",
       " 'ccp_alpha': 0.0,\n",
       " 'criterion': 'mse',\n",
       " 'max_depth': None,\n",
       " 'max_features': 'auto',\n",
       " 'max_leaf_nodes': None,\n",
       " 'max_samples': None,\n",
       " 'min_impurity_decrease': 0.0,\n",
       " 'min_samples_leaf': 1,\n",
       " 'min_samples_split': 2,\n",
       " 'min_weight_fraction_leaf': 0.0,\n",
       " 'n_estimators': 1000,\n",
       " 'n_jobs': None,\n",
       " 'oob_score': False,\n",
       " 'random_state': None,\n",
       " 'verbose': 0,\n",
       " 'warm_start': False}"
      ]
     },
     "execution_count": 201,
     "metadata": {},
     "output_type": "execute_result"
    }
   ],
   "source": [
    "rfr.get_params()"
   ]
  },
  {
   "cell_type": "code",
   "execution_count": 202,
   "id": "025f35ba",
   "metadata": {},
   "outputs": [
    {
     "name": "stdout",
     "output_type": "stream",
     "text": [
      "r2_score train : 0.757267450111685  r2_score : 0.7522742787028084\n"
     ]
    }
   ],
   "source": [
    "from sklearn.metrics import r2_score\n",
    "y_train_mse =  r2_score(y_train, y_train_predict)\n",
    "y_target_mse = r2_score(y_target, y_target_predict)\n",
    "print(f\"r2_score train : {y_train_mse}  r2_score : {y_target_mse}\")"
   ]
  },
  {
   "cell_type": "code",
   "execution_count": 203,
   "id": "6743cd8c",
   "metadata": {},
   "outputs": [
    {
     "data": {
      "text/plain": [
       "Index(['factory_price', 'price_index', 'phone_model_g pro2 32gb',\n",
       "       'phone_model_g3 cat.6 32gb', 'phone_model_g4 32gb',\n",
       "       'phone_model_galaxy a7 2016 16gb', 'phone_model_galaxy a8 2016 32gb',\n",
       "       'phone_model_galaxy alpha 32gb', 'phone_model_galaxy folder 8gb',\n",
       "       'phone_model_galaxy grand max 16gb', 'phone_model_galaxy note 2 32gb',\n",
       "       'phone_model_galaxy note3 16gb', 'phone_model_galaxy note3 32gb',\n",
       "       'phone_model_galaxy note3 neo 16gb', 'phone_model_galaxy note4 32gb',\n",
       "       'phone_model_galaxy note5 128gb', 'phone_model_galaxy note5 32gb',\n",
       "       'phone_model_galaxy note5 64gb', 'phone_model_galaxy note7 64gb',\n",
       "       'phone_model_galaxy s3 3g 8gb', 'phone_model_galaxy s4 32gb',\n",
       "       'phone_model_galaxy s4 lte-a 32gb', 'phone_model_galaxy s5 32gb',\n",
       "       'phone_model_galaxy s6 32gb', 'phone_model_galaxy s6 64gb',\n",
       "       'phone_model_galaxy s6 edge 32gb', 'phone_model_galaxy s6 edge 64gb',\n",
       "       'phone_model_galaxy s6 edge plus 32gb', 'phone_model_galaxy s7 32gb',\n",
       "       'phone_model_galaxy s7 64gb', 'phone_model_galaxy s7 edge 32gb',\n",
       "       'phone_model_galaxy s7 edge 64gb', 'phone_model_im-100 32gb',\n",
       "       'phone_model_iphone 4s 16gb', 'phone_model_iphone 4s 32gb',\n",
       "       'phone_model_iphone 5 16gb', 'phone_model_iphone 5s 16gb',\n",
       "       'phone_model_iphone 5s 32gb', 'phone_model_iphone 5s 64gb',\n",
       "       'phone_model_iphone 6 128gb', 'phone_model_iphone 6 16gb',\n",
       "       'phone_model_iphone 6 32gb', 'phone_model_iphone 6 64gb',\n",
       "       'phone_model_iphone 6s Plus 16gb', 'phone_model_iphone 6s Plus 64gb',\n",
       "       'phone_model_iphone 7 128gb', 'phone_model_iphone 7 256gb',\n",
       "       'phone_model_iphone 7 32gb', 'phone_model_iphone 7 plus 128gb',\n",
       "       'phone_model_iphone 7 plus 256gb', 'phone_model_iphone 7 plus 32gb',\n",
       "       'phone_model_iphone se 16gb', 'phone_model_iphone se 64gb',\n",
       "       'phone_model_lg g2 32gb', 'phone_model_lg g5 32gb',\n",
       "       'phone_model_lg u 32gb', 'phone_model_luna 16gb',\n",
       "       'phone_model_nexus 5x 16gb', 'phone_model_nexus 5x 32gb',\n",
       "       'phone_model_optimus g 32gb', 'phone_model_vega iron2 32gb',\n",
       "       'phone_model_vega secret up 16gb', 'phone_model_wine smart jazz 4gb',\n",
       "       'phone_model_xperia z3 16gb', 'phone_model_xperia z3 32gb',\n",
       "       'phone_model_y6 8gb', 'maker_apple', 'maker_huawei', 'maker_lg',\n",
       "       'maker_pantech', 'maker_samsung', 'maker_sky', 'maker_sony', 'maker_tg',\n",
       "       'yearmonth_2016-02', 'yearmonth_2016-03', 'yearmonth_2016-04',\n",
       "       'yearmonth_2016-05', 'yearmonth_2016-06', 'yearmonth_2016-07',\n",
       "       'yearmonth_2016-08', 'yearmonth_2016-09', 'yearmonth_2016-10',\n",
       "       'yearmonth_2017-03'],\n",
       "      dtype='object')"
      ]
     },
     "execution_count": 203,
     "metadata": {},
     "output_type": "execute_result"
    }
   ],
   "source": [
    "x.columns"
   ]
  },
  {
   "cell_type": "code",
   "execution_count": 204,
   "id": "13100e5a",
   "metadata": {},
   "outputs": [
    {
     "data": {
      "text/plain": [
       "array([3.88528055e-01, 2.25777620e-02, 1.03713289e-03, 3.49978711e-04,\n",
       "       4.11667025e-04, 3.08090119e-03, 1.76010338e-03, 3.08337590e-05,\n",
       "       1.41128869e-03, 3.20333758e-05, 1.99183387e-04, 6.05070449e-05,\n",
       "       1.35786574e-04, 2.83481185e-05, 4.49192203e-03, 6.67067938e-03,\n",
       "       9.60614365e-04, 3.83757938e-03, 4.60814588e-03, 2.00541981e-02,\n",
       "       2.11118951e-02, 1.69716977e-05, 2.57656392e-03, 1.16907185e-02,\n",
       "       1.71390595e-03, 2.31117532e-03, 1.67824361e-03, 4.76452420e-04,\n",
       "       1.56541017e-03, 2.70859114e-03, 1.30436803e-02, 3.94484467e-03,\n",
       "       4.21947415e-04, 1.73238364e-04, 3.07515609e-04, 1.74220352e-03,\n",
       "       8.34194529e-04, 5.91304873e-05, 1.08982087e-02, 1.69207116e-02,\n",
       "       9.17972169e-03, 1.37014493e-03, 7.74690602e-03, 4.29207792e-03,\n",
       "       2.03814262e-03, 1.86852918e-03, 1.41086237e-03, 6.22852737e-03,\n",
       "       2.53353293e-03, 1.19785225e-03, 1.63660438e-03, 2.13329875e-03,\n",
       "       2.62148548e-02, 6.02182985e-04, 4.76030699e-03, 1.70542520e-03,\n",
       "       1.15573041e-04, 2.11132226e-04, 1.15338071e-03, 1.42328461e-03,\n",
       "       3.83109487e-05, 5.30257797e-04, 7.37419980e-04, 3.43438925e-04,\n",
       "       6.95736710e-05, 6.50007917e-04, 2.88983011e-01, 6.21472175e-04,\n",
       "       1.06456605e-03, 5.64933357e-04, 1.52698014e-02, 4.16753535e-04,\n",
       "       1.28359954e-03, 1.09210348e-04, 1.32794002e-03, 1.66208619e-03,\n",
       "       6.41992811e-03, 9.43918939e-03, 3.95236180e-03, 3.45045485e-03,\n",
       "       3.26597412e-03, 6.77416702e-03, 6.06051428e-03, 1.46803634e-02])"
      ]
     },
     "execution_count": 204,
     "metadata": {},
     "output_type": "execute_result"
    }
   ],
   "source": [
    "importances =  rfr.feature_importances_\n",
    "importances"
   ]
  },
  {
   "cell_type": "code",
   "execution_count": 205,
   "id": "9136d4b6",
   "metadata": {},
   "outputs": [
    {
     "data": {
      "text/plain": [
       "(4951, 84)"
      ]
     },
     "execution_count": 205,
     "metadata": {},
     "output_type": "execute_result"
    }
   ],
   "source": [
    "indexs = np.argsort(importances)[::-1]\n",
    "x.shape"
   ]
  },
  {
   "cell_type": "code",
   "execution_count": 206,
   "id": "7b008b58",
   "metadata": {},
   "outputs": [
    {
     "data": {
      "image/png": "[encoded data removed]",
      "text/plain": [
       "<Figure size 432x288 with 1 Axes>"
      ]
     },
     "metadata": {
      "needs_background": "light"
     },
     "output_type": "display_data"
    }
   ],
   "source": [
    "plt.bar(range(x.shape[1]), importances[indexs])\n",
    "plt.show()"
   ]
  },
  {
   "cell_type": "markdown",
   "id": "1b5264ec",
   "metadata": {},
   "source": [
    "### 학습한 모델의 '특성 중요도' 출력해보기"
   ]
  },
  {
   "cell_type": "code",
   "execution_count": 207,
   "id": "603c952c",
   "metadata": {},
   "outputs": [
    {
     "data": {
      "text/plain": [
       "[('factory_price', 0.3885280547963433),\n",
       " ('maker_apple', 0.2889830110921402),\n",
       " ('phone_model_iphone se 64gb', 0.026214854825159926),\n",
       " ('price_index', 0.022577761963862304),\n",
       " ('phone_model_galaxy s4 32gb', 0.02111189512976041),\n",
       " ('phone_model_galaxy s3 3g 8gb', 0.020054198110441894),\n",
       " ('phone_model_iphone 6 128gb', 0.016920711580731194),\n",
       " ('maker_samsung', 0.015269801381217146),\n",
       " ('yearmonth_2017-03', 0.014680363444985394),\n",
       " ('phone_model_galaxy s7 edge 32gb', 0.013043680278080871)]"
      ]
     },
     "execution_count": 207,
     "metadata": {},
     "output_type": "execute_result"
    }
   ],
   "source": [
    "feature_cols = x.columns.tolist()\n",
    "feature = list(zip(feature_cols, rfr.feature_importances_))\n",
    "sorted(feature, key=lambda f : f[1], reverse = True)[:10]"
   ]
  },
  {
   "cell_type": "code",
   "execution_count": 208,
   "id": "855b140d",
   "metadata": {},
   "outputs": [
    {
     "name": "stdout",
     "output_type": "stream",
     "text": [
      "('yearmonth_2017-03', 0.014680363444985394)\n",
      "('yearmonth_2016-05', 0.009439189386858584)\n",
      "('yearmonth_2016-09', 0.00677416701934308)\n",
      "('yearmonth_2016-04', 0.0064199281065473865)\n",
      "('yearmonth_2016-10', 0.006060514281250855)\n",
      "('yearmonth_2016-06', 0.0039523617961543574)\n",
      "('yearmonth_2016-07', 0.003450454849771464)\n",
      "('yearmonth_2016-08', 0.0032659741167431968)\n",
      "('yearmonth_2016-03', 0.0016620861943222084)\n",
      "('yearmonth_2016-02', 0.0013279400190111502)\n"
     ]
    }
   ],
   "source": [
    "for sorted_feature in sorted(feature, key=lambda f : f[1], reverse=True):\n",
    "    if 'month' in sorted_feature[0]:\n",
    "        print(sorted_feature)"
   ]
  },
  {
   "cell_type": "code",
   "execution_count": 209,
   "id": "267e163a",
   "metadata": {},
   "outputs": [],
   "source": [
    "y_train_predict = rfr.predict(x_train)\n",
    "y_target_predict = rfr.predict(x_target)"
   ]
  },
  {
   "cell_type": "markdown",
   "id": "889f597f",
   "metadata": {},
   "source": [
    "### target에 대한 예측값의 결과 시각화"
   ]
  },
  {
   "cell_type": "code",
   "execution_count": 210,
   "id": "eda9bddd",
   "metadata": {},
   "outputs": [
    {
     "data": {
      "image/png": "[encoded data removed]",
      "text/plain": [
       "<Figure size 432x288 with 1 Axes>"
      ]
     },
     "metadata": {
      "needs_background": "light"
     },
     "output_type": "display_data"
    }
   ],
   "source": [
    "plt.scatter(y_train, y_train_predict)\n",
    "plt.xlabel('real price')\n",
    "plt.ylabel('predict price')\n",
    "plt.show()"
   ]
  },
  {
   "cell_type": "code",
   "execution_count": 211,
   "id": "318c3983",
   "metadata": {},
   "outputs": [
    {
     "data": {
      "image/png": "[encoded data removed]",
      "text/plain": [
       "<Figure size 432x288 with 1 Axes>"
      ]
     },
     "metadata": {
      "needs_background": "light"
     },
     "output_type": "display_data"
    }
   ],
   "source": [
    "plt.scatter(y_target, y_target_predict)\n",
    "plt.xlabel('real price')\n",
    "plt.ylabel('predict price')\n",
    "plt.show()"
   ]
  },
  {
   "cell_type": "markdown",
   "id": "1855cd6d",
   "metadata": {},
   "source": [
    "## 모델의 성능 개선하기 (개인과제)\n",
    "- 하이퍼 파라미터 튜닝\n",
    "- 중요 Feature 골랐으니 중요한 피쳐들로만 재훈련시키기\n",
    "- PCA 차원 축소?\n",
    "\n",
    "**위 세 가지 다 해 보기 !**"
   ]
  },
  {
   "cell_type": "code",
   "execution_count": 212,
   "id": "e1124b93",
   "metadata": {},
   "outputs": [],
   "source": [
    "# 모델 축소"
   ]
  },
  {
   "cell_type": "code",
   "execution_count": 213,
   "id": "ea6cbc1f",
   "metadata": {},
   "outputs": [],
   "source": [
    "# 1. 하이퍼 파라미터 튜닝\n",
    "from sklearn.model_selection import GridSearchCV"
   ]
  },
  {
   "cell_type": "code",
   "execution_count": 214,
   "id": "f2261f21",
   "metadata": {},
   "outputs": [
    {
     "data": {
      "text/plain": [
       "{'bootstrap': True,\n",
       " 'ccp_alpha': 0.0,\n",
       " 'criterion': 'mse',\n",
       " 'max_depth': None,\n",
       " 'max_features': 'auto',\n",
       " 'max_leaf_nodes': None,\n",
       " 'max_samples': None,\n",
       " 'min_impurity_decrease': 0.0,\n",
       " 'min_samples_leaf': 1,\n",
       " 'min_samples_split': 2,\n",
       " 'min_weight_fraction_leaf': 0.0,\n",
       " 'n_estimators': 1000,\n",
       " 'n_jobs': None,\n",
       " 'oob_score': False,\n",
       " 'random_state': None,\n",
       " 'verbose': 0,\n",
       " 'warm_start': False}"
      ]
     },
     "execution_count": 214,
     "metadata": {},
     "output_type": "execute_result"
    }
   ],
   "source": [
    "rfr.get_params()"
   ]
  },
  {
   "cell_type": "code",
   "execution_count": 215,
   "id": "ee076e2c",
   "metadata": {},
   "outputs": [
    {
     "data": {
      "text/plain": [
       "array([ 100,  200,  300,  400,  500,  600,  700,  800,  900, 1000, 1100,\n",
       "       1200, 1300, 1400, 1500, 1600, 1700, 1800, 1900])"
      ]
     },
     "execution_count": 215,
     "metadata": {},
     "output_type": "execute_result"
    }
   ],
   "source": [
    "np.arange(100, 2000, 100)"
   ]
  },
  {
   "cell_type": "code",
   "execution_count": 216,
   "id": "c4794ab8",
   "metadata": {},
   "outputs": [],
   "source": [
    "# param ={\n",
    "#     'n_estimators' : [int(i) for i in np.linspace(start=200, stop=2000, num=3)], # num : 10개를 알아서 넘파이 리스트로 분할\n",
    "# #     'max_features' : ['auto', 'sqrt'],\n",
    "#     'max_depth' : [int(i) for i in np.linspace(start=10, stop=110, num=3)],\n",
    "# #     'bootstrap': [True, False]\n",
    "# }\n",
    "\n",
    "# gsc = GridSearchCV(rfr, param_grid=param, n_jobs=-1)"
   ]
  },
  {
   "cell_type": "code",
   "execution_count": 217,
   "id": "2345afb9",
   "metadata": {},
   "outputs": [],
   "source": [
    "param ={\n",
    "    'n_estimators' : np.arange(100, 2000, 100)\n",
    "}\n",
    "\n",
    "gsc = GridSearchCV(rfr, param_grid=param)"
   ]
  },
  {
   "cell_type": "code",
   "execution_count": 218,
   "id": "750768d1",
   "metadata": {},
   "outputs": [
    {
     "data": {
      "text/plain": [
       "GridSearchCV(estimator=RandomForestRegressor(criterion='mse',\n",
       "                                             n_estimators=1000),\n",
       "             param_grid={'n_estimators': array([ 100,  200,  300,  400,  500,  600,  700,  800,  900, 1000, 1100,\n",
       "       1200, 1300, 1400, 1500, 1600, 1700, 1800, 1900])})"
      ]
     },
     "execution_count": 218,
     "metadata": {},
     "output_type": "execute_result"
    }
   ],
   "source": [
    "gsc.fit(x_train, y_train)"
   ]
  },
  {
   "cell_type": "code",
   "execution_count": 219,
   "id": "a088bb4c",
   "metadata": {},
   "outputs": [
    {
     "data": {
      "text/plain": [
       "{'n_estimators': 100}"
      ]
     },
     "execution_count": 219,
     "metadata": {},
     "output_type": "execute_result"
    }
   ],
   "source": [
    "gsc.best_params_"
   ]
  },
  {
   "cell_type": "code",
   "execution_count": 220,
   "id": "e2ab5417",
   "metadata": {},
   "outputs": [
    {
     "data": {
      "text/plain": [
       "0.6994099100499401"
      ]
     },
     "execution_count": 220,
     "metadata": {},
     "output_type": "execute_result"
    }
   ],
   "source": [
    "gsc.best_score_"
   ]
  },
  {
   "cell_type": "markdown",
   "id": "44dbc036",
   "metadata": {},
   "source": [
    "### 가격 예측"
   ]
  },
  {
   "cell_type": "code",
   "execution_count": 221,
   "id": "673f7e1f",
   "metadata": {},
   "outputs": [
    {
     "data": {
      "text/plain": [
       "(array([-0.44098576,  0.65781394, -0.08437778, -0.1214789 , -0.13986932,\n",
       "        -0.06680853, -0.09024955, 11.37055292, -0.07807895, -0.08437778,\n",
       "        -0.13986932, -0.0697934 , -0.2212254 , -0.07937766, -0.11168902,\n",
       "        -0.06040609, -0.1868369 , -0.10695908, -0.09138001, -0.12233213,\n",
       "        -0.14648062, -0.0551262 , -0.07404962, -0.15282918, -0.11975527,\n",
       "        -0.09024955, -0.07404962, -0.08191486, -0.14933261, -0.06368652,\n",
       "        -0.14210452, -0.07123982, -0.07123982, -0.04718814, -0.0551262 ,\n",
       "        -0.08558339, -0.16806269, -0.07937766, -0.0551262 , -0.14648062,\n",
       "        -0.36817178, -0.04498757, -0.50372127, -0.0492914 , -0.07807895,\n",
       "        -0.1352968 , -0.05869821, -0.08065598, -0.10695908, -0.04718814,\n",
       "        -0.0492914 , -0.0697934 , -0.2135831 , -0.09577287, -0.15827748,\n",
       "        -0.14061803, -0.0754161 , -0.05693986, -0.06206764, -0.10100495,\n",
       "        -0.08315519, -0.06831697, -0.16290948, -0.06831697, -0.05325157,\n",
       "        -0.08437778, -0.98975156, -0.08437778, -0.3979945 , -0.10792087,\n",
       "         1.41958633, -0.07123982, -0.08677273, -0.0754161 , -0.11168902,\n",
       "        -0.11975527, -0.14503539, -0.1352968 , -0.12485889, -0.1231798 ,\n",
       "        -0.1486243 , -0.14719835,  0.82152207, -0.60013735]),\n",
       " 550000.0)"
      ]
     },
     "execution_count": 221,
     "metadata": {},
     "output_type": "execute_result"
    }
   ],
   "source": [
    "x_train[0], y_train[0]"
   ]
  },
  {
   "cell_type": "code",
   "execution_count": 222,
   "id": "2e4e3c2b",
   "metadata": {},
   "outputs": [
    {
     "name": "stdout",
     "output_type": "stream",
     "text": [
      "[466247.49953089]\n"
     ]
    }
   ],
   "source": [
    "print(rfr.predict(x_train[4].reshape(-1,84)))"
   ]
  },
  {
   "cell_type": "code",
   "execution_count": 223,
   "id": "b46ace94",
   "metadata": {},
   "outputs": [
    {
     "data": {
      "text/plain": [
       "Index(['factory_price', 'price_index', 'phone_model_g pro2 32gb',\n",
       "       'phone_model_g3 cat.6 32gb', 'phone_model_g4 32gb',\n",
       "       'phone_model_galaxy a7 2016 16gb', 'phone_model_galaxy a8 2016 32gb',\n",
       "       'phone_model_galaxy alpha 32gb', 'phone_model_galaxy folder 8gb',\n",
       "       'phone_model_galaxy grand max 16gb', 'phone_model_galaxy note 2 32gb',\n",
       "       'phone_model_galaxy note3 16gb', 'phone_model_galaxy note3 32gb',\n",
       "       'phone_model_galaxy note3 neo 16gb', 'phone_model_galaxy note4 32gb',\n",
       "       'phone_model_galaxy note5 128gb', 'phone_model_galaxy note5 32gb',\n",
       "       'phone_model_galaxy note5 64gb', 'phone_model_galaxy note7 64gb',\n",
       "       'phone_model_galaxy s3 3g 8gb', 'phone_model_galaxy s4 32gb',\n",
       "       'phone_model_galaxy s4 lte-a 32gb', 'phone_model_galaxy s5 32gb',\n",
       "       'phone_model_galaxy s6 32gb', 'phone_model_galaxy s6 64gb',\n",
       "       'phone_model_galaxy s6 edge 32gb', 'phone_model_galaxy s6 edge 64gb',\n",
       "       'phone_model_galaxy s6 edge plus 32gb', 'phone_model_galaxy s7 32gb',\n",
       "       'phone_model_galaxy s7 64gb', 'phone_model_galaxy s7 edge 32gb',\n",
       "       'phone_model_galaxy s7 edge 64gb', 'phone_model_im-100 32gb',\n",
       "       'phone_model_iphone 4s 16gb', 'phone_model_iphone 4s 32gb',\n",
       "       'phone_model_iphone 5 16gb', 'phone_model_iphone 5s 16gb',\n",
       "       'phone_model_iphone 5s 32gb', 'phone_model_iphone 5s 64gb',\n",
       "       'phone_model_iphone 6 128gb', 'phone_model_iphone 6 16gb',\n",
       "       'phone_model_iphone 6 32gb', 'phone_model_iphone 6 64gb',\n",
       "       'phone_model_iphone 6s Plus 16gb', 'phone_model_iphone 6s Plus 64gb',\n",
       "       'phone_model_iphone 7 128gb', 'phone_model_iphone 7 256gb',\n",
       "       'phone_model_iphone 7 32gb', 'phone_model_iphone 7 plus 128gb',\n",
       "       'phone_model_iphone 7 plus 256gb', 'phone_model_iphone 7 plus 32gb',\n",
       "       'phone_model_iphone se 16gb', 'phone_model_iphone se 64gb',\n",
       "       'phone_model_lg g2 32gb', 'phone_model_lg g5 32gb',\n",
       "       'phone_model_lg u 32gb', 'phone_model_luna 16gb',\n",
       "       'phone_model_nexus 5x 16gb', 'phone_model_nexus 5x 32gb',\n",
       "       'phone_model_optimus g 32gb', 'phone_model_vega iron2 32gb',\n",
       "       'phone_model_vega secret up 16gb', 'phone_model_wine smart jazz 4gb',\n",
       "       'phone_model_xperia z3 16gb', 'phone_model_xperia z3 32gb',\n",
       "       'phone_model_y6 8gb', 'maker_apple', 'maker_huawei', 'maker_lg',\n",
       "       'maker_pantech', 'maker_samsung', 'maker_sky', 'maker_sony', 'maker_tg',\n",
       "       'yearmonth_2016-02', 'yearmonth_2016-03', 'yearmonth_2016-04',\n",
       "       'yearmonth_2016-05', 'yearmonth_2016-06', 'yearmonth_2016-07',\n",
       "       'yearmonth_2016-08', 'yearmonth_2016-09', 'yearmonth_2016-10',\n",
       "       'yearmonth_2017-03'],\n",
       "      dtype='object')"
      ]
     },
     "execution_count": 223,
     "metadata": {},
     "output_type": "execute_result"
    }
   ],
   "source": [
    "x.columns"
   ]
  },
  {
   "cell_type": "code",
   "execution_count": 224,
   "id": "115b3c52",
   "metadata": {},
   "outputs": [
    {
     "data": {
      "text/plain": [
       "array([ 0.44267769,  0.65781394, -0.08437778, -0.1214789 , -0.13986932,\n",
       "       -0.06680853, -0.09024955, -0.08794647, -0.07807895, -0.08437778,\n",
       "       -0.13986932, -0.0697934 , -0.2212254 , -0.07937766, -0.11168902,\n",
       "       -0.06040609, -0.1868369 , -0.10695908, -0.09138001, -0.12233213,\n",
       "       -0.14648062, -0.0551262 , -0.07404962, -0.15282918, -0.11975527,\n",
       "       -0.09024955, -0.07404962, -0.08191486, -0.14933261, -0.06368652,\n",
       "       -0.14210452, -0.07123982, -0.07123982, -0.04718814, -0.0551262 ,\n",
       "       -0.08558339, -0.16806269, -0.07937766, -0.0551262 , -0.14648062,\n",
       "       -0.36817178, -0.04498757,  1.98522486, -0.0492914 , -0.07807895,\n",
       "       -0.1352968 , -0.05869821, -0.08065598, -0.10695908, -0.04718814,\n",
       "       -0.0492914 , -0.0697934 , -0.2135831 , -0.09577287, -0.15827748,\n",
       "       -0.14061803, -0.0754161 , -0.05693986, -0.06206764, -0.10100495,\n",
       "       -0.08315519, -0.06831697, -0.16290948, -0.06831697, -0.05325157,\n",
       "       -0.08437778,  1.01035455, -0.08437778, -0.3979945 , -0.10792087,\n",
       "       -0.70443057, -0.07123982, -0.08677273, -0.0754161 , -0.11168902,\n",
       "       -0.11975527, -0.14503539, -0.1352968 , -0.12485889, -0.1231798 ,\n",
       "       -0.1486243 , -0.14719835,  0.82152207, -0.60013735])"
      ]
     },
     "execution_count": 224,
     "metadata": {},
     "output_type": "execute_result"
    }
   ],
   "source": [
    "x_train[4]"
   ]
  },
  {
   "cell_type": "markdown",
   "id": "18ed652b",
   "metadata": {},
   "source": [
    "### 판매가 예측"
   ]
  },
  {
   "cell_type": "code",
   "execution_count": 225,
   "id": "3438648e",
   "metadata": {},
   "outputs": [],
   "source": [
    "feature = np.zeros(84)\n",
    "feature[0] = 0.44267769"
   ]
  },
  {
   "cell_type": "code",
   "execution_count": 226,
   "id": "7ad846ba",
   "metadata": {},
   "outputs": [
    {
     "data": {
      "text/plain": [
       "array([155161.50067769])"
      ]
     },
     "execution_count": 226,
     "metadata": {},
     "output_type": "execute_result"
    }
   ],
   "source": [
    "rfr.predict( feature.reshape(-1,84))"
   ]
  },
  {
   "cell_type": "code",
   "execution_count": 227,
   "id": "ef4c16e9",
   "metadata": {
    "scrolled": true
   },
   "outputs": [
    {
     "data": {
      "text/plain": [
       "array([124254.53717986])"
      ]
     },
     "execution_count": 227,
     "metadata": {},
     "output_type": "execute_result"
    }
   ],
   "source": [
    "# x.iloc[0,:], y[0]\n",
    "\n",
    "# print(x.columns)\n",
    "\n",
    "# 예측데이터\n",
    "# userData = np.zeros(84)\n",
    "\n",
    "# 희망 거래 년 월\n",
    "\n",
    "def predictSales(user_factory_price, user_model_detail, user_model_storage, user_date):\n",
    "    userData = np.zeros(84)\n",
    "    userData[0] = user_factory_price\n",
    "    userData[1] = df['price_index'].mean()    \n",
    "    model = ' '.join(['phone_model_'+user_model_detail,user_model_storage])\n",
    "    year = ' '.join(['yearmonth_',user_date])\n",
    "    model_index = np.where(np.array(x.columns) == model)                \n",
    "    year_index = np.where(np.array(x.columns) == year)                \n",
    "    userData[model_index] = 1\n",
    "    userData[year_index] = 1\n",
    "    return rfr.predict(userData.reshape(-1, 84))\n",
    "\n",
    "user_factory_price = 1200000\n",
    "user_model_detail = 'galaxy note3'\n",
    "user_model_storage = '16gb'\n",
    "user_data = '2016-08'\n",
    "\n",
    "# 함수 사용\n",
    "predictSales(50000, 'galaxy note3', '16gb', '2017-05')"
   ]
  },
  {
   "cell_type": "code",
   "execution_count": 228,
   "id": "226f6cbb",
   "metadata": {},
   "outputs": [
    {
     "data": {
      "text/plain": [
       "(array([74], dtype=int64),)"
      ]
     },
     "execution_count": 228,
     "metadata": {},
     "output_type": "execute_result"
    }
   ],
   "source": [
    "np.where(np.array(x.columns) == 'yearmonth_2016-02')"
   ]
  },
  {
   "cell_type": "code",
   "execution_count": 229,
   "id": "1a10e049",
   "metadata": {},
   "outputs": [
    {
     "data": {
      "text/plain": [
       "Index(['factory_price', 'price_index', 'phone_model_g pro2 32gb',\n",
       "       'phone_model_g3 cat.6 32gb', 'phone_model_g4 32gb',\n",
       "       'phone_model_galaxy a7 2016 16gb', 'phone_model_galaxy a8 2016 32gb',\n",
       "       'phone_model_galaxy alpha 32gb', 'phone_model_galaxy folder 8gb',\n",
       "       'phone_model_galaxy grand max 16gb', 'phone_model_galaxy note 2 32gb',\n",
       "       'phone_model_galaxy note3 16gb', 'phone_model_galaxy note3 32gb',\n",
       "       'phone_model_galaxy note3 neo 16gb', 'phone_model_galaxy note4 32gb',\n",
       "       'phone_model_galaxy note5 128gb', 'phone_model_galaxy note5 32gb',\n",
       "       'phone_model_galaxy note5 64gb', 'phone_model_galaxy note7 64gb',\n",
       "       'phone_model_galaxy s3 3g 8gb', 'phone_model_galaxy s4 32gb',\n",
       "       'phone_model_galaxy s4 lte-a 32gb', 'phone_model_galaxy s5 32gb',\n",
       "       'phone_model_galaxy s6 32gb', 'phone_model_galaxy s6 64gb',\n",
       "       'phone_model_galaxy s6 edge 32gb', 'phone_model_galaxy s6 edge 64gb',\n",
       "       'phone_model_galaxy s6 edge plus 32gb', 'phone_model_galaxy s7 32gb',\n",
       "       'phone_model_galaxy s7 64gb', 'phone_model_galaxy s7 edge 32gb',\n",
       "       'phone_model_galaxy s7 edge 64gb', 'phone_model_im-100 32gb',\n",
       "       'phone_model_iphone 4s 16gb', 'phone_model_iphone 4s 32gb',\n",
       "       'phone_model_iphone 5 16gb', 'phone_model_iphone 5s 16gb',\n",
       "       'phone_model_iphone 5s 32gb', 'phone_model_iphone 5s 64gb',\n",
       "       'phone_model_iphone 6 128gb', 'phone_model_iphone 6 16gb',\n",
       "       'phone_model_iphone 6 32gb', 'phone_model_iphone 6 64gb',\n",
       "       'phone_model_iphone 6s Plus 16gb', 'phone_model_iphone 6s Plus 64gb',\n",
       "       'phone_model_iphone 7 128gb', 'phone_model_iphone 7 256gb',\n",
       "       'phone_model_iphone 7 32gb', 'phone_model_iphone 7 plus 128gb',\n",
       "       'phone_model_iphone 7 plus 256gb', 'phone_model_iphone 7 plus 32gb',\n",
       "       'phone_model_iphone se 16gb', 'phone_model_iphone se 64gb',\n",
       "       'phone_model_lg g2 32gb', 'phone_model_lg g5 32gb',\n",
       "       'phone_model_lg u 32gb', 'phone_model_luna 16gb',\n",
       "       'phone_model_nexus 5x 16gb', 'phone_model_nexus 5x 32gb',\n",
       "       'phone_model_optimus g 32gb', 'phone_model_vega iron2 32gb',\n",
       "       'phone_model_vega secret up 16gb', 'phone_model_wine smart jazz 4gb',\n",
       "       'phone_model_xperia z3 16gb', 'phone_model_xperia z3 32gb',\n",
       "       'phone_model_y6 8gb', 'maker_apple', 'maker_huawei', 'maker_lg',\n",
       "       'maker_pantech', 'maker_samsung', 'maker_sky', 'maker_sony', 'maker_tg',\n",
       "       'yearmonth_2016-02', 'yearmonth_2016-03', 'yearmonth_2016-04',\n",
       "       'yearmonth_2016-05', 'yearmonth_2016-06', 'yearmonth_2016-07',\n",
       "       'yearmonth_2016-08', 'yearmonth_2016-09', 'yearmonth_2016-10',\n",
       "       'yearmonth_2017-03'],\n",
       "      dtype='object')"
      ]
     },
     "execution_count": 229,
     "metadata": {},
     "output_type": "execute_result"
    }
   ],
   "source": [
    "x.columns"
   ]
  },
  {
   "cell_type": "markdown",
   "id": "7c2172d5",
   "metadata": {},
   "source": [
    "# 모델 개선 (또 다른 방법 ?)"
   ]
  }
 ],
 "metadata": {
  "kernelspec": {
   "display_name": "Python 3 (ipykernel)",
   "language": "python",
   "name": "python3"
  },
  "language_info": {
   "codemirror_mode": {
    "name": "ipython",
    "version": 3
   },
   "file_extension": ".py",
   "mimetype": "text/x-python",
   "name": "python",
   "nbconvert_exporter": "python",
   "pygments_lexer": "ipython3",
   "version": "3.9.7"
  }
 },
 "nbformat": 4,
 "nbformat_minor": 5
}
