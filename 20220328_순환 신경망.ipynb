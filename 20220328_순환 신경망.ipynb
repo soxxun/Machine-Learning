{
 "cells": [
  {
   "cell_type": "markdown",
   "id": "59726348",
   "metadata": {},
   "source": [
    "**순차데이터**\n",
    "*순서에 중점을 두는 데이터를 **순차데이터**라고 함*\n",
    "1. 텍스트 ( ex. I am a boy )\n",
    "2. 시계열 ( ex. 1일 / 15도 )\n",
    "\n",
    "- ex. 날씨 예측할 때 과거의 데이터(데이터)를 가지고 오늘의 날씨(정답)를 예측하는 것"
   ]
  },
  {
   "cell_type": "markdown",
   "id": "b1b57c9c",
   "metadata": {},
   "source": [
    "# 순환 신경망 (RNN, Recurrent Neural Network)\n",
    "### - 시계열 데이터와 같이 시간의 흐름에 따라 변화하는 데이터를 학습하기 위한 인공신경망\n",
    "### -  따라서, 과거의 출력 데이터를 재귀적으로 참조함\n",
    "### - 결과를 출력하기 전 한 번 더 자기 자신을 참조함\n",
    "### - 순환 신경망에서는 'tanh(순환층)' 활성화 함수 사용\n",
    "### ** sigmoid와 유사한 형태로, -1 ~ 1 사이의 값을 가짐 (sihmoid : 0 ~ 1)\n",
    "### - 'tanh'는 부르는 명칭이 매우 다양하나, 정식 명칭은 하이볼릭 탄젠트...\n",
    "### - 순환 신경망에서 데이터를 처리하는 한 단계를 '타입스탬프', 층을 '셀'이라고 부름\n",
    "### - 타임스탬프 A에서 셀의 출력 0a가 사라지지 않고 다음 스탬프 B에서 셀의 출력 0b가 다시 타입스탬프 C의 셀로 주입됨\n",
    "### - 이전 타임스텝은 잘 기억하지만 오래될수록 순환되는 정보가 희미해진다는 문제점이 있음"
   ]
  },
  {
   "cell_type": "markdown",
   "id": "6dbf9139",
   "metadata": {},
   "source": [
    "**-------------------------------------------------------------------------------------------------------------------------------------------------------------------------------------------------------------**"
   ]
  },
  {
   "cell_type": "markdown",
   "id": "c9f28cec",
   "metadata": {},
   "source": [
    "**< IMDB 리뷰 데이터셋 >**\n",
    "\n",
    "- 감성 분류를 연습하기 위해 자주 사용하는 영어 데이터로 영화 사이트 IMDB의 리뷰 데이터가 있습니다. 이 데이터는 리뷰에 대한 텍스트와 해당 리뷰가 긍정인 경우 1을 부정인 경우 0으로 표시한 레이블로 구성된 데이터입니다. 스탠포드 대학교에서 2011년에 낸 논문에서 이 데이터를 소개하였으며, 당시 논문에서는 이 데이터를 훈련 데이터와 테스트 데이터를 50:50대 비율로 분할하여 88.89%의 정확도를 얻었다고 소개하고 있습니다.\n",
    "\n",
    "\n",
    "\n",
    "- 케라스에서는 해당 IMDB 영화 리뷰 데이터를 imdb.load_data() 함수를 통해 바로 다운로드 할 수 있도록 지원하고 있습니다. 해당 데이터를 학습하여 감성 분류를 수행하는 모델을 만들어보겠습니다.\n",
    "\n",
    "\n",
    "\n",
    "- 케라스 데이터셋으로부터 imdb.data_load()를 통해 영화 리뷰 데이터를 로드합니다. IMDB 리뷰 데이터는 앞서 배운 로이터 뉴스 데이터에서 훈련 데이터와 테스트 데이터를 우리가 직접 비율을 조절했던 것과는 달리 이미 훈련 데이터와 테스트 데이터를 50:50 비율로 구분해서 제공합니다. 로이터 뉴스 데이터에서 사용했던 test_split과 같은 데이터의 비율을 조절하는 인자는 imdb.load_data에서는 지원하지 않습니다."
   ]
  },
  {
   "cell_type": "code",
   "execution_count": 2,
   "id": "66dbafb1",
   "metadata": {},
   "outputs": [],
   "source": [
    "# !pip install tensorflow"
   ]
  },
  {
   "cell_type": "code",
   "execution_count": 3,
   "id": "cad0351b",
   "metadata": {},
   "outputs": [],
   "source": [
    "from tensorflow.keras.datasets import imdb # keras의 특징 : 데이터를 튜플 형태로 가져옴"
   ]
  },
  {
   "cell_type": "code",
   "execution_count": 4,
   "id": "9d7ca614",
   "metadata": {},
   "outputs": [],
   "source": [
    "(x_train_imdb, y_train_imdb), (x_target_imdb, y_target_imdb) = imdb.load_data(num_words=500)"
   ]
  },
  {
   "cell_type": "code",
   "execution_count": 6,
   "id": "eecd6c20",
   "metadata": {},
   "outputs": [
    {
     "data": {
      "text/plain": [
       "((25000,), (25000,), (25000,), (25000,))"
      ]
     },
     "execution_count": 6,
     "metadata": {},
     "output_type": "execute_result"
    }
   ],
   "source": [
    "x_train_imdb.shape, y_train_imdb.shape, x_target_imdb.shape, y_target_imdb.shape # 모두 1차원 데이터"
   ]
  },
  {
   "cell_type": "markdown",
   "id": "96c4c973",
   "metadata": {},
   "source": [
    "**영화 리뷰에 대한 데이터 50000개로 이루어져 있음 (훈련데이터 25000개, 검증데이터 25000개로 나누어짐)**"
   ]
  },
  {
   "cell_type": "markdown",
   "id": "5aeba1c2",
   "metadata": {},
   "source": [
    "#### 토큰의 개수 확인하기 (토큰 : 문장에서 분리된 단어)\n",
    "#### 하나의 토큰이 하나의 타임스탬프에 해당\n",
    "#### Sentence : I love you        Token : 'I', 'love', 'you'\n",
    "\n",
    "#### (한글의 경우)\n",
    "#### 조사가 있어, 공백으로 분리가 안 됨 (공백으로 토큰화시킬 수 없음)\n",
    "#### 형태소 분석을 통해 토큰을 분리해야 하고 이를 위한 라이브러리가 존재함"
   ]
  },
  {
   "cell_type": "code",
   "execution_count": 9,
   "id": "f31fcc76",
   "metadata": {},
   "outputs": [
    {
     "data": {
      "text/plain": [
       "(218, 189)"
      ]
     },
     "execution_count": 9,
     "metadata": {},
     "output_type": "execute_result"
    }
   ],
   "source": [
    "len(x_train_imdb[0]), len(x_train_imdb[1]) # 각각 하나의 샘플 출력"
   ]
  },
  {
   "cell_type": "code",
   "execution_count": 10,
   "id": "010775c7",
   "metadata": {},
   "outputs": [
    {
     "data": {
      "text/plain": [
       "array([0, 1], dtype=int64)"
      ]
     },
     "execution_count": 10,
     "metadata": {},
     "output_type": "execute_result"
    }
   ],
   "source": [
    "import numpy as np\n",
    "np.unique(y_train_imdb) # 정답데이터 ( 0 : 부정   1 : 긍정 )"
   ]
  },
  {
   "cell_type": "markdown",
   "id": "6bc8e43e",
   "metadata": {},
   "source": [
    "### **학습데이터와 훈련데이터 나누기 (8:2)**"
   ]
  },
  {
   "cell_type": "code",
   "execution_count": 11,
   "id": "e164a69f",
   "metadata": {},
   "outputs": [],
   "source": [
    "from sklearn.model_selection import train_test_split\n",
    "x_train, x_target, y_train, y_target = train_test_split(x_train_imdb, y_train_imdb, test_size=0.2, random_state=42)"
   ]
  },
  {
   "cell_type": "code",
   "execution_count": 12,
   "id": "e1b0ed6c",
   "metadata": {},
   "outputs": [
    {
     "data": {
      "text/plain": [
       "((20000,), (20000,))"
      ]
     },
     "execution_count": 12,
     "metadata": {},
     "output_type": "execute_result"
    }
   ],
   "source": [
    "x_train.shape, y_train.shape"
   ]
  },
  {
   "cell_type": "code",
   "execution_count": 13,
   "id": "ddc44a1c",
   "metadata": {},
   "outputs": [],
   "source": [
    "# 넘파이 배열에 담기 (수행속도를 높이기 위함)\n",
    "# np.array([len(x_train[0]), len(x_train[1])])"
   ]
  },
  {
   "cell_type": "code",
   "execution_count": 14,
   "id": "1675a829",
   "metadata": {},
   "outputs": [],
   "source": [
    "lengths = [len(i) for i in x_train]"
   ]
  },
  {
   "cell_type": "markdown",
   "id": "8257f288",
   "metadata": {},
   "source": [
    "#### 히스토그램 (Histogram)은 도수분포표를 그래프로 나타낸 것으로서, 가로축은 계급, 세로축은 도수 (횟수나 개수 등)를 나타냄\n",
    "#### matplotlib.pyplot 모듈의 hist() 함수를 이용해서 다양한 히스토그램을 그릴 수 있음"
   ]
  },
  {
   "cell_type": "code",
   "execution_count": 15,
   "id": "af2e1f5e",
   "metadata": {},
   "outputs": [
    {
     "data": {
      "image/png": "[encoded data removed]",
      "text/plain": [
       "<Figure size 432x288 with 1 Axes>"
      ]
     },
     "metadata": {
      "needs_background": "light"
     },
     "output_type": "display_data"
    }
   ],
   "source": [
    "import matplotlib.pyplot as plt\n",
    "plt.hist(lengths)\n",
    "plt.xlabel('lengths')\n",
    "plt.ylabel('frequency')\n",
    "plt.show()\n",
    "# 리뷰의 길이는 짧고 간단할 것을 보여줌"
   ]
  },
  {
   "cell_type": "markdown",
   "id": "47806308",
   "metadata": {},
   "source": [
    "### < 데이터 100개 정도를 사용하여 순환 신경망 모델 만들어보기 >\n",
    "**데이터가 텍스트이기 때문에 조금 다르게 분류해 주어야 함**\n",
    "\n",
    "**pad_sequence() --> 시퀀스 데이터의 길이를 맞춤**\n",
    "\n",
    "**(데이터의 범위가 서로 다르면, 즉 큰 데이터에는 가중치가 많이 몰리게 되므로 스케일링을 해주듯이 문자의 길이를 맞추어주는 것)**\n",
    "\n",
    "**짧은 글자는 0으로 채워주고 긴 글자는 잘라내기 해 줌**"
   ]
  },
  {
   "cell_type": "code",
   "execution_count": 16,
   "id": "5534648d",
   "metadata": {},
   "outputs": [],
   "source": [
    "from tensorflow.keras.preprocessing.sequence import pad_sequences"
   ]
  },
  {
   "cell_type": "code",
   "execution_count": 17,
   "id": "da1af610",
   "metadata": {},
   "outputs": [
    {
     "data": {
      "text/plain": [
       "array([[ 10,   4,  20, ...,  10, 470, 158],\n",
       "       [206,   2,  26, ...,   6,   2,   2],\n",
       "       [  2,   7,   2, ...,   2,   2,  12],\n",
       "       ...,\n",
       "       [  2,  37, 299, ...,   7,  14,   2],\n",
       "       [  0,   0,   0, ...,  25, 170,   2],\n",
       "       [  0,   0,   0, ...,  25, 194,   2]])"
      ]
     },
     "execution_count": 17,
     "metadata": {},
     "output_type": "execute_result"
    }
   ],
   "source": [
    "pad_sequences(x_train, maxlen=100) # 최대 토큰의 개수를 100으로 맞춰 줌"
   ]
  },
  {
   "cell_type": "code",
   "execution_count": 18,
   "id": "f7b85a91",
   "metadata": {},
   "outputs": [],
   "source": [
    "x_train_seq = pad_sequences(x_train, maxlen=100)\n",
    "x_target_seq = pad_sequences(x_target, maxlen=100)"
   ]
  },
  {
   "cell_type": "code",
   "execution_count": 19,
   "id": "8b3b75b5",
   "metadata": {},
   "outputs": [
    {
     "data": {
      "text/plain": [
       "((20000, 100), (5000, 100))"
      ]
     },
     "execution_count": 19,
     "metadata": {},
     "output_type": "execute_result"
    }
   ],
   "source": [
    "x_train_seq.shape, x_target_seq.shape # 20000개의 토큰이 100개의 토큰으로 통일되어 2차원 형태로 변환됨"
   ]
  },
  {
   "cell_type": "code",
   "execution_count": 20,
   "id": "1054fd59",
   "metadata": {},
   "outputs": [
    {
     "data": {
      "text/plain": [
       "100"
      ]
     },
     "execution_count": 20,
     "metadata": {},
     "output_type": "execute_result"
    }
   ],
   "source": [
    "len(x_train_seq[0]) # 100개의 토큰으로 통일됨"
   ]
  },
  {
   "cell_type": "markdown",
   "id": "4477fe08",
   "metadata": {},
   "source": [
    "### keras에서 제공하는 순환 신경망 알고리즘 중\n",
    "\n",
    "### 가장 간단한 SimpleRNN 클래스 사용해보기\n",
    "\n",
    "**\n",
    "        \n",
    "- 이진분류...뉴런의 출력층은 단 1개 (sigmoid)\n",
    "\n",
    "\n",
    "- 다중분류...뉴런의 출력층 여러 개 (softmax)\n",
    "\n",
    "\n",
    "- simpleRNN에서 매개변수 지정 시 input_shape(100, 500) 을 주로 사용\n",
    "\n",
    "    *(샘플의 길이, 빈도수가 높은 토큰[단어]의 개수)*\n",
    "    \n",
    "    \n",
    "\n",
    "- RNN은 이전 결과를 가지고 다음 결과를 예측할 때 사용\n",
    "\n",
    "\n",
    "- RNN은 오래된 정보까지도 이전 결과로 가져와 사용하여 희석시키기 때문에 성능이 상황에 따라 달라짐 (단점)\n",
    "\n",
    "\n",
    "- 원핫인코딩으로 빈도수가 높은 단어의 개수 처리하기\n",
    "\n",
    "\n",
    "- 원핫인코딩... 정답에 영향을 미치지 않기 위해 사용 (0과 1의 조합으로 정답을 맞춤)\n",
    "\n",
    "\n",
    "- 토큰을 정수로 변환한 데이터를 신경망에 주입...이 데이터들은 단순히 숫자로 변환한 것에 불과하기 때문에 숫자가 큰 데이터들이 중요하다고 판단되어 가중치가 몰리는 등의 문제를 방지하기 위해 숫자 사이의 관계를 없애기 위해 원핫인코딩 사용\n"
   ]
  },
  {
   "cell_type": "code",
   "execution_count": 21,
   "id": "01e2b97d",
   "metadata": {},
   "outputs": [],
   "source": [
    "from tensorflow import keras\n",
    "model = keras.Sequential()\n",
    "\n",
    "# 층 생성하기\n",
    "model.add(keras.layers.SimpleRNN(8, input_shape=(100, 500))) # 심플RNN 바로 사용\n",
    "model.add(keras.layers.Dense(1, activation='sigmoid')) # 이진 분류 (1개의 출력층)"
   ]
  },
  {
   "cell_type": "code",
   "execution_count": 22,
   "id": "7dbe46bd",
   "metadata": {},
   "outputs": [
    {
     "data": {
      "text/plain": [
       "(20000, 100)"
      ]
     },
     "execution_count": 22,
     "metadata": {},
     "output_type": "execute_result"
    }
   ],
   "source": [
    "x_train_seq.shape"
   ]
  },
  {
   "cell_type": "code",
   "execution_count": 23,
   "id": "ba6c3e01",
   "metadata": {},
   "outputs": [
    {
     "name": "stdout",
     "output_type": "stream",
     "text": [
      "[ 10   4  20   9   2 364 352   5  45   6   2   2  33 269   8   2 142   2\n",
      "   5   2  17  73  17 204   5   2  19  55   2   2  92  66 104  14  20  93\n",
      "  76   2 151  33   4  58  12 188   2 151  12 215  69 224 142  73 237   6\n",
      "   2   7   2   2 188   2 103  14  31  10  10 451   7   2   5   2  80  91\n",
      "   2  30   2  34  14  20 151  50  26 131  49   2  84  46  50  37  80  79\n",
      "   6   2  46   7  14  20  10  10 470 158]\n",
      "[[[0. 0. 0. ... 0. 0. 0.]\n",
      "  [0. 0. 0. ... 0. 0. 0.]\n",
      "  [0. 0. 0. ... 0. 0. 0.]\n",
      "  ...\n",
      "  [0. 0. 0. ... 0. 0. 0.]\n",
      "  [0. 0. 0. ... 0. 0. 0.]\n",
      "  [0. 0. 0. ... 0. 0. 0.]]\n",
      "\n",
      " [[0. 0. 0. ... 0. 0. 0.]\n",
      "  [0. 0. 1. ... 0. 0. 0.]\n",
      "  [0. 0. 0. ... 0. 0. 0.]\n",
      "  ...\n",
      "  [0. 0. 0. ... 0. 0. 0.]\n",
      "  [0. 0. 1. ... 0. 0. 0.]\n",
      "  [0. 0. 1. ... 0. 0. 0.]]]\n"
     ]
    }
   ],
   "source": [
    "print(x_train_seq[0])\n",
    "x_train_oh = keras.utils.to_categorical(x_train_seq)\n",
    "print(x_train_oh[:2])"
   ]
  },
  {
   "cell_type": "code",
   "execution_count": 24,
   "id": "27e3a0e2",
   "metadata": {},
   "outputs": [],
   "source": [
    "x_target_oh = keras.utils.to_categorical(x_target_seq)"
   ]
  },
  {
   "cell_type": "code",
   "execution_count": 25,
   "id": "e4ff5c51",
   "metadata": {},
   "outputs": [
    {
     "data": {
      "text/plain": [
       "((20000, 100, 500), (5000, 100, 500))"
      ]
     },
     "execution_count": 25,
     "metadata": {},
     "output_type": "execute_result"
    }
   ],
   "source": [
    "x_train_oh.shape, x_target_oh.shape"
   ]
  },
  {
   "cell_type": "code",
   "execution_count": 26,
   "id": "5fd13704",
   "metadata": {},
   "outputs": [
    {
     "data": {
      "text/plain": [
       "array([0., 0., 0., 0., 0., 0., 0., 0., 0., 0., 1., 0.], dtype=float32)"
      ]
     },
     "execution_count": 26,
     "metadata": {},
     "output_type": "execute_result"
    }
   ],
   "source": [
    "x_train_oh[0][0][:12] # 12개의 원소 중 11번째 원소 (원핫인코딩을 해 주었기 때문에 1이 하나만 있어야 함)"
   ]
  },
  {
   "cell_type": "code",
   "execution_count": 27,
   "id": "0ca6c613",
   "metadata": {},
   "outputs": [
    {
     "data": {
      "text/plain": [
       "1.0"
      ]
     },
     "execution_count": 27,
     "metadata": {},
     "output_type": "execute_result"
    }
   ],
   "source": [
    "# np.sum으로 확인\n",
    "np.sum(x_train_oh[1][0])"
   ]
  },
  {
   "cell_type": "code",
   "execution_count": 28,
   "id": "aa9f39da",
   "metadata": {},
   "outputs": [
    {
     "name": "stdout",
     "output_type": "stream",
     "text": [
      "Epoch 1/50\n",
      "318/318 [==============================] - 43s 125ms/step - loss: 0.6967 - accuracy: 0.5077 - val_loss: 0.6945 - val_accuracy: 0.5082\n",
      "Epoch 2/50\n",
      "318/318 [==============================] - 36s 114ms/step - loss: 0.6867 - accuracy: 0.5475 - val_loss: 0.6797 - val_accuracy: 0.5852\n",
      "Epoch 3/50\n",
      "318/318 [==============================] - 40s 126ms/step - loss: 0.6707 - accuracy: 0.6091 - val_loss: 0.6652 - val_accuracy: 0.6238\n",
      "Epoch 4/50\n",
      "318/318 [==============================] - 39s 121ms/step - loss: 0.6546 - accuracy: 0.6467 - val_loss: 0.6507 - val_accuracy: 0.6490\n",
      "Epoch 5/50\n",
      "318/318 [==============================] - 36s 114ms/step - loss: 0.6379 - accuracy: 0.6770 - val_loss: 0.6354 - val_accuracy: 0.6744\n",
      "Epoch 6/50\n",
      "318/318 [==============================] - 40s 125ms/step - loss: 0.6223 - accuracy: 0.6966 - val_loss: 0.6236 - val_accuracy: 0.6836\n",
      "Epoch 7/50\n",
      "318/318 [==============================] - 38s 119ms/step - loss: 0.6052 - accuracy: 0.7146 - val_loss: 0.6054 - val_accuracy: 0.7022\n",
      "Epoch 8/50\n",
      "318/318 [==============================] - 41s 130ms/step - loss: 0.5902 - accuracy: 0.7256 - val_loss: 0.5918 - val_accuracy: 0.7180\n",
      "Epoch 9/50\n",
      "318/318 [==============================] - 37s 115ms/step - loss: 0.5768 - accuracy: 0.7351 - val_loss: 0.5873 - val_accuracy: 0.7176\n",
      "Epoch 10/50\n",
      "318/318 [==============================] - 39s 123ms/step - loss: 0.5664 - accuracy: 0.7416 - val_loss: 0.5753 - val_accuracy: 0.7220\n",
      "Epoch 11/50\n",
      "318/318 [==============================] - 38s 118ms/step - loss: 0.5546 - accuracy: 0.7470 - val_loss: 0.5579 - val_accuracy: 0.7418\n",
      "Epoch 12/50\n",
      "318/318 [==============================] - 39s 124ms/step - loss: 0.5409 - accuracy: 0.7562 - val_loss: 0.5551 - val_accuracy: 0.7376\n",
      "Epoch 13/50\n",
      "318/318 [==============================] - 38s 119ms/step - loss: 0.5328 - accuracy: 0.7599 - val_loss: 0.5414 - val_accuracy: 0.7480\n",
      "Epoch 14/50\n",
      "318/318 [==============================] - 38s 121ms/step - loss: 0.5228 - accuracy: 0.7671 - val_loss: 0.5345 - val_accuracy: 0.7504\n",
      "Epoch 15/50\n",
      "318/318 [==============================] - 38s 119ms/step - loss: 0.5151 - accuracy: 0.7697 - val_loss: 0.5302 - val_accuracy: 0.7526\n",
      "Epoch 16/50\n",
      "318/318 [==============================] - 38s 119ms/step - loss: 0.5089 - accuracy: 0.7712 - val_loss: 0.5244 - val_accuracy: 0.7552\n",
      "Epoch 17/50\n",
      "318/318 [==============================] - 38s 120ms/step - loss: 0.5007 - accuracy: 0.7773 - val_loss: 0.5236 - val_accuracy: 0.7552\n",
      "Epoch 18/50\n",
      "318/318 [==============================] - 34s 107ms/step - loss: 0.4954 - accuracy: 0.7793 - val_loss: 0.5188 - val_accuracy: 0.7542\n",
      "Epoch 19/50\n",
      "318/318 [==============================] - 32s 102ms/step - loss: 0.4897 - accuracy: 0.7836 - val_loss: 0.5110 - val_accuracy: 0.7588\n",
      "Epoch 20/50\n",
      "318/318 [==============================] - 35s 109ms/step - loss: 0.4846 - accuracy: 0.7845 - val_loss: 0.5098 - val_accuracy: 0.7596\n",
      "Epoch 21/50\n",
      "318/318 [==============================] - 36s 113ms/step - loss: 0.4801 - accuracy: 0.7878 - val_loss: 0.5049 - val_accuracy: 0.7630\n",
      "Epoch 22/50\n",
      "318/318 [==============================] - 44s 140ms/step - loss: 0.4746 - accuracy: 0.7914 - val_loss: 0.5016 - val_accuracy: 0.7626\n",
      "Epoch 23/50\n",
      "318/318 [==============================] - 39s 122ms/step - loss: 0.4717 - accuracy: 0.7921 - val_loss: 0.4978 - val_accuracy: 0.7650\n",
      "Epoch 24/50\n",
      "318/318 [==============================] - 38s 119ms/step - loss: 0.4680 - accuracy: 0.7954 - val_loss: 0.4966 - val_accuracy: 0.7692\n",
      "Epoch 25/50\n",
      "318/318 [==============================] - 40s 125ms/step - loss: 0.4649 - accuracy: 0.7952 - val_loss: 0.4932 - val_accuracy: 0.7696\n",
      "Epoch 26/50\n",
      "318/318 [==============================] - 40s 125ms/step - loss: 0.4620 - accuracy: 0.7991 - val_loss: 0.5015 - val_accuracy: 0.7622\n",
      "Epoch 27/50\n",
      "318/318 [==============================] - 38s 120ms/step - loss: 0.4608 - accuracy: 0.7982 - val_loss: 0.4899 - val_accuracy: 0.7716\n",
      "Epoch 28/50\n",
      "318/318 [==============================] - 38s 119ms/step - loss: 0.4572 - accuracy: 0.8004 - val_loss: 0.4883 - val_accuracy: 0.7730\n",
      "Epoch 29/50\n",
      "318/318 [==============================] - 39s 124ms/step - loss: 0.4537 - accuracy: 0.8040 - val_loss: 0.4981 - val_accuracy: 0.7648\n",
      "Epoch 30/50\n",
      "318/318 [==============================] - 42s 132ms/step - loss: 0.4524 - accuracy: 0.8027 - val_loss: 0.4859 - val_accuracy: 0.7728\n",
      "Epoch 31/50\n",
      "318/318 [==============================] - 39s 123ms/step - loss: 0.4492 - accuracy: 0.8051 - val_loss: 0.4869 - val_accuracy: 0.7758\n",
      "Epoch 32/50\n",
      "318/318 [==============================] - 39s 123ms/step - loss: 0.4479 - accuracy: 0.8073 - val_loss: 0.4831 - val_accuracy: 0.7768\n",
      "Epoch 33/50\n",
      "318/318 [==============================] - 38s 119ms/step - loss: 0.4465 - accuracy: 0.8065 - val_loss: 0.4830 - val_accuracy: 0.7754\n",
      "Epoch 34/50\n",
      "318/318 [==============================] - 37s 117ms/step - loss: 0.4437 - accuracy: 0.8073 - val_loss: 0.4844 - val_accuracy: 0.7734\n",
      "Epoch 35/50\n",
      "318/318 [==============================] - 37s 116ms/step - loss: 0.4420 - accuracy: 0.8087 - val_loss: 0.4816 - val_accuracy: 0.7758\n",
      "Epoch 36/50\n",
      "318/318 [==============================] - 38s 119ms/step - loss: 0.4402 - accuracy: 0.8109 - val_loss: 0.4809 - val_accuracy: 0.7754\n",
      "Epoch 37/50\n",
      "318/318 [==============================] - 39s 122ms/step - loss: 0.4388 - accuracy: 0.8109 - val_loss: 0.4791 - val_accuracy: 0.7778\n",
      "Epoch 38/50\n",
      "318/318 [==============================] - 39s 124ms/step - loss: 0.4372 - accuracy: 0.8104 - val_loss: 0.4791 - val_accuracy: 0.7776\n",
      "Epoch 39/50\n",
      "318/318 [==============================] - 37s 117ms/step - loss: 0.4365 - accuracy: 0.8111 - val_loss: 0.4832 - val_accuracy: 0.7748\n",
      "Epoch 40/50\n",
      "318/318 [==============================] - 40s 125ms/step - loss: 0.4349 - accuracy: 0.8116 - val_loss: 0.4791 - val_accuracy: 0.7780\n",
      "Epoch 41/50\n",
      "318/318 [==============================] - 38s 119ms/step - loss: 0.4330 - accuracy: 0.8138 - val_loss: 0.4768 - val_accuracy: 0.7780\n",
      "Epoch 42/50\n",
      "318/318 [==============================] - 38s 121ms/step - loss: 0.4327 - accuracy: 0.8123 - val_loss: 0.4783 - val_accuracy: 0.7754\n",
      "Epoch 43/50\n",
      "318/318 [==============================] - 40s 127ms/step - loss: 0.4311 - accuracy: 0.8138 - val_loss: 0.4769 - val_accuracy: 0.7758\n"
     ]
    }
   ],
   "source": [
    "# 모델 다시 생성\n",
    "model = keras.Sequential()\n",
    "model.add(keras.layers.SimpleRNN(8, input_shape=(100, 500)))\n",
    "model.add(keras.layers.Dense(1, activation='sigmoid'))\n",
    "# 위 세 코드가 없으면 훈련 반복 수가 계속 누적됨\n",
    "\n",
    "rmsprop = keras.optimizers.RMSprop(learning_rate=1e-4)\n",
    "# Default : learnin_rate : 0.1     (learning_rate=1e-4 : 0.0001)\n",
    "\n",
    "model.compile(optimizer=rmsprop, loss='binary_crossentropy', metrics='accuracy')\n",
    "\n",
    "checkpointCB = keras.callbacks.ModelCheckpoint('best-simplernn.h5')\n",
    "earlystoppingCB = keras.callbacks.EarlyStopping(patience=2, restore_best_weights=True)\n",
    "history = model.fit(x_train_oh, y_train, epochs=50, batch_size=63, validation_data=(x_target_oh, y_target),\n",
    "          callbacks=[checkpointCB, earlystoppingCB])"
   ]
  },
  {
   "cell_type": "code",
   "execution_count": 29,
   "id": "bb34b3ed",
   "metadata": {},
   "outputs": [
    {
     "name": "stderr",
     "output_type": "stream",
     "text": [
      "C:\\Users\\pc\\AppData\\Local\\Temp/ipykernel_17404/224809718.py:5: UserWarning: Legend does not support 't' instances.\n",
      "A proxy artist may be used instead.\n",
      "See: https://matplotlib.org/users/legend_guide.html#creating-artists-specifically-for-adding-to-the-legend-aka-proxy-artists\n",
      "  plt.legend('train', 'target')\n",
      "C:\\Users\\pc\\AppData\\Local\\Temp/ipykernel_17404/224809718.py:5: UserWarning: Legend does not support 'r' instances.\n",
      "A proxy artist may be used instead.\n",
      "See: https://matplotlib.org/users/legend_guide.html#creating-artists-specifically-for-adding-to-the-legend-aka-proxy-artists\n",
      "  plt.legend('train', 'target')\n",
      "C:\\Users\\pc\\AppData\\Local\\Temp/ipykernel_17404/224809718.py:5: UserWarning: Legend does not support 'a' instances.\n",
      "A proxy artist may be used instead.\n",
      "See: https://matplotlib.org/users/legend_guide.html#creating-artists-specifically-for-adding-to-the-legend-aka-proxy-artists\n",
      "  plt.legend('train', 'target')\n",
      "C:\\Users\\pc\\AppData\\Local\\Temp/ipykernel_17404/224809718.py:5: UserWarning: Legend does not support 'i' instances.\n",
      "A proxy artist may be used instead.\n",
      "See: https://matplotlib.org/users/legend_guide.html#creating-artists-specifically-for-adding-to-the-legend-aka-proxy-artists\n",
      "  plt.legend('train', 'target')\n",
      "C:\\Users\\pc\\AppData\\Local\\Temp/ipykernel_17404/224809718.py:5: UserWarning: Legend does not support 'n' instances.\n",
      "A proxy artist may be used instead.\n",
      "See: https://matplotlib.org/users/legend_guide.html#creating-artists-specifically-for-adding-to-the-legend-aka-proxy-artists\n",
      "  plt.legend('train', 'target')\n"
     ]
    },
    {
     "data": {
      "image/png": "[encoded data removed]",
      "text/plain": [
       "<Figure size 432x288 with 1 Axes>"
      ]
     },
     "metadata": {
      "needs_background": "light"
     },
     "output_type": "display_data"
    }
   ],
   "source": [
    "plt.plot(history.history['loss'])\n",
    "plt.plot(history.history['val_loss'])\n",
    "plt.xlabel('epoch')\n",
    "plt.ylabel('loss')\n",
    "plt.legend('train', 'target')\n",
    "plt.show()"
   ]
  },
  {
   "cell_type": "code",
   "execution_count": 30,
   "id": "ff299a51",
   "metadata": {},
   "outputs": [],
   "source": [
    "## 지금까지의 훈련 상황...\n",
    "### 주요 단어 500개를 가져와\n",
    "### 토큰의 수를 100개로 한정\n",
    "### 토큰 자체가 숫자로 이루어진 값이기 때문에 변환해 주어야 함 (X --> 숫자가 높으면 가중치 과대적용)\n",
    "### 문자를 이루어진 데이터는 주로 원핫인코딩... / 숫자로 이루어진 데이터는 주로 StandardScaler\n",
    "\n",
    "### 단, 원핫인코딩의 단점 --> 토큰 1개가 500차원으로 늘어남... 결국 데이터가 매우 커져버림"
   ]
  },
  {
   "cell_type": "code",
   "execution_count": 31,
   "id": "e7ea8569",
   "metadata": {},
   "outputs": [],
   "source": [
    "# Word Embedding\n",
    "# - 실수로 된 고정된 크기의 벡터로 표현 (ex. 모든 데이터를 10개의 벡터로 표현)\n",
    "# - 원핫인코딩에 비해 의미값을 더 많이 사용"
   ]
  },
  {
   "cell_type": "code",
   "execution_count": 35,
   "id": "c7db9946",
   "metadata": {
    "scrolled": false
   },
   "outputs": [
    {
     "name": "stdout",
     "output_type": "stream",
     "text": [
      "Epoch 1/20\n",
      "318/318 [==============================] - 14s 33ms/step - loss: 0.6954 - accuracy: 0.5016 - val_loss: 0.6939 - val_accuracy: 0.5138\n",
      "Epoch 2/20\n",
      "318/318 [==============================] - 9s 29ms/step - loss: 0.6910 - accuracy: 0.5212 - val_loss: 0.6913 - val_accuracy: 0.5240\n",
      "Epoch 3/20\n",
      "318/318 [==============================] - 10s 31ms/step - loss: 0.6876 - accuracy: 0.5439 - val_loss: 0.6900 - val_accuracy: 0.5250\n",
      "Epoch 4/20\n",
      "318/318 [==============================] - 10s 32ms/step - loss: 0.6840 - accuracy: 0.5606 - val_loss: 0.6891 - val_accuracy: 0.5314\n",
      "Epoch 5/20\n",
      "318/318 [==============================] - 9s 27ms/step - loss: 0.6776 - accuracy: 0.5876 - val_loss: 0.6792 - val_accuracy: 0.5814\n",
      "Epoch 6/20\n",
      "318/318 [==============================] - 8s 26ms/step - loss: 0.6619 - accuracy: 0.6464 - val_loss: 0.6619 - val_accuracy: 0.6424\n",
      "Epoch 7/20\n",
      "318/318 [==============================] - 8s 27ms/step - loss: 0.6419 - accuracy: 0.6935 - val_loss: 0.6444 - val_accuracy: 0.6810\n",
      "Epoch 8/20\n",
      "318/318 [==============================] - 8s 26ms/step - loss: 0.6226 - accuracy: 0.7191 - val_loss: 0.6286 - val_accuracy: 0.6992\n",
      "Epoch 9/20\n",
      "318/318 [==============================] - 8s 26ms/step - loss: 0.6040 - accuracy: 0.7375 - val_loss: 0.6104 - val_accuracy: 0.7274\n",
      "Epoch 10/20\n",
      "318/318 [==============================] - 8s 26ms/step - loss: 0.5862 - accuracy: 0.7520 - val_loss: 0.5966 - val_accuracy: 0.7322\n",
      "Epoch 11/20\n",
      "318/318 [==============================] - 8s 26ms/step - loss: 0.5700 - accuracy: 0.7612 - val_loss: 0.5832 - val_accuracy: 0.7422\n",
      "Epoch 12/20\n",
      "318/318 [==============================] - 8s 26ms/step - loss: 0.5552 - accuracy: 0.7703 - val_loss: 0.5725 - val_accuracy: 0.7462\n",
      "Epoch 13/20\n",
      "318/318 [==============================] - 8s 26ms/step - loss: 0.5401 - accuracy: 0.7770 - val_loss: 0.5613 - val_accuracy: 0.7482\n",
      "Epoch 14/20\n",
      "318/318 [==============================] - 8s 26ms/step - loss: 0.5261 - accuracy: 0.7828 - val_loss: 0.5511 - val_accuracy: 0.7522\n",
      "Epoch 15/20\n",
      "318/318 [==============================] - 8s 27ms/step - loss: 0.5137 - accuracy: 0.7882 - val_loss: 0.5432 - val_accuracy: 0.7554\n",
      "Epoch 16/20\n",
      "318/318 [==============================] - 8s 26ms/step - loss: 0.5011 - accuracy: 0.7907 - val_loss: 0.5323 - val_accuracy: 0.7592\n",
      "Epoch 17/20\n",
      "318/318 [==============================] - 8s 26ms/step - loss: 0.4898 - accuracy: 0.7979 - val_loss: 0.5245 - val_accuracy: 0.7624\n",
      "Epoch 18/20\n",
      "318/318 [==============================] - 11s 35ms/step - loss: 0.4790 - accuracy: 0.7993 - val_loss: 0.5180 - val_accuracy: 0.7640\n",
      "Epoch 19/20\n",
      "318/318 [==============================] - 10s 32ms/step - loss: 0.4696 - accuracy: 0.8037 - val_loss: 0.5108 - val_accuracy: 0.7682\n",
      "Epoch 20/20\n",
      "318/318 [==============================] - 11s 33ms/step - loss: 0.4602 - accuracy: 0.8073 - val_loss: 0.5047 - val_accuracy: 0.7694\n"
     ]
    }
   ],
   "source": [
    "model2 = keras.Sequential()\n",
    "model2.add(keras.layers.Embedding(500, 16, input_length=100))\n",
    "# 빈도수가 높은 단어의 개수 = 500개로 한정,   Embedding vector의 크기(하이퍼 파라미터),   input_length = 토큰의 개수\n",
    "model2.add(keras.layers.SimpleRNN(8))\n",
    "model2.add(keras.layers.Dense(1, activation='sigmoid'))\n",
    "\n",
    "rmsprop= keras.optimizers.RMSprop(learning_rate=1e-4) # 0.0001\n",
    "model2.compile(optimizer=rmsprop, loss='binary_crossentropy', metrics=['accuracy'])\n",
    "\n",
    "checkpointCB = keras.callbacks.ModelCheckpoint('best-embedding-model.h5', save_best_only=True)\n",
    "earlystoppingCB = keras.callbacks.EarlyStopping(patience=2, restore_best_weights=True)\n",
    "history = model2.fit(x_train_seq, y_train, epochs=20, batch_size=63, validation_data=(x_target_seq, y_target),\n",
    "          callbacks=[checkpointCB, earlystoppingCB])"
   ]
  },
  {
   "cell_type": "code",
   "execution_count": 36,
   "id": "4cd37c47",
   "metadata": {},
   "outputs": [
    {
     "name": "stderr",
     "output_type": "stream",
     "text": [
      "C:\\Users\\pc\\AppData\\Local\\Temp/ipykernel_17404/224809718.py:5: UserWarning: Legend does not support 't' instances.\n",
      "A proxy artist may be used instead.\n",
      "See: https://matplotlib.org/users/legend_guide.html#creating-artists-specifically-for-adding-to-the-legend-aka-proxy-artists\n",
      "  plt.legend('train', 'target')\n",
      "C:\\Users\\pc\\AppData\\Local\\Temp/ipykernel_17404/224809718.py:5: UserWarning: Legend does not support 'r' instances.\n",
      "A proxy artist may be used instead.\n",
      "See: https://matplotlib.org/users/legend_guide.html#creating-artists-specifically-for-adding-to-the-legend-aka-proxy-artists\n",
      "  plt.legend('train', 'target')\n",
      "C:\\Users\\pc\\AppData\\Local\\Temp/ipykernel_17404/224809718.py:5: UserWarning: Legend does not support 'a' instances.\n",
      "A proxy artist may be used instead.\n",
      "See: https://matplotlib.org/users/legend_guide.html#creating-artists-specifically-for-adding-to-the-legend-aka-proxy-artists\n",
      "  plt.legend('train', 'target')\n",
      "C:\\Users\\pc\\AppData\\Local\\Temp/ipykernel_17404/224809718.py:5: UserWarning: Legend does not support 'i' instances.\n",
      "A proxy artist may be used instead.\n",
      "See: https://matplotlib.org/users/legend_guide.html#creating-artists-specifically-for-adding-to-the-legend-aka-proxy-artists\n",
      "  plt.legend('train', 'target')\n",
      "C:\\Users\\pc\\AppData\\Local\\Temp/ipykernel_17404/224809718.py:5: UserWarning: Legend does not support 'n' instances.\n",
      "A proxy artist may be used instead.\n",
      "See: https://matplotlib.org/users/legend_guide.html#creating-artists-specifically-for-adding-to-the-legend-aka-proxy-artists\n",
      "  plt.legend('train', 'target')\n"
     ]
    },
    {
     "data": {
      "image/png": "[encoded data removed]",
      "text/plain": [
       "<Figure size 432x288 with 1 Axes>"
      ]
     },
     "metadata": {
      "needs_background": "light"
     },
     "output_type": "display_data"
    }
   ],
   "source": [
    "plt.plot(history.history['loss'])\n",
    "plt.plot(history.history['val_loss'])\n",
    "plt.xlabel('epoch')\n",
    "plt.ylabel('loss')\n",
    "plt.legend('train', 'target')\n",
    "plt.show()"
   ]
  },
  {
   "cell_type": "markdown",
   "id": "998fd23d",
   "metadata": {},
   "source": [
    "### <위 과정 응용해보기>\n",
    "#### 댓글을 분석하여 긍정과 부정으로 분류한 후 중고나라의 같은 제품의 어떤 가격이 적절한지 판단해 보기"
   ]
  },
  {
   "cell_type": "code",
   "execution_count": null,
   "id": "a3269ed9",
   "metadata": {},
   "outputs": [],
   "source": []
  }
 ],
 "metadata": {
  "kernelspec": {
   "display_name": "Python 3 (ipykernel)",
   "language": "python",
   "name": "python3"
  },
  "language_info": {
   "codemirror_mode": {
    "name": "ipython",
    "version": 3
   },
   "file_extension": ".py",
   "mimetype": "text/x-python",
   "name": "python",
   "nbconvert_exporter": "python",
   "pygments_lexer": "ipython3",
   "version": "3.9.7"
  }
 },
 "nbformat": 4,
 "nbformat_minor": 5
}
